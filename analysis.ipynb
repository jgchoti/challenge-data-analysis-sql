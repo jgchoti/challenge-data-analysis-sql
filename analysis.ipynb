{
 "cells": [
  {
   "cell_type": "code",
   "execution_count": 111,
   "id": "3b7215ed",
   "metadata": {},
   "outputs": [],
   "source": [
    "import sqlite3\n",
    "import pandas as pd\n",
    "import plotly.express as px\n",
    "\n",
    "# Connect to SQLite database\n",
    "connect = sqlite3.connect('data/kbo_database.db')\n",
    "  \n",
    "# Create a cursor object\n",
    "cur = connect.cursor()\n"
   ]
  },
  {
   "cell_type": "code",
   "execution_count": 112,
   "id": "688e54cd",
   "metadata": {},
   "outputs": [
    {
     "data": {
      "application/vnd.plotly.v1+json": {
       "config": {
        "plotlyServerURL": "https://plot.ly"
       },
       "data": [
        {
         "hovertemplate": "description_nl=Besloten Vennootschap<br>Quarter=%{x}<br>Number of Enterprises=%{y}<extra></extra>",
         "legendgroup": "Besloten Vennootschap",
         "line": {
          "color": "#636efa",
          "dash": "solid"
         },
         "marker": {
          "symbol": "circle"
         },
         "mode": "lines",
         "name": "Besloten Vennootschap",
         "orientation": "v",
         "showlegend": true,
         "type": "scatter",
         "x": [
          "2015-Q1",
          "2015-Q2",
          "2015-Q3",
          "2015-Q4",
          "2016-Q1",
          "2016-Q2",
          "2016-Q3",
          "2016-Q4",
          "2017-Q1",
          "2017-Q2",
          "2017-Q3",
          "2017-Q4",
          "2018-Q1",
          "2018-Q2",
          "2018-Q3",
          "2018-Q4",
          "2019-Q1",
          "2019-Q2",
          "2019-Q3",
          "2019-Q4",
          "2020-Q1",
          "2020-Q2",
          "2020-Q3",
          "2020-Q4",
          "2021-Q1",
          "2021-Q2",
          "2021-Q3",
          "2021-Q4",
          "2022-Q1",
          "2022-Q2",
          "2022-Q3",
          "2022-Q4",
          "2023-Q1",
          "2023-Q2",
          "2023-Q3",
          "2023-Q4",
          "2024-Q1",
          "2024-Q2",
          "2024-Q3",
          "2024-Q4",
          "2025-Q1",
          "2025-Q2"
         ],
         "xaxis": "x",
         "y": {
          "bdata": "AAAAAAC2qEAAAAAAALamQAAAAAAA7KRAAAAAAADUrEAAAAAAAGitQAAAAAAAjqpAAAAAAAB0p0AAAAAAAG6wQAAAAAAAXK9AAAAAAAB0rEAAAAAAALaoQAAAAAAA/K9AAAAAAADqs0AAAAAAADavQAAAAAAAYKxAAAAAAAA/s0AAAAAAAPyyQAAAAAAA2rRAAAAAAAAmukAAAAAAAIjAQAAAAACAGsBAAAAAAABXtUAAAAAAAHC9QAAAAACAQ8JAAAAAAIB2w0AAAAAAAGnBQAAAAAAAlL5AAAAAAABYxEAAAAAAgMzDQAAAAAAAm8FAAAAAAAACwEAAAAAAgELGQAAAAACA3MRAAAAAAICCw0AAAAAAgDXAQAAAAACAk8ZAAAAAAIAIxkAAAAAAAIPCQAAAAAAA3cBAAAAAAADux0AAAAAAAAPFQAAAAACA1cJA",
          "dtype": "f8"
         },
         "yaxis": "y"
        },
        {
         "hovertemplate": "description_nl=Besloten vennootschap met beperkte aansprakelijkheid<br>Quarter=%{x}<br>Number of Enterprises=%{y}<extra></extra>",
         "legendgroup": "Besloten vennootschap met beperkte aansprakelijkheid",
         "line": {
          "color": "#EF553B",
          "dash": "solid"
         },
         "marker": {
          "symbol": "circle"
         },
         "mode": "lines",
         "name": "Besloten vennootschap met beperkte aansprakelijkheid",
         "orientation": "v",
         "showlegend": true,
         "type": "scatter",
         "x": [
          "2015-Q1",
          "2015-Q2",
          "2015-Q3",
          "2015-Q4",
          "2016-Q1",
          "2016-Q2",
          "2016-Q3",
          "2016-Q4",
          "2017-Q1",
          "2017-Q2",
          "2017-Q3",
          "2017-Q4",
          "2018-Q1",
          "2018-Q2",
          "2018-Q3",
          "2018-Q4",
          "2019-Q1",
          "2019-Q2",
          "2019-Q3",
          "2019-Q4",
          "2020-Q1",
          "2020-Q2",
          "2020-Q3",
          "2020-Q4",
          "2021-Q1",
          "2021-Q2",
          "2021-Q3",
          "2021-Q4",
          "2022-Q1",
          "2022-Q2",
          "2022-Q3",
          "2022-Q4",
          "2023-Q1",
          "2023-Q2",
          "2023-Q3",
          "2023-Q4",
          "2024-Q1",
          "2024-Q2",
          "2024-Q3",
          "2024-Q4",
          "2025-Q1",
          "2025-Q2"
         ],
         "xaxis": "x",
         "y": {
          "bdata": "AAAAAACQjEAAAAAAAKiKQAAAAAAAOIdAAAAAAAAoj0AAAAAAAKiRQAAAAAAACJBAAAAAAADQikAAAAAAANSQQAAAAAAAXJFAAAAAAAAUkEAAAAAAAJiNQAAAAAAAgJJAAAAAAABAlEAAAAAAAGCRQAAAAAAA6I9AAAAAAAD0lEAAAAAAANSVQAAAAAAAEHZAAAAAAAAAAAAAAAAAAAAAAAAAAAAAAAAAAAAAAAAAAAAAAAAAAAAAAAAAAAAAAAAAAAAAAAAAAAAAAAAAAAAAAAAAAAAAAAAAAAAAAAAAAAAAAAAAAAAAAAAAAAAAAAAAAAAAAAAAAAAAAAAAAAAAAAAAAAAAAAAAAAAAAAAAAAAAAAAAAAAAAAAAAAAAAAAAAAAAAAAAAAAAAAAAAAAAAAAAAAAAAAAAAAAAAAAAAAAAAAAAAAAAAAAAAAAAAAAA",
          "dtype": "f8"
         },
         "yaxis": "y"
        },
        {
         "hovertemplate": "description_nl=Buitenlandse entiteit<br>Quarter=%{x}<br>Number of Enterprises=%{y}<extra></extra>",
         "legendgroup": "Buitenlandse entiteit",
         "line": {
          "color": "#00cc96",
          "dash": "solid"
         },
         "marker": {
          "symbol": "circle"
         },
         "mode": "lines",
         "name": "Buitenlandse entiteit",
         "orientation": "v",
         "showlegend": true,
         "type": "scatter",
         "x": [
          "2015-Q1",
          "2015-Q2",
          "2015-Q3",
          "2015-Q4",
          "2016-Q1",
          "2016-Q2",
          "2016-Q3",
          "2016-Q4",
          "2017-Q1",
          "2017-Q2",
          "2017-Q3",
          "2017-Q4",
          "2018-Q1",
          "2018-Q2",
          "2018-Q3",
          "2018-Q4",
          "2019-Q1",
          "2019-Q2",
          "2019-Q3",
          "2019-Q4",
          "2020-Q1",
          "2020-Q2",
          "2020-Q3",
          "2020-Q4",
          "2021-Q1",
          "2021-Q2",
          "2021-Q3",
          "2021-Q4",
          "2022-Q1",
          "2022-Q2",
          "2022-Q3",
          "2022-Q4",
          "2023-Q1",
          "2023-Q2",
          "2023-Q3",
          "2023-Q4",
          "2024-Q1",
          "2024-Q2",
          "2024-Q3",
          "2024-Q4",
          "2025-Q1",
          "2025-Q2"
         ],
         "xaxis": "x",
         "y": {
          "bdata": "AAAAAAD4h0AAAAAAAIiBQAAAAAAAIINAAAAAAAAQgUAAAAAAALCJQAAAAAAAbJNAAAAAAADojkAAAAAAAKSUQAAAAAAAeJVAAAAAAAAkkUAAAAAAADCRQAAAAAAAOJVAAAAAAAC4k0AAAAAAAECQQAAAAAAAAIJAAAAAAABIgkAAAAAAAMiNQAAAAAAAKINAAAAAAAD4g0AAAAAAAGiBQAAAAAAAwIZAAAAAAADQf0AAAAAAAAiEQAAAAAAAsINAAAAAAAB4kUAAAAAAACCJQAAAAAAAIIRAAAAAAACYjUAAAAAAALCPQAAAAAAA4INAAAAAAABQg0AAAAAAAHCCQAAAAAAAAIpAAAAAAABwgkAAAAAAANCBQAAAAAAA0IRAAAAAAADAh0AAAAAAAOCGQAAAAAAASIRAAAAAAABog0AAAAAAANiDQAAAAAAA2IBA",
          "dtype": "f8"
         },
         "yaxis": "y"
        },
        {
         "hovertemplate": "description_nl=Commanditaire vennootschap<br>Quarter=%{x}<br>Number of Enterprises=%{y}<extra></extra>",
         "legendgroup": "Commanditaire vennootschap",
         "line": {
          "color": "#ab63fa",
          "dash": "solid"
         },
         "marker": {
          "symbol": "circle"
         },
         "mode": "lines",
         "name": "Commanditaire vennootschap",
         "orientation": "v",
         "showlegend": true,
         "type": "scatter",
         "x": [
          "2015-Q1",
          "2015-Q2",
          "2015-Q3",
          "2015-Q4",
          "2016-Q1",
          "2016-Q2",
          "2016-Q3",
          "2016-Q4",
          "2017-Q1",
          "2017-Q2",
          "2017-Q3",
          "2017-Q4",
          "2018-Q1",
          "2018-Q2",
          "2018-Q3",
          "2018-Q4",
          "2019-Q1",
          "2019-Q2",
          "2019-Q3",
          "2019-Q4",
          "2020-Q1",
          "2020-Q2",
          "2020-Q3",
          "2020-Q4",
          "2021-Q1",
          "2021-Q2",
          "2021-Q3",
          "2021-Q4",
          "2022-Q1",
          "2022-Q2",
          "2022-Q3",
          "2022-Q4",
          "2023-Q1",
          "2023-Q2",
          "2023-Q3",
          "2023-Q4",
          "2024-Q1",
          "2024-Q2",
          "2024-Q3",
          "2024-Q4",
          "2025-Q1",
          "2025-Q2"
         ],
         "xaxis": "x",
         "y": {
          "bdata": "AAAAAACwc0AAAAAAAMBrQAAAAAAAYG5AAAAAAAAQd0AAAAAAABB3QAAAAAAA0HJAAAAAAABQckAAAAAAAIB5QAAAAAAAQHtAAAAAAABQdUAAAAAAALByQAAAAAAAAHdAAAAAAAAogEAAAAAAADB3QAAAAAAAkHhAAAAAAADQgEAAAAAAADiCQAAAAAAAoIJAAAAAAABghEAAAAAAABiPQAAAAAAAuJFAAAAAAAAAhEAAAAAAAPiMQAAAAAAAaJJAAAAAAACIlEAAAAAAABSRQAAAAAAArJBAAAAAAAAQlkAAAAAAAFiYQAAAAAAAhJNAAAAAAABok0AAAAAAAPyZQAAAAAAAbJxAAAAAAAA0l0AAAAAAAPCSQAAAAAAAMJ5AAAAAAAC0n0AAAAAAAGyXQAAAAAAAyJdAAAAAAADknUAAAAAAANSeQAAAAAAAQJdA",
          "dtype": "f8"
         },
         "yaxis": "y"
        },
        {
         "hovertemplate": "description_nl=Gewone commanditaire vennootschap<br>Quarter=%{x}<br>Number of Enterprises=%{y}<extra></extra>",
         "legendgroup": "Gewone commanditaire vennootschap",
         "line": {
          "color": "#FFA15A",
          "dash": "solid"
         },
         "marker": {
          "symbol": "circle"
         },
         "mode": "lines",
         "name": "Gewone commanditaire vennootschap",
         "orientation": "v",
         "showlegend": true,
         "type": "scatter",
         "x": [
          "2015-Q1",
          "2015-Q2",
          "2015-Q3",
          "2015-Q4",
          "2016-Q1",
          "2016-Q2",
          "2016-Q3",
          "2016-Q4",
          "2017-Q1",
          "2017-Q2",
          "2017-Q3",
          "2017-Q4",
          "2018-Q1",
          "2018-Q2",
          "2018-Q3",
          "2018-Q4",
          "2019-Q1",
          "2019-Q2",
          "2019-Q3",
          "2019-Q4",
          "2020-Q1",
          "2020-Q2",
          "2020-Q3",
          "2020-Q4",
          "2021-Q1",
          "2021-Q2",
          "2021-Q3",
          "2021-Q4",
          "2022-Q1",
          "2022-Q2",
          "2022-Q3",
          "2022-Q4",
          "2023-Q1",
          "2023-Q2",
          "2023-Q3",
          "2023-Q4",
          "2024-Q1",
          "2024-Q2",
          "2024-Q3",
          "2024-Q4",
          "2025-Q1",
          "2025-Q2"
         ],
         "xaxis": "x",
         "y": {
          "bdata": "AAAAAABgdUAAAAAAAHBwQAAAAAAAwHJAAAAAAAAAeEAAAAAAAIB8QAAAAAAA4HdAAAAAAAAQc0AAAAAAAFB6QAAAAAAAsH5AAAAAAADgekAAAAAAALB1QAAAAAAAcHtAAAAAAADggkAAAAAAAGB9QAAAAAAAAH5AAAAAAABIhEAAAAAAADiHQAAAAAAA4GdAAAAAAAAAAAAAAAAAAAAAAAAAAAAAAAAAAAAAAAAAAAAAAAAAAAAAAAAAAAAAAAAAAAAAAAAAAAAAAAAAAAAAAAAAAAAAAAAAAAAAAAAAAAAAAAAAAAAAAAAAAAAAAAAAAAAAAAAAAAAAAAAAAAAAAAAAAAAAAAAAAAAAAAAAAAAAAAAAAAAAAAAAAAAAAAAAAAAAAAAAAAAAAAAAAAAAAAAAAAAAAAAAAAAAAAAAAAAAAAAAAAAAAAAAAAAAAAAA",
          "dtype": "f8"
         },
         "yaxis": "y"
        },
        {
         "hovertemplate": "description_nl=Naamloze vennootschap<br>Quarter=%{x}<br>Number of Enterprises=%{y}<extra></extra>",
         "legendgroup": "Naamloze vennootschap",
         "line": {
          "color": "#19d3f3",
          "dash": "solid"
         },
         "marker": {
          "symbol": "circle"
         },
         "mode": "lines",
         "name": "Naamloze vennootschap",
         "orientation": "v",
         "showlegend": true,
         "type": "scatter",
         "x": [
          "2015-Q1",
          "2015-Q2",
          "2015-Q3",
          "2015-Q4",
          "2016-Q1",
          "2016-Q2",
          "2016-Q3",
          "2016-Q4",
          "2017-Q1",
          "2017-Q2",
          "2017-Q3",
          "2017-Q4",
          "2018-Q1",
          "2018-Q2",
          "2018-Q3",
          "2018-Q4",
          "2019-Q1",
          "2019-Q2",
          "2019-Q3",
          "2019-Q4",
          "2020-Q1",
          "2020-Q2",
          "2020-Q3",
          "2020-Q4",
          "2021-Q1",
          "2021-Q2",
          "2021-Q3",
          "2021-Q4",
          "2022-Q1",
          "2022-Q2",
          "2022-Q3",
          "2022-Q4",
          "2023-Q1",
          "2023-Q2",
          "2023-Q3",
          "2023-Q4",
          "2024-Q1",
          "2024-Q2",
          "2024-Q3",
          "2024-Q4",
          "2025-Q1",
          "2025-Q2"
         ],
         "xaxis": "x",
         "y": {
          "bdata": "AAAAAABgaUAAAAAAAMBtQAAAAAAAYG1AAAAAAABAcUAAAAAAABBwQAAAAAAAQGtAAAAAAAAgZ0AAAAAAAHB2QAAAAAAAgHBAAAAAAABQcEAAAAAAAGBtQAAAAAAAcHBAAAAAAAAgbUAAAAAAAKBrQAAAAAAAwGtAAAAAAABwdEAAAAAAAABtQAAAAAAAIGpAAAAAAABAZkAAAAAAAJBwQAAAAAAAYGlAAAAAAADAZEAAAAAAACBrQAAAAAAAsHBAAAAAAACgaEAAAAAAAGBrQAAAAAAA4GlAAAAAAACAb0AAAAAAAOBpQAAAAAAAwGNAAAAAAACgY0AAAAAAAGBqQAAAAAAAQGBAAAAAAADgZUAAAAAAACBkQAAAAAAAgGhAAAAAAAAAYEAAAAAAAEBfQAAAAAAAAF5AAAAAAACgZ0AAAAAAAEBiQAAAAAAAwFdA",
          "dtype": "f8"
         },
         "yaxis": "y"
        },
        {
         "hovertemplate": "description_nl=Other<br>Quarter=%{x}<br>Number of Enterprises=%{y}<extra></extra>",
         "legendgroup": "Other",
         "line": {
          "color": "#FF6692",
          "dash": "solid"
         },
         "marker": {
          "symbol": "circle"
         },
         "mode": "lines",
         "name": "Other",
         "orientation": "v",
         "showlegend": true,
         "type": "scatter",
         "x": [
          "2015-Q1",
          "2015-Q2",
          "2015-Q3",
          "2015-Q4",
          "2016-Q1",
          "2016-Q2",
          "2016-Q3",
          "2016-Q4",
          "2017-Q1",
          "2017-Q2",
          "2017-Q3",
          "2017-Q4",
          "2018-Q1",
          "2018-Q2",
          "2018-Q3",
          "2018-Q4",
          "2019-Q1",
          "2019-Q2",
          "2019-Q3",
          "2019-Q4",
          "2020-Q1",
          "2020-Q2",
          "2020-Q3",
          "2020-Q4",
          "2021-Q1",
          "2021-Q2",
          "2021-Q3",
          "2021-Q4",
          "2022-Q1",
          "2022-Q2",
          "2022-Q3",
          "2022-Q4",
          "2023-Q1",
          "2023-Q2",
          "2023-Q3",
          "2023-Q4",
          "2024-Q1",
          "2024-Q2",
          "2024-Q3",
          "2024-Q4",
          "2025-Q1",
          "2025-Q2"
         ],
         "xaxis": "x",
         "y": {
          "bdata": "AAAAAAAAb0AAAAAAAABrQAAAAAAA4GtAAAAAAACAc0AAAAAAAIB0QAAAAAAAYHxAAAAAAAAweEAAAAAAAEB2QAAAAAAAoHZAAAAAAADQc0AAAAAAANBxQAAAAAAAUHJAAAAAAABgc0AAAAAAAHBzQAAAAAAAEHJAAAAAAACQc0AAAAAAAJBwQAAAAAAAYG5AAAAAAACAakAAAAAAACBwQAAAAAAAYG1AAAAAAADgbEAAAAAAACBuQAAAAAAAoHFAAAAAAADAbUAAAAAAALByQAAAAAAAoG1AAAAAAABgb0AAAAAAAGBuQAAAAAAAQGpAAAAAAADgZEAAAAAAAABrQAAAAAAA4GhAAAAAAAAAbEAAAAAAAIBuQAAAAAAAAG9AAAAAAACAcEAAAAAAAEBtQAAAAAAAwG9AAAAAAABgbkAAAAAAAIBuQAAAAAAAYHBA",
          "dtype": "f8"
         },
         "yaxis": "y"
        },
        {
         "hovertemplate": "description_nl=Vennootschap of vereniging zonder rechtspersoonlijkheid<br>Quarter=%{x}<br>Number of Enterprises=%{y}<extra></extra>",
         "legendgroup": "Vennootschap of vereniging zonder rechtspersoonlijkheid",
         "line": {
          "color": "#B6E880",
          "dash": "solid"
         },
         "marker": {
          "symbol": "circle"
         },
         "mode": "lines",
         "name": "Vennootschap of vereniging zonder rechtspersoonlijkheid",
         "orientation": "v",
         "showlegend": true,
         "type": "scatter",
         "x": [
          "2015-Q1",
          "2015-Q2",
          "2015-Q3",
          "2015-Q4",
          "2016-Q1",
          "2016-Q2",
          "2016-Q3",
          "2016-Q4",
          "2017-Q1",
          "2017-Q2",
          "2017-Q3",
          "2017-Q4",
          "2018-Q1",
          "2018-Q2",
          "2018-Q3",
          "2018-Q4",
          "2019-Q1",
          "2019-Q2",
          "2019-Q3",
          "2019-Q4",
          "2020-Q1",
          "2020-Q2",
          "2020-Q3",
          "2020-Q4",
          "2021-Q1",
          "2021-Q2",
          "2021-Q3",
          "2021-Q4",
          "2022-Q1",
          "2022-Q2",
          "2022-Q3",
          "2022-Q4",
          "2023-Q1",
          "2023-Q2",
          "2023-Q3",
          "2023-Q4",
          "2024-Q1",
          "2024-Q2",
          "2024-Q3",
          "2024-Q4",
          "2025-Q1",
          "2025-Q2"
         ],
         "xaxis": "x",
         "y": {
          "bdata": "AAAAAADweEAAAAAAAMByQAAAAAAAYG5AAAAAAADAc0AAAAAAAGB3QAAAAAAAWIJAAAAAAABgbkAAAAAAABBzQAAAAAAA8HlAAAAAAAAweEAAAAAAACBxQAAAAAAAoHVAAAAAAACQekAAAAAAALB1QAAAAAAAsHRAAAAAAACMkEAAAAAAALB9QAAAAAAAYHtAAAAAAADgc0AAAAAAANB2QAAAAAAA8HtAAAAAAACAdEAAAAAAALB5QAAAAAAACItAAAAAAABAe0AAAAAAAEB3QAAAAAAA0HJAAAAAAACQdUAAAAAAALB5QAAAAAAAEHZAAAAAAACQdkAAAAAAAJB6QAAAAAAACIFAAAAAAADwe0AAAAAAADB3QAAAAAAAEH9AAAAAAACghEAAAAAAAGB9QAAAAAAA8HpAAAAAAAAghUAAAAAAAOCGQAAAAAAAOIFA",
          "dtype": "f8"
         },
         "yaxis": "y"
        },
        {
         "hovertemplate": "description_nl=Vennootschap onder firma<br>Quarter=%{x}<br>Number of Enterprises=%{y}<extra></extra>",
         "legendgroup": "Vennootschap onder firma",
         "line": {
          "color": "#FF97FF",
          "dash": "solid"
         },
         "marker": {
          "symbol": "circle"
         },
         "mode": "lines",
         "name": "Vennootschap onder firma",
         "orientation": "v",
         "showlegend": true,
         "type": "scatter",
         "x": [
          "2015-Q1",
          "2015-Q2",
          "2015-Q3",
          "2015-Q4",
          "2016-Q1",
          "2016-Q2",
          "2016-Q3",
          "2016-Q4",
          "2017-Q1",
          "2017-Q2",
          "2017-Q3",
          "2017-Q4",
          "2018-Q1",
          "2018-Q2",
          "2018-Q3",
          "2018-Q4",
          "2019-Q1",
          "2019-Q2",
          "2019-Q3",
          "2019-Q4",
          "2020-Q1",
          "2020-Q2",
          "2020-Q3",
          "2020-Q4",
          "2021-Q1",
          "2021-Q2",
          "2021-Q3",
          "2021-Q4",
          "2022-Q1",
          "2022-Q2",
          "2022-Q3",
          "2022-Q4",
          "2023-Q1",
          "2023-Q2",
          "2023-Q3",
          "2023-Q4",
          "2024-Q1",
          "2024-Q2",
          "2024-Q3",
          "2024-Q4",
          "2025-Q1",
          "2025-Q2"
         ],
         "xaxis": "x",
         "y": {
          "bdata": "AAAAAABAb0AAAAAAAEBuQAAAAAAAoGxAAAAAAACwckAAAAAAAAB0QAAAAAAAAG1AAAAAAACAbUAAAAAAAKBzQAAAAAAAcHdAAAAAAACQckAAAAAAALBwQAAAAAAAAHNAAAAAAADwd0AAAAAAAMB1QAAAAAAAcHFAAAAAAADgd0AAAAAAAMB8QAAAAAAAoHJAAAAAAACQcEAAAAAAALBzQAAAAAAA8HZAAAAAAADgcEAAAAAAAMB4QAAAAAAAkHpAAAAAAACQfUAAAAAAABB8QAAAAAAAoHdAAAAAAAAQfkAAAAAAAGCAQAAAAAAAsHlAAAAAAADwdkAAAAAAANB/QAAAAAAAMIFAAAAAAACQfEAAAAAAAHB5QAAAAAAAAH9AAAAAAAAIgkAAAAAAAAB+QAAAAAAAAHhAAAAAAAAggEAAAAAAAACBQAAAAAAAUHhA",
          "dtype": "f8"
         },
         "yaxis": "y"
        },
        {
         "hovertemplate": "description_nl=Vereniging van mede-eigenaars<br>Quarter=%{x}<br>Number of Enterprises=%{y}<extra></extra>",
         "legendgroup": "Vereniging van mede-eigenaars",
         "line": {
          "color": "#FECB52",
          "dash": "solid"
         },
         "marker": {
          "symbol": "circle"
         },
         "mode": "lines",
         "name": "Vereniging van mede-eigenaars",
         "orientation": "v",
         "showlegend": true,
         "type": "scatter",
         "x": [
          "2015-Q1",
          "2015-Q2",
          "2015-Q3",
          "2015-Q4",
          "2016-Q1",
          "2016-Q2",
          "2016-Q3",
          "2016-Q4",
          "2017-Q1",
          "2017-Q2",
          "2017-Q3",
          "2017-Q4",
          "2018-Q1",
          "2018-Q2",
          "2018-Q3",
          "2018-Q4",
          "2019-Q1",
          "2019-Q2",
          "2019-Q3",
          "2019-Q4",
          "2020-Q1",
          "2020-Q2",
          "2020-Q3",
          "2020-Q4",
          "2021-Q1",
          "2021-Q2",
          "2021-Q3",
          "2021-Q4",
          "2022-Q1",
          "2022-Q2",
          "2022-Q3",
          "2022-Q4",
          "2023-Q1",
          "2023-Q2",
          "2023-Q3",
          "2023-Q4",
          "2024-Q1",
          "2024-Q2",
          "2024-Q3",
          "2024-Q4",
          "2025-Q1",
          "2025-Q2"
         ],
         "xaxis": "x",
         "y": {
          "bdata": "AAAAAADwf0AAAAAAALCEQAAAAAAACIBAAAAAAAAAhUAAAAAAAKCAQAAAAAAAGIZAAAAAAADgg0AAAAAAABCHQAAAAAAAqIRAAAAAAAAwh0AAAAAAAFiBQAAAAAAAMIdAAAAAAAB4g0AAAAAAACiFQAAAAAAAIINAAAAAAAB4iUAAAAAAAGCDQAAAAAAASIVAAAAAAACQhUAAAAAAAGCMQAAAAAAAgIFAAAAAAAD4gUAAAAAAABiFQAAAAAAAiIhAAAAAAACAhUAAAAAAAACJQAAAAAAASIVAAAAAAABoikAAAAAAAEiFQAAAAAAAGIlAAAAAAADwhUAAAAAAAMCGQAAAAAAAqIFAAAAAAACIg0AAAAAAAECEQAAAAAAAiIVAAAAAAAAwgUAAAAAAADiFQAAAAAAAhJBAAAAAAAAAhUAAAAAAALB+QAAAAAAA8HlA",
          "dtype": "f8"
         },
         "yaxis": "y"
        },
        {
         "hovertemplate": "description_nl=Vereniging zonder winstoogmerk<br>Quarter=%{x}<br>Number of Enterprises=%{y}<extra></extra>",
         "legendgroup": "Vereniging zonder winstoogmerk",
         "line": {
          "color": "#636efa",
          "dash": "solid"
         },
         "marker": {
          "symbol": "circle"
         },
         "mode": "lines",
         "name": "Vereniging zonder winstoogmerk",
         "orientation": "v",
         "showlegend": true,
         "type": "scatter",
         "x": [
          "2015-Q1",
          "2015-Q2",
          "2015-Q3",
          "2015-Q4",
          "2016-Q1",
          "2016-Q2",
          "2016-Q3",
          "2016-Q4",
          "2017-Q1",
          "2017-Q2",
          "2017-Q3",
          "2017-Q4",
          "2018-Q1",
          "2018-Q2",
          "2018-Q3",
          "2018-Q4",
          "2019-Q1",
          "2019-Q2",
          "2019-Q3",
          "2019-Q4",
          "2020-Q1",
          "2020-Q2",
          "2020-Q3",
          "2020-Q4",
          "2021-Q1",
          "2021-Q2",
          "2021-Q3",
          "2021-Q4",
          "2022-Q1",
          "2022-Q2",
          "2022-Q3",
          "2022-Q4",
          "2023-Q1",
          "2023-Q2",
          "2023-Q3",
          "2023-Q4",
          "2024-Q1",
          "2024-Q2",
          "2024-Q3",
          "2024-Q4",
          "2025-Q1",
          "2025-Q2"
         ],
         "xaxis": "x",
         "y": {
          "bdata": "AAAAAABQjEAAAAAAADCKQAAAAAAASIhAAAAAAADQikAAAAAAAIiMQAAAAAAA2ItAAAAAAACAh0AAAAAAAJiKQAAAAAAA7JBAAAAAAADAjUAAAAAAAPCKQAAAAAAAYIxAAAAAAAC8kUAAAAAAAOiNQAAAAAAA2IpAAAAAAABIj0AAAAAAAPSRQAAAAAAA2I5AAAAAAABgjUAAAAAAAFiPQAAAAAAAII9AAAAAAAAgg0AAAAAAAHCKQAAAAAAACItAAAAAAADAjEAAAAAAAHiNQAAAAAAACIlAAAAAAABAi0AAAAAAAFCOQAAAAAAA2IxAAAAAAADIi0AAAAAAAACNQAAAAAAA2JBAAAAAAADokEAAAAAAACCMQAAAAAAApJFAAAAAAADklEAAAAAAANCRQAAAAAAAaI5AAAAAAAAskUAAAAAAAMiUQAAAAAAA5JFA",
          "dtype": "f8"
         },
         "yaxis": "y"
        }
       ],
       "layout": {
        "height": 600,
        "legend": {
         "font": {
          "size": 16
         },
         "orientation": "h",
         "title": {
          "font": {
           "size": 18
          },
          "text": "Juridical Form"
         },
         "tracegroupgap": 0,
         "x": 0.5,
         "xanchor": "center",
         "y": -0.3,
         "yanchor": "top"
        },
        "template": {
         "data": {
          "bar": [
           {
            "error_x": {
             "color": "#2a3f5f"
            },
            "error_y": {
             "color": "#2a3f5f"
            },
            "marker": {
             "line": {
              "color": "#E5ECF6",
              "width": 0.5
             },
             "pattern": {
              "fillmode": "overlay",
              "size": 10,
              "solidity": 0.2
             }
            },
            "type": "bar"
           }
          ],
          "barpolar": [
           {
            "marker": {
             "line": {
              "color": "#E5ECF6",
              "width": 0.5
             },
             "pattern": {
              "fillmode": "overlay",
              "size": 10,
              "solidity": 0.2
             }
            },
            "type": "barpolar"
           }
          ],
          "carpet": [
           {
            "aaxis": {
             "endlinecolor": "#2a3f5f",
             "gridcolor": "white",
             "linecolor": "white",
             "minorgridcolor": "white",
             "startlinecolor": "#2a3f5f"
            },
            "baxis": {
             "endlinecolor": "#2a3f5f",
             "gridcolor": "white",
             "linecolor": "white",
             "minorgridcolor": "white",
             "startlinecolor": "#2a3f5f"
            },
            "type": "carpet"
           }
          ],
          "choropleth": [
           {
            "colorbar": {
             "outlinewidth": 0,
             "ticks": ""
            },
            "type": "choropleth"
           }
          ],
          "contour": [
           {
            "colorbar": {
             "outlinewidth": 0,
             "ticks": ""
            },
            "colorscale": [
             [
              0,
              "#0d0887"
             ],
             [
              0.1111111111111111,
              "#46039f"
             ],
             [
              0.2222222222222222,
              "#7201a8"
             ],
             [
              0.3333333333333333,
              "#9c179e"
             ],
             [
              0.4444444444444444,
              "#bd3786"
             ],
             [
              0.5555555555555556,
              "#d8576b"
             ],
             [
              0.6666666666666666,
              "#ed7953"
             ],
             [
              0.7777777777777778,
              "#fb9f3a"
             ],
             [
              0.8888888888888888,
              "#fdca26"
             ],
             [
              1,
              "#f0f921"
             ]
            ],
            "type": "contour"
           }
          ],
          "contourcarpet": [
           {
            "colorbar": {
             "outlinewidth": 0,
             "ticks": ""
            },
            "type": "contourcarpet"
           }
          ],
          "heatmap": [
           {
            "colorbar": {
             "outlinewidth": 0,
             "ticks": ""
            },
            "colorscale": [
             [
              0,
              "#0d0887"
             ],
             [
              0.1111111111111111,
              "#46039f"
             ],
             [
              0.2222222222222222,
              "#7201a8"
             ],
             [
              0.3333333333333333,
              "#9c179e"
             ],
             [
              0.4444444444444444,
              "#bd3786"
             ],
             [
              0.5555555555555556,
              "#d8576b"
             ],
             [
              0.6666666666666666,
              "#ed7953"
             ],
             [
              0.7777777777777778,
              "#fb9f3a"
             ],
             [
              0.8888888888888888,
              "#fdca26"
             ],
             [
              1,
              "#f0f921"
             ]
            ],
            "type": "heatmap"
           }
          ],
          "histogram": [
           {
            "marker": {
             "pattern": {
              "fillmode": "overlay",
              "size": 10,
              "solidity": 0.2
             }
            },
            "type": "histogram"
           }
          ],
          "histogram2d": [
           {
            "colorbar": {
             "outlinewidth": 0,
             "ticks": ""
            },
            "colorscale": [
             [
              0,
              "#0d0887"
             ],
             [
              0.1111111111111111,
              "#46039f"
             ],
             [
              0.2222222222222222,
              "#7201a8"
             ],
             [
              0.3333333333333333,
              "#9c179e"
             ],
             [
              0.4444444444444444,
              "#bd3786"
             ],
             [
              0.5555555555555556,
              "#d8576b"
             ],
             [
              0.6666666666666666,
              "#ed7953"
             ],
             [
              0.7777777777777778,
              "#fb9f3a"
             ],
             [
              0.8888888888888888,
              "#fdca26"
             ],
             [
              1,
              "#f0f921"
             ]
            ],
            "type": "histogram2d"
           }
          ],
          "histogram2dcontour": [
           {
            "colorbar": {
             "outlinewidth": 0,
             "ticks": ""
            },
            "colorscale": [
             [
              0,
              "#0d0887"
             ],
             [
              0.1111111111111111,
              "#46039f"
             ],
             [
              0.2222222222222222,
              "#7201a8"
             ],
             [
              0.3333333333333333,
              "#9c179e"
             ],
             [
              0.4444444444444444,
              "#bd3786"
             ],
             [
              0.5555555555555556,
              "#d8576b"
             ],
             [
              0.6666666666666666,
              "#ed7953"
             ],
             [
              0.7777777777777778,
              "#fb9f3a"
             ],
             [
              0.8888888888888888,
              "#fdca26"
             ],
             [
              1,
              "#f0f921"
             ]
            ],
            "type": "histogram2dcontour"
           }
          ],
          "mesh3d": [
           {
            "colorbar": {
             "outlinewidth": 0,
             "ticks": ""
            },
            "type": "mesh3d"
           }
          ],
          "parcoords": [
           {
            "line": {
             "colorbar": {
              "outlinewidth": 0,
              "ticks": ""
             }
            },
            "type": "parcoords"
           }
          ],
          "pie": [
           {
            "automargin": true,
            "type": "pie"
           }
          ],
          "scatter": [
           {
            "fillpattern": {
             "fillmode": "overlay",
             "size": 10,
             "solidity": 0.2
            },
            "type": "scatter"
           }
          ],
          "scatter3d": [
           {
            "line": {
             "colorbar": {
              "outlinewidth": 0,
              "ticks": ""
             }
            },
            "marker": {
             "colorbar": {
              "outlinewidth": 0,
              "ticks": ""
             }
            },
            "type": "scatter3d"
           }
          ],
          "scattercarpet": [
           {
            "marker": {
             "colorbar": {
              "outlinewidth": 0,
              "ticks": ""
             }
            },
            "type": "scattercarpet"
           }
          ],
          "scattergeo": [
           {
            "marker": {
             "colorbar": {
              "outlinewidth": 0,
              "ticks": ""
             }
            },
            "type": "scattergeo"
           }
          ],
          "scattergl": [
           {
            "marker": {
             "colorbar": {
              "outlinewidth": 0,
              "ticks": ""
             }
            },
            "type": "scattergl"
           }
          ],
          "scattermap": [
           {
            "marker": {
             "colorbar": {
              "outlinewidth": 0,
              "ticks": ""
             }
            },
            "type": "scattermap"
           }
          ],
          "scattermapbox": [
           {
            "marker": {
             "colorbar": {
              "outlinewidth": 0,
              "ticks": ""
             }
            },
            "type": "scattermapbox"
           }
          ],
          "scatterpolar": [
           {
            "marker": {
             "colorbar": {
              "outlinewidth": 0,
              "ticks": ""
             }
            },
            "type": "scatterpolar"
           }
          ],
          "scatterpolargl": [
           {
            "marker": {
             "colorbar": {
              "outlinewidth": 0,
              "ticks": ""
             }
            },
            "type": "scatterpolargl"
           }
          ],
          "scatterternary": [
           {
            "marker": {
             "colorbar": {
              "outlinewidth": 0,
              "ticks": ""
             }
            },
            "type": "scatterternary"
           }
          ],
          "surface": [
           {
            "colorbar": {
             "outlinewidth": 0,
             "ticks": ""
            },
            "colorscale": [
             [
              0,
              "#0d0887"
             ],
             [
              0.1111111111111111,
              "#46039f"
             ],
             [
              0.2222222222222222,
              "#7201a8"
             ],
             [
              0.3333333333333333,
              "#9c179e"
             ],
             [
              0.4444444444444444,
              "#bd3786"
             ],
             [
              0.5555555555555556,
              "#d8576b"
             ],
             [
              0.6666666666666666,
              "#ed7953"
             ],
             [
              0.7777777777777778,
              "#fb9f3a"
             ],
             [
              0.8888888888888888,
              "#fdca26"
             ],
             [
              1,
              "#f0f921"
             ]
            ],
            "type": "surface"
           }
          ],
          "table": [
           {
            "cells": {
             "fill": {
              "color": "#EBF0F8"
             },
             "line": {
              "color": "white"
             }
            },
            "header": {
             "fill": {
              "color": "#C8D4E3"
             },
             "line": {
              "color": "white"
             }
            },
            "type": "table"
           }
          ]
         },
         "layout": {
          "annotationdefaults": {
           "arrowcolor": "#2a3f5f",
           "arrowhead": 0,
           "arrowwidth": 1
          },
          "autotypenumbers": "strict",
          "coloraxis": {
           "colorbar": {
            "outlinewidth": 0,
            "ticks": ""
           }
          },
          "colorscale": {
           "diverging": [
            [
             0,
             "#8e0152"
            ],
            [
             0.1,
             "#c51b7d"
            ],
            [
             0.2,
             "#de77ae"
            ],
            [
             0.3,
             "#f1b6da"
            ],
            [
             0.4,
             "#fde0ef"
            ],
            [
             0.5,
             "#f7f7f7"
            ],
            [
             0.6,
             "#e6f5d0"
            ],
            [
             0.7,
             "#b8e186"
            ],
            [
             0.8,
             "#7fbc41"
            ],
            [
             0.9,
             "#4d9221"
            ],
            [
             1,
             "#276419"
            ]
           ],
           "sequential": [
            [
             0,
             "#0d0887"
            ],
            [
             0.1111111111111111,
             "#46039f"
            ],
            [
             0.2222222222222222,
             "#7201a8"
            ],
            [
             0.3333333333333333,
             "#9c179e"
            ],
            [
             0.4444444444444444,
             "#bd3786"
            ],
            [
             0.5555555555555556,
             "#d8576b"
            ],
            [
             0.6666666666666666,
             "#ed7953"
            ],
            [
             0.7777777777777778,
             "#fb9f3a"
            ],
            [
             0.8888888888888888,
             "#fdca26"
            ],
            [
             1,
             "#f0f921"
            ]
           ],
           "sequentialminus": [
            [
             0,
             "#0d0887"
            ],
            [
             0.1111111111111111,
             "#46039f"
            ],
            [
             0.2222222222222222,
             "#7201a8"
            ],
            [
             0.3333333333333333,
             "#9c179e"
            ],
            [
             0.4444444444444444,
             "#bd3786"
            ],
            [
             0.5555555555555556,
             "#d8576b"
            ],
            [
             0.6666666666666666,
             "#ed7953"
            ],
            [
             0.7777777777777778,
             "#fb9f3a"
            ],
            [
             0.8888888888888888,
             "#fdca26"
            ],
            [
             1,
             "#f0f921"
            ]
           ]
          },
          "colorway": [
           "#636efa",
           "#EF553B",
           "#00cc96",
           "#ab63fa",
           "#FFA15A",
           "#19d3f3",
           "#FF6692",
           "#B6E880",
           "#FF97FF",
           "#FECB52"
          ],
          "font": {
           "color": "#2a3f5f"
          },
          "geo": {
           "bgcolor": "white",
           "lakecolor": "white",
           "landcolor": "#E5ECF6",
           "showlakes": true,
           "showland": true,
           "subunitcolor": "white"
          },
          "hoverlabel": {
           "align": "left"
          },
          "hovermode": "closest",
          "mapbox": {
           "style": "light"
          },
          "paper_bgcolor": "white",
          "plot_bgcolor": "#E5ECF6",
          "polar": {
           "angularaxis": {
            "gridcolor": "white",
            "linecolor": "white",
            "ticks": ""
           },
           "bgcolor": "#E5ECF6",
           "radialaxis": {
            "gridcolor": "white",
            "linecolor": "white",
            "ticks": ""
           }
          },
          "scene": {
           "xaxis": {
            "backgroundcolor": "#E5ECF6",
            "gridcolor": "white",
            "gridwidth": 2,
            "linecolor": "white",
            "showbackground": true,
            "ticks": "",
            "zerolinecolor": "white"
           },
           "yaxis": {
            "backgroundcolor": "#E5ECF6",
            "gridcolor": "white",
            "gridwidth": 2,
            "linecolor": "white",
            "showbackground": true,
            "ticks": "",
            "zerolinecolor": "white"
           },
           "zaxis": {
            "backgroundcolor": "#E5ECF6",
            "gridcolor": "white",
            "gridwidth": 2,
            "linecolor": "white",
            "showbackground": true,
            "ticks": "",
            "zerolinecolor": "white"
           }
          },
          "shapedefaults": {
           "line": {
            "color": "#2a3f5f"
           }
          },
          "ternary": {
           "aaxis": {
            "gridcolor": "white",
            "linecolor": "white",
            "ticks": ""
           },
           "baxis": {
            "gridcolor": "white",
            "linecolor": "white",
            "ticks": ""
           },
           "bgcolor": "#E5ECF6",
           "caxis": {
            "gridcolor": "white",
            "linecolor": "white",
            "ticks": ""
           }
          },
          "title": {
           "x": 0.05
          },
          "xaxis": {
           "automargin": true,
           "gridcolor": "white",
           "linecolor": "white",
           "ticks": "",
           "title": {
            "standoff": 15
           },
           "zerolinecolor": "white",
           "zerolinewidth": 2
          },
          "yaxis": {
           "automargin": true,
           "gridcolor": "white",
           "linecolor": "white",
           "ticks": "",
           "title": {
            "standoff": 15
           },
           "zerolinecolor": "white",
           "zerolinewidth": 2
          }
         }
        },
        "title": {
         "text": "Juridical Form Trends by Quarter (since 2015)"
        },
        "width": 1200,
        "xaxis": {
         "anchor": "y",
         "domain": [
          0,
          1
         ],
         "title": {
          "text": "Quarter"
         }
        },
        "yaxis": {
         "anchor": "x",
         "domain": [
          0,
          1
         ],
         "title": {
          "text": "Number of Enterprises"
         }
        }
       }
      }
     },
     "metadata": {},
     "output_type": "display_data"
    }
   ],
   "source": [
    "q = \"\"\"\n",
    "SELECT \n",
    "    strftime('%Y', DATE(substr(StartDate, 7, 4) || '-' || substr(StartDate, 4, 2) || '-' || substr(StartDate, 1, 2))) AS year,\n",
    "    ((CAST(substr(StartDate, 4, 2) AS INTEGER) - 1) / 3 + 1) AS quarter,\n",
    "    description_nl,\n",
    "    COUNT(*) AS count\n",
    "FROM enterprise AS e\n",
    "JOIN JuridicalForm AS j ON e.JuridicalForm = j.code\n",
    "WHERE DATE(substr(StartDate, 7, 4) || '-' || substr(StartDate, 4, 2) || '-' || substr(StartDate, 1, 2)) >= '2015-01-01'\n",
    "AND NOT (\n",
    "    strftime('%Y', DATE(substr(StartDate, 7, 4) || '-' || substr(StartDate, 4, 2) || '-' || substr(StartDate, 1, 2))) = '2025'\n",
    "    AND ((CAST(substr(StartDate, 4, 2) AS INTEGER) - 1) / 3 + 1) = 3\n",
    "  )\n",
    "GROUP BY year, quarter, description_nl\n",
    "ORDER BY year ASC, quarter ASC, count DESC\n",
    "\"\"\"\n",
    "df_form_quarterly = pd.read_sql_query(q, connect)\n",
    "\n",
    "top_10_forms = (\n",
    "    df_form_quarterly\n",
    "    .groupby(\"description_nl\")[\"count\"]\n",
    "    .sum()\n",
    "    .nlargest(10)\n",
    "    .index\n",
    ")\n",
    "\n",
    "df_form_quarterly['description_nl'] = df_form_quarterly['description_nl'].where(\n",
    "    df_form_quarterly['description_nl'].isin(top_10_forms),\n",
    "    other='Other'\n",
    ")\n",
    "\n",
    "df_grouped = df_form_quarterly.groupby(\n",
    "    ['year', 'quarter', 'description_nl'], as_index=False\n",
    ")['count'].sum()\n",
    "\n",
    "df_grouped['year_quarter'] = df_grouped['year'] + '-Q' + df_grouped['quarter'].astype(int).astype(str)\n",
    "df_grouped = df_grouped.pivot(index='year_quarter', columns='description_nl', values='count').fillna(0)\n",
    "\n",
    "\n",
    "fig = px.line(\n",
    "    df_grouped,\n",
    "    title='Juridical Form Trends by Quarter (since 2015)',\n",
    "    labels={'value': 'Number of Enterprises', 'year_quarter': 'Quarter'},\n",
    ")\n",
    "\n",
    "fig.update_layout(\n",
    "\n",
    "    yaxis_title='Number of Enterprises',\n",
    "    legend_title_text='Juridical Form',\n",
    "    legend_title_font=dict(size=18),\n",
    "    legend_font=dict(size=16),\n",
    "    legend=dict(\n",
    "        orientation=\"h\",      \n",
    "        yanchor=\"top\",        \n",
    "        y=-0.3,                \n",
    "        xanchor=\"center\",     \n",
    "        x=0.5                 \n",
    "    ),\n",
    "    width=1200,\n",
    "    height = 600\n",
    "    \n",
    ")\n",
    "\n",
    "fig.show()\n",
    "\n",
    "\n",
    "\n",
    "\n"
   ]
  },
  {
   "cell_type": "code",
   "execution_count": null,
   "id": "448fac28",
   "metadata": {},
   "outputs": [],
   "source": []
  },
  {
   "cell_type": "code",
   "execution_count": 113,
   "id": "ed088ab3",
   "metadata": {},
   "outputs": [
    {
     "name": "stdout",
     "output_type": "stream",
     "text": [
      "                    region  activity_count\n",
      "0           Flemish Region         3227170\n",
      "1           Walloon Region         1437103\n",
      "2  Brussels Capital Region          803278\n"
     ]
    }
   ],
   "source": [
    "q =\"\"\"SELECT \n",
    "    g.\"Région name (Dutch)\" AS region,\n",
    "    COUNT(*) AS activity_count   \n",
    "FROM activity_lable_cleaned AS a\n",
    "JOIN address AS ad ON a.EntityNumber = ad.EntityNumber\n",
    "JOIN geo_data AS g ON ad.Zipcode = g.\"Post code\"\n",
    "WHERE ad.CountryNL IS NULL \n",
    "AND Classification = 'MAIN'\n",
    "GROUP BY region\n",
    "ORDER BY activity_count DESC;\n",
    "\"\"\"\n",
    "df_overall = pd.read_sql_query(q, connect)\n",
    "\n",
    "region_mapping = {\n",
    "    \"Vlaams Gewest\": \"Flemish Region\",\n",
    "    \"Waals Gewest\": \"Walloon Region\",\n",
    "    \"Brussels Hoofdstedelijk Gewest\": \"Brussels Capital Region\"\n",
    "}\n",
    "\n",
    "df_overall['region'] = df_overall['region'].replace(region_mapping)\n",
    "\n",
    "\n",
    "print(df_overall.head(10))\n",
    "\n",
    "\n"
   ]
  },
  {
   "cell_type": "code",
   "execution_count": 114,
   "id": "4205c12a",
   "metadata": {},
   "outputs": [
    {
     "data": {
      "application/vnd.plotly.v1+json": {
       "config": {
        "plotlyServerURL": "https://plot.ly"
       },
       "data": [
        {
         "customdata": [
          [
           "Flemish Region"
          ],
          [
           "Walloon Region"
          ],
          [
           "Brussels Capital Region"
          ]
         ],
         "domain": {
          "x": [
           0,
           1
          ],
          "y": [
           0,
           1
          ]
         },
         "hovertemplate": "%{label}: %{value} activities<br>(%{percent:.1%})",
         "labels": [
          "Flemish Region",
          "Walloon Region",
          "Brussels Capital Region"
         ],
         "legendgroup": "",
         "marker": {
          "colors": [
           "rgb(102,194,165)",
           "rgb(252,141,98)",
           "rgb(141,160,203)"
          ]
         },
         "name": "",
         "showlegend": true,
         "textinfo": "percent+label",
         "texttemplate": "%{percent:.1%}",
         "type": "pie",
         "values": {
          "bdata": "Ij4xAK/tFQDOQQwA",
          "dtype": "i4"
         }
        }
       ],
       "layout": {
        "height": 400,
        "legend": {
         "font": {
          "size": 14
         },
         "orientation": "v",
         "title": {
          "text": "Region"
         },
         "tracegroupgap": 0,
         "x": 0.7,
         "xanchor": "left",
         "y": 0.5,
         "yanchor": "middle"
        },
        "margin": {
         "b": 20,
         "l": 20,
         "r": 20,
         "t": 40
        },
        "piecolorway": [
         "rgb(102,194,165)",
         "rgb(252,141,98)",
         "rgb(141,160,203)",
         "rgb(231,138,195)",
         "rgb(166,216,84)",
         "rgb(255,217,47)",
         "rgb(229,196,148)",
         "rgb(179,179,179)",
         "rgb(102,194,165)",
         "rgb(252,141,98)",
         "rgb(141,160,203)",
         "rgb(231,138,195)",
         "rgb(166,216,84)",
         "rgb(255,217,47)",
         "rgb(229,196,148)",
         "rgb(179,179,179)",
         "rgb(102,194,165)",
         "rgb(252,141,98)",
         "rgb(141,160,203)",
         "rgb(231,138,195)",
         "rgb(166,216,84)",
         "rgb(255,217,47)",
         "rgb(229,196,148)",
         "rgb(179,179,179)",
         "rgb(102,194,165)",
         "rgb(252,141,98)",
         "rgb(141,160,203)",
         "rgb(231,138,195)",
         "rgb(166,216,84)",
         "rgb(255,217,47)",
         "rgb(229,196,148)",
         "rgb(179,179,179)"
        ],
        "showlegend": true,
        "template": {
         "data": {
          "bar": [
           {
            "error_x": {
             "color": "#2a3f5f"
            },
            "error_y": {
             "color": "#2a3f5f"
            },
            "marker": {
             "line": {
              "color": "#E5ECF6",
              "width": 0.5
             },
             "pattern": {
              "fillmode": "overlay",
              "size": 10,
              "solidity": 0.2
             }
            },
            "type": "bar"
           }
          ],
          "barpolar": [
           {
            "marker": {
             "line": {
              "color": "#E5ECF6",
              "width": 0.5
             },
             "pattern": {
              "fillmode": "overlay",
              "size": 10,
              "solidity": 0.2
             }
            },
            "type": "barpolar"
           }
          ],
          "carpet": [
           {
            "aaxis": {
             "endlinecolor": "#2a3f5f",
             "gridcolor": "white",
             "linecolor": "white",
             "minorgridcolor": "white",
             "startlinecolor": "#2a3f5f"
            },
            "baxis": {
             "endlinecolor": "#2a3f5f",
             "gridcolor": "white",
             "linecolor": "white",
             "minorgridcolor": "white",
             "startlinecolor": "#2a3f5f"
            },
            "type": "carpet"
           }
          ],
          "choropleth": [
           {
            "colorbar": {
             "outlinewidth": 0,
             "ticks": ""
            },
            "type": "choropleth"
           }
          ],
          "contour": [
           {
            "colorbar": {
             "outlinewidth": 0,
             "ticks": ""
            },
            "colorscale": [
             [
              0,
              "#0d0887"
             ],
             [
              0.1111111111111111,
              "#46039f"
             ],
             [
              0.2222222222222222,
              "#7201a8"
             ],
             [
              0.3333333333333333,
              "#9c179e"
             ],
             [
              0.4444444444444444,
              "#bd3786"
             ],
             [
              0.5555555555555556,
              "#d8576b"
             ],
             [
              0.6666666666666666,
              "#ed7953"
             ],
             [
              0.7777777777777778,
              "#fb9f3a"
             ],
             [
              0.8888888888888888,
              "#fdca26"
             ],
             [
              1,
              "#f0f921"
             ]
            ],
            "type": "contour"
           }
          ],
          "contourcarpet": [
           {
            "colorbar": {
             "outlinewidth": 0,
             "ticks": ""
            },
            "type": "contourcarpet"
           }
          ],
          "heatmap": [
           {
            "colorbar": {
             "outlinewidth": 0,
             "ticks": ""
            },
            "colorscale": [
             [
              0,
              "#0d0887"
             ],
             [
              0.1111111111111111,
              "#46039f"
             ],
             [
              0.2222222222222222,
              "#7201a8"
             ],
             [
              0.3333333333333333,
              "#9c179e"
             ],
             [
              0.4444444444444444,
              "#bd3786"
             ],
             [
              0.5555555555555556,
              "#d8576b"
             ],
             [
              0.6666666666666666,
              "#ed7953"
             ],
             [
              0.7777777777777778,
              "#fb9f3a"
             ],
             [
              0.8888888888888888,
              "#fdca26"
             ],
             [
              1,
              "#f0f921"
             ]
            ],
            "type": "heatmap"
           }
          ],
          "histogram": [
           {
            "marker": {
             "pattern": {
              "fillmode": "overlay",
              "size": 10,
              "solidity": 0.2
             }
            },
            "type": "histogram"
           }
          ],
          "histogram2d": [
           {
            "colorbar": {
             "outlinewidth": 0,
             "ticks": ""
            },
            "colorscale": [
             [
              0,
              "#0d0887"
             ],
             [
              0.1111111111111111,
              "#46039f"
             ],
             [
              0.2222222222222222,
              "#7201a8"
             ],
             [
              0.3333333333333333,
              "#9c179e"
             ],
             [
              0.4444444444444444,
              "#bd3786"
             ],
             [
              0.5555555555555556,
              "#d8576b"
             ],
             [
              0.6666666666666666,
              "#ed7953"
             ],
             [
              0.7777777777777778,
              "#fb9f3a"
             ],
             [
              0.8888888888888888,
              "#fdca26"
             ],
             [
              1,
              "#f0f921"
             ]
            ],
            "type": "histogram2d"
           }
          ],
          "histogram2dcontour": [
           {
            "colorbar": {
             "outlinewidth": 0,
             "ticks": ""
            },
            "colorscale": [
             [
              0,
              "#0d0887"
             ],
             [
              0.1111111111111111,
              "#46039f"
             ],
             [
              0.2222222222222222,
              "#7201a8"
             ],
             [
              0.3333333333333333,
              "#9c179e"
             ],
             [
              0.4444444444444444,
              "#bd3786"
             ],
             [
              0.5555555555555556,
              "#d8576b"
             ],
             [
              0.6666666666666666,
              "#ed7953"
             ],
             [
              0.7777777777777778,
              "#fb9f3a"
             ],
             [
              0.8888888888888888,
              "#fdca26"
             ],
             [
              1,
              "#f0f921"
             ]
            ],
            "type": "histogram2dcontour"
           }
          ],
          "mesh3d": [
           {
            "colorbar": {
             "outlinewidth": 0,
             "ticks": ""
            },
            "type": "mesh3d"
           }
          ],
          "parcoords": [
           {
            "line": {
             "colorbar": {
              "outlinewidth": 0,
              "ticks": ""
             }
            },
            "type": "parcoords"
           }
          ],
          "pie": [
           {
            "automargin": true,
            "type": "pie"
           }
          ],
          "scatter": [
           {
            "fillpattern": {
             "fillmode": "overlay",
             "size": 10,
             "solidity": 0.2
            },
            "type": "scatter"
           }
          ],
          "scatter3d": [
           {
            "line": {
             "colorbar": {
              "outlinewidth": 0,
              "ticks": ""
             }
            },
            "marker": {
             "colorbar": {
              "outlinewidth": 0,
              "ticks": ""
             }
            },
            "type": "scatter3d"
           }
          ],
          "scattercarpet": [
           {
            "marker": {
             "colorbar": {
              "outlinewidth": 0,
              "ticks": ""
             }
            },
            "type": "scattercarpet"
           }
          ],
          "scattergeo": [
           {
            "marker": {
             "colorbar": {
              "outlinewidth": 0,
              "ticks": ""
             }
            },
            "type": "scattergeo"
           }
          ],
          "scattergl": [
           {
            "marker": {
             "colorbar": {
              "outlinewidth": 0,
              "ticks": ""
             }
            },
            "type": "scattergl"
           }
          ],
          "scattermap": [
           {
            "marker": {
             "colorbar": {
              "outlinewidth": 0,
              "ticks": ""
             }
            },
            "type": "scattermap"
           }
          ],
          "scattermapbox": [
           {
            "marker": {
             "colorbar": {
              "outlinewidth": 0,
              "ticks": ""
             }
            },
            "type": "scattermapbox"
           }
          ],
          "scatterpolar": [
           {
            "marker": {
             "colorbar": {
              "outlinewidth": 0,
              "ticks": ""
             }
            },
            "type": "scatterpolar"
           }
          ],
          "scatterpolargl": [
           {
            "marker": {
             "colorbar": {
              "outlinewidth": 0,
              "ticks": ""
             }
            },
            "type": "scatterpolargl"
           }
          ],
          "scatterternary": [
           {
            "marker": {
             "colorbar": {
              "outlinewidth": 0,
              "ticks": ""
             }
            },
            "type": "scatterternary"
           }
          ],
          "surface": [
           {
            "colorbar": {
             "outlinewidth": 0,
             "ticks": ""
            },
            "colorscale": [
             [
              0,
              "#0d0887"
             ],
             [
              0.1111111111111111,
              "#46039f"
             ],
             [
              0.2222222222222222,
              "#7201a8"
             ],
             [
              0.3333333333333333,
              "#9c179e"
             ],
             [
              0.4444444444444444,
              "#bd3786"
             ],
             [
              0.5555555555555556,
              "#d8576b"
             ],
             [
              0.6666666666666666,
              "#ed7953"
             ],
             [
              0.7777777777777778,
              "#fb9f3a"
             ],
             [
              0.8888888888888888,
              "#fdca26"
             ],
             [
              1,
              "#f0f921"
             ]
            ],
            "type": "surface"
           }
          ],
          "table": [
           {
            "cells": {
             "fill": {
              "color": "#EBF0F8"
             },
             "line": {
              "color": "white"
             }
            },
            "header": {
             "fill": {
              "color": "#C8D4E3"
             },
             "line": {
              "color": "white"
             }
            },
            "type": "table"
           }
          ]
         },
         "layout": {
          "annotationdefaults": {
           "arrowcolor": "#2a3f5f",
           "arrowhead": 0,
           "arrowwidth": 1
          },
          "autotypenumbers": "strict",
          "coloraxis": {
           "colorbar": {
            "outlinewidth": 0,
            "ticks": ""
           }
          },
          "colorscale": {
           "diverging": [
            [
             0,
             "#8e0152"
            ],
            [
             0.1,
             "#c51b7d"
            ],
            [
             0.2,
             "#de77ae"
            ],
            [
             0.3,
             "#f1b6da"
            ],
            [
             0.4,
             "#fde0ef"
            ],
            [
             0.5,
             "#f7f7f7"
            ],
            [
             0.6,
             "#e6f5d0"
            ],
            [
             0.7,
             "#b8e186"
            ],
            [
             0.8,
             "#7fbc41"
            ],
            [
             0.9,
             "#4d9221"
            ],
            [
             1,
             "#276419"
            ]
           ],
           "sequential": [
            [
             0,
             "#0d0887"
            ],
            [
             0.1111111111111111,
             "#46039f"
            ],
            [
             0.2222222222222222,
             "#7201a8"
            ],
            [
             0.3333333333333333,
             "#9c179e"
            ],
            [
             0.4444444444444444,
             "#bd3786"
            ],
            [
             0.5555555555555556,
             "#d8576b"
            ],
            [
             0.6666666666666666,
             "#ed7953"
            ],
            [
             0.7777777777777778,
             "#fb9f3a"
            ],
            [
             0.8888888888888888,
             "#fdca26"
            ],
            [
             1,
             "#f0f921"
            ]
           ],
           "sequentialminus": [
            [
             0,
             "#0d0887"
            ],
            [
             0.1111111111111111,
             "#46039f"
            ],
            [
             0.2222222222222222,
             "#7201a8"
            ],
            [
             0.3333333333333333,
             "#9c179e"
            ],
            [
             0.4444444444444444,
             "#bd3786"
            ],
            [
             0.5555555555555556,
             "#d8576b"
            ],
            [
             0.6666666666666666,
             "#ed7953"
            ],
            [
             0.7777777777777778,
             "#fb9f3a"
            ],
            [
             0.8888888888888888,
             "#fdca26"
            ],
            [
             1,
             "#f0f921"
            ]
           ]
          },
          "colorway": [
           "#636efa",
           "#EF553B",
           "#00cc96",
           "#ab63fa",
           "#FFA15A",
           "#19d3f3",
           "#FF6692",
           "#B6E880",
           "#FF97FF",
           "#FECB52"
          ],
          "font": {
           "color": "#2a3f5f"
          },
          "geo": {
           "bgcolor": "white",
           "lakecolor": "white",
           "landcolor": "#E5ECF6",
           "showlakes": true,
           "showland": true,
           "subunitcolor": "white"
          },
          "hoverlabel": {
           "align": "left"
          },
          "hovermode": "closest",
          "mapbox": {
           "style": "light"
          },
          "paper_bgcolor": "white",
          "plot_bgcolor": "#E5ECF6",
          "polar": {
           "angularaxis": {
            "gridcolor": "white",
            "linecolor": "white",
            "ticks": ""
           },
           "bgcolor": "#E5ECF6",
           "radialaxis": {
            "gridcolor": "white",
            "linecolor": "white",
            "ticks": ""
           }
          },
          "scene": {
           "xaxis": {
            "backgroundcolor": "#E5ECF6",
            "gridcolor": "white",
            "gridwidth": 2,
            "linecolor": "white",
            "showbackground": true,
            "ticks": "",
            "zerolinecolor": "white"
           },
           "yaxis": {
            "backgroundcolor": "#E5ECF6",
            "gridcolor": "white",
            "gridwidth": 2,
            "linecolor": "white",
            "showbackground": true,
            "ticks": "",
            "zerolinecolor": "white"
           },
           "zaxis": {
            "backgroundcolor": "#E5ECF6",
            "gridcolor": "white",
            "gridwidth": 2,
            "linecolor": "white",
            "showbackground": true,
            "ticks": "",
            "zerolinecolor": "white"
           }
          },
          "shapedefaults": {
           "line": {
            "color": "#2a3f5f"
           }
          },
          "ternary": {
           "aaxis": {
            "gridcolor": "white",
            "linecolor": "white",
            "ticks": ""
           },
           "baxis": {
            "gridcolor": "white",
            "linecolor": "white",
            "ticks": ""
           },
           "bgcolor": "#E5ECF6",
           "caxis": {
            "gridcolor": "white",
            "linecolor": "white",
            "ticks": ""
           }
          },
          "title": {
           "x": 0.05
          },
          "xaxis": {
           "automargin": true,
           "gridcolor": "white",
           "linecolor": "white",
           "ticks": "",
           "title": {
            "standoff": 15
           },
           "zerolinecolor": "white",
           "zerolinewidth": 2
          },
          "yaxis": {
           "automargin": true,
           "gridcolor": "white",
           "linecolor": "white",
           "ticks": "",
           "title": {
            "standoff": 15
           },
           "zerolinecolor": "white",
           "zerolinewidth": 2
          }
         }
        },
        "title": {
         "text": "Share of Economic Activities per Region",
         "x": 0.8
        }
       }
      }
     },
     "metadata": {},
     "output_type": "display_data"
    }
   ],
   "source": [
    "\n",
    "\n",
    "fig = px.pie(\n",
    "    df_overall, \n",
    "    names='region', \n",
    "    values='activity_count',\n",
    "    title='Share of Economic Activities per Region',\n",
    "    color='region',\n",
    "    color_discrete_sequence=px.colors.qualitative.Set2\n",
    ")\n",
    "\n",
    "fig.update_traces(\n",
    "    textinfo='percent+label',\n",
    "    texttemplate='%{percent:.1%}',\n",
    "    hovertemplate='%{label}: %{value} activities<br>(%{percent:.1%})'\n",
    ")\n",
    "\n",
    "\n",
    "fig.update_layout(\n",
    "    title_x=0.8, \n",
    "    margin=dict(t=40, b=20, l=20, r=20),  \n",
    "    showlegend=True,\n",
    "    legend_title_text='Region',\n",
    "    legend=dict(\n",
    "        orientation=\"v\",     \n",
    "        yanchor=\"middle\",    \n",
    "        y=0.5,               \n",
    "        xanchor=\"left\",     \n",
    "        x=0.7,          \n",
    "        font=dict(size=14)\n",
    "    ),\n",
    "    height=400,   \n",
    "  \n",
    ")\n",
    "\n",
    "\n",
    "\n",
    "fig.show()\n"
   ]
  },
  {
   "cell_type": "code",
   "execution_count": 115,
   "id": "3d7838b9",
   "metadata": {},
   "outputs": [
    {
     "name": "stdout",
     "output_type": "stream",
     "text": [
      "                     region Zipcode nace_section  \\\n",
      "0   Brussels Capital Region    1170            M   \n",
      "1   Brussels Capital Region    1180            G   \n",
      "2   Brussels Capital Region    1000            N   \n",
      "10  Brussels Capital Region    1000            C   \n",
      "5   Brussels Capital Region    1000            F   \n",
      "3   Brussels Capital Region    1080            H   \n",
      "6   Brussels Capital Region    1180            S   \n",
      "4   Brussels Capital Region    1082            J   \n",
      "11  Brussels Capital Region    1000            Q   \n",
      "7   Brussels Capital Region    1180            R   \n",
      "\n",
      "                                          description  company_count  \\\n",
      "0   Professional, scientific and technical activities         149902   \n",
      "1                          Wholesale and retail trade         104930   \n",
      "2       Administrative and support service activities          86112   \n",
      "10                                      Manufacturing          38357   \n",
      "5                                        Construction          50826   \n",
      "3                          Transportation and storage          55411   \n",
      "6                            Other service activities          43217   \n",
      "4                       Information and communication          54475   \n",
      "11            Human health and social work activities          34591   \n",
      "7                  Arts, entertainment and recreation          40432   \n",
      "\n",
      "    total_company_count  \n",
      "0                800927  \n",
      "1                794728  \n",
      "2                596058  \n",
      "10               429659  \n",
      "5                426450  \n",
      "3                337370  \n",
      "6                325056  \n",
      "4                283605  \n",
      "11               263691  \n",
      "7                251183  \n"
     ]
    }
   ],
   "source": [
    "q = \"\"\"SELECT \n",
    "    g.\"Région name (Dutch)\" AS region,\n",
    "    ad.Zipcode,\n",
    "    a.nace_section,\n",
    "    n.description,\n",
    "    COUNT(*) AS company_count\n",
    "FROM activity_lable_cleaned AS a\n",
    "JOIN address AS ad ON a.EntityNumber = ad.EntityNumber\n",
    "JOIN geo_data AS g ON ad.Zipcode = g.\"Post code\"\n",
    "JOIN nace_section AS n ON a.nace_section = n.section\n",
    "WHERE CountryNL IS NULL\n",
    "AND Classification = 'MAIN'\n",
    "GROUP BY g.\"Région name (Dutch)\", a.nace_section\n",
    "ORDER BY g.\"Région name (Dutch)\", company_count DESC;\n",
    "\"\"\"\n",
    "\n",
    "df = pd.read_sql_query(q, connect)\n",
    "\n",
    "df['region'] = df['region'].replace(region_mapping)\n",
    "\n",
    "sector_totals = df.groupby('description')['company_count'].sum().reset_index()\n",
    "sector_totals = sector_totals.rename(columns={'company_count': 'total_company_count'})\n",
    "\n",
    "df = df.merge(sector_totals, on='description')\n",
    "\n",
    "df = df.sort_values(by=['region', 'total_company_count', 'company_count'], ascending=[True, False, False])\n",
    "\n",
    "print(df.head(10))\n",
    "\n"
   ]
  },
  {
   "cell_type": "code",
   "execution_count": 116,
   "id": "03bc2490",
   "metadata": {},
   "outputs": [
    {
     "data": {
      "application/vnd.plotly.v1+json": {
       "config": {
        "plotlyServerURL": "https://plot.ly"
       },
       "data": [
        {
         "hovertemplate": "Region=Brussels Capital Region<br>description=%{x}<br>Number of Economic Activities=%{y}<extra></extra>",
         "legendgroup": "Brussels Capital Region",
         "marker": {
          "color": "#ab63fa",
          "pattern": {
           "shape": ""
          }
         },
         "name": "Brussels Capital Region",
         "orientation": "v",
         "showlegend": true,
         "textposition": "auto",
         "type": "bar",
         "x": [
          "Professional, scientific and technical activities",
          "Wholesale and retail trade",
          "Administrative and support service activities",
          "Manufacturing",
          "Construction",
          "Transportation and storage",
          "Other service activities",
          "Information and communication",
          "Human health and social work activities",
          "Arts, entertainment and recreation",
          "Real estate activities",
          "Education",
          "Accommodation and food service activities",
          "Financial and insurance activities",
          "Water supply; sewerage, waste management and remediation activities",
          "Public administration and defence",
          "Electricity, gas, steam and air conditioning supply",
          "Activities of households",
          "Extraterritorial organisations and bodies"
         ],
         "xaxis": "x",
         "y": {
          "bdata": "jkkCAOKZAQBgUAEA1ZUAAIrGAABz2AAA0agAAMvUAAAfhwAA8J0AALGWAAAkegAA/5UAADNiAADlDQAA8g0AAJAEAADJAQAAsgUAAA==",
          "dtype": "i4"
         },
         "yaxis": "y"
        },
        {
         "hovertemplate": "Region=Flemish Region<br>description=%{x}<br>Number of Economic Activities=%{y}<extra></extra>",
         "legendgroup": "Flemish Region",
         "marker": {
          "color": "#FFA15A",
          "pattern": {
           "shape": ""
          }
         },
         "name": "Flemish Region",
         "orientation": "v",
         "showlegend": true,
         "textposition": "auto",
         "type": "bar",
         "x": [
          "Professional, scientific and technical activities",
          "Wholesale and retail trade",
          "Administrative and support service activities",
          "Manufacturing",
          "Construction",
          "Transportation and storage",
          "Other service activities",
          "Information and communication",
          "Human health and social work activities",
          "Arts, entertainment and recreation",
          "Real estate activities",
          "Education",
          "Accommodation and food service activities",
          "Financial and insurance activities",
          "Water supply; sewerage, waste management and remediation activities",
          "Public administration and defence",
          "Electricity, gas, steam and air conditioning supply",
          "Activities of households",
          "Extraterritorial organisations and bodies",
          "Agriculture, forestry and fishing"
         ],
         "xaxis": "x",
         "y": {
          "bdata": "dSAHAAYBBwAwnAUAZ/QDAIkHBABX5AIAk+kCADyWAgCeKAIAvyQCAD9SAgD6+gEAW7MBADo/AgA/QgAAVRkAADsVAAByAwAAdwAAAAEAAAA=",
          "dtype": "i4"
         },
         "yaxis": "y"
        },
        {
         "hovertemplate": "Region=Walloon Region<br>description=%{x}<br>Number of Economic Activities=%{y}<extra></extra>",
         "legendgroup": "Walloon Region",
         "marker": {
          "color": "#19d3f3",
          "pattern": {
           "shape": ""
          }
         },
         "name": "Walloon Region",
         "orientation": "v",
         "showlegend": true,
         "textposition": "auto",
         "type": "bar",
         "x": [
          "Professional, scientific and technical activities",
          "Wholesale and retail trade",
          "Administrative and support service activities",
          "Manufacturing",
          "Construction",
          "Transportation and storage",
          "Other service activities",
          "Information and communication",
          "Human health and social work activities",
          "Arts, entertainment and recreation",
          "Real estate activities",
          "Education",
          "Accommodation and food service activities",
          "Financial and insurance activities",
          "Water supply; sewerage, waste management and remediation activities",
          "Public administration and defence",
          "Electricity, gas, steam and air conditioning supply",
          "Activities of households",
          "Extraterritorial organisations and bodies",
          "Agriculture, forestry and fishing"
         ],
         "xaxis": "x",
         "y": {
          "bdata": "nM4CAICFAwDKKwIAHwQCAL+zAQAQaQEAXGMBAM7oAABOVgEAgBIBAFLSAAC8CAEA+OUAAHZ/AAAnKQAAwhQAAA0JAADCAQAAgQAAAAMAAAA=",
          "dtype": "i4"
         },
         "yaxis": "y"
        }
       ],
       "layout": {
        "barmode": "stack",
        "height": 600,
        "legend": {
         "title": {
          "text": "Region"
         },
         "tracegroupgap": 0
        },
        "template": {
         "data": {
          "bar": [
           {
            "error_x": {
             "color": "#2a3f5f"
            },
            "error_y": {
             "color": "#2a3f5f"
            },
            "marker": {
             "line": {
              "color": "#E5ECF6",
              "width": 0.5
             },
             "pattern": {
              "fillmode": "overlay",
              "size": 10,
              "solidity": 0.2
             }
            },
            "type": "bar"
           }
          ],
          "barpolar": [
           {
            "marker": {
             "line": {
              "color": "#E5ECF6",
              "width": 0.5
             },
             "pattern": {
              "fillmode": "overlay",
              "size": 10,
              "solidity": 0.2
             }
            },
            "type": "barpolar"
           }
          ],
          "carpet": [
           {
            "aaxis": {
             "endlinecolor": "#2a3f5f",
             "gridcolor": "white",
             "linecolor": "white",
             "minorgridcolor": "white",
             "startlinecolor": "#2a3f5f"
            },
            "baxis": {
             "endlinecolor": "#2a3f5f",
             "gridcolor": "white",
             "linecolor": "white",
             "minorgridcolor": "white",
             "startlinecolor": "#2a3f5f"
            },
            "type": "carpet"
           }
          ],
          "choropleth": [
           {
            "colorbar": {
             "outlinewidth": 0,
             "ticks": ""
            },
            "type": "choropleth"
           }
          ],
          "contour": [
           {
            "colorbar": {
             "outlinewidth": 0,
             "ticks": ""
            },
            "colorscale": [
             [
              0,
              "#0d0887"
             ],
             [
              0.1111111111111111,
              "#46039f"
             ],
             [
              0.2222222222222222,
              "#7201a8"
             ],
             [
              0.3333333333333333,
              "#9c179e"
             ],
             [
              0.4444444444444444,
              "#bd3786"
             ],
             [
              0.5555555555555556,
              "#d8576b"
             ],
             [
              0.6666666666666666,
              "#ed7953"
             ],
             [
              0.7777777777777778,
              "#fb9f3a"
             ],
             [
              0.8888888888888888,
              "#fdca26"
             ],
             [
              1,
              "#f0f921"
             ]
            ],
            "type": "contour"
           }
          ],
          "contourcarpet": [
           {
            "colorbar": {
             "outlinewidth": 0,
             "ticks": ""
            },
            "type": "contourcarpet"
           }
          ],
          "heatmap": [
           {
            "colorbar": {
             "outlinewidth": 0,
             "ticks": ""
            },
            "colorscale": [
             [
              0,
              "#0d0887"
             ],
             [
              0.1111111111111111,
              "#46039f"
             ],
             [
              0.2222222222222222,
              "#7201a8"
             ],
             [
              0.3333333333333333,
              "#9c179e"
             ],
             [
              0.4444444444444444,
              "#bd3786"
             ],
             [
              0.5555555555555556,
              "#d8576b"
             ],
             [
              0.6666666666666666,
              "#ed7953"
             ],
             [
              0.7777777777777778,
              "#fb9f3a"
             ],
             [
              0.8888888888888888,
              "#fdca26"
             ],
             [
              1,
              "#f0f921"
             ]
            ],
            "type": "heatmap"
           }
          ],
          "histogram": [
           {
            "marker": {
             "pattern": {
              "fillmode": "overlay",
              "size": 10,
              "solidity": 0.2
             }
            },
            "type": "histogram"
           }
          ],
          "histogram2d": [
           {
            "colorbar": {
             "outlinewidth": 0,
             "ticks": ""
            },
            "colorscale": [
             [
              0,
              "#0d0887"
             ],
             [
              0.1111111111111111,
              "#46039f"
             ],
             [
              0.2222222222222222,
              "#7201a8"
             ],
             [
              0.3333333333333333,
              "#9c179e"
             ],
             [
              0.4444444444444444,
              "#bd3786"
             ],
             [
              0.5555555555555556,
              "#d8576b"
             ],
             [
              0.6666666666666666,
              "#ed7953"
             ],
             [
              0.7777777777777778,
              "#fb9f3a"
             ],
             [
              0.8888888888888888,
              "#fdca26"
             ],
             [
              1,
              "#f0f921"
             ]
            ],
            "type": "histogram2d"
           }
          ],
          "histogram2dcontour": [
           {
            "colorbar": {
             "outlinewidth": 0,
             "ticks": ""
            },
            "colorscale": [
             [
              0,
              "#0d0887"
             ],
             [
              0.1111111111111111,
              "#46039f"
             ],
             [
              0.2222222222222222,
              "#7201a8"
             ],
             [
              0.3333333333333333,
              "#9c179e"
             ],
             [
              0.4444444444444444,
              "#bd3786"
             ],
             [
              0.5555555555555556,
              "#d8576b"
             ],
             [
              0.6666666666666666,
              "#ed7953"
             ],
             [
              0.7777777777777778,
              "#fb9f3a"
             ],
             [
              0.8888888888888888,
              "#fdca26"
             ],
             [
              1,
              "#f0f921"
             ]
            ],
            "type": "histogram2dcontour"
           }
          ],
          "mesh3d": [
           {
            "colorbar": {
             "outlinewidth": 0,
             "ticks": ""
            },
            "type": "mesh3d"
           }
          ],
          "parcoords": [
           {
            "line": {
             "colorbar": {
              "outlinewidth": 0,
              "ticks": ""
             }
            },
            "type": "parcoords"
           }
          ],
          "pie": [
           {
            "automargin": true,
            "type": "pie"
           }
          ],
          "scatter": [
           {
            "fillpattern": {
             "fillmode": "overlay",
             "size": 10,
             "solidity": 0.2
            },
            "type": "scatter"
           }
          ],
          "scatter3d": [
           {
            "line": {
             "colorbar": {
              "outlinewidth": 0,
              "ticks": ""
             }
            },
            "marker": {
             "colorbar": {
              "outlinewidth": 0,
              "ticks": ""
             }
            },
            "type": "scatter3d"
           }
          ],
          "scattercarpet": [
           {
            "marker": {
             "colorbar": {
              "outlinewidth": 0,
              "ticks": ""
             }
            },
            "type": "scattercarpet"
           }
          ],
          "scattergeo": [
           {
            "marker": {
             "colorbar": {
              "outlinewidth": 0,
              "ticks": ""
             }
            },
            "type": "scattergeo"
           }
          ],
          "scattergl": [
           {
            "marker": {
             "colorbar": {
              "outlinewidth": 0,
              "ticks": ""
             }
            },
            "type": "scattergl"
           }
          ],
          "scattermap": [
           {
            "marker": {
             "colorbar": {
              "outlinewidth": 0,
              "ticks": ""
             }
            },
            "type": "scattermap"
           }
          ],
          "scattermapbox": [
           {
            "marker": {
             "colorbar": {
              "outlinewidth": 0,
              "ticks": ""
             }
            },
            "type": "scattermapbox"
           }
          ],
          "scatterpolar": [
           {
            "marker": {
             "colorbar": {
              "outlinewidth": 0,
              "ticks": ""
             }
            },
            "type": "scatterpolar"
           }
          ],
          "scatterpolargl": [
           {
            "marker": {
             "colorbar": {
              "outlinewidth": 0,
              "ticks": ""
             }
            },
            "type": "scatterpolargl"
           }
          ],
          "scatterternary": [
           {
            "marker": {
             "colorbar": {
              "outlinewidth": 0,
              "ticks": ""
             }
            },
            "type": "scatterternary"
           }
          ],
          "surface": [
           {
            "colorbar": {
             "outlinewidth": 0,
             "ticks": ""
            },
            "colorscale": [
             [
              0,
              "#0d0887"
             ],
             [
              0.1111111111111111,
              "#46039f"
             ],
             [
              0.2222222222222222,
              "#7201a8"
             ],
             [
              0.3333333333333333,
              "#9c179e"
             ],
             [
              0.4444444444444444,
              "#bd3786"
             ],
             [
              0.5555555555555556,
              "#d8576b"
             ],
             [
              0.6666666666666666,
              "#ed7953"
             ],
             [
              0.7777777777777778,
              "#fb9f3a"
             ],
             [
              0.8888888888888888,
              "#fdca26"
             ],
             [
              1,
              "#f0f921"
             ]
            ],
            "type": "surface"
           }
          ],
          "table": [
           {
            "cells": {
             "fill": {
              "color": "#EBF0F8"
             },
             "line": {
              "color": "white"
             }
            },
            "header": {
             "fill": {
              "color": "#C8D4E3"
             },
             "line": {
              "color": "white"
             }
            },
            "type": "table"
           }
          ]
         },
         "layout": {
          "annotationdefaults": {
           "arrowcolor": "#2a3f5f",
           "arrowhead": 0,
           "arrowwidth": 1
          },
          "autotypenumbers": "strict",
          "coloraxis": {
           "colorbar": {
            "outlinewidth": 0,
            "ticks": ""
           }
          },
          "colorscale": {
           "diverging": [
            [
             0,
             "#8e0152"
            ],
            [
             0.1,
             "#c51b7d"
            ],
            [
             0.2,
             "#de77ae"
            ],
            [
             0.3,
             "#f1b6da"
            ],
            [
             0.4,
             "#fde0ef"
            ],
            [
             0.5,
             "#f7f7f7"
            ],
            [
             0.6,
             "#e6f5d0"
            ],
            [
             0.7,
             "#b8e186"
            ],
            [
             0.8,
             "#7fbc41"
            ],
            [
             0.9,
             "#4d9221"
            ],
            [
             1,
             "#276419"
            ]
           ],
           "sequential": [
            [
             0,
             "#0d0887"
            ],
            [
             0.1111111111111111,
             "#46039f"
            ],
            [
             0.2222222222222222,
             "#7201a8"
            ],
            [
             0.3333333333333333,
             "#9c179e"
            ],
            [
             0.4444444444444444,
             "#bd3786"
            ],
            [
             0.5555555555555556,
             "#d8576b"
            ],
            [
             0.6666666666666666,
             "#ed7953"
            ],
            [
             0.7777777777777778,
             "#fb9f3a"
            ],
            [
             0.8888888888888888,
             "#fdca26"
            ],
            [
             1,
             "#f0f921"
            ]
           ],
           "sequentialminus": [
            [
             0,
             "#0d0887"
            ],
            [
             0.1111111111111111,
             "#46039f"
            ],
            [
             0.2222222222222222,
             "#7201a8"
            ],
            [
             0.3333333333333333,
             "#9c179e"
            ],
            [
             0.4444444444444444,
             "#bd3786"
            ],
            [
             0.5555555555555556,
             "#d8576b"
            ],
            [
             0.6666666666666666,
             "#ed7953"
            ],
            [
             0.7777777777777778,
             "#fb9f3a"
            ],
            [
             0.8888888888888888,
             "#fdca26"
            ],
            [
             1,
             "#f0f921"
            ]
           ]
          },
          "colorway": [
           "#636efa",
           "#EF553B",
           "#00cc96",
           "#ab63fa",
           "#FFA15A",
           "#19d3f3",
           "#FF6692",
           "#B6E880",
           "#FF97FF",
           "#FECB52"
          ],
          "font": {
           "color": "#2a3f5f"
          },
          "geo": {
           "bgcolor": "white",
           "lakecolor": "white",
           "landcolor": "#E5ECF6",
           "showlakes": true,
           "showland": true,
           "subunitcolor": "white"
          },
          "hoverlabel": {
           "align": "left"
          },
          "hovermode": "closest",
          "mapbox": {
           "style": "light"
          },
          "paper_bgcolor": "white",
          "plot_bgcolor": "#E5ECF6",
          "polar": {
           "angularaxis": {
            "gridcolor": "white",
            "linecolor": "white",
            "ticks": ""
           },
           "bgcolor": "#E5ECF6",
           "radialaxis": {
            "gridcolor": "white",
            "linecolor": "white",
            "ticks": ""
           }
          },
          "scene": {
           "xaxis": {
            "backgroundcolor": "#E5ECF6",
            "gridcolor": "white",
            "gridwidth": 2,
            "linecolor": "white",
            "showbackground": true,
            "ticks": "",
            "zerolinecolor": "white"
           },
           "yaxis": {
            "backgroundcolor": "#E5ECF6",
            "gridcolor": "white",
            "gridwidth": 2,
            "linecolor": "white",
            "showbackground": true,
            "ticks": "",
            "zerolinecolor": "white"
           },
           "zaxis": {
            "backgroundcolor": "#E5ECF6",
            "gridcolor": "white",
            "gridwidth": 2,
            "linecolor": "white",
            "showbackground": true,
            "ticks": "",
            "zerolinecolor": "white"
           }
          },
          "shapedefaults": {
           "line": {
            "color": "#2a3f5f"
           }
          },
          "ternary": {
           "aaxis": {
            "gridcolor": "white",
            "linecolor": "white",
            "ticks": ""
           },
           "baxis": {
            "gridcolor": "white",
            "linecolor": "white",
            "ticks": ""
           },
           "bgcolor": "#E5ECF6",
           "caxis": {
            "gridcolor": "white",
            "linecolor": "white",
            "ticks": ""
           }
          },
          "title": {
           "x": 0.05
          },
          "xaxis": {
           "automargin": true,
           "gridcolor": "white",
           "linecolor": "white",
           "ticks": "",
           "title": {
            "standoff": 15
           },
           "zerolinecolor": "white",
           "zerolinewidth": 2
          },
          "yaxis": {
           "automargin": true,
           "gridcolor": "white",
           "linecolor": "white",
           "ticks": "",
           "title": {
            "standoff": 15
           },
           "zerolinecolor": "white",
           "zerolinewidth": 2
          }
         }
        },
        "title": {
         "text": "Total Economic Activities per Sector by Region (Stacked)"
        },
        "width": 1000,
        "xaxis": {
         "anchor": "y",
         "domain": [
          0,
          1
         ],
         "title": {
          "text": "description"
         }
        },
        "yaxis": {
         "anchor": "x",
         "domain": [
          0,
          1
         ],
         "title": {
          "text": "Number of Economic Activities"
         }
        }
       }
      }
     },
     "metadata": {},
     "output_type": "display_data"
    }
   ],
   "source": [
    "fig = px.bar(\n",
    "    df,\n",
    "    x='description',          \n",
    "    y='company_count',\n",
    "    color='region',             \n",
    "    barmode='stack',         \n",
    "    labels={\n",
    "        'nace_section': 'NACE Section',\n",
    "        'company_count': 'Number of Economic Activities',\n",
    "        'region': 'Region'\n",
    "    },\n",
    "    title='Total Economic Activities per Sector by Region (Stacked)',\n",
    "    category_orders={\n",
    "        'region': ['Flanders', 'Wallonia', 'Brussels']\n",
    "    },\n",
    "    width=1000,\n",
    "    height=600\n",
    ")\n",
    "\n",
    "fig.show()\n"
   ]
  },
  {
   "cell_type": "code",
   "execution_count": 117,
   "id": "2ffa3df9",
   "metadata": {},
   "outputs": [
    {
     "name": "stdout",
     "output_type": "stream",
     "text": [
      "                     region  \\\n",
      "0   Brussels Capital Region   \n",
      "1   Brussels Capital Region   \n",
      "2   Brussels Capital Region   \n",
      "3   Brussels Capital Region   \n",
      "4   Brussels Capital Region   \n",
      "5            Flemish Region   \n",
      "6            Flemish Region   \n",
      "7            Flemish Region   \n",
      "8            Flemish Region   \n",
      "9            Flemish Region   \n",
      "10           Walloon Region   \n",
      "11           Walloon Region   \n",
      "12           Walloon Region   \n",
      "13           Walloon Region   \n",
      "14           Walloon Region   \n",
      "\n",
      "                                          description  percent_share_full  \n",
      "0   Professional, scientific and technical activities               18.69  \n",
      "1                          Wholesale and retail trade               13.09  \n",
      "2       Administrative and support service activities               10.74  \n",
      "3                          Transportation and storage                6.91  \n",
      "4                       Information and communication                6.79  \n",
      "5   Professional, scientific and technical activities               14.51  \n",
      "6                          Wholesale and retail trade               14.26  \n",
      "7       Administrative and support service activities               11.42  \n",
      "8                                        Construction                8.20  \n",
      "9                                       Manufacturing                8.05  \n",
      "10                         Wholesale and retail trade               16.10  \n",
      "11  Professional, scientific and technical activities               12.83  \n",
      "12      Administrative and support service activities                9.93  \n",
      "13                                      Manufacturing                9.22  \n",
      "14                                       Construction                7.78  \n"
     ]
    }
   ],
   "source": [
    "\n",
    "df_sorted = df.sort_values(['region', 'company_count'], ascending=[True, False])\n",
    "top5_per_region = df_sorted.groupby('region').head(5).reset_index(drop=True)\n",
    "region_totals = df.groupby('region')['company_count'].sum().reset_index()\n",
    "region_totals.rename(columns={'company_count': 'region_total'}, inplace=True)\n",
    "top5_per_region = top5_per_region.merge(region_totals, on='region', how='left')\n",
    "top5_per_region['percent_share_full'] = (top5_per_region['company_count'] / top5_per_region['region_total']) * 100\n",
    "result_full = top5_per_region[['region', 'description', 'percent_share_full']].copy()\n",
    "result_full['percent_share_full'] = result_full['percent_share_full'].round(2)\n",
    "print(result_full)\n",
    "\n",
    "\n",
    "\n"
   ]
  },
  {
   "cell_type": "code",
   "execution_count": 118,
   "id": "6f867678",
   "metadata": {},
   "outputs": [
    {
     "data": {
      "application/vnd.plotly.v1+json": {
       "config": {
        "plotlyServerURL": "https://plot.ly"
       },
       "data": [
        {
         "hovertemplate": "Sector=Administrative and support service activities<br>region=%{x}<br>Percent Share=%{y}<extra></extra>",
         "legendgroup": "Administrative and support service activities",
         "marker": {
          "color": "rgb(190,186,218)",
          "pattern": {
           "shape": ""
          }
         },
         "name": "Administrative and support service activities",
         "orientation": "v",
         "showlegend": true,
         "textfont": {
          "size": 11
         },
         "textposition": "auto",
         "texttemplate": "%{y:.1f}",
         "type": "bar",
         "x": [
          "Brussels Capital Region",
          "Flemish Region",
          "Walloon Region"
         ],
         "xaxis": "x",
         "y": {
          "bdata": "iTEc8np6JUDFQoQzPdcmQC5hVofw2SNA",
          "dtype": "f8"
         },
         "yaxis": "y"
        },
        {
         "hovertemplate": "Sector=Arts, entertainment and recreation<br>region=%{x}<br>Percent Share=%{y}<extra></extra>",
         "legendgroup": "Arts, entertainment and recreation",
         "marker": {
          "color": "rgb(188,128,189)",
          "pattern": {
           "shape": ""
          }
         },
         "name": "Arts, entertainment and recreation",
         "orientation": "v",
         "showlegend": true,
         "textfont": {
          "size": 11
         },
         "textposition": "auto",
         "texttemplate": "%{y:.1f}",
         "type": "bar",
         "x": [
          "Brussels Capital Region",
          "Flemish Region",
          "Walloon Region"
         ],
         "xaxis": "x",
         "y": {
          "bdata": "/9jMqWErFEDsrUiySXQRQPzLTt7cmxNA",
          "dtype": "f8"
         },
         "yaxis": "y"
        },
        {
         "hovertemplate": "Sector=Construction<br>region=%{x}<br>Percent Share=%{y}<extra></extra>",
         "legendgroup": "Construction",
         "marker": {
          "color": "rgb(128,177,211)",
          "pattern": {
           "shape": ""
          }
         },
         "name": "Construction",
         "orientation": "v",
         "showlegend": true,
         "textfont": {
          "size": 11
         },
         "textposition": "auto",
         "texttemplate": "%{y:.1f}",
         "type": "bar",
         "x": [
          "Brussels Capital Region",
          "Flemish Region",
          "Walloon Region"
         ],
         "xaxis": "x",
         "y": {
          "bdata": "HQDdJsBaGUAjmDHAwGcgQMdUiSmeIB9A",
          "dtype": "f8"
         },
         "yaxis": "y"
        },
        {
         "hovertemplate": "Sector=Education<br>region=%{x}<br>Percent Share=%{y}<extra></extra>",
         "legendgroup": "Education",
         "marker": {
          "color": "rgb(255,237,111)",
          "pattern": {
           "shape": ""
          }
         },
         "name": "Education",
         "orientation": "v",
         "showlegend": true,
         "textfont": {
          "size": 11
         },
         "textposition": "auto",
         "texttemplate": "%{y:.1f}",
         "type": "bar",
         "x": [
          "Brussels Capital Region",
          "Flemish Region",
          "Walloon Region"
         ],
         "xaxis": "x",
         "y": {
          "bdata": "w8ZDDS4yD0DqdQSNKyAQQJYd1aBG6RJA",
          "dtype": "f8"
         },
         "yaxis": "y"
        },
        {
         "hovertemplate": "Sector=Human health and social work activities<br>region=%{x}<br>Percent Share=%{y}<extra></extra>",
         "legendgroup": "Human health and social work activities",
         "marker": {
          "color": "rgb(217,217,217)",
          "pattern": {
           "shape": ""
          }
         },
         "name": "Human health and social work activities",
         "orientation": "v",
         "showlegend": true,
         "textfont": {
          "size": 11
         },
         "textposition": "auto",
         "texttemplate": "%{y:.1f}",
         "type": "bar",
         "x": [
          "Brussels Capital Region",
          "Flemish Region",
          "Walloon Region"
         ],
         "xaxis": "x",
         "y": {
          "bdata": "Esm9aHRBEUCwlb0iz5MRQH5M2cDTcxhA",
          "dtype": "f8"
         },
         "yaxis": "y"
        },
        {
         "hovertemplate": "Sector=Information and communication<br>region=%{x}<br>Percent Share=%{y}<extra></extra>",
         "legendgroup": "Information and communication",
         "marker": {
          "color": "rgb(252,205,229)",
          "pattern": {
           "shape": ""
          }
         },
         "name": "Information and communication",
         "orientation": "v",
         "showlegend": true,
         "textfont": {
          "size": 11
         },
         "textposition": "auto",
         "texttemplate": "%{y:.1f}",
         "type": "bar",
         "x": [
          "Brussels Capital Region",
          "Flemish Region",
          "Walloon Region"
         ],
         "xaxis": "x",
         "y": {
          "bdata": "PldrT78sG0BKozxAZBAVQBUsMkVeoRBA",
          "dtype": "f8"
         },
         "yaxis": "y"
        },
        {
         "hovertemplate": "Sector=Manufacturing<br>region=%{x}<br>Percent Share=%{y}<extra></extra>",
         "legendgroup": "Manufacturing",
         "marker": {
          "color": "rgb(251,128,114)",
          "pattern": {
           "shape": ""
          }
         },
         "name": "Manufacturing",
         "orientation": "v",
         "showlegend": true,
         "textfont": {
          "size": 11
         },
         "textposition": "auto",
         "texttemplate": "%{y:.1f}",
         "type": "bar",
         "x": [
          "Brussels Capital Region",
          "Flemish Region",
          "Walloon Region"
         ],
         "xaxis": "x",
         "y": {
          "bdata": "d2vpmGQiE0Beal042xkgQGzcbsg6byJA",
          "dtype": "f8"
         },
         "yaxis": "y"
        },
        {
         "hovertemplate": "Sector=Other<br>region=%{x}<br>Percent Share=%{y}<extra></extra>",
         "legendgroup": "Other",
         "marker": {
          "color": "#cccccc",
          "pattern": {
           "shape": ""
          }
         },
         "name": "Other",
         "orientation": "v",
         "showlegend": true,
         "textfont": {
          "size": 11
         },
         "textposition": "auto",
         "texttemplate": "%{y:.1f}",
         "type": "bar",
         "x": [
          "Brussels Capital Region",
          "Flemish Region",
          "Walloon Region"
         ],
         "xaxis": "x",
         "y": {
          "bdata": "9p8qhwFlIkDRXpdUqu0hQOuK3GOuwx5A",
          "dtype": "f8"
         },
         "yaxis": "y"
        },
        {
         "hovertemplate": "Sector=Other service activities<br>region=%{x}<br>Percent Share=%{y}<extra></extra>",
         "legendgroup": "Other service activities",
         "marker": {
          "color": "rgb(179,222,105)",
          "pattern": {
           "shape": ""
          }
         },
         "name": "Other service activities",
         "orientation": "v",
         "showlegend": true,
         "textfont": {
          "size": 11
         },
         "textposition": "auto",
         "texttemplate": "%{y:.1f}",
         "type": "bar",
         "x": [
          "Brussels Capital Region",
          "Flemish Region",
          "Walloon Region"
         ],
         "xaxis": "x",
         "y": {
          "bdata": "ofC9cgqPFUDuL15DAbcXQMs8kOWPYhlA",
          "dtype": "f8"
         },
         "yaxis": "y"
        },
        {
         "hovertemplate": "Sector=Professional, scientific and technical activities<br>region=%{x}<br>Percent Share=%{y}<extra></extra>",
         "legendgroup": "Professional, scientific and technical activities",
         "marker": {
          "color": "rgb(141,211,199)",
          "pattern": {
           "shape": ""
          }
         },
         "name": "Professional, scientific and technical activities",
         "orientation": "v",
         "showlegend": true,
         "textfont": {
          "size": 11
         },
         "textposition": "auto",
         "texttemplate": "%{y:.1f}",
         "type": "bar",
         "x": [
          "Brussels Capital Region",
          "Flemish Region",
          "Walloon Region"
         ],
         "xaxis": "x",
         "y": {
          "bdata": "uMOeGtKxMkBKOyNcBgQtQEra1BC2qilA",
          "dtype": "f8"
         },
         "yaxis": "y"
        },
        {
         "hovertemplate": "Sector=Real estate activities<br>region=%{x}<br>Percent Share=%{y}<extra></extra>",
         "legendgroup": "Real estate activities",
         "marker": {
          "color": "rgb(204,235,197)",
          "pattern": {
           "shape": ""
          }
         },
         "name": "Real estate activities",
         "orientation": "v",
         "showlegend": true,
         "textfont": {
          "size": 11
         },
         "textposition": "auto",
         "texttemplate": "%{y:.1f}",
         "type": "bar",
         "x": [
          "Brussels Capital Region",
          "Flemish Region",
          "Walloon Region"
         ],
         "xaxis": "x",
         "y": {
          "bdata": "mK7/9Xw+E0AjHqokyOYSQEFmOzBhDA5A",
          "dtype": "f8"
         },
         "yaxis": "y"
        },
        {
         "hovertemplate": "Sector=Transportation and storage<br>region=%{x}<br>Percent Share=%{y}<extra></extra>",
         "legendgroup": "Transportation and storage",
         "marker": {
          "color": "rgb(253,180,98)",
          "pattern": {
           "shape": ""
          }
         },
         "name": "Transportation and storage",
         "orientation": "v",
         "showlegend": true,
         "textfont": {
          "size": 11
         },
         "textposition": "auto",
         "texttemplate": "%{y:.1f}",
         "type": "bar",
         "x": [
          "Brussels Capital Region",
          "Flemish Region",
          "Walloon Region"
         ],
         "xaxis": "x",
         "y": {
          "bdata": "XbFVjEekG0B4cGUDYowXQHtGVlnbyhlA",
          "dtype": "f8"
         },
         "yaxis": "y"
        },
        {
         "hovertemplate": "Sector=Wholesale and retail trade<br>region=%{x}<br>Percent Share=%{y}<extra></extra>",
         "legendgroup": "Wholesale and retail trade",
         "marker": {
          "color": "rgb(255,255,179)",
          "pattern": {
           "shape": ""
          }
         },
         "name": "Wholesale and retail trade",
         "orientation": "v",
         "showlegend": true,
         "textfont": {
          "size": 11
         },
         "textposition": "auto",
         "texttemplate": "%{y:.1f}",
         "type": "bar",
         "x": [
          "Brussels Capital Region",
          "Flemish Region",
          "Walloon Region"
         ],
         "xaxis": "x",
         "y": {
          "bdata": "o9rCQg8sKkD0klccDIQsQP6VTNV/GTBA",
          "dtype": "f8"
         },
         "yaxis": "y"
        }
       ],
       "layout": {
        "barmode": "stack",
        "height": 600,
        "legend": {
         "title": {
          "text": "Sector"
         },
         "tracegroupgap": 0
        },
        "template": {
         "data": {
          "bar": [
           {
            "error_x": {
             "color": "#2a3f5f"
            },
            "error_y": {
             "color": "#2a3f5f"
            },
            "marker": {
             "line": {
              "color": "#E5ECF6",
              "width": 0.5
             },
             "pattern": {
              "fillmode": "overlay",
              "size": 10,
              "solidity": 0.2
             }
            },
            "type": "bar"
           }
          ],
          "barpolar": [
           {
            "marker": {
             "line": {
              "color": "#E5ECF6",
              "width": 0.5
             },
             "pattern": {
              "fillmode": "overlay",
              "size": 10,
              "solidity": 0.2
             }
            },
            "type": "barpolar"
           }
          ],
          "carpet": [
           {
            "aaxis": {
             "endlinecolor": "#2a3f5f",
             "gridcolor": "white",
             "linecolor": "white",
             "minorgridcolor": "white",
             "startlinecolor": "#2a3f5f"
            },
            "baxis": {
             "endlinecolor": "#2a3f5f",
             "gridcolor": "white",
             "linecolor": "white",
             "minorgridcolor": "white",
             "startlinecolor": "#2a3f5f"
            },
            "type": "carpet"
           }
          ],
          "choropleth": [
           {
            "colorbar": {
             "outlinewidth": 0,
             "ticks": ""
            },
            "type": "choropleth"
           }
          ],
          "contour": [
           {
            "colorbar": {
             "outlinewidth": 0,
             "ticks": ""
            },
            "colorscale": [
             [
              0,
              "#0d0887"
             ],
             [
              0.1111111111111111,
              "#46039f"
             ],
             [
              0.2222222222222222,
              "#7201a8"
             ],
             [
              0.3333333333333333,
              "#9c179e"
             ],
             [
              0.4444444444444444,
              "#bd3786"
             ],
             [
              0.5555555555555556,
              "#d8576b"
             ],
             [
              0.6666666666666666,
              "#ed7953"
             ],
             [
              0.7777777777777778,
              "#fb9f3a"
             ],
             [
              0.8888888888888888,
              "#fdca26"
             ],
             [
              1,
              "#f0f921"
             ]
            ],
            "type": "contour"
           }
          ],
          "contourcarpet": [
           {
            "colorbar": {
             "outlinewidth": 0,
             "ticks": ""
            },
            "type": "contourcarpet"
           }
          ],
          "heatmap": [
           {
            "colorbar": {
             "outlinewidth": 0,
             "ticks": ""
            },
            "colorscale": [
             [
              0,
              "#0d0887"
             ],
             [
              0.1111111111111111,
              "#46039f"
             ],
             [
              0.2222222222222222,
              "#7201a8"
             ],
             [
              0.3333333333333333,
              "#9c179e"
             ],
             [
              0.4444444444444444,
              "#bd3786"
             ],
             [
              0.5555555555555556,
              "#d8576b"
             ],
             [
              0.6666666666666666,
              "#ed7953"
             ],
             [
              0.7777777777777778,
              "#fb9f3a"
             ],
             [
              0.8888888888888888,
              "#fdca26"
             ],
             [
              1,
              "#f0f921"
             ]
            ],
            "type": "heatmap"
           }
          ],
          "histogram": [
           {
            "marker": {
             "pattern": {
              "fillmode": "overlay",
              "size": 10,
              "solidity": 0.2
             }
            },
            "type": "histogram"
           }
          ],
          "histogram2d": [
           {
            "colorbar": {
             "outlinewidth": 0,
             "ticks": ""
            },
            "colorscale": [
             [
              0,
              "#0d0887"
             ],
             [
              0.1111111111111111,
              "#46039f"
             ],
             [
              0.2222222222222222,
              "#7201a8"
             ],
             [
              0.3333333333333333,
              "#9c179e"
             ],
             [
              0.4444444444444444,
              "#bd3786"
             ],
             [
              0.5555555555555556,
              "#d8576b"
             ],
             [
              0.6666666666666666,
              "#ed7953"
             ],
             [
              0.7777777777777778,
              "#fb9f3a"
             ],
             [
              0.8888888888888888,
              "#fdca26"
             ],
             [
              1,
              "#f0f921"
             ]
            ],
            "type": "histogram2d"
           }
          ],
          "histogram2dcontour": [
           {
            "colorbar": {
             "outlinewidth": 0,
             "ticks": ""
            },
            "colorscale": [
             [
              0,
              "#0d0887"
             ],
             [
              0.1111111111111111,
              "#46039f"
             ],
             [
              0.2222222222222222,
              "#7201a8"
             ],
             [
              0.3333333333333333,
              "#9c179e"
             ],
             [
              0.4444444444444444,
              "#bd3786"
             ],
             [
              0.5555555555555556,
              "#d8576b"
             ],
             [
              0.6666666666666666,
              "#ed7953"
             ],
             [
              0.7777777777777778,
              "#fb9f3a"
             ],
             [
              0.8888888888888888,
              "#fdca26"
             ],
             [
              1,
              "#f0f921"
             ]
            ],
            "type": "histogram2dcontour"
           }
          ],
          "mesh3d": [
           {
            "colorbar": {
             "outlinewidth": 0,
             "ticks": ""
            },
            "type": "mesh3d"
           }
          ],
          "parcoords": [
           {
            "line": {
             "colorbar": {
              "outlinewidth": 0,
              "ticks": ""
             }
            },
            "type": "parcoords"
           }
          ],
          "pie": [
           {
            "automargin": true,
            "type": "pie"
           }
          ],
          "scatter": [
           {
            "fillpattern": {
             "fillmode": "overlay",
             "size": 10,
             "solidity": 0.2
            },
            "type": "scatter"
           }
          ],
          "scatter3d": [
           {
            "line": {
             "colorbar": {
              "outlinewidth": 0,
              "ticks": ""
             }
            },
            "marker": {
             "colorbar": {
              "outlinewidth": 0,
              "ticks": ""
             }
            },
            "type": "scatter3d"
           }
          ],
          "scattercarpet": [
           {
            "marker": {
             "colorbar": {
              "outlinewidth": 0,
              "ticks": ""
             }
            },
            "type": "scattercarpet"
           }
          ],
          "scattergeo": [
           {
            "marker": {
             "colorbar": {
              "outlinewidth": 0,
              "ticks": ""
             }
            },
            "type": "scattergeo"
           }
          ],
          "scattergl": [
           {
            "marker": {
             "colorbar": {
              "outlinewidth": 0,
              "ticks": ""
             }
            },
            "type": "scattergl"
           }
          ],
          "scattermap": [
           {
            "marker": {
             "colorbar": {
              "outlinewidth": 0,
              "ticks": ""
             }
            },
            "type": "scattermap"
           }
          ],
          "scattermapbox": [
           {
            "marker": {
             "colorbar": {
              "outlinewidth": 0,
              "ticks": ""
             }
            },
            "type": "scattermapbox"
           }
          ],
          "scatterpolar": [
           {
            "marker": {
             "colorbar": {
              "outlinewidth": 0,
              "ticks": ""
             }
            },
            "type": "scatterpolar"
           }
          ],
          "scatterpolargl": [
           {
            "marker": {
             "colorbar": {
              "outlinewidth": 0,
              "ticks": ""
             }
            },
            "type": "scatterpolargl"
           }
          ],
          "scatterternary": [
           {
            "marker": {
             "colorbar": {
              "outlinewidth": 0,
              "ticks": ""
             }
            },
            "type": "scatterternary"
           }
          ],
          "surface": [
           {
            "colorbar": {
             "outlinewidth": 0,
             "ticks": ""
            },
            "colorscale": [
             [
              0,
              "#0d0887"
             ],
             [
              0.1111111111111111,
              "#46039f"
             ],
             [
              0.2222222222222222,
              "#7201a8"
             ],
             [
              0.3333333333333333,
              "#9c179e"
             ],
             [
              0.4444444444444444,
              "#bd3786"
             ],
             [
              0.5555555555555556,
              "#d8576b"
             ],
             [
              0.6666666666666666,
              "#ed7953"
             ],
             [
              0.7777777777777778,
              "#fb9f3a"
             ],
             [
              0.8888888888888888,
              "#fdca26"
             ],
             [
              1,
              "#f0f921"
             ]
            ],
            "type": "surface"
           }
          ],
          "table": [
           {
            "cells": {
             "fill": {
              "color": "#EBF0F8"
             },
             "line": {
              "color": "white"
             }
            },
            "header": {
             "fill": {
              "color": "#C8D4E3"
             },
             "line": {
              "color": "white"
             }
            },
            "type": "table"
           }
          ]
         },
         "layout": {
          "annotationdefaults": {
           "arrowcolor": "#2a3f5f",
           "arrowhead": 0,
           "arrowwidth": 1
          },
          "autotypenumbers": "strict",
          "coloraxis": {
           "colorbar": {
            "outlinewidth": 0,
            "ticks": ""
           }
          },
          "colorscale": {
           "diverging": [
            [
             0,
             "#8e0152"
            ],
            [
             0.1,
             "#c51b7d"
            ],
            [
             0.2,
             "#de77ae"
            ],
            [
             0.3,
             "#f1b6da"
            ],
            [
             0.4,
             "#fde0ef"
            ],
            [
             0.5,
             "#f7f7f7"
            ],
            [
             0.6,
             "#e6f5d0"
            ],
            [
             0.7,
             "#b8e186"
            ],
            [
             0.8,
             "#7fbc41"
            ],
            [
             0.9,
             "#4d9221"
            ],
            [
             1,
             "#276419"
            ]
           ],
           "sequential": [
            [
             0,
             "#0d0887"
            ],
            [
             0.1111111111111111,
             "#46039f"
            ],
            [
             0.2222222222222222,
             "#7201a8"
            ],
            [
             0.3333333333333333,
             "#9c179e"
            ],
            [
             0.4444444444444444,
             "#bd3786"
            ],
            [
             0.5555555555555556,
             "#d8576b"
            ],
            [
             0.6666666666666666,
             "#ed7953"
            ],
            [
             0.7777777777777778,
             "#fb9f3a"
            ],
            [
             0.8888888888888888,
             "#fdca26"
            ],
            [
             1,
             "#f0f921"
            ]
           ],
           "sequentialminus": [
            [
             0,
             "#0d0887"
            ],
            [
             0.1111111111111111,
             "#46039f"
            ],
            [
             0.2222222222222222,
             "#7201a8"
            ],
            [
             0.3333333333333333,
             "#9c179e"
            ],
            [
             0.4444444444444444,
             "#bd3786"
            ],
            [
             0.5555555555555556,
             "#d8576b"
            ],
            [
             0.6666666666666666,
             "#ed7953"
            ],
            [
             0.7777777777777778,
             "#fb9f3a"
            ],
            [
             0.8888888888888888,
             "#fdca26"
            ],
            [
             1,
             "#f0f921"
            ]
           ]
          },
          "colorway": [
           "#636efa",
           "#EF553B",
           "#00cc96",
           "#ab63fa",
           "#FFA15A",
           "#19d3f3",
           "#FF6692",
           "#B6E880",
           "#FF97FF",
           "#FECB52"
          ],
          "font": {
           "color": "#2a3f5f"
          },
          "geo": {
           "bgcolor": "white",
           "lakecolor": "white",
           "landcolor": "#E5ECF6",
           "showlakes": true,
           "showland": true,
           "subunitcolor": "white"
          },
          "hoverlabel": {
           "align": "left"
          },
          "hovermode": "closest",
          "mapbox": {
           "style": "light"
          },
          "paper_bgcolor": "white",
          "plot_bgcolor": "#E5ECF6",
          "polar": {
           "angularaxis": {
            "gridcolor": "white",
            "linecolor": "white",
            "ticks": ""
           },
           "bgcolor": "#E5ECF6",
           "radialaxis": {
            "gridcolor": "white",
            "linecolor": "white",
            "ticks": ""
           }
          },
          "scene": {
           "xaxis": {
            "backgroundcolor": "#E5ECF6",
            "gridcolor": "white",
            "gridwidth": 2,
            "linecolor": "white",
            "showbackground": true,
            "ticks": "",
            "zerolinecolor": "white"
           },
           "yaxis": {
            "backgroundcolor": "#E5ECF6",
            "gridcolor": "white",
            "gridwidth": 2,
            "linecolor": "white",
            "showbackground": true,
            "ticks": "",
            "zerolinecolor": "white"
           },
           "zaxis": {
            "backgroundcolor": "#E5ECF6",
            "gridcolor": "white",
            "gridwidth": 2,
            "linecolor": "white",
            "showbackground": true,
            "ticks": "",
            "zerolinecolor": "white"
           }
          },
          "shapedefaults": {
           "line": {
            "color": "#2a3f5f"
           }
          },
          "ternary": {
           "aaxis": {
            "gridcolor": "white",
            "linecolor": "white",
            "ticks": ""
           },
           "baxis": {
            "gridcolor": "white",
            "linecolor": "white",
            "ticks": ""
           },
           "bgcolor": "#E5ECF6",
           "caxis": {
            "gridcolor": "white",
            "linecolor": "white",
            "ticks": ""
           }
          },
          "title": {
           "x": 0.05
          },
          "xaxis": {
           "automargin": true,
           "gridcolor": "white",
           "linecolor": "white",
           "ticks": "",
           "title": {
            "standoff": 15
           },
           "zerolinecolor": "white",
           "zerolinewidth": 2
          },
          "yaxis": {
           "automargin": true,
           "gridcolor": "white",
           "linecolor": "white",
           "ticks": "",
           "title": {
            "standoff": 15
           },
           "zerolinecolor": "white",
           "zerolinewidth": 2
          }
         }
        },
        "title": {
         "text": "Sector Share by Region (Relative %)",
         "x": 0.25
        },
        "xaxis": {
         "anchor": "y",
         "domain": [
          0,
          1
         ],
         "title": {
          "text": "region"
         }
        },
        "yaxis": {
         "anchor": "x",
         "domain": [
          0,
          1
         ],
         "ticksuffix": "%",
         "title": {
          "text": "Percent Share"
         }
        }
       }
      }
     },
     "metadata": {},
     "output_type": "display_data"
    }
   ],
   "source": [
    "df_percent = df.groupby(['region', 'description'])['company_count'].sum().reset_index()\n",
    "\n",
    "df_percent['percent'] = df_percent.groupby('region')['company_count'].transform(\n",
    "    lambda x: 100 * x / x.sum()\n",
    ")\n",
    "\n",
    "top_sectors = df.groupby('description')['company_count'].sum().nlargest(12).index\n",
    "df_percent['description'] = df_percent['description'].apply(\n",
    "    lambda x: x if x in top_sectors else 'Other'\n",
    ")\n",
    "\n",
    "df_percent_grouped = df_percent.groupby(['region', 'description'])['percent'].sum().reset_index()\n",
    "\n",
    "\n",
    "colors = px.colors.qualitative.Set3\n",
    "while len(colors) < len(top_sectors) + 1:\n",
    "    colors += colors\n",
    "sector_labels = list(top_sectors) + ['Other']\n",
    "color_map = {sector: color for sector, color in zip(sector_labels, colors)}\n",
    "color_map['Other'] = '#cccccc'\n",
    "\n",
    "fig = px.bar(\n",
    "    df_percent_grouped,\n",
    "    x='region',\n",
    "    y='percent',\n",
    "    color='description',\n",
    "    title='Sector Share by Region (Relative %)',\n",
    "    labels={'percent': 'Percent Share', 'description': 'Sector'},\n",
    "    text_auto='.1f',\n",
    "    color_discrete_map=color_map\n",
    ")\n",
    "\n",
    "fig.update_layout(\n",
    "    barmode='stack',\n",
    "    title_x=0.25,\n",
    "    yaxis=dict(ticksuffix=\"%\"),\n",
    "    height=600\n",
    ")\n",
    "\n",
    "fig.update_traces(textfont_size=11)\n",
    "fig.show()\n",
    "\n"
   ]
  },
  {
   "cell_type": "code",
   "execution_count": 119,
   "id": "f61bd022",
   "metadata": {},
   "outputs": [
    {
     "data": {
      "application/vnd.plotly.v1+json": {
       "config": {
        "plotlyServerURL": "https://plot.ly"
       },
       "data": [
        {
         "customdata": [
          [
           "Accommodation and food service activities"
          ],
          [
           "Administrative and support service activities"
          ],
          [
           "Arts, entertainment and recreation"
          ],
          [
           "Construction"
          ],
          [
           "Information and communication"
          ],
          [
           "Other"
          ],
          [
           "Other service activities"
          ],
          [
           "Professional, scientific and technical activities"
          ],
          [
           "Real estate activities"
          ],
          [
           "Transportation and storage"
          ],
          [
           "Wholesale and retail trade"
          ]
         ],
         "domain": {
          "x": [
           0,
           1
          ],
          "y": [
           0,
           1
          ]
         },
         "hovertemplate": "description=%{customdata[0]}<br>company_count=%{value}<extra></extra>",
         "labels": [
          "Accommodation and food service activities",
          "Administrative and support service activities",
          "Arts, entertainment and recreation",
          "Construction",
          "Information and communication",
          "Other",
          "Other service activities",
          "Professional, scientific and technical activities",
          "Real estate activities",
          "Transportation and storage",
          "Wholesale and retail trade"
         ],
         "legendgroup": "",
         "marker": {
          "colors": [
           "rgb(102,194,165)",
           "rgb(141,160,203)",
           "rgb(166,216,84)",
           "rgb(255,217,47)",
           "rgb(231,138,195)",
           "#cccccc",
           "rgb(255,217,47)",
           "rgb(229,196,148)",
           "rgb(102,194,165)",
           "rgb(252,141,98)",
           "rgb(231,138,195)"
          ]
         },
         "name": "",
         "showlegend": true,
         "type": "pie",
         "values": {
          "bdata": "/5UAAGBQAQDwnQAAisYAAMvUAAAtIQIA0agAAI5JAgCxlgAAc9gAAOKZAQA=",
          "dtype": "i4"
         }
        }
       ],
       "layout": {
        "legend": {
         "bgcolor": "rgba(0,0,0,0)",
         "borderwidth": 0,
         "font": {
          "size": 12
         },
         "tracegroupgap": 0,
         "traceorder": "normal",
         "x": 0.05,
         "y": 0.5
        },
        "template": {
         "data": {
          "bar": [
           {
            "error_x": {
             "color": "#2a3f5f"
            },
            "error_y": {
             "color": "#2a3f5f"
            },
            "marker": {
             "line": {
              "color": "#E5ECF6",
              "width": 0.5
             },
             "pattern": {
              "fillmode": "overlay",
              "size": 10,
              "solidity": 0.2
             }
            },
            "type": "bar"
           }
          ],
          "barpolar": [
           {
            "marker": {
             "line": {
              "color": "#E5ECF6",
              "width": 0.5
             },
             "pattern": {
              "fillmode": "overlay",
              "size": 10,
              "solidity": 0.2
             }
            },
            "type": "barpolar"
           }
          ],
          "carpet": [
           {
            "aaxis": {
             "endlinecolor": "#2a3f5f",
             "gridcolor": "white",
             "linecolor": "white",
             "minorgridcolor": "white",
             "startlinecolor": "#2a3f5f"
            },
            "baxis": {
             "endlinecolor": "#2a3f5f",
             "gridcolor": "white",
             "linecolor": "white",
             "minorgridcolor": "white",
             "startlinecolor": "#2a3f5f"
            },
            "type": "carpet"
           }
          ],
          "choropleth": [
           {
            "colorbar": {
             "outlinewidth": 0,
             "ticks": ""
            },
            "type": "choropleth"
           }
          ],
          "contour": [
           {
            "colorbar": {
             "outlinewidth": 0,
             "ticks": ""
            },
            "colorscale": [
             [
              0,
              "#0d0887"
             ],
             [
              0.1111111111111111,
              "#46039f"
             ],
             [
              0.2222222222222222,
              "#7201a8"
             ],
             [
              0.3333333333333333,
              "#9c179e"
             ],
             [
              0.4444444444444444,
              "#bd3786"
             ],
             [
              0.5555555555555556,
              "#d8576b"
             ],
             [
              0.6666666666666666,
              "#ed7953"
             ],
             [
              0.7777777777777778,
              "#fb9f3a"
             ],
             [
              0.8888888888888888,
              "#fdca26"
             ],
             [
              1,
              "#f0f921"
             ]
            ],
            "type": "contour"
           }
          ],
          "contourcarpet": [
           {
            "colorbar": {
             "outlinewidth": 0,
             "ticks": ""
            },
            "type": "contourcarpet"
           }
          ],
          "heatmap": [
           {
            "colorbar": {
             "outlinewidth": 0,
             "ticks": ""
            },
            "colorscale": [
             [
              0,
              "#0d0887"
             ],
             [
              0.1111111111111111,
              "#46039f"
             ],
             [
              0.2222222222222222,
              "#7201a8"
             ],
             [
              0.3333333333333333,
              "#9c179e"
             ],
             [
              0.4444444444444444,
              "#bd3786"
             ],
             [
              0.5555555555555556,
              "#d8576b"
             ],
             [
              0.6666666666666666,
              "#ed7953"
             ],
             [
              0.7777777777777778,
              "#fb9f3a"
             ],
             [
              0.8888888888888888,
              "#fdca26"
             ],
             [
              1,
              "#f0f921"
             ]
            ],
            "type": "heatmap"
           }
          ],
          "histogram": [
           {
            "marker": {
             "pattern": {
              "fillmode": "overlay",
              "size": 10,
              "solidity": 0.2
             }
            },
            "type": "histogram"
           }
          ],
          "histogram2d": [
           {
            "colorbar": {
             "outlinewidth": 0,
             "ticks": ""
            },
            "colorscale": [
             [
              0,
              "#0d0887"
             ],
             [
              0.1111111111111111,
              "#46039f"
             ],
             [
              0.2222222222222222,
              "#7201a8"
             ],
             [
              0.3333333333333333,
              "#9c179e"
             ],
             [
              0.4444444444444444,
              "#bd3786"
             ],
             [
              0.5555555555555556,
              "#d8576b"
             ],
             [
              0.6666666666666666,
              "#ed7953"
             ],
             [
              0.7777777777777778,
              "#fb9f3a"
             ],
             [
              0.8888888888888888,
              "#fdca26"
             ],
             [
              1,
              "#f0f921"
             ]
            ],
            "type": "histogram2d"
           }
          ],
          "histogram2dcontour": [
           {
            "colorbar": {
             "outlinewidth": 0,
             "ticks": ""
            },
            "colorscale": [
             [
              0,
              "#0d0887"
             ],
             [
              0.1111111111111111,
              "#46039f"
             ],
             [
              0.2222222222222222,
              "#7201a8"
             ],
             [
              0.3333333333333333,
              "#9c179e"
             ],
             [
              0.4444444444444444,
              "#bd3786"
             ],
             [
              0.5555555555555556,
              "#d8576b"
             ],
             [
              0.6666666666666666,
              "#ed7953"
             ],
             [
              0.7777777777777778,
              "#fb9f3a"
             ],
             [
              0.8888888888888888,
              "#fdca26"
             ],
             [
              1,
              "#f0f921"
             ]
            ],
            "type": "histogram2dcontour"
           }
          ],
          "mesh3d": [
           {
            "colorbar": {
             "outlinewidth": 0,
             "ticks": ""
            },
            "type": "mesh3d"
           }
          ],
          "parcoords": [
           {
            "line": {
             "colorbar": {
              "outlinewidth": 0,
              "ticks": ""
             }
            },
            "type": "parcoords"
           }
          ],
          "pie": [
           {
            "automargin": true,
            "type": "pie"
           }
          ],
          "scatter": [
           {
            "fillpattern": {
             "fillmode": "overlay",
             "size": 10,
             "solidity": 0.2
            },
            "type": "scatter"
           }
          ],
          "scatter3d": [
           {
            "line": {
             "colorbar": {
              "outlinewidth": 0,
              "ticks": ""
             }
            },
            "marker": {
             "colorbar": {
              "outlinewidth": 0,
              "ticks": ""
             }
            },
            "type": "scatter3d"
           }
          ],
          "scattercarpet": [
           {
            "marker": {
             "colorbar": {
              "outlinewidth": 0,
              "ticks": ""
             }
            },
            "type": "scattercarpet"
           }
          ],
          "scattergeo": [
           {
            "marker": {
             "colorbar": {
              "outlinewidth": 0,
              "ticks": ""
             }
            },
            "type": "scattergeo"
           }
          ],
          "scattergl": [
           {
            "marker": {
             "colorbar": {
              "outlinewidth": 0,
              "ticks": ""
             }
            },
            "type": "scattergl"
           }
          ],
          "scattermap": [
           {
            "marker": {
             "colorbar": {
              "outlinewidth": 0,
              "ticks": ""
             }
            },
            "type": "scattermap"
           }
          ],
          "scattermapbox": [
           {
            "marker": {
             "colorbar": {
              "outlinewidth": 0,
              "ticks": ""
             }
            },
            "type": "scattermapbox"
           }
          ],
          "scatterpolar": [
           {
            "marker": {
             "colorbar": {
              "outlinewidth": 0,
              "ticks": ""
             }
            },
            "type": "scatterpolar"
           }
          ],
          "scatterpolargl": [
           {
            "marker": {
             "colorbar": {
              "outlinewidth": 0,
              "ticks": ""
             }
            },
            "type": "scatterpolargl"
           }
          ],
          "scatterternary": [
           {
            "marker": {
             "colorbar": {
              "outlinewidth": 0,
              "ticks": ""
             }
            },
            "type": "scatterternary"
           }
          ],
          "surface": [
           {
            "colorbar": {
             "outlinewidth": 0,
             "ticks": ""
            },
            "colorscale": [
             [
              0,
              "#0d0887"
             ],
             [
              0.1111111111111111,
              "#46039f"
             ],
             [
              0.2222222222222222,
              "#7201a8"
             ],
             [
              0.3333333333333333,
              "#9c179e"
             ],
             [
              0.4444444444444444,
              "#bd3786"
             ],
             [
              0.5555555555555556,
              "#d8576b"
             ],
             [
              0.6666666666666666,
              "#ed7953"
             ],
             [
              0.7777777777777778,
              "#fb9f3a"
             ],
             [
              0.8888888888888888,
              "#fdca26"
             ],
             [
              1,
              "#f0f921"
             ]
            ],
            "type": "surface"
           }
          ],
          "table": [
           {
            "cells": {
             "fill": {
              "color": "#EBF0F8"
             },
             "line": {
              "color": "white"
             }
            },
            "header": {
             "fill": {
              "color": "#C8D4E3"
             },
             "line": {
              "color": "white"
             }
            },
            "type": "table"
           }
          ]
         },
         "layout": {
          "annotationdefaults": {
           "arrowcolor": "#2a3f5f",
           "arrowhead": 0,
           "arrowwidth": 1
          },
          "autotypenumbers": "strict",
          "coloraxis": {
           "colorbar": {
            "outlinewidth": 0,
            "ticks": ""
           }
          },
          "colorscale": {
           "diverging": [
            [
             0,
             "#8e0152"
            ],
            [
             0.1,
             "#c51b7d"
            ],
            [
             0.2,
             "#de77ae"
            ],
            [
             0.3,
             "#f1b6da"
            ],
            [
             0.4,
             "#fde0ef"
            ],
            [
             0.5,
             "#f7f7f7"
            ],
            [
             0.6,
             "#e6f5d0"
            ],
            [
             0.7,
             "#b8e186"
            ],
            [
             0.8,
             "#7fbc41"
            ],
            [
             0.9,
             "#4d9221"
            ],
            [
             1,
             "#276419"
            ]
           ],
           "sequential": [
            [
             0,
             "#0d0887"
            ],
            [
             0.1111111111111111,
             "#46039f"
            ],
            [
             0.2222222222222222,
             "#7201a8"
            ],
            [
             0.3333333333333333,
             "#9c179e"
            ],
            [
             0.4444444444444444,
             "#bd3786"
            ],
            [
             0.5555555555555556,
             "#d8576b"
            ],
            [
             0.6666666666666666,
             "#ed7953"
            ],
            [
             0.7777777777777778,
             "#fb9f3a"
            ],
            [
             0.8888888888888888,
             "#fdca26"
            ],
            [
             1,
             "#f0f921"
            ]
           ],
           "sequentialminus": [
            [
             0,
             "#0d0887"
            ],
            [
             0.1111111111111111,
             "#46039f"
            ],
            [
             0.2222222222222222,
             "#7201a8"
            ],
            [
             0.3333333333333333,
             "#9c179e"
            ],
            [
             0.4444444444444444,
             "#bd3786"
            ],
            [
             0.5555555555555556,
             "#d8576b"
            ],
            [
             0.6666666666666666,
             "#ed7953"
            ],
            [
             0.7777777777777778,
             "#fb9f3a"
            ],
            [
             0.8888888888888888,
             "#fdca26"
            ],
            [
             1,
             "#f0f921"
            ]
           ]
          },
          "colorway": [
           "#636efa",
           "#EF553B",
           "#00cc96",
           "#ab63fa",
           "#FFA15A",
           "#19d3f3",
           "#FF6692",
           "#B6E880",
           "#FF97FF",
           "#FECB52"
          ],
          "font": {
           "color": "#2a3f5f"
          },
          "geo": {
           "bgcolor": "white",
           "lakecolor": "white",
           "landcolor": "#E5ECF6",
           "showlakes": true,
           "showland": true,
           "subunitcolor": "white"
          },
          "hoverlabel": {
           "align": "left"
          },
          "hovermode": "closest",
          "mapbox": {
           "style": "light"
          },
          "paper_bgcolor": "white",
          "plot_bgcolor": "#E5ECF6",
          "polar": {
           "angularaxis": {
            "gridcolor": "white",
            "linecolor": "white",
            "ticks": ""
           },
           "bgcolor": "#E5ECF6",
           "radialaxis": {
            "gridcolor": "white",
            "linecolor": "white",
            "ticks": ""
           }
          },
          "scene": {
           "xaxis": {
            "backgroundcolor": "#E5ECF6",
            "gridcolor": "white",
            "gridwidth": 2,
            "linecolor": "white",
            "showbackground": true,
            "ticks": "",
            "zerolinecolor": "white"
           },
           "yaxis": {
            "backgroundcolor": "#E5ECF6",
            "gridcolor": "white",
            "gridwidth": 2,
            "linecolor": "white",
            "showbackground": true,
            "ticks": "",
            "zerolinecolor": "white"
           },
           "zaxis": {
            "backgroundcolor": "#E5ECF6",
            "gridcolor": "white",
            "gridwidth": 2,
            "linecolor": "white",
            "showbackground": true,
            "ticks": "",
            "zerolinecolor": "white"
           }
          },
          "shapedefaults": {
           "line": {
            "color": "#2a3f5f"
           }
          },
          "ternary": {
           "aaxis": {
            "gridcolor": "white",
            "linecolor": "white",
            "ticks": ""
           },
           "baxis": {
            "gridcolor": "white",
            "linecolor": "white",
            "ticks": ""
           },
           "bgcolor": "#E5ECF6",
           "caxis": {
            "gridcolor": "white",
            "linecolor": "white",
            "ticks": ""
           }
          },
          "title": {
           "x": 0.05
          },
          "xaxis": {
           "automargin": true,
           "gridcolor": "white",
           "linecolor": "white",
           "ticks": "",
           "title": {
            "standoff": 15
           },
           "zerolinecolor": "white",
           "zerolinewidth": 2
          },
          "yaxis": {
           "automargin": true,
           "gridcolor": "white",
           "linecolor": "white",
           "ticks": "",
           "title": {
            "standoff": 15
           },
           "zerolinecolor": "white",
           "zerolinewidth": 2
          }
         }
        },
        "title": {
         "text": "Sector Distribution in Brussels Capital Region (Top 10 + Other)",
         "x": 0.15
        }
       }
      }
     },
     "metadata": {},
     "output_type": "display_data"
    },
    {
     "data": {
      "application/vnd.plotly.v1+json": {
       "config": {
        "plotlyServerURL": "https://plot.ly"
       },
       "data": [
        {
         "customdata": [
          [
           "Administrative and support service activities"
          ],
          [
           "Construction"
          ],
          [
           "Financial and insurance activities"
          ],
          [
           "Information and communication"
          ],
          [
           "Manufacturing"
          ],
          [
           "Other"
          ],
          [
           "Other service activities"
          ],
          [
           "Professional, scientific and technical activities"
          ],
          [
           "Real estate activities"
          ],
          [
           "Transportation and storage"
          ],
          [
           "Wholesale and retail trade"
          ]
         ],
         "domain": {
          "x": [
           0,
           1
          ],
          "y": [
           0,
           1
          ]
         },
         "hovertemplate": "description=%{customdata[0]}<br>company_count=%{value}<extra></extra>",
         "labels": [
          "Administrative and support service activities",
          "Construction",
          "Financial and insurance activities",
          "Information and communication",
          "Manufacturing",
          "Other",
          "Other service activities",
          "Professional, scientific and technical activities",
          "Real estate activities",
          "Transportation and storage",
          "Wholesale and retail trade"
         ],
         "legendgroup": "",
         "marker": {
          "colors": [
           "rgb(141,160,203)",
           "rgb(255,217,47)",
           "rgb(252,141,98)",
           "rgb(231,138,195)",
           "rgb(166,216,84)",
           "#cccccc",
           "rgb(255,217,47)",
           "rgb(229,196,148)",
           "rgb(102,194,165)",
           "rgb(252,141,98)",
           "rgb(231,138,195)"
          ]
         },
         "name": "",
         "showlegend": true,
         "type": "pie",
         "values": {
          "bdata": "MJwFAIkHBAA6PwIAPJYCAGf0AwBrcAgAk+kCAHUgBwA/UgIAV+QCAAYBBwA=",
          "dtype": "i4"
         }
        }
       ],
       "layout": {
        "legend": {
         "bgcolor": "rgba(0,0,0,0)",
         "borderwidth": 0,
         "font": {
          "size": 12
         },
         "tracegroupgap": 0,
         "traceorder": "normal",
         "x": 0.05,
         "y": 0.5
        },
        "template": {
         "data": {
          "bar": [
           {
            "error_x": {
             "color": "#2a3f5f"
            },
            "error_y": {
             "color": "#2a3f5f"
            },
            "marker": {
             "line": {
              "color": "#E5ECF6",
              "width": 0.5
             },
             "pattern": {
              "fillmode": "overlay",
              "size": 10,
              "solidity": 0.2
             }
            },
            "type": "bar"
           }
          ],
          "barpolar": [
           {
            "marker": {
             "line": {
              "color": "#E5ECF6",
              "width": 0.5
             },
             "pattern": {
              "fillmode": "overlay",
              "size": 10,
              "solidity": 0.2
             }
            },
            "type": "barpolar"
           }
          ],
          "carpet": [
           {
            "aaxis": {
             "endlinecolor": "#2a3f5f",
             "gridcolor": "white",
             "linecolor": "white",
             "minorgridcolor": "white",
             "startlinecolor": "#2a3f5f"
            },
            "baxis": {
             "endlinecolor": "#2a3f5f",
             "gridcolor": "white",
             "linecolor": "white",
             "minorgridcolor": "white",
             "startlinecolor": "#2a3f5f"
            },
            "type": "carpet"
           }
          ],
          "choropleth": [
           {
            "colorbar": {
             "outlinewidth": 0,
             "ticks": ""
            },
            "type": "choropleth"
           }
          ],
          "contour": [
           {
            "colorbar": {
             "outlinewidth": 0,
             "ticks": ""
            },
            "colorscale": [
             [
              0,
              "#0d0887"
             ],
             [
              0.1111111111111111,
              "#46039f"
             ],
             [
              0.2222222222222222,
              "#7201a8"
             ],
             [
              0.3333333333333333,
              "#9c179e"
             ],
             [
              0.4444444444444444,
              "#bd3786"
             ],
             [
              0.5555555555555556,
              "#d8576b"
             ],
             [
              0.6666666666666666,
              "#ed7953"
             ],
             [
              0.7777777777777778,
              "#fb9f3a"
             ],
             [
              0.8888888888888888,
              "#fdca26"
             ],
             [
              1,
              "#f0f921"
             ]
            ],
            "type": "contour"
           }
          ],
          "contourcarpet": [
           {
            "colorbar": {
             "outlinewidth": 0,
             "ticks": ""
            },
            "type": "contourcarpet"
           }
          ],
          "heatmap": [
           {
            "colorbar": {
             "outlinewidth": 0,
             "ticks": ""
            },
            "colorscale": [
             [
              0,
              "#0d0887"
             ],
             [
              0.1111111111111111,
              "#46039f"
             ],
             [
              0.2222222222222222,
              "#7201a8"
             ],
             [
              0.3333333333333333,
              "#9c179e"
             ],
             [
              0.4444444444444444,
              "#bd3786"
             ],
             [
              0.5555555555555556,
              "#d8576b"
             ],
             [
              0.6666666666666666,
              "#ed7953"
             ],
             [
              0.7777777777777778,
              "#fb9f3a"
             ],
             [
              0.8888888888888888,
              "#fdca26"
             ],
             [
              1,
              "#f0f921"
             ]
            ],
            "type": "heatmap"
           }
          ],
          "histogram": [
           {
            "marker": {
             "pattern": {
              "fillmode": "overlay",
              "size": 10,
              "solidity": 0.2
             }
            },
            "type": "histogram"
           }
          ],
          "histogram2d": [
           {
            "colorbar": {
             "outlinewidth": 0,
             "ticks": ""
            },
            "colorscale": [
             [
              0,
              "#0d0887"
             ],
             [
              0.1111111111111111,
              "#46039f"
             ],
             [
              0.2222222222222222,
              "#7201a8"
             ],
             [
              0.3333333333333333,
              "#9c179e"
             ],
             [
              0.4444444444444444,
              "#bd3786"
             ],
             [
              0.5555555555555556,
              "#d8576b"
             ],
             [
              0.6666666666666666,
              "#ed7953"
             ],
             [
              0.7777777777777778,
              "#fb9f3a"
             ],
             [
              0.8888888888888888,
              "#fdca26"
             ],
             [
              1,
              "#f0f921"
             ]
            ],
            "type": "histogram2d"
           }
          ],
          "histogram2dcontour": [
           {
            "colorbar": {
             "outlinewidth": 0,
             "ticks": ""
            },
            "colorscale": [
             [
              0,
              "#0d0887"
             ],
             [
              0.1111111111111111,
              "#46039f"
             ],
             [
              0.2222222222222222,
              "#7201a8"
             ],
             [
              0.3333333333333333,
              "#9c179e"
             ],
             [
              0.4444444444444444,
              "#bd3786"
             ],
             [
              0.5555555555555556,
              "#d8576b"
             ],
             [
              0.6666666666666666,
              "#ed7953"
             ],
             [
              0.7777777777777778,
              "#fb9f3a"
             ],
             [
              0.8888888888888888,
              "#fdca26"
             ],
             [
              1,
              "#f0f921"
             ]
            ],
            "type": "histogram2dcontour"
           }
          ],
          "mesh3d": [
           {
            "colorbar": {
             "outlinewidth": 0,
             "ticks": ""
            },
            "type": "mesh3d"
           }
          ],
          "parcoords": [
           {
            "line": {
             "colorbar": {
              "outlinewidth": 0,
              "ticks": ""
             }
            },
            "type": "parcoords"
           }
          ],
          "pie": [
           {
            "automargin": true,
            "type": "pie"
           }
          ],
          "scatter": [
           {
            "fillpattern": {
             "fillmode": "overlay",
             "size": 10,
             "solidity": 0.2
            },
            "type": "scatter"
           }
          ],
          "scatter3d": [
           {
            "line": {
             "colorbar": {
              "outlinewidth": 0,
              "ticks": ""
             }
            },
            "marker": {
             "colorbar": {
              "outlinewidth": 0,
              "ticks": ""
             }
            },
            "type": "scatter3d"
           }
          ],
          "scattercarpet": [
           {
            "marker": {
             "colorbar": {
              "outlinewidth": 0,
              "ticks": ""
             }
            },
            "type": "scattercarpet"
           }
          ],
          "scattergeo": [
           {
            "marker": {
             "colorbar": {
              "outlinewidth": 0,
              "ticks": ""
             }
            },
            "type": "scattergeo"
           }
          ],
          "scattergl": [
           {
            "marker": {
             "colorbar": {
              "outlinewidth": 0,
              "ticks": ""
             }
            },
            "type": "scattergl"
           }
          ],
          "scattermap": [
           {
            "marker": {
             "colorbar": {
              "outlinewidth": 0,
              "ticks": ""
             }
            },
            "type": "scattermap"
           }
          ],
          "scattermapbox": [
           {
            "marker": {
             "colorbar": {
              "outlinewidth": 0,
              "ticks": ""
             }
            },
            "type": "scattermapbox"
           }
          ],
          "scatterpolar": [
           {
            "marker": {
             "colorbar": {
              "outlinewidth": 0,
              "ticks": ""
             }
            },
            "type": "scatterpolar"
           }
          ],
          "scatterpolargl": [
           {
            "marker": {
             "colorbar": {
              "outlinewidth": 0,
              "ticks": ""
             }
            },
            "type": "scatterpolargl"
           }
          ],
          "scatterternary": [
           {
            "marker": {
             "colorbar": {
              "outlinewidth": 0,
              "ticks": ""
             }
            },
            "type": "scatterternary"
           }
          ],
          "surface": [
           {
            "colorbar": {
             "outlinewidth": 0,
             "ticks": ""
            },
            "colorscale": [
             [
              0,
              "#0d0887"
             ],
             [
              0.1111111111111111,
              "#46039f"
             ],
             [
              0.2222222222222222,
              "#7201a8"
             ],
             [
              0.3333333333333333,
              "#9c179e"
             ],
             [
              0.4444444444444444,
              "#bd3786"
             ],
             [
              0.5555555555555556,
              "#d8576b"
             ],
             [
              0.6666666666666666,
              "#ed7953"
             ],
             [
              0.7777777777777778,
              "#fb9f3a"
             ],
             [
              0.8888888888888888,
              "#fdca26"
             ],
             [
              1,
              "#f0f921"
             ]
            ],
            "type": "surface"
           }
          ],
          "table": [
           {
            "cells": {
             "fill": {
              "color": "#EBF0F8"
             },
             "line": {
              "color": "white"
             }
            },
            "header": {
             "fill": {
              "color": "#C8D4E3"
             },
             "line": {
              "color": "white"
             }
            },
            "type": "table"
           }
          ]
         },
         "layout": {
          "annotationdefaults": {
           "arrowcolor": "#2a3f5f",
           "arrowhead": 0,
           "arrowwidth": 1
          },
          "autotypenumbers": "strict",
          "coloraxis": {
           "colorbar": {
            "outlinewidth": 0,
            "ticks": ""
           }
          },
          "colorscale": {
           "diverging": [
            [
             0,
             "#8e0152"
            ],
            [
             0.1,
             "#c51b7d"
            ],
            [
             0.2,
             "#de77ae"
            ],
            [
             0.3,
             "#f1b6da"
            ],
            [
             0.4,
             "#fde0ef"
            ],
            [
             0.5,
             "#f7f7f7"
            ],
            [
             0.6,
             "#e6f5d0"
            ],
            [
             0.7,
             "#b8e186"
            ],
            [
             0.8,
             "#7fbc41"
            ],
            [
             0.9,
             "#4d9221"
            ],
            [
             1,
             "#276419"
            ]
           ],
           "sequential": [
            [
             0,
             "#0d0887"
            ],
            [
             0.1111111111111111,
             "#46039f"
            ],
            [
             0.2222222222222222,
             "#7201a8"
            ],
            [
             0.3333333333333333,
             "#9c179e"
            ],
            [
             0.4444444444444444,
             "#bd3786"
            ],
            [
             0.5555555555555556,
             "#d8576b"
            ],
            [
             0.6666666666666666,
             "#ed7953"
            ],
            [
             0.7777777777777778,
             "#fb9f3a"
            ],
            [
             0.8888888888888888,
             "#fdca26"
            ],
            [
             1,
             "#f0f921"
            ]
           ],
           "sequentialminus": [
            [
             0,
             "#0d0887"
            ],
            [
             0.1111111111111111,
             "#46039f"
            ],
            [
             0.2222222222222222,
             "#7201a8"
            ],
            [
             0.3333333333333333,
             "#9c179e"
            ],
            [
             0.4444444444444444,
             "#bd3786"
            ],
            [
             0.5555555555555556,
             "#d8576b"
            ],
            [
             0.6666666666666666,
             "#ed7953"
            ],
            [
             0.7777777777777778,
             "#fb9f3a"
            ],
            [
             0.8888888888888888,
             "#fdca26"
            ],
            [
             1,
             "#f0f921"
            ]
           ]
          },
          "colorway": [
           "#636efa",
           "#EF553B",
           "#00cc96",
           "#ab63fa",
           "#FFA15A",
           "#19d3f3",
           "#FF6692",
           "#B6E880",
           "#FF97FF",
           "#FECB52"
          ],
          "font": {
           "color": "#2a3f5f"
          },
          "geo": {
           "bgcolor": "white",
           "lakecolor": "white",
           "landcolor": "#E5ECF6",
           "showlakes": true,
           "showland": true,
           "subunitcolor": "white"
          },
          "hoverlabel": {
           "align": "left"
          },
          "hovermode": "closest",
          "mapbox": {
           "style": "light"
          },
          "paper_bgcolor": "white",
          "plot_bgcolor": "#E5ECF6",
          "polar": {
           "angularaxis": {
            "gridcolor": "white",
            "linecolor": "white",
            "ticks": ""
           },
           "bgcolor": "#E5ECF6",
           "radialaxis": {
            "gridcolor": "white",
            "linecolor": "white",
            "ticks": ""
           }
          },
          "scene": {
           "xaxis": {
            "backgroundcolor": "#E5ECF6",
            "gridcolor": "white",
            "gridwidth": 2,
            "linecolor": "white",
            "showbackground": true,
            "ticks": "",
            "zerolinecolor": "white"
           },
           "yaxis": {
            "backgroundcolor": "#E5ECF6",
            "gridcolor": "white",
            "gridwidth": 2,
            "linecolor": "white",
            "showbackground": true,
            "ticks": "",
            "zerolinecolor": "white"
           },
           "zaxis": {
            "backgroundcolor": "#E5ECF6",
            "gridcolor": "white",
            "gridwidth": 2,
            "linecolor": "white",
            "showbackground": true,
            "ticks": "",
            "zerolinecolor": "white"
           }
          },
          "shapedefaults": {
           "line": {
            "color": "#2a3f5f"
           }
          },
          "ternary": {
           "aaxis": {
            "gridcolor": "white",
            "linecolor": "white",
            "ticks": ""
           },
           "baxis": {
            "gridcolor": "white",
            "linecolor": "white",
            "ticks": ""
           },
           "bgcolor": "#E5ECF6",
           "caxis": {
            "gridcolor": "white",
            "linecolor": "white",
            "ticks": ""
           }
          },
          "title": {
           "x": 0.05
          },
          "xaxis": {
           "automargin": true,
           "gridcolor": "white",
           "linecolor": "white",
           "ticks": "",
           "title": {
            "standoff": 15
           },
           "zerolinecolor": "white",
           "zerolinewidth": 2
          },
          "yaxis": {
           "automargin": true,
           "gridcolor": "white",
           "linecolor": "white",
           "ticks": "",
           "title": {
            "standoff": 15
           },
           "zerolinecolor": "white",
           "zerolinewidth": 2
          }
         }
        },
        "title": {
         "text": "Sector Distribution in Flemish Region (Top 10 + Other)",
         "x": 0.15
        }
       }
      }
     },
     "metadata": {},
     "output_type": "display_data"
    },
    {
     "data": {
      "application/vnd.plotly.v1+json": {
       "config": {
        "plotlyServerURL": "https://plot.ly"
       },
       "data": [
        {
         "customdata": [
          [
           "Administrative and support service activities"
          ],
          [
           "Arts, entertainment and recreation"
          ],
          [
           "Construction"
          ],
          [
           "Education"
          ],
          [
           "Human health and social work activities"
          ],
          [
           "Manufacturing"
          ],
          [
           "Other"
          ],
          [
           "Other service activities"
          ],
          [
           "Professional, scientific and technical activities"
          ],
          [
           "Transportation and storage"
          ],
          [
           "Wholesale and retail trade"
          ]
         ],
         "domain": {
          "x": [
           0,
           1
          ],
          "y": [
           0,
           1
          ]
         },
         "hovertemplate": "description=%{customdata[0]}<br>company_count=%{value}<extra></extra>",
         "labels": [
          "Administrative and support service activities",
          "Arts, entertainment and recreation",
          "Construction",
          "Education",
          "Human health and social work activities",
          "Manufacturing",
          "Other",
          "Other service activities",
          "Professional, scientific and technical activities",
          "Transportation and storage",
          "Wholesale and retail trade"
         ],
         "legendgroup": "",
         "marker": {
          "colors": [
           "rgb(141,160,203)",
           "rgb(166,216,84)",
           "rgb(255,217,47)",
           "rgb(229,196,148)",
           "rgb(141,160,203)",
           "rgb(166,216,84)",
           "#cccccc",
           "rgb(255,217,47)",
           "rgb(229,196,148)",
           "rgb(252,141,98)",
           "rgb(231,138,195)"
          ]
         },
         "name": "",
         "showlegend": true,
         "type": "pie",
         "values": {
          "bdata": "yisCAIASAQC/swEAvAgBAE5WAQAfBAIAymkDAFxjAQCczgIAEGkBAICFAwA=",
          "dtype": "i4"
         }
        }
       ],
       "layout": {
        "legend": {
         "bgcolor": "rgba(0,0,0,0)",
         "borderwidth": 0,
         "font": {
          "size": 12
         },
         "tracegroupgap": 0,
         "traceorder": "normal",
         "x": 0.05,
         "y": 0.5
        },
        "template": {
         "data": {
          "bar": [
           {
            "error_x": {
             "color": "#2a3f5f"
            },
            "error_y": {
             "color": "#2a3f5f"
            },
            "marker": {
             "line": {
              "color": "#E5ECF6",
              "width": 0.5
             },
             "pattern": {
              "fillmode": "overlay",
              "size": 10,
              "solidity": 0.2
             }
            },
            "type": "bar"
           }
          ],
          "barpolar": [
           {
            "marker": {
             "line": {
              "color": "#E5ECF6",
              "width": 0.5
             },
             "pattern": {
              "fillmode": "overlay",
              "size": 10,
              "solidity": 0.2
             }
            },
            "type": "barpolar"
           }
          ],
          "carpet": [
           {
            "aaxis": {
             "endlinecolor": "#2a3f5f",
             "gridcolor": "white",
             "linecolor": "white",
             "minorgridcolor": "white",
             "startlinecolor": "#2a3f5f"
            },
            "baxis": {
             "endlinecolor": "#2a3f5f",
             "gridcolor": "white",
             "linecolor": "white",
             "minorgridcolor": "white",
             "startlinecolor": "#2a3f5f"
            },
            "type": "carpet"
           }
          ],
          "choropleth": [
           {
            "colorbar": {
             "outlinewidth": 0,
             "ticks": ""
            },
            "type": "choropleth"
           }
          ],
          "contour": [
           {
            "colorbar": {
             "outlinewidth": 0,
             "ticks": ""
            },
            "colorscale": [
             [
              0,
              "#0d0887"
             ],
             [
              0.1111111111111111,
              "#46039f"
             ],
             [
              0.2222222222222222,
              "#7201a8"
             ],
             [
              0.3333333333333333,
              "#9c179e"
             ],
             [
              0.4444444444444444,
              "#bd3786"
             ],
             [
              0.5555555555555556,
              "#d8576b"
             ],
             [
              0.6666666666666666,
              "#ed7953"
             ],
             [
              0.7777777777777778,
              "#fb9f3a"
             ],
             [
              0.8888888888888888,
              "#fdca26"
             ],
             [
              1,
              "#f0f921"
             ]
            ],
            "type": "contour"
           }
          ],
          "contourcarpet": [
           {
            "colorbar": {
             "outlinewidth": 0,
             "ticks": ""
            },
            "type": "contourcarpet"
           }
          ],
          "heatmap": [
           {
            "colorbar": {
             "outlinewidth": 0,
             "ticks": ""
            },
            "colorscale": [
             [
              0,
              "#0d0887"
             ],
             [
              0.1111111111111111,
              "#46039f"
             ],
             [
              0.2222222222222222,
              "#7201a8"
             ],
             [
              0.3333333333333333,
              "#9c179e"
             ],
             [
              0.4444444444444444,
              "#bd3786"
             ],
             [
              0.5555555555555556,
              "#d8576b"
             ],
             [
              0.6666666666666666,
              "#ed7953"
             ],
             [
              0.7777777777777778,
              "#fb9f3a"
             ],
             [
              0.8888888888888888,
              "#fdca26"
             ],
             [
              1,
              "#f0f921"
             ]
            ],
            "type": "heatmap"
           }
          ],
          "histogram": [
           {
            "marker": {
             "pattern": {
              "fillmode": "overlay",
              "size": 10,
              "solidity": 0.2
             }
            },
            "type": "histogram"
           }
          ],
          "histogram2d": [
           {
            "colorbar": {
             "outlinewidth": 0,
             "ticks": ""
            },
            "colorscale": [
             [
              0,
              "#0d0887"
             ],
             [
              0.1111111111111111,
              "#46039f"
             ],
             [
              0.2222222222222222,
              "#7201a8"
             ],
             [
              0.3333333333333333,
              "#9c179e"
             ],
             [
              0.4444444444444444,
              "#bd3786"
             ],
             [
              0.5555555555555556,
              "#d8576b"
             ],
             [
              0.6666666666666666,
              "#ed7953"
             ],
             [
              0.7777777777777778,
              "#fb9f3a"
             ],
             [
              0.8888888888888888,
              "#fdca26"
             ],
             [
              1,
              "#f0f921"
             ]
            ],
            "type": "histogram2d"
           }
          ],
          "histogram2dcontour": [
           {
            "colorbar": {
             "outlinewidth": 0,
             "ticks": ""
            },
            "colorscale": [
             [
              0,
              "#0d0887"
             ],
             [
              0.1111111111111111,
              "#46039f"
             ],
             [
              0.2222222222222222,
              "#7201a8"
             ],
             [
              0.3333333333333333,
              "#9c179e"
             ],
             [
              0.4444444444444444,
              "#bd3786"
             ],
             [
              0.5555555555555556,
              "#d8576b"
             ],
             [
              0.6666666666666666,
              "#ed7953"
             ],
             [
              0.7777777777777778,
              "#fb9f3a"
             ],
             [
              0.8888888888888888,
              "#fdca26"
             ],
             [
              1,
              "#f0f921"
             ]
            ],
            "type": "histogram2dcontour"
           }
          ],
          "mesh3d": [
           {
            "colorbar": {
             "outlinewidth": 0,
             "ticks": ""
            },
            "type": "mesh3d"
           }
          ],
          "parcoords": [
           {
            "line": {
             "colorbar": {
              "outlinewidth": 0,
              "ticks": ""
             }
            },
            "type": "parcoords"
           }
          ],
          "pie": [
           {
            "automargin": true,
            "type": "pie"
           }
          ],
          "scatter": [
           {
            "fillpattern": {
             "fillmode": "overlay",
             "size": 10,
             "solidity": 0.2
            },
            "type": "scatter"
           }
          ],
          "scatter3d": [
           {
            "line": {
             "colorbar": {
              "outlinewidth": 0,
              "ticks": ""
             }
            },
            "marker": {
             "colorbar": {
              "outlinewidth": 0,
              "ticks": ""
             }
            },
            "type": "scatter3d"
           }
          ],
          "scattercarpet": [
           {
            "marker": {
             "colorbar": {
              "outlinewidth": 0,
              "ticks": ""
             }
            },
            "type": "scattercarpet"
           }
          ],
          "scattergeo": [
           {
            "marker": {
             "colorbar": {
              "outlinewidth": 0,
              "ticks": ""
             }
            },
            "type": "scattergeo"
           }
          ],
          "scattergl": [
           {
            "marker": {
             "colorbar": {
              "outlinewidth": 0,
              "ticks": ""
             }
            },
            "type": "scattergl"
           }
          ],
          "scattermap": [
           {
            "marker": {
             "colorbar": {
              "outlinewidth": 0,
              "ticks": ""
             }
            },
            "type": "scattermap"
           }
          ],
          "scattermapbox": [
           {
            "marker": {
             "colorbar": {
              "outlinewidth": 0,
              "ticks": ""
             }
            },
            "type": "scattermapbox"
           }
          ],
          "scatterpolar": [
           {
            "marker": {
             "colorbar": {
              "outlinewidth": 0,
              "ticks": ""
             }
            },
            "type": "scatterpolar"
           }
          ],
          "scatterpolargl": [
           {
            "marker": {
             "colorbar": {
              "outlinewidth": 0,
              "ticks": ""
             }
            },
            "type": "scatterpolargl"
           }
          ],
          "scatterternary": [
           {
            "marker": {
             "colorbar": {
              "outlinewidth": 0,
              "ticks": ""
             }
            },
            "type": "scatterternary"
           }
          ],
          "surface": [
           {
            "colorbar": {
             "outlinewidth": 0,
             "ticks": ""
            },
            "colorscale": [
             [
              0,
              "#0d0887"
             ],
             [
              0.1111111111111111,
              "#46039f"
             ],
             [
              0.2222222222222222,
              "#7201a8"
             ],
             [
              0.3333333333333333,
              "#9c179e"
             ],
             [
              0.4444444444444444,
              "#bd3786"
             ],
             [
              0.5555555555555556,
              "#d8576b"
             ],
             [
              0.6666666666666666,
              "#ed7953"
             ],
             [
              0.7777777777777778,
              "#fb9f3a"
             ],
             [
              0.8888888888888888,
              "#fdca26"
             ],
             [
              1,
              "#f0f921"
             ]
            ],
            "type": "surface"
           }
          ],
          "table": [
           {
            "cells": {
             "fill": {
              "color": "#EBF0F8"
             },
             "line": {
              "color": "white"
             }
            },
            "header": {
             "fill": {
              "color": "#C8D4E3"
             },
             "line": {
              "color": "white"
             }
            },
            "type": "table"
           }
          ]
         },
         "layout": {
          "annotationdefaults": {
           "arrowcolor": "#2a3f5f",
           "arrowhead": 0,
           "arrowwidth": 1
          },
          "autotypenumbers": "strict",
          "coloraxis": {
           "colorbar": {
            "outlinewidth": 0,
            "ticks": ""
           }
          },
          "colorscale": {
           "diverging": [
            [
             0,
             "#8e0152"
            ],
            [
             0.1,
             "#c51b7d"
            ],
            [
             0.2,
             "#de77ae"
            ],
            [
             0.3,
             "#f1b6da"
            ],
            [
             0.4,
             "#fde0ef"
            ],
            [
             0.5,
             "#f7f7f7"
            ],
            [
             0.6,
             "#e6f5d0"
            ],
            [
             0.7,
             "#b8e186"
            ],
            [
             0.8,
             "#7fbc41"
            ],
            [
             0.9,
             "#4d9221"
            ],
            [
             1,
             "#276419"
            ]
           ],
           "sequential": [
            [
             0,
             "#0d0887"
            ],
            [
             0.1111111111111111,
             "#46039f"
            ],
            [
             0.2222222222222222,
             "#7201a8"
            ],
            [
             0.3333333333333333,
             "#9c179e"
            ],
            [
             0.4444444444444444,
             "#bd3786"
            ],
            [
             0.5555555555555556,
             "#d8576b"
            ],
            [
             0.6666666666666666,
             "#ed7953"
            ],
            [
             0.7777777777777778,
             "#fb9f3a"
            ],
            [
             0.8888888888888888,
             "#fdca26"
            ],
            [
             1,
             "#f0f921"
            ]
           ],
           "sequentialminus": [
            [
             0,
             "#0d0887"
            ],
            [
             0.1111111111111111,
             "#46039f"
            ],
            [
             0.2222222222222222,
             "#7201a8"
            ],
            [
             0.3333333333333333,
             "#9c179e"
            ],
            [
             0.4444444444444444,
             "#bd3786"
            ],
            [
             0.5555555555555556,
             "#d8576b"
            ],
            [
             0.6666666666666666,
             "#ed7953"
            ],
            [
             0.7777777777777778,
             "#fb9f3a"
            ],
            [
             0.8888888888888888,
             "#fdca26"
            ],
            [
             1,
             "#f0f921"
            ]
           ]
          },
          "colorway": [
           "#636efa",
           "#EF553B",
           "#00cc96",
           "#ab63fa",
           "#FFA15A",
           "#19d3f3",
           "#FF6692",
           "#B6E880",
           "#FF97FF",
           "#FECB52"
          ],
          "font": {
           "color": "#2a3f5f"
          },
          "geo": {
           "bgcolor": "white",
           "lakecolor": "white",
           "landcolor": "#E5ECF6",
           "showlakes": true,
           "showland": true,
           "subunitcolor": "white"
          },
          "hoverlabel": {
           "align": "left"
          },
          "hovermode": "closest",
          "mapbox": {
           "style": "light"
          },
          "paper_bgcolor": "white",
          "plot_bgcolor": "#E5ECF6",
          "polar": {
           "angularaxis": {
            "gridcolor": "white",
            "linecolor": "white",
            "ticks": ""
           },
           "bgcolor": "#E5ECF6",
           "radialaxis": {
            "gridcolor": "white",
            "linecolor": "white",
            "ticks": ""
           }
          },
          "scene": {
           "xaxis": {
            "backgroundcolor": "#E5ECF6",
            "gridcolor": "white",
            "gridwidth": 2,
            "linecolor": "white",
            "showbackground": true,
            "ticks": "",
            "zerolinecolor": "white"
           },
           "yaxis": {
            "backgroundcolor": "#E5ECF6",
            "gridcolor": "white",
            "gridwidth": 2,
            "linecolor": "white",
            "showbackground": true,
            "ticks": "",
            "zerolinecolor": "white"
           },
           "zaxis": {
            "backgroundcolor": "#E5ECF6",
            "gridcolor": "white",
            "gridwidth": 2,
            "linecolor": "white",
            "showbackground": true,
            "ticks": "",
            "zerolinecolor": "white"
           }
          },
          "shapedefaults": {
           "line": {
            "color": "#2a3f5f"
           }
          },
          "ternary": {
           "aaxis": {
            "gridcolor": "white",
            "linecolor": "white",
            "ticks": ""
           },
           "baxis": {
            "gridcolor": "white",
            "linecolor": "white",
            "ticks": ""
           },
           "bgcolor": "#E5ECF6",
           "caxis": {
            "gridcolor": "white",
            "linecolor": "white",
            "ticks": ""
           }
          },
          "title": {
           "x": 0.05
          },
          "xaxis": {
           "automargin": true,
           "gridcolor": "white",
           "linecolor": "white",
           "ticks": "",
           "title": {
            "standoff": 15
           },
           "zerolinecolor": "white",
           "zerolinewidth": 2
          },
          "yaxis": {
           "automargin": true,
           "gridcolor": "white",
           "linecolor": "white",
           "ticks": "",
           "title": {
            "standoff": 15
           },
           "zerolinecolor": "white",
           "zerolinewidth": 2
          }
         }
        },
        "title": {
         "text": "Sector Distribution in Walloon Region (Top 10 + Other)",
         "x": 0.15
        }
       }
      }
     },
     "metadata": {},
     "output_type": "display_data"
    }
   ],
   "source": [
    "\n",
    "all_sectors = sorted(df['description'].unique())\n",
    "\n",
    "colors = px.colors.qualitative.Set2\n",
    "while len(colors) < len(all_sectors):\n",
    "    colors += colors\n",
    "color_map = {sector: color for sector, color in zip(all_sectors, colors)}\n",
    "color_map['Other'] = '#cccccc'\n",
    "\n",
    "regions = df['region'].unique()\n",
    "\n",
    "for region in regions:\n",
    "    df_region = df[df['region'] == region].copy()\n",
    "    top_10 = df_region.groupby('description')['company_count'].sum().sort_values(ascending=False).head(10).index.tolist()\n",
    "    df_region['description'] = df_region['description'].apply(\n",
    "        lambda x: x if x in top_10 else 'Other'\n",
    "    )\n",
    "\n",
    "    pie_data = df_region.groupby('description')['company_count'].sum().reset_index()\n",
    "\n",
    "    fig = px.pie(\n",
    "        pie_data, \n",
    "        names='description', \n",
    "        values='company_count',\n",
    "        title=f'Sector Distribution in {region} (Top 10 + Other)',\n",
    "        color='description',\n",
    "        color_discrete_map=color_map\n",
    "    )\n",
    "\n",
    "    fig.update_layout(\n",
    "        legend=dict(\n",
    "            x=0.05, \n",
    "            y=0.5,\n",
    "            traceorder='normal',\n",
    "            font=dict(size=12),\n",
    "            bgcolor='rgba(0,0,0,0)',\n",
    "            borderwidth=0\n",
    "        ),\n",
    "        title_x=0.15\n",
    "    )\n",
    "\n",
    "    fig.show()\n",
    "\n",
    "\n",
    "\n"
   ]
  },
  {
   "cell_type": "code",
   "execution_count": 120,
   "id": "99c15830",
   "metadata": {},
   "outputs": [
    {
     "data": {
      "application/vnd.plotly.v1+json": {
       "config": {
        "plotlyServerURL": "https://plot.ly"
       },
       "data": [
        {
         "branchvalues": "total",
         "customdata": [
          [
           "Brussels Capital Region"
          ],
          [
           "Brussels Capital Region"
          ],
          [
           "Brussels Capital Region"
          ],
          [
           "Brussels Capital Region"
          ],
          [
           "Brussels Capital Region"
          ],
          [
           "Brussels Capital Region"
          ],
          [
           "Brussels Capital Region"
          ],
          [
           "Brussels Capital Region"
          ],
          [
           "Brussels Capital Region"
          ],
          [
           "Brussels Capital Region"
          ],
          [
           "Brussels Capital Region"
          ],
          [
           "Brussels Capital Region"
          ],
          [
           "Brussels Capital Region"
          ],
          [
           "Brussels Capital Region"
          ],
          [
           "Brussels Capital Region"
          ],
          [
           "Brussels Capital Region"
          ],
          [
           "Brussels Capital Region"
          ],
          [
           "Brussels Capital Region"
          ],
          [
           "Brussels Capital Region"
          ],
          [
           "Brussels Capital Region"
          ],
          [
           "Flemish Region"
          ],
          [
           "Flemish Region"
          ],
          [
           "Flemish Region"
          ],
          [
           "Flemish Region"
          ],
          [
           "Flemish Region"
          ],
          [
           "Flemish Region"
          ],
          [
           "Flemish Region"
          ],
          [
           "Flemish Region"
          ],
          [
           "Flemish Region"
          ],
          [
           "Flemish Region"
          ],
          [
           "Flemish Region"
          ],
          [
           "Flemish Region"
          ],
          [
           "Flemish Region"
          ],
          [
           "Flemish Region"
          ],
          [
           "Flemish Region"
          ],
          [
           "Flemish Region"
          ],
          [
           "Flemish Region"
          ],
          [
           "Flemish Region"
          ],
          [
           "Flemish Region"
          ],
          [
           "Flemish Region"
          ],
          [
           "Flemish Region"
          ],
          [
           "Walloon Region"
          ],
          [
           "Walloon Region"
          ],
          [
           "Walloon Region"
          ],
          [
           "Walloon Region"
          ],
          [
           "Walloon Region"
          ],
          [
           "Walloon Region"
          ],
          [
           "Walloon Region"
          ],
          [
           "Walloon Region"
          ],
          [
           "Walloon Region"
          ],
          [
           "Walloon Region"
          ],
          [
           "Walloon Region"
          ],
          [
           "Walloon Region"
          ],
          [
           "Walloon Region"
          ],
          [
           "Walloon Region"
          ],
          [
           "Walloon Region"
          ],
          [
           "Walloon Region"
          ],
          [
           "Walloon Region"
          ],
          [
           "Walloon Region"
          ],
          [
           "Walloon Region"
          ],
          [
           "Walloon Region"
          ],
          [
           "Walloon Region"
          ]
         ],
         "domain": {
          "x": [
           0,
           1
          ],
          "y": [
           0,
           1
          ]
         },
         "hovertemplate": "labels=%{label}<br>company_count=%{value}<br>parent=%{parent}<br>id=%{id}<br>region=%{customdata[0]}<extra></extra>",
         "ids": [
          "Brussels Capital Region/Professional, scientific and technical activities",
          "Brussels Capital Region",
          "Brussels Capital Region/Extraterritorial organisations and bodies",
          "Brussels Capital Region/Activities of households",
          "Brussels Capital Region/Electricity, gas, steam and air conditioning supply",
          "Brussels Capital Region/Public administration and defence",
          "Brussels Capital Region/Financial and insurance activities",
          "Brussels Capital Region/Accommodation and food service activities",
          "Brussels Capital Region/Education",
          "Brussels Capital Region/Real estate activities",
          "Brussels Capital Region/Water supply; sewerage, waste management and remediation activities",
          "Brussels Capital Region/Human health and social work activities",
          "Brussels Capital Region/Arts, entertainment and recreation",
          "Brussels Capital Region/Administrative and support service activities",
          "Brussels Capital Region/Manufacturing",
          "Brussels Capital Region/Construction",
          "Brussels Capital Region/Wholesale and retail trade",
          "Brussels Capital Region/Other service activities",
          "Brussels Capital Region/Information and communication",
          "Brussels Capital Region/Transportation and storage",
          "Flemish Region/Accommodation and food service activities",
          "Flemish Region/Agriculture, forestry and fishing",
          "Flemish Region/Extraterritorial organisations and bodies",
          "Flemish Region/Activities of households",
          "Flemish Region/Electricity, gas, steam and air conditioning supply",
          "Flemish Region/Public administration and defence",
          "Flemish Region/Water supply; sewerage, waste management and remediation activities",
          "Flemish Region/Financial and insurance activities",
          "Flemish Region",
          "Flemish Region/Education",
          "Flemish Region/Arts, entertainment and recreation",
          "Flemish Region/Real estate activities",
          "Flemish Region/Wholesale and retail trade",
          "Flemish Region/Administrative and support service activities",
          "Flemish Region/Manufacturing",
          "Flemish Region/Professional, scientific and technical activities",
          "Flemish Region/Transportation and storage",
          "Flemish Region/Other service activities",
          "Flemish Region/Information and communication",
          "Flemish Region/Human health and social work activities",
          "Flemish Region/Construction",
          "Walloon Region/Accommodation and food service activities",
          "Walloon Region/Agriculture, forestry and fishing",
          "Walloon Region/Extraterritorial organisations and bodies",
          "Walloon Region/Activities of households",
          "Walloon Region/Electricity, gas, steam and air conditioning supply",
          "Walloon Region/Public administration and defence",
          "Walloon Region/Water supply; sewerage, waste management and remediation activities",
          "Walloon Region/Financial and insurance activities",
          "Walloon Region/Education",
          "Walloon Region/Other service activities",
          "Walloon Region/Arts, entertainment and recreation",
          "Walloon Region/Human health and social work activities",
          "Walloon Region/Information and communication",
          "Walloon Region/Transportation and storage",
          "Walloon Region/Construction",
          "Walloon Region/Manufacturing",
          "Walloon Region/Administrative and support service activities",
          "Walloon Region/Wholesale and retail trade",
          "Walloon Region/Professional, scientific and technical activities",
          "Walloon Region/Real estate activities",
          "Walloon Region"
         ],
         "labels": [
          "Professional, scientific and technical activities",
          "Brussels Capital Region",
          "Extraterritorial organisations and bodies",
          "Activities of households",
          "Electricity, gas, steam and air conditioning supply",
          "Public administration and defence",
          "Financial and insurance activities",
          "Accommodation and food service activities",
          "Education",
          "Real estate activities",
          "Water supply; sewerage, waste management and remediation activities",
          "Human health and social work activities",
          "Arts, entertainment and recreation",
          "Administrative and support service activities",
          "Manufacturing",
          "Construction",
          "Wholesale and retail trade",
          "Other service activities",
          "Information and communication",
          "Transportation and storage",
          "Accommodation and food service activities",
          "Agriculture, forestry and fishing",
          "Extraterritorial organisations and bodies",
          "Activities of households",
          "Electricity, gas, steam and air conditioning supply",
          "Public administration and defence",
          "Water supply; sewerage, waste management and remediation activities",
          "Financial and insurance activities",
          "Flemish Region",
          "Education",
          "Arts, entertainment and recreation",
          "Real estate activities",
          "Wholesale and retail trade",
          "Administrative and support service activities",
          "Manufacturing",
          "Professional, scientific and technical activities",
          "Transportation and storage",
          "Other service activities",
          "Information and communication",
          "Human health and social work activities",
          "Construction",
          "Accommodation and food service activities",
          "Agriculture, forestry and fishing",
          "Extraterritorial organisations and bodies",
          "Activities of households",
          "Electricity, gas, steam and air conditioning supply",
          "Public administration and defence",
          "Water supply; sewerage, waste management and remediation activities",
          "Financial and insurance activities",
          "Education",
          "Other service activities",
          "Arts, entertainment and recreation",
          "Human health and social work activities",
          "Information and communication",
          "Transportation and storage",
          "Construction",
          "Manufacturing",
          "Administrative and support service activities",
          "Wholesale and retail trade",
          "Professional, scientific and technical activities",
          "Real estate activities",
          "Walloon Region"
         ],
         "marker": {
          "colors": [
           "rgb(102,194,165)",
           "rgb(102,194,165)",
           "rgb(102,194,165)",
           "rgb(102,194,165)",
           "rgb(102,194,165)",
           "rgb(102,194,165)",
           "rgb(102,194,165)",
           "rgb(102,194,165)",
           "rgb(102,194,165)",
           "rgb(102,194,165)",
           "rgb(102,194,165)",
           "rgb(102,194,165)",
           "rgb(102,194,165)",
           "rgb(102,194,165)",
           "rgb(102,194,165)",
           "rgb(102,194,165)",
           "rgb(102,194,165)",
           "rgb(102,194,165)",
           "rgb(102,194,165)",
           "rgb(102,194,165)",
           "rgb(252,141,98)",
           "rgb(252,141,98)",
           "rgb(252,141,98)",
           "rgb(252,141,98)",
           "rgb(252,141,98)",
           "rgb(252,141,98)",
           "rgb(252,141,98)",
           "rgb(252,141,98)",
           "rgb(252,141,98)",
           "rgb(252,141,98)",
           "rgb(252,141,98)",
           "rgb(252,141,98)",
           "rgb(252,141,98)",
           "rgb(252,141,98)",
           "rgb(252,141,98)",
           "rgb(252,141,98)",
           "rgb(252,141,98)",
           "rgb(252,141,98)",
           "rgb(252,141,98)",
           "rgb(252,141,98)",
           "rgb(252,141,98)",
           "rgb(141,160,203)",
           "rgb(141,160,203)",
           "rgb(141,160,203)",
           "rgb(141,160,203)",
           "rgb(141,160,203)",
           "rgb(141,160,203)",
           "rgb(141,160,203)",
           "rgb(141,160,203)",
           "rgb(141,160,203)",
           "rgb(141,160,203)",
           "rgb(141,160,203)",
           "rgb(141,160,203)",
           "rgb(141,160,203)",
           "rgb(141,160,203)",
           "rgb(141,160,203)",
           "rgb(141,160,203)",
           "rgb(141,160,203)",
           "rgb(141,160,203)",
           "rgb(141,160,203)",
           "rgb(141,160,203)",
           "rgb(141,160,203)"
          ],
          "cornerradius": 5
         },
         "name": "",
         "parents": [
          "Brussels Capital Region",
          "",
          "Brussels Capital Region",
          "Brussels Capital Region",
          "Brussels Capital Region",
          "Brussels Capital Region",
          "Brussels Capital Region",
          "Brussels Capital Region",
          "Brussels Capital Region",
          "Brussels Capital Region",
          "Brussels Capital Region",
          "Brussels Capital Region",
          "Brussels Capital Region",
          "Brussels Capital Region",
          "Brussels Capital Region",
          "Brussels Capital Region",
          "Brussels Capital Region",
          "Brussels Capital Region",
          "Brussels Capital Region",
          "Brussels Capital Region",
          "Flemish Region",
          "Flemish Region",
          "Flemish Region",
          "Flemish Region",
          "Flemish Region",
          "Flemish Region",
          "Flemish Region",
          "Flemish Region",
          "",
          "Flemish Region",
          "Flemish Region",
          "Flemish Region",
          "Flemish Region",
          "Flemish Region",
          "Flemish Region",
          "Flemish Region",
          "Flemish Region",
          "Flemish Region",
          "Flemish Region",
          "Flemish Region",
          "Flemish Region",
          "Walloon Region",
          "Walloon Region",
          "Walloon Region",
          "Walloon Region",
          "Walloon Region",
          "Walloon Region",
          "Walloon Region",
          "Walloon Region",
          "Walloon Region",
          "Walloon Region",
          "Walloon Region",
          "Walloon Region",
          "Walloon Region",
          "Walloon Region",
          "Walloon Region",
          "Walloon Region",
          "Walloon Region",
          "Walloon Region",
          "Walloon Region",
          "Walloon Region",
          ""
         ],
         "textfont": {
          "size": 12
         },
         "textinfo": "label+value",
         "tiling": {
          "pad": 5
         },
         "type": "treemap",
         "values": {
          "bdata": "AAAAAHBMAkEAAAAAbHgoQQAAAAAAyJZAAAAAAACQfEAAAAAAAECSQAAAAAAA5KtAAAAAAMCM2EAAAAAA4L/iQAAAAAAAid5AAAAAACDW4kAAAAAAAMqrQAAAAADg4+BAAAAAAAC+40AAAAAAAAb1QAAAAACguuJAAAAAAEDR6EAAAAAAIJ75QAAAAAAgGuVAAAAAAGCZ6kAAAAAAYA7rQAAAAACwNftAAAAAAAAA8D8AAAAAAMBdQAAAAAAAkItAAAAAAAA7tUAAAAAAAFW5QAAAAADAj9BAAAAAAND5AUEAAACA0o9IQQAAAACgr/9AAAAAAPglAUEAAAAA+JECQQAAAAAYBBxBAAAAAMBwFkEAAAAAOKMPQQAAAADUgRxBAAAAALgiB0EAAAAAmEwHQQAAAADgsQRBAAAAAPBEAUEAAAAAJB4QQQAAAAAAv+xAAAAAAAAACEAAAAAAACBgQAAAAAAAIHxAAAAAAAAaokAAAAAAAMK0QAAAAACAk8RAAAAAAIDd30AAAAAAwIvwQAAAAADANfZAAAAAAAAo8UAAAAAA4GT1QAAAAADAGe1AAAAAAACR9kAAAAAA8Dv7QAAAAAD4IABBAAAAAFBeAUEAAAAAACwMQQAAAADgdAZBAAAAAEBK6kAAAAAAhN81QQ==",
          "dtype": "f8"
         }
        }
       ],
       "layout": {
        "height": 600,
        "legend": {
         "tracegroupgap": 0
        },
        "template": {
         "data": {
          "bar": [
           {
            "error_x": {
             "color": "#2a3f5f"
            },
            "error_y": {
             "color": "#2a3f5f"
            },
            "marker": {
             "line": {
              "color": "#E5ECF6",
              "width": 0.5
             },
             "pattern": {
              "fillmode": "overlay",
              "size": 10,
              "solidity": 0.2
             }
            },
            "type": "bar"
           }
          ],
          "barpolar": [
           {
            "marker": {
             "line": {
              "color": "#E5ECF6",
              "width": 0.5
             },
             "pattern": {
              "fillmode": "overlay",
              "size": 10,
              "solidity": 0.2
             }
            },
            "type": "barpolar"
           }
          ],
          "carpet": [
           {
            "aaxis": {
             "endlinecolor": "#2a3f5f",
             "gridcolor": "white",
             "linecolor": "white",
             "minorgridcolor": "white",
             "startlinecolor": "#2a3f5f"
            },
            "baxis": {
             "endlinecolor": "#2a3f5f",
             "gridcolor": "white",
             "linecolor": "white",
             "minorgridcolor": "white",
             "startlinecolor": "#2a3f5f"
            },
            "type": "carpet"
           }
          ],
          "choropleth": [
           {
            "colorbar": {
             "outlinewidth": 0,
             "ticks": ""
            },
            "type": "choropleth"
           }
          ],
          "contour": [
           {
            "colorbar": {
             "outlinewidth": 0,
             "ticks": ""
            },
            "colorscale": [
             [
              0,
              "#0d0887"
             ],
             [
              0.1111111111111111,
              "#46039f"
             ],
             [
              0.2222222222222222,
              "#7201a8"
             ],
             [
              0.3333333333333333,
              "#9c179e"
             ],
             [
              0.4444444444444444,
              "#bd3786"
             ],
             [
              0.5555555555555556,
              "#d8576b"
             ],
             [
              0.6666666666666666,
              "#ed7953"
             ],
             [
              0.7777777777777778,
              "#fb9f3a"
             ],
             [
              0.8888888888888888,
              "#fdca26"
             ],
             [
              1,
              "#f0f921"
             ]
            ],
            "type": "contour"
           }
          ],
          "contourcarpet": [
           {
            "colorbar": {
             "outlinewidth": 0,
             "ticks": ""
            },
            "type": "contourcarpet"
           }
          ],
          "heatmap": [
           {
            "colorbar": {
             "outlinewidth": 0,
             "ticks": ""
            },
            "colorscale": [
             [
              0,
              "#0d0887"
             ],
             [
              0.1111111111111111,
              "#46039f"
             ],
             [
              0.2222222222222222,
              "#7201a8"
             ],
             [
              0.3333333333333333,
              "#9c179e"
             ],
             [
              0.4444444444444444,
              "#bd3786"
             ],
             [
              0.5555555555555556,
              "#d8576b"
             ],
             [
              0.6666666666666666,
              "#ed7953"
             ],
             [
              0.7777777777777778,
              "#fb9f3a"
             ],
             [
              0.8888888888888888,
              "#fdca26"
             ],
             [
              1,
              "#f0f921"
             ]
            ],
            "type": "heatmap"
           }
          ],
          "histogram": [
           {
            "marker": {
             "pattern": {
              "fillmode": "overlay",
              "size": 10,
              "solidity": 0.2
             }
            },
            "type": "histogram"
           }
          ],
          "histogram2d": [
           {
            "colorbar": {
             "outlinewidth": 0,
             "ticks": ""
            },
            "colorscale": [
             [
              0,
              "#0d0887"
             ],
             [
              0.1111111111111111,
              "#46039f"
             ],
             [
              0.2222222222222222,
              "#7201a8"
             ],
             [
              0.3333333333333333,
              "#9c179e"
             ],
             [
              0.4444444444444444,
              "#bd3786"
             ],
             [
              0.5555555555555556,
              "#d8576b"
             ],
             [
              0.6666666666666666,
              "#ed7953"
             ],
             [
              0.7777777777777778,
              "#fb9f3a"
             ],
             [
              0.8888888888888888,
              "#fdca26"
             ],
             [
              1,
              "#f0f921"
             ]
            ],
            "type": "histogram2d"
           }
          ],
          "histogram2dcontour": [
           {
            "colorbar": {
             "outlinewidth": 0,
             "ticks": ""
            },
            "colorscale": [
             [
              0,
              "#0d0887"
             ],
             [
              0.1111111111111111,
              "#46039f"
             ],
             [
              0.2222222222222222,
              "#7201a8"
             ],
             [
              0.3333333333333333,
              "#9c179e"
             ],
             [
              0.4444444444444444,
              "#bd3786"
             ],
             [
              0.5555555555555556,
              "#d8576b"
             ],
             [
              0.6666666666666666,
              "#ed7953"
             ],
             [
              0.7777777777777778,
              "#fb9f3a"
             ],
             [
              0.8888888888888888,
              "#fdca26"
             ],
             [
              1,
              "#f0f921"
             ]
            ],
            "type": "histogram2dcontour"
           }
          ],
          "mesh3d": [
           {
            "colorbar": {
             "outlinewidth": 0,
             "ticks": ""
            },
            "type": "mesh3d"
           }
          ],
          "parcoords": [
           {
            "line": {
             "colorbar": {
              "outlinewidth": 0,
              "ticks": ""
             }
            },
            "type": "parcoords"
           }
          ],
          "pie": [
           {
            "automargin": true,
            "type": "pie"
           }
          ],
          "scatter": [
           {
            "fillpattern": {
             "fillmode": "overlay",
             "size": 10,
             "solidity": 0.2
            },
            "type": "scatter"
           }
          ],
          "scatter3d": [
           {
            "line": {
             "colorbar": {
              "outlinewidth": 0,
              "ticks": ""
             }
            },
            "marker": {
             "colorbar": {
              "outlinewidth": 0,
              "ticks": ""
             }
            },
            "type": "scatter3d"
           }
          ],
          "scattercarpet": [
           {
            "marker": {
             "colorbar": {
              "outlinewidth": 0,
              "ticks": ""
             }
            },
            "type": "scattercarpet"
           }
          ],
          "scattergeo": [
           {
            "marker": {
             "colorbar": {
              "outlinewidth": 0,
              "ticks": ""
             }
            },
            "type": "scattergeo"
           }
          ],
          "scattergl": [
           {
            "marker": {
             "colorbar": {
              "outlinewidth": 0,
              "ticks": ""
             }
            },
            "type": "scattergl"
           }
          ],
          "scattermap": [
           {
            "marker": {
             "colorbar": {
              "outlinewidth": 0,
              "ticks": ""
             }
            },
            "type": "scattermap"
           }
          ],
          "scattermapbox": [
           {
            "marker": {
             "colorbar": {
              "outlinewidth": 0,
              "ticks": ""
             }
            },
            "type": "scattermapbox"
           }
          ],
          "scatterpolar": [
           {
            "marker": {
             "colorbar": {
              "outlinewidth": 0,
              "ticks": ""
             }
            },
            "type": "scatterpolar"
           }
          ],
          "scatterpolargl": [
           {
            "marker": {
             "colorbar": {
              "outlinewidth": 0,
              "ticks": ""
             }
            },
            "type": "scatterpolargl"
           }
          ],
          "scatterternary": [
           {
            "marker": {
             "colorbar": {
              "outlinewidth": 0,
              "ticks": ""
             }
            },
            "type": "scatterternary"
           }
          ],
          "surface": [
           {
            "colorbar": {
             "outlinewidth": 0,
             "ticks": ""
            },
            "colorscale": [
             [
              0,
              "#0d0887"
             ],
             [
              0.1111111111111111,
              "#46039f"
             ],
             [
              0.2222222222222222,
              "#7201a8"
             ],
             [
              0.3333333333333333,
              "#9c179e"
             ],
             [
              0.4444444444444444,
              "#bd3786"
             ],
             [
              0.5555555555555556,
              "#d8576b"
             ],
             [
              0.6666666666666666,
              "#ed7953"
             ],
             [
              0.7777777777777778,
              "#fb9f3a"
             ],
             [
              0.8888888888888888,
              "#fdca26"
             ],
             [
              1,
              "#f0f921"
             ]
            ],
            "type": "surface"
           }
          ],
          "table": [
           {
            "cells": {
             "fill": {
              "color": "#EBF0F8"
             },
             "line": {
              "color": "white"
             }
            },
            "header": {
             "fill": {
              "color": "#C8D4E3"
             },
             "line": {
              "color": "white"
             }
            },
            "type": "table"
           }
          ]
         },
         "layout": {
          "annotationdefaults": {
           "arrowcolor": "#2a3f5f",
           "arrowhead": 0,
           "arrowwidth": 1
          },
          "autotypenumbers": "strict",
          "coloraxis": {
           "colorbar": {
            "outlinewidth": 0,
            "ticks": ""
           }
          },
          "colorscale": {
           "diverging": [
            [
             0,
             "#8e0152"
            ],
            [
             0.1,
             "#c51b7d"
            ],
            [
             0.2,
             "#de77ae"
            ],
            [
             0.3,
             "#f1b6da"
            ],
            [
             0.4,
             "#fde0ef"
            ],
            [
             0.5,
             "#f7f7f7"
            ],
            [
             0.6,
             "#e6f5d0"
            ],
            [
             0.7,
             "#b8e186"
            ],
            [
             0.8,
             "#7fbc41"
            ],
            [
             0.9,
             "#4d9221"
            ],
            [
             1,
             "#276419"
            ]
           ],
           "sequential": [
            [
             0,
             "#0d0887"
            ],
            [
             0.1111111111111111,
             "#46039f"
            ],
            [
             0.2222222222222222,
             "#7201a8"
            ],
            [
             0.3333333333333333,
             "#9c179e"
            ],
            [
             0.4444444444444444,
             "#bd3786"
            ],
            [
             0.5555555555555556,
             "#d8576b"
            ],
            [
             0.6666666666666666,
             "#ed7953"
            ],
            [
             0.7777777777777778,
             "#fb9f3a"
            ],
            [
             0.8888888888888888,
             "#fdca26"
            ],
            [
             1,
             "#f0f921"
            ]
           ],
           "sequentialminus": [
            [
             0,
             "#0d0887"
            ],
            [
             0.1111111111111111,
             "#46039f"
            ],
            [
             0.2222222222222222,
             "#7201a8"
            ],
            [
             0.3333333333333333,
             "#9c179e"
            ],
            [
             0.4444444444444444,
             "#bd3786"
            ],
            [
             0.5555555555555556,
             "#d8576b"
            ],
            [
             0.6666666666666666,
             "#ed7953"
            ],
            [
             0.7777777777777778,
             "#fb9f3a"
            ],
            [
             0.8888888888888888,
             "#fdca26"
            ],
            [
             1,
             "#f0f921"
            ]
           ]
          },
          "colorway": [
           "#636efa",
           "#EF553B",
           "#00cc96",
           "#ab63fa",
           "#FFA15A",
           "#19d3f3",
           "#FF6692",
           "#B6E880",
           "#FF97FF",
           "#FECB52"
          ],
          "font": {
           "color": "#2a3f5f"
          },
          "geo": {
           "bgcolor": "white",
           "lakecolor": "white",
           "landcolor": "#E5ECF6",
           "showlakes": true,
           "showland": true,
           "subunitcolor": "white"
          },
          "hoverlabel": {
           "align": "left"
          },
          "hovermode": "closest",
          "mapbox": {
           "style": "light"
          },
          "paper_bgcolor": "white",
          "plot_bgcolor": "#E5ECF6",
          "polar": {
           "angularaxis": {
            "gridcolor": "white",
            "linecolor": "white",
            "ticks": ""
           },
           "bgcolor": "#E5ECF6",
           "radialaxis": {
            "gridcolor": "white",
            "linecolor": "white",
            "ticks": ""
           }
          },
          "scene": {
           "xaxis": {
            "backgroundcolor": "#E5ECF6",
            "gridcolor": "white",
            "gridwidth": 2,
            "linecolor": "white",
            "showbackground": true,
            "ticks": "",
            "zerolinecolor": "white"
           },
           "yaxis": {
            "backgroundcolor": "#E5ECF6",
            "gridcolor": "white",
            "gridwidth": 2,
            "linecolor": "white",
            "showbackground": true,
            "ticks": "",
            "zerolinecolor": "white"
           },
           "zaxis": {
            "backgroundcolor": "#E5ECF6",
            "gridcolor": "white",
            "gridwidth": 2,
            "linecolor": "white",
            "showbackground": true,
            "ticks": "",
            "zerolinecolor": "white"
           }
          },
          "shapedefaults": {
           "line": {
            "color": "#2a3f5f"
           }
          },
          "ternary": {
           "aaxis": {
            "gridcolor": "white",
            "linecolor": "white",
            "ticks": ""
           },
           "baxis": {
            "gridcolor": "white",
            "linecolor": "white",
            "ticks": ""
           },
           "bgcolor": "#E5ECF6",
           "caxis": {
            "gridcolor": "white",
            "linecolor": "white",
            "ticks": ""
           }
          },
          "title": {
           "x": 0.05
          },
          "xaxis": {
           "automargin": true,
           "gridcolor": "white",
           "linecolor": "white",
           "ticks": "",
           "title": {
            "standoff": 15
           },
           "zerolinecolor": "white",
           "zerolinewidth": 2
          },
          "yaxis": {
           "automargin": true,
           "gridcolor": "white",
           "linecolor": "white",
           "ticks": "",
           "title": {
            "standoff": 15
           },
           "zerolinecolor": "white",
           "zerolinewidth": 2
          }
         }
        },
        "title": {
         "text": "Sector Distribution by Region (Treemap)",
         "x": 0.5,
         "xanchor": "center"
        },
        "treemapcolorway": [
         "rgb(102,194,165)",
         "rgb(252,141,98)",
         "rgb(141,160,203)",
         "rgb(231,138,195)",
         "rgb(166,216,84)",
         "rgb(255,217,47)",
         "rgb(229,196,148)",
         "rgb(179,179,179)",
         "rgb(102,194,165)",
         "rgb(252,141,98)",
         "rgb(141,160,203)",
         "rgb(231,138,195)",
         "rgb(166,216,84)",
         "rgb(255,217,47)",
         "rgb(229,196,148)",
         "rgb(179,179,179)",
         "rgb(102,194,165)",
         "rgb(252,141,98)",
         "rgb(141,160,203)",
         "rgb(231,138,195)",
         "rgb(166,216,84)",
         "rgb(255,217,47)",
         "rgb(229,196,148)",
         "rgb(179,179,179)",
         "rgb(102,194,165)",
         "rgb(252,141,98)",
         "rgb(141,160,203)",
         "rgb(231,138,195)",
         "rgb(166,216,84)",
         "rgb(255,217,47)",
         "rgb(229,196,148)",
         "rgb(179,179,179)"
        ],
        "width": 1000
       }
      }
     },
     "metadata": {},
     "output_type": "display_data"
    }
   ],
   "source": [
    "fig = px.treemap(\n",
    "    df,\n",
    "    path=['region', 'description'],\n",
    "    values='company_count',\n",
    "    color='region',\n",
    "    title='Sector Distribution by Region (Treemap)',\n",
    "    color_discrete_sequence=px.colors.qualitative.Set2,\n",
    "    width=1000,\n",
    "    height=600\n",
    ")\n",
    "\n",
    "fig.update_traces(\n",
    "    textinfo='label+value', \n",
    "    tiling=dict(pad=5), \n",
    "    marker=dict(cornerradius=5),\n",
    "    textfont_size=12\n",
    ")\n",
    "\n",
    "fig.update_layout(\n",
    "    title=dict(\n",
    "        text='Sector Distribution by Region (Treemap)',\n",
    "        x=0.5,\n",
    "        xanchor='center'\n",
    "    )\n",
    ")\n",
    "\n",
    "fig.show()\n"
   ]
  },
  {
   "cell_type": "code",
   "execution_count": 121,
   "id": "5f700be5",
   "metadata": {},
   "outputs": [
    {
     "name": "stdout",
     "output_type": "stream",
     "text": [
      "Empty DataFrame\n",
      "Columns: [EnterpriseNumber, cnt]\n",
      "Index: []\n"
     ]
    }
   ],
   "source": [
    "q_check_duplicate = \"\"\"\n",
    "SELECT EnterpriseNumber, COUNT(*) AS cnt\n",
    "FROM enterprise\n",
    "GROUP BY EnterpriseNumber\n",
    "HAVING COUNT(*) > 1 LIMIT 100\"\"\"\n",
    "\n",
    "df_check_duplicate = pd.read_sql_query(q_check_duplicate, connect)\n",
    "\n",
    "print(df_check_duplicate.head(10))"
   ]
  },
  {
   "cell_type": "code",
   "execution_count": 122,
   "id": "e5e61651",
   "metadata": {},
   "outputs": [
    {
     "name": "stdout",
     "output_type": "stream",
     "text": [
      "  Municipality                          Region   latitude  longitude  \\\n",
      "0    Antwerpen                   Vlaams Gewest  51.248448   4.376134   \n",
      "1    Antwerpen                   Vlaams Gewest  51.248448   4.376134   \n",
      "2      Brussel  Brussels Hoofdstedelijk Gewest  50.872983   4.375234   \n",
      "3      Brussel  Brussels Hoofdstedelijk Gewest  50.822326   4.377066   \n",
      "4       Elsene  Brussels Hoofdstedelijk Gewest  50.822326   4.377066   \n",
      "5       Elsene  Brussels Hoofdstedelijk Gewest  50.829476   4.344698   \n",
      "6        Ukkel  Brussels Hoofdstedelijk Gewest  50.789871   4.361370   \n",
      "7      Brussel  Brussels Hoofdstedelijk Gewest  50.872983   4.375234   \n",
      "8      Brussel  Brussels Hoofdstedelijk Gewest  50.853812   4.369279   \n",
      "9         Gent                   Vlaams Gewest  51.053261   3.720262   \n",
      "\n",
      "                                              sector  company_count  \n",
      "0  Professional, scientific and technical activities           3498  \n",
      "1                         Wholesale and retail trade           2870  \n",
      "2  Professional, scientific and technical activities           2589  \n",
      "3  Professional, scientific and technical activities           2545  \n",
      "4  Professional, scientific and technical activities           2385  \n",
      "5  Professional, scientific and technical activities           2385  \n",
      "6  Professional, scientific and technical activities           2282  \n",
      "7                         Wholesale and retail trade           2070  \n",
      "8  Professional, scientific and technical activities           2021  \n",
      "9  Professional, scientific and technical activities           1904  \n"
     ]
    }
   ],
   "source": [
    "q = \"\"\"SELECT \n",
    "    ad.MunicipalityNL AS Municipality,\n",
    "    g.\"Région name (Dutch)\" AS Region,\n",
    "    CAST(substr(g.\"Geo Point\", 1, instr(g.\"Geo Point\", ',') - 1) AS FLOAT) AS latitude,\n",
    "    CAST(substr(g.\"Geo Point\", instr(g.\"Geo Point\", ',') + 2) AS FLOAT) AS longitude,\n",
    "    n.description AS sector,\n",
    "    COUNT(*) AS company_count\n",
    "FROM activity_lable_cleaned AS a\n",
    "JOIN address AS ad ON a.EntityNumber = ad.EntityNumber\n",
    "JOIN geo_data AS g ON ad.Zipcode = g.\"Post code\"\n",
    "JOIN enterprise AS e ON a.EntityNumber = e.EnterpriseNumber\n",
    "JOIN JuridicalForm AS j ON e.JuridicalForm = j.code\n",
    "JOIN nace_section AS n ON a.nace_section = n.section\n",
    "WHERE a.Classification = 'MAIN'\n",
    "  AND j.description_nl = 'Besloten Vennootschap'\n",
    "  AND n.description IN (\n",
    "    'Professional, scientific and technical activities',\n",
    "    'Wholesale and retail trade',\n",
    "    'Administrative and support service activities'\n",
    "  )\n",
    "  AND ad.CountryNL IS NULL\n",
    "GROUP BY Municipality, latitude, longitude, sector\n",
    "HAVING COUNT(*) > 5\n",
    "ORDER BY company_count DESC;\n",
    "\"\"\"\n",
    "\n",
    "df = pd.read_sql_query(q, connect)\n",
    "\n",
    "print(df.head(10))\n",
    "\n"
   ]
  },
  {
   "cell_type": "code",
   "execution_count": 123,
   "id": "ca2645a7",
   "metadata": {},
   "outputs": [
    {
     "name": "stderr",
     "output_type": "stream",
     "text": [
      "/var/folders/6k/0qvxrpnd0rd_bcv5419k929r0000gn/T/ipykernel_6061/123886987.py:1: DeprecationWarning:\n",
      "\n",
      "*scatter_mapbox* is deprecated! Use *scatter_map* instead. Learn more at: https://plotly.com/python/mapbox-to-maplibre/\n",
      "\n"
     ]
    },
    {
     "data": {
      "application/vnd.plotly.v1+json": {
       "config": {
        "plotlyServerURL": "https://plot.ly"
       },
       "data": [
        {
         "customdata": {
          "bdata": "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",
          "dtype": "f8",
          "shape": "1001, 3"
         },
         "hovertemplate": "<b>%{hovertext}</b><br><br>sector=Professional, scientific and technical activities<br>company_count=%{customdata[0]}<extra></extra>",
         "hovertext": [
          "Antwerpen",
          "Brussel",
          "Brussel",
          "Elsene",
          "Elsene",
          "Ukkel",
          "Brussel",
          "Gent",
          "Hasselt",
          "Sint-Pieters-Woluwe",
          "Schaarbeek",
          "Liège",
          "Leuven",
          "Antwerpen",
          "Mechelen",
          "Liège",
          "Watermaal-Bosvoorde",
          "Etterbeek",
          "Etterbeek",
          "Waterloo",
          "Roeselare",
          "Schilde",
          "Kortrijk",
          "Vorst",
          "Brasschaat",
          "Lasne",
          "Sint-Lambrechts-Woluwe",
          "Sint-Gillis (bij-Brussel)",
          "Oudergem",
          "Anderlecht",
          "Overijse",
          "Wavre",
          "Wavre",
          "Brussel",
          "Schoten",
          "Antwerpen",
          "Knokke-Heist",
          "Kapellen",
          "Leuven",
          "Sint-Niklaas",
          "Genk",
          "Zoersel",
          "Lier",
          "Oostende",
          "Deinze",
          "Brugge",
          "Tervuren",
          "Edegem",
          "Kontich",
          "Lokeren",
          "Braine-l'Alleud",
          "Geel",
          "Brugge",
          "Sint-Jans-Molenbeek",
          "Sint-Genesius-Rode",
          "Chaumont-Gistoux",
          "Dendermonde",
          "Antwerpen",
          "Beveren-Kruibeke-Zwijndrecht",
          "Turnhout",
          "Oudenaarde",
          "Temse",
          "Aalst",
          "Waregem",
          "Dilbeek",
          "Herentals",
          "Nivelles",
          "Keerbergen",
          "Liège",
          "Koksijde",
          "Mol",
          "Destelbergen",
          "Heusden-Zolder",
          "Merelbeke-Melle",
          "Ottignies-Louvain-la-Neuve",
          "Brecht",
          "Herent",
          "Lochristi",
          "Asse",
          "Gent",
          "Aalter",
          "Mortsel",
          "Grez-Doiceau",
          "Sint-Truiden",
          "Bonheiden",
          "Wemmel",
          "Kalmthout",
          "Leuven",
          "Mons",
          "Rixensart",
          "Jette",
          "Zonhoven",
          "Gent",
          "Oostkamp",
          "Sint-Martens-Latem",
          "Zaventem",
          "Bornem",
          "Ranst",
          "Vilvoorde",
          "Namur",
          "Waasmunster",
          "Verviers",
          "Antwerpen",
          "Evergem",
          "Wevelgem",
          "Brugge",
          "Izegem",
          "Merchtem",
          "Gent",
          "Tournai",
          "Aartselaar",
          "Evere",
          "Grimbergen",
          "Lommel",
          "Nijlen",
          "Kortrijk",
          "Gent",
          "Bilzen-Hoeselt",
          "Ieper",
          "Ieper",
          "Tienen",
          "Wezembeek-Oppem",
          "Heist-op-den-Berg",
          "Londerzeel",
          "Zottegem",
          "La Hulpe",
          "Westerlo",
          "Hove",
          "Hoeilaart",
          "Halle",
          "Tongeren-Borgloon",
          "Kasterlee",
          "Wetteren",
          "Kraainem",
          "Rumst",
          "Duffel",
          "Puurs-Sint-Amands",
          "Erpe-Mere",
          "Namur",
          "Nazareth-De Pinte",
          "Verviers",
          "Putte",
          "Rixensart",
          "Oosterzele",
          "Ottignies-Louvain-la-Neuve",
          "Antwerpen",
          "Sint-Agatha-Berchem",
          "Namur",
          "Namur",
          "Wuustwezel",
          "Jodoigne",
          "Zulte",
          "Boechout",
          "Zedelgem",
          "Nazareth-De Pinte",
          "Tielt",
          "Beerse",
          "Diepenbeek",
          "Kampenhout",
          "Houthalen-Helchteren",
          "Knokke-Heist",
          "Haacht",
          "Sint-Joost-ten-Node",
          "Essen",
          "Willebroek",
          "Wommelgem",
          "Malle",
          "Lille",
          "Lummen",
          "Chaudfontaine",
          "Gavere",
          "Jabbeke",
          "Deinze",
          "Zele",
          "Lubbeek",
          "Meise",
          "Menen",
          "Aalst",
          "Esneux",
          "Ninove",
          "Ninove",
          "Ninove",
          "Maasmechelen",
          "Sprimont",
          "Gent",
          "Herve",
          "Ronse",
          "Sint-Katelijne-Waver",
          "Stekene",
          "Antwerpen",
          "Beveren-Kruibeke-Zwijndrecht",
          "Hamme (Vl.)",
          "Harelbeke",
          "Maaseik",
          "Zwevegem",
          "Bierbeek",
          "Lennik",
          "Mouscron",
          "Braine-le-Château",
          "Hasselt",
          "Mont-Saint-Guibert",
          "Oud-Turnhout",
          "Rotselaar",
          "Wingene",
          "Eghezée",
          "Merelbeke-Melle",
          "Diest",
          "Gembloux",
          "Huldenberg",
          "Tessenderlo-Ham",
          "Lede",
          "Tubize",
          "Villers-la-Ville",
          "Walhain",
          "Anzegem",
          "Gent",
          "Machelen (Brab.)",
          "Leuven",
          "Hannut",
          "Huy",
          "Maldegem",
          "Genappe",
          "Genappe",
          "Lanaken",
          "Andenne",
          "Alken",
          "Sint-Gillis-Waas",
          "Kortrijk",
          "Laarne",
          "Charleroi",
          "Herk-de-Stad",
          "Opwijk",
          "Bree",
          "Grimbergen",
          "Pelt",
          "Wijnegem",
          "Chaudfontaine",
          "Gent",
          "Torhout",
          "Wavre",
          "Court-Saint-Etienne",
          "Sint-Niklaas",
          "Ganshoren",
          "Aarschot",
          "Eupen",
          "Sint-Pieters-Leeuw",
          "Enghien",
          "Stabroek",
          "Perwez",
          "Koekelberg",
          "Affligem",
          "Berlare",
          "Ham-sur-Heure-Nalinnes",
          "Pelt",
          "Boortmeerbeek",
          "Diksmuide",
          "Lebbeke",
          "Zemst",
          "Zemst",
          "Damme",
          "Beernem",
          "Braine-le-Comte",
          "La Louvière",
          "Seraing",
          "Geraardsbergen",
          "Geraardsbergen",
          "Balen",
          "Theux",
          "Berlaar",
          "Chastre",
          "Kuurne",
          "Vosselaar",
          "Antwerpen",
          "Deerlijk",
          "Brussel",
          "Beveren-Kruibeke-Zwijndrecht",
          "Lint",
          "Peer",
          "Riemst",
          "Visé",
          "Wielsbeke",
          "Oudsbergen",
          "Zonnebeke",
          "Buggenhout",
          "Ciney",
          "Haaltert",
          "Holsbeek",
          "Hoogstraten",
          "Kortenberg",
          "Veurne",
          "Meise",
          "Nieuwpoort",
          "Boom",
          "Kruisem",
          "Poperinge",
          "Wervik",
          "Beersel",
          "Beersel",
          "Beringen",
          "Eeklo",
          "Marche-en-Famenne",
          "Steenokkerzeel",
          "Rijkevorsel",
          "Beersel",
          "Beringen",
          "Herselt",
          "Moorslede",
          "Beauvechain",
          "Boutersem",
          "Sint-Martens-Latem",
          "Tremelo",
          "Aalst",
          "Zaventem",
          "Aywaille",
          "Hooglede",
          "Pajottegem",
          "Zandhoven",
          "Retie",
          "Tielt-Winge",
          "Arendonk",
          "Gerpinnes",
          "Malmedy",
          "Lievegem",
          "Olen",
          "Wortegem-Petegem",
          "Asse",
          "Zemst",
          "Hamont-Achel",
          "Blégny",
          "Gent",
          "Grâce-Hollogne",
          "Kapelle-op-den-Bos",
          "Profondeville",
          "Pont-à-Celles",
          "Dilsen-Stokkem",
          "Merksplas",
          "Wanze",
          "Wichelen",
          "Herve",
          "Herve",
          "Herve",
          "Staden",
          "Thimister-Clermont",
          "Charleroi",
          "Dilbeek",
          "Waremme",
          "Tessenderlo-Ham",
          "Fernelmont",
          "Incourt",
          "Seneffe",
          "Kruisem",
          "Lievegem",
          "Neupré",
          "Puurs-Sint-Amands",
          "Tongeren-Borgloon",
          "Bilzen-Hoeselt",
          "Brakel",
          "De Haan",
          "De Haan",
          "Ledegem",
          "Manage",
          "Tielt",
          "Dentergem",
          "Halen",
          "Herzele",
          "Nandrin",
          "Sint-Lievens-Houtem",
          "Sint-Lievens-Houtem",
          "Zaventem",
          "Jurbise",
          "Soignies",
          "Kortemark",
          "Namur",
          "Ternat",
          "Ardooie",
          "Villers-le-Bouillet",
          "Charleroi",
          "Flémalle",
          "Hechtel-Eksel",
          "Meerhout",
          "Ramillies",
          "Ittre",
          "Grobbendonk",
          "Harelbeke",
          "Heist-op-den-Berg",
          "Liège",
          "Gistel",
          "Yvoir",
          "Grimbergen",
          "Herstal",
          "Hulshout",
          "Jemeppe-sur-Sambre",
          "Schelle",
          "Ath",
          "Hoegaarden",
          "Jalhay",
          "Sint-Katelijne-Waver",
          "Brugge",
          "Herenthout",
          "Liedekerke",
          "Mechelen",
          "Orp-Jauche",
          "Oudsbergen",
          "Spa",
          "Aalter",
          "Niel",
          "Bocholt",
          "Couvin",
          "Hemiksem",
          "La Louvière",
          "Montigny-le-Tilleul",
          "Pajottegem",
          "Aarschot",
          "Bastogne",
          "Bertem",
          "Dinant",
          "Fleurus",
          "Silly",
          "Bredene",
          "Charleroi",
          "Waregem",
          "Beringen",
          "Ottignies-Louvain-la-Neuve",
          "Bertem",
          "Braine-l'Alleud",
          "Estaimpuis",
          "Ingelmunster",
          "Rebecq",
          "Walcourt",
          "Zwalm",
          "Awans",
          "Begijnendijk",
          "Blankenberge",
          "Dilbeek",
          "Kluisbergen",
          "Roosdaal",
          "Sambreville",
          "Sankt Vith",
          "Sankt Vith",
          "Sprimont",
          "Vorselaar",
          "Arlon",
          "Châtelet",
          "Ichtegem",
          "Sint-Niklaas",
          "Aalst",
          "Frameries",
          "Gembloux",
          "Kortenberg",
          "Landen",
          "Sombreffe",
          "Zutendaal",
          "Braine-l'Alleud",
          "Dessel",
          "Hasselt",
          "Tournai",
          "Ecaussinnes",
          "Pajottegem",
          "Waimes",
          "As",
          "La Bruyère",
          "Laakdal",
          "Ottignies-Louvain-la-Neuve",
          "Oudenburg",
          "Soumagne",
          "Zemst",
          "Ans",
          "Charleroi",
          "Le Roeulx",
          "Linkebeek",
          "Oud-Heverlee",
          "Pittem",
          "Trooz",
          "Les Bons Villers",
          "Les Bons Villers",
          "Rochefort",
          "Ans",
          "Boortmeerbeek",
          "Gesves",
          "La Bruyère",
          "Mettet",
          "Middelkerke",
          "Rixensart",
          "Tremelo",
          "Waregem",
          "Antwerpen",
          "Floreffe",
          "Libramont-Chevigny",
          "Lokeren",
          "Mechelen",
          "Halle",
          "Zoutleeuw",
          "Nieuwerkerken (Limb.)",
          "Oud-Heverlee",
          "Oupeye",
          "Frasnes-lez-Anvaing",
          "Kinrooi",
          "Kortenberg",
          "Wellen",
          "Avelgem",
          "Oud-Heverlee",
          "Rotselaar",
          "Soumagne",
          "Beveren-Kruibeke-Zwijndrecht",
          "Blégny",
          "Gingelom",
          "Lendelede",
          "Scherpenheuvel-Zichem",
          "Assesse",
          "Assesse",
          "De Panne",
          "Dilbeek",
          "Dour",
          "Mouscron",
          "Welkenraedt",
          "Assenede",
          "Florennes",
          "Machelen (Brab.)",
          "Maldegem",
          "Tournai",
          "Ellezelles",
          "Langemark-Poelkapelle",
          "Wingene",
          "Bekkevoort",
          "Binche",
          "Binche",
          "Binche",
          "Boechout",
          "Lichtervelde",
          "Aubel",
          "Fosses-la-Ville",
          "Kaprijke",
          "Middelkerke",
          "Oostrozebeke",
          "Saint-Nicolas",
          "Ternat",
          "Verlaine",
          "Antwerpen",
          "Neupré",
          "Chaudfontaine",
          "Denderleeuw",
          "Mons",
          "Olne",
          "Waregem",
          "Heist-op-den-Berg",
          "Lievegem",
          "Lochristi",
          "Maarkedal",
          "Mons",
          "Nivelles",
          "Ravels",
          "Bassenge",
          "Braives",
          "Braives",
          "Dalhem",
          "Hasselt",
          "Rotselaar",
          "Tournai",
          "Beyne-Heusay",
          "Courcelles",
          "Grimbergen",
          "Halle",
          "Hasselt",
          "Glabbeek",
          "Herstal",
          "Linter",
          "Seneffe",
          "Stavelot",
          "Aalter",
          "Chapelle-lez-Herlaimont",
          "Charleroi",
          "Faimes",
          "Geraardsbergen",
          "Hoogstraten",
          "Philippeville",
          "Scherpenheuvel-Zichem",
          "Ternat",
          "Amay",
          "Ferrières",
          "Namur",
          "Thuin",
          "Thuin",
          "Welkenraedt",
          "Celles (lez-Tournai)",
          "Geetbets",
          "Heers",
          "Koekelare",
          "Morlanwelz",
          "Ninove",
          "Walcourt",
          "Diest",
          "Leuze-en-Hainaut",
          "Ravels",
          "Remicourt",
          "Burdinne",
          "Lanaken",
          "Soignies",
          "Zandhoven",
          "Beringen",
          "Estinnes",
          "Houthulst",
          "Pepinster",
          "Quévy",
          "Tournai",
          "Durbuy",
          "Grobbendonk",
          "Holsbeek",
          "Ieper",
          "Lubbeek",
          "Oreye",
          "Dalhem",
          "Juprelle",
          "Laakdal",
          "Péruwelz",
          "Somme-Leuze",
          "Zuienkerke",
          "Zwevegem",
          "Ath",
          "Beersel",
          "Eupen",
          "Heist-op-den-Berg",
          "Liège",
          "Lo-Reninge",
          "Modave",
          "Mons",
          "Neupré",
          "Saint-Georges-sur-Meuse",
          "Sint-Pieters-Leeuw",
          "Tinlot",
          "Zelzate",
          "Aiseau-Presles",
          "Crisnée",
          "Havelange",
          "Mechelen",
          "Plombières",
          "Scherpenheuvel-Zichem",
          "Thuin",
          "Zwevegem",
          "Assenede",
          "Büllingen",
          "Clavier",
          "Nazareth",
          "Zandhoven",
          "Anderlues",
          "Bertrix",
          "Chièvres",
          "Donceel",
          "Leopoldsburg",
          "Lierde",
          "Lierde",
          "Manhay",
          "Marchin",
          "Colfontaine",
          "Hoogstraten",
          "Héron",
          "Lens (Hainaut)",
          "Mons",
          "Stoumont",
          "Charleroi",
          "Neufchâteau",
          "Ohey",
          "Quaregnon",
          "Zwevegem",
          "Anhée",
          "Binche",
          "Charleroi",
          "Charleroi",
          "Comines-Warneton",
          "Diest",
          "Geer",
          "Genappe",
          "Landen",
          "Mouscron",
          "Namur",
          "Ravels",
          "Seraing",
          "Assesse",
          "Bever",
          "Denderleeuw",
          "Drogenbos",
          "Hamois",
          "Hamois",
          "Leopoldsburg",
          "Mons",
          "Namur",
          "Seraing",
          "Vielsalm",
          "Aarschot",
          "Ans",
          "Ath",
          "Baelen",
          "Balen",
          "Fléron",
          "Pepingen",
          "Sint-Pieters-Leeuw",
          "Zedelgem",
          "Beaumont",
          "Gembloux",
          "Lontzen",
          "Engis",
          "Flobecq",
          "Fléron",
          "Genappe",
          "Héron",
          "Ieper",
          "Lievegem",
          "Saint-Ghislain",
          "Vielsalm",
          "Zwevegem",
          "Berloz",
          "Boussu",
          "Bütgenbach",
          "Courcelles",
          "Erquelinnes",
          "Frasnes-lez-Anvaing",
          "Genappe",
          "Hasselt",
          "Herve",
          "Hoogstraten",
          "Kortenaken",
          "Kruisem",
          "Mons",
          "Mons",
          "Mont-de-l'Enclus",
          "Nivelles",
          "Sint-Truiden",
          "Soignies",
          "Verviers",
          "Virton",
          "Beauraing",
          "Beauraing",
          "Charleroi",
          "Charleroi",
          "Chimay",
          "Honnelles",
          "Maarkedal",
          "Oupeye",
          "Saint-Hubert",
          "Antoing",
          "Bernissart",
          "Fléron",
          "Frasnes-lez-Anvaing",
          "Genappe",
          "Maarkedal",
          "Amel",
          "Ardooie",
          "Chaudfontaine",
          "De Haan",
          "Fexhe-le-Haut-Clocher",
          "Hoogstraten",
          "Horebeke",
          "Hélécine",
          "Ninove",
          "Oud-Heverlee",
          "Raeren",
          "Raeren",
          "Saint-Ghislain",
          "Wasseiges",
          "Anzegem",
          "Brunehaut",
          "Chimay",
          "Comblain-au-Pont",
          "Fontaine-l'Evêque",
          "Gedinne",
          "Lessines",
          "Lubbeek",
          "Morlanwelz",
          "Oupeye",
          "Sint-Laureins",
          "Visé",
          "Alveringem",
          "Beersel",
          "Cerfontaine",
          "Erezée",
          "Habay",
          "Herzele",
          "Hotton",
          "Lessines",
          "Lincent",
          "Ouffet",
          "Oupeye",
          "Pont-à-Celles",
          "Sint-Truiden",
          "Beloeil",
          "Fleurus",
          "Hamoir",
          "Juprelle",
          "Kortenaken",
          "La Roche-en-Ardenne",
          "Maasmechelen",
          "Merbes-le-Château",
          "Middelkerke",
          "Poperinge",
          "Saint-Ghislain",
          "Alveringem",
          "Bièvre",
          "Durbuy",
          "Ieper",
          "Kruisem",
          "Limbourg",
          "Mons",
          "Namur",
          "Plombières",
          "Saint-Ghislain",
          "Vaux-sur-Sûre",
          "Dison",
          "Etalle",
          "Farciennes",
          "Gent",
          "Herve",
          "Hoegaarden",
          "Leuze-en-Hainaut",
          "Libin",
          "Limbourg",
          "Ninove",
          "Ninove",
          "Pajottegem",
          "Paliseul",
          "Pecq",
          "Roosdaal",
          "Spiere-Helkijn",
          "Viroinval",
          "Awans",
          "Bastogne",
          "Bekkevoort",
          "Boussu",
          "Burg-Reuland",
          "Denderleeuw",
          "Doische",
          "Hamois",
          "Hasselt",
          "Hensies",
          "Herve",
          "Kortrijk",
          "Les Bons Villers",
          "Lierneux",
          "Oud-Heverlee",
          "Tielt-Winge",
          "Anthisnes",
          "Ath",
          "Beloeil",
          "Beloeil",
          "Beveren",
          "Comines-Warneton",
          "Courcelles",
          "Dinant",
          "Dison",
          "Florenville",
          "Florenville",
          "Froidchapelle",
          "Geetbets",
          "Glabbeek",
          "Haaltert",
          "Léglise",
          "Oupeye",
          "Pepingen",
          "Raeren",
          "Sint-Laureins",
          "Vleteren",
          "Bilzen-Hoeselt",
          "Binche",
          "Fontaine-l'Evêque",
          "Ham",
          "Houffalize",
          "Kelmis",
          "Lessines",
          "Lierde",
          "Lobbes",
          "Namur",
          "Sivry-Rance",
          "Thuin",
          "Tournai",
          "Bernissart",
          "Hasselt",
          "Landen",
          "Messancy",
          "Saint-Ghislain",
          "Sint-Lievens-Houtem",
          "Soumagne",
          "Tintigny",
          "Tournai",
          "Anzegem",
          "Assenede",
          "Attert",
          "Avelgem",
          "Blégny",
          "Charleroi",
          "Dalhem",
          "Middelkerke",
          "Namur",
          "Poperinge",
          "Péruwelz",
          "Genappe",
          "Juprelle",
          "Juprelle",
          "Lievegem",
          "Lontzen",
          "Nassogne",
          "Pepinster",
          "Plombières",
          "Quiévrain",
          "Sainte-Ode",
          "Soignies",
          "Voeren",
          "Vresse-sur-Semois",
          "Bouillon",
          "Bouillon",
          "Charleroi",
          "Comines-Warneton",
          "Courcelles",
          "Fontaine-l'Evêque",
          "Hastière",
          "Heuvelland",
          "Heuvelland",
          "Kaprijke",
          "Limbourg",
          "Pecq",
          "Rumes",
          "Sint-Laureins",
          "Tournai",
          "Vielsalm",
          "Voeren",
          "Voeren",
          "Wellin",
          "Wellin",
          "Anthisnes",
          "Ath",
          "Aubange",
          "Aubange",
          "Chiny",
          "Fleurus",
          "Gingelom",
          "Hamois",
          "Heuvelland",
          "Houyet",
          "Houyet",
          "Houyet",
          "Maldegem",
          "Merelbeke",
          "Montigny-le-Tilleul",
          "Namur",
          "Onhaye",
          "Onhaye",
          "Pepingen",
          "Quévy",
          "Tournai",
          "Visé",
          "Zwalm",
          "Zwijndrecht",
          "Aubange",
          "Avelgem",
          "Beaumont",
          "Brugelette",
          "Charleroi",
          "Fauvillers",
          "Gooik",
          "Ieper",
          "Kortenaken",
          "Kortenaken",
          "Meix-devant-Virton",
          "Momignies",
          "Nivelles",
          "Ohey",
          "Onhaye",
          "Paliseul",
          "Pecq",
          "Péruwelz",
          "Saint-Léger (Lux.)",
          "Sint-Laureins",
          "Soumagne",
          "Tellin",
          "Tenneville",
          "Tournai",
          "Tournai",
          "Tournai",
          "Tournai",
          "Trois-Ponts",
          "Assesse",
          "Ath",
          "Baarle-Hertog",
          "Beauraing",
          "Bouillon",
          "Braives",
          "Charleroi",
          "Comblain-au-Pont",
          "Fléron",
          "Glabbeek",
          "Habay",
          "Hasselt",
          "Herzele",
          "Heuvelland",
          "Heuvelland",
          "Houffalize",
          "Mons",
          "Mons",
          "Rendeux",
          "Sankt Vith",
          "Thuin",
          "Tournai",
          "Wachtebeke",
          "Wellen"
         ],
         "lat": {
          "bdata": "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",
          "dtype": "f8"
         },
         "legendgroup": "Professional, scientific and technical activities",
         "lon": {
          "bdata": "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",
          "dtype": "f8"
         },
         "marker": {
          "color": "#636efa",
          "size": {
           "bdata": "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",
           "dtype": "i2"
          },
          "sizemode": "area",
          "sizeref": 3.8866666666666667
         },
         "mode": "markers",
         "name": "Professional, scientific and technical activities",
         "showlegend": true,
         "subplot": "mapbox",
         "type": "scattermapbox"
        },
        {
         "customdata": {
          "bdata": "AAAAAABspkAGY2AjzZ9JQCm2IUcpgRFAAAAAAAAsoEA/dlflvW9JQHWxaGE9gBFAAAAAAABcmEA0GST3QWlJQJgHjI0dghFAAAAAAADslUAzFE+5SW1JQDmsCC8kehFAAAAAAADgkEC/pJEGHGpJQAlqYCTvKxFAAAAAAADIjEA0GST3QWlJQJgHjI0dghFAAAAAAADIjEBkX5ZHLGpJQNpMJWf4YBFAAAAAAAAwi0Bs3Co/0YZJQCTbjOcYww1AAAAAAADwiECrgqSkT25JQIjKyo9SixFAAAAAAABwh0BNVcB8GmVJQAg66xoLchFAAAAAAACIhkDuqQcqeG1JQDvJ0osPRhFAAAAAAACYgkDywgfAwUtJQP5UxFFkTxZAAAAAAABogkA9lx/7HnlJQHSFOXM48QhAAAAAAACIgUA3sC+SDFJJQInIZaWWThZAAAAAAACggECqMsLreXdJQGJ5K+tqahVAAAAAAADwfkDAm3RezHtJQFrOrEzN+hVAAAAAAABwfUCvrS+O2YNJQIx3bw5W3xFAAAAAAABAekDeyhiH85RJQIXlTo1noBBAAAAAAAAQekApJY1zHppJQM2oP+3nXAdAAAAAAADQeUASPi+J2VpJQGGh/X00nRFAAAAAAABgeEATo/+MoptJQNQf1I153xFAAAAAAABgeEDJSRtYx51JQKICWnxPqAlAAAAAAADwd0BkX5ZHLGpJQNpMJWf4YBFAAAAAAACgd0CWOZS/EnFJQDXcXY6u6RFAAAAAAABAd0AMBCUUX6xJQOnEQ5rZpwpAAAAAAABwdkDjJhksn2pJQMo/Vi4SlBFAAAAAAABwdkA/dlflvW9JQHWxaGE9gBFAAAAAAABQdkAbYb3vM2hJQINbsRz1SxFAAAAAAABAdkB603vY1IxJQPh13Xbcvg9AAAAAAAAAdkAJL0L6nadJQPvnJmtvABJAAAAAAACgdEBWt+GMvW1JQM6nXGSvwxJAAAAAAACQdEAzrRdDu4RJQH9AvagcVhBAAAAAAACQdEBWgY2xWFlJQGUhYNqiSRJAAAAAAACQdEBblOl6xVxJQFZ+ExaZcBJAAAAAAAAgdEDHVnjcYWhJQBlaITJbNgpAAAAAAAAAdEDjPgyE4KpJQPpAk4i+bRJAAAAAAADwc0BaQpaCG6pJQBaICJW6whNAAAAAAADQc0DfrlKwB5VJQLrRmtgzjRFAAAAAAABAc0AEjIfqdJdJQJQ9qAeFUxNAAAAAAAAwc0BY7Acu6lFJQNQwW/3ijRZAAAAAAAAQc0A0hk6jQWZJQEortEH16BRAAAAAAAAAc0D8PFJGjHhJQDzVIb4iMBBAAAAAAAAAc0AZCWZ/cn5JQLS6FweoIQxAAAAAAADgckBPPvFOBJJJQGeSirTE3RBAAAAAAADAckDuWkTJTpVJQIqcQcde8BNAAAAAAACAckAaiPzSl5hJQLCFHTBXuhFAAAAAAABAckCVc/VT2JBJQBIHYnRGPxJAAAAAAAAwckAvJGyN0KFJQHo4QSRkCBJAAAAAAAAAckA2Q4wBoFhJQELko8zVbhFAAAAAAACgcUB0Crzv35xJQCw379lONRVAAAAAAACQcUDW/n+3f2tJQBBoXlCpNAlAAAAAAABgcUARQtfhi2xJQAH0QD6C4wxAAAAAAABAcUBtJAOqJ4FJQOvtjzzZLRVAAAAAAACwcEB4y3rEYptJQN9NSuc39xBAAAAAAACgcECUBzoabXRJQIg15/O+PBFAAAAAAACQcEBZGbm1h2xJQJumrAXmuRFAAAAAAACQcEAjYODi92NJQMomLaK2ABFAAAAAAABwcECmiqYEv6pJQNCvGU1wxhFAAAAAAAAwcEC5q2HtcZBJQB/TOga4wxFAAAAAAAAwcEAr+NB2DndJQGVy6D7dthFAAAAAAAAgcEDRo/v96Z5JQLkvISMQfRRAAAAAAAAgcEC41DOWXKBJQPmy/7q8YBJAAAAAAAAgcEBgik3A2UhJQJWWCH/EhBdAAAAAAABgb0BYUJoFeV9JQMmZAcdguAlAAAAAAAAAb0C7+82uc3BJQFP3zOdZaQtAAAAAAAAgbkD/ecCgnWxJQPKnN9wVCBFAAAAAAADAbUDzcD7UpXRJQOouTQwWowlAAAAAAACgbUDXmMcbBohJQEajhPYy6xJAAAAAAACAbUCEVaEz3HBJQDFod9MYSRFAAAAAAAAgbUBBj+ZTM6BJQJN++W4rxxFAAAAAAAAAbUCT3yrKXG9JQEn2rZ4IohFAAAAAAADgbEC5hnMv2oNJQLr8GlWkrxVAAAAAAADgbEBXvFSdsktJQCSuaucgTxFAAAAAAACgbEBsFKZp7GZJQDWsVxPe+AhAAAAAAACAbECGaVbntotJQJa57mcxWwtAAAAAAABAbEBrtY1VxnBJQLD8W6RkyBJAAAAAAADga0DVAs90zI5JQMEWZff8rAlAAAAAAADga0DGHFd5YWpJQAcuk9S8xRFAAAAAAADAa0AGY8Tv35BJQFD+M9izhxFAAAAAAADAa0CLk0hrk3BJQK99bHD0CRZAAAAAAACAa0Db5qoTt0tJQICZVA+odhdAAAAAAABga0CQ78PqpHxJQBWP/GXlmxZAAAAAAAAga0DDfhQ+DmRJQBRlcCYl3hVAAAAAAACAakCDqZVZumJJQJT2RvqrIRJAAAAAAABAakAx6VV6aY9JQNPpXFgAqQ1AAAAAAABAakDUw1cDeJpJQJfAQDdoExJAAAAAAADgaUBsfjVooZZJQHMtqxTWZRFAAAAAAADgaUA8FDoInD1JQMwnr5mswhBAAAAAAADgaUDZrKgqhFdJQHvtb3Ts8hFAAAAAAACgaUBW4WLClGdJQLDpOb3CwxNAAAAAAACAaUDpad5ZVE1JQItEJuSwHAtAAAAAAABgaUC5XNYVxGhJQFqb3enFkAZAAAAAAABgaUB7V23qe21JQC0+yFNoKgdAAAAAAABAaUBP6h7soItJQKOcXIat6RBAAAAAAAAgaUC5CGTky5hJQLdge+jyXQlAAAAAAAAgaUAb74E0vKFJQOcShzQ/uxJAAAAAAADgaEAxAzrwwoxJQIuBix7Upw5AAAAAAACgaECQtxhJiI9JQPCCgVHimgVAAAAAAACgaEC5/pilS19JQL70Sc+zfhFAAAAAAAAgaEBPch4LY3RJQNHEwn9FvxBAAAAAAADAZ0B5hWgiKohJQMthdniwcBFAAAAAAACgZ0AzFE+5SW1JQDmsCC8kehFAAAAAAACAZ0BQDMV69l9JQFiLPstZ3AxAAAAAAACAZ0D4xH5XTYBJQDtTm7s79w5AAAAAAABgZ0DkUCvgZDpJQLw/XxB+vw9AAAAAAABgZ0CNJQ9wf5FJQGB1ZBF1FwlAAAAAAABgZ0C6L21cnohJQPL0FiXFJBBAAAAAAABAZ0CjpmTxrG5JQIQkDmr5LBFAAAAAAAAAZ0AozWbdlzpJQByAbFAMaxNAAAAAAADgZkDY92sUbYtJQMZ5AFaQexBAAAAAAADgZkDNKXlk2mVJQG9U4SGGDhBAAAAAAADgZkDmfTPHWWxJQLstagdRGBBAAAAAAADgZkBWw0VdUm1JQIuPDRtnuw9AAAAAAADgZkAOnz/hL49JQHmcQzLDkhNAAAAAAADgZkCVJdwtKLJJQKCBsrpIQxJAAAAAAADAZkBxNCeYojRJQJ19JNxemRNAAAAAAACAZkBfnDZQ24FJQHy/+vSKLxFAAAAAAACAZkBvxoGXtGdJQI4q98uAwBFAAAAAAABAZkDd6P1cOIRJQLgFrtIKzRZAAAAAAABAZkBdht59sYxJQDCqdOm30BZAAAAAAABAZkDASRS7s5dJQNJlCT1NZhJAAAAAAAAgZkCsjqAI4EpJQKCMVe89CBZAAAAAAADgZUA/Oy+2IptJQJLot+SKxxFAAAAAAADgZUDktfVaOH9JQEAxGep5+A1AAAAAAADgZUCB9uie+odJQGYpzQ+NwwhAAAAAAADAZUDtvJTrDbNJQAIPPyfv3xFAAAAAAACgZUA5ky8SSjVJQJOVCGJOyxFAAAAAAACgZUDFpHvdzIRJQLp71lUbKw5AAAAAAACgZUC+N4r096RJQPaIP1LG+RJAAAAAAACgZUDyW8Lj935JQKHxXbyzgRVAAAAAAABgZUCBiPQ/OW9JQIFbSZ4VUw5AAAAAAAAAZUAEUnmYWpZJQBqhk+ca2BFAAAAAAADgZEDLWQCkNWxJQB3ftCCo4hFAAAAAAADgZEAc8LIiA4dJQHAkroM0RxRAAAAAAADgZEAjKYJE/39JQBIlWmQCswpAAAAAAACgZEDCFuqz/pFJQP4oGpivixZAAAAAAACAZEAObPcAjJlJQCStdUtRdgtAAAAAAABgZEBvFEGETaBJQCbwXQYqShNAAAAAAABgZED6lcBEhHtJQIqOSfyF7hBAAAAAAABAZEBfxiPYsndJQKxV9Yh0xQtAAAAAAAAgZEBYc46LAKlJQAIPehVtVhNAAAAAAAAgZEA6J3AtAodJQFaL99lj+wZAAAAAAADgY0C9QyieWHVJQBjortdUuA9AAAAAAADAY0DYXKVoo5lJQCeXuiTXkhVAAAAAAACgY0B7tLg6v5tJQCqh9u3oLQpAAAAAAACgY0BnQCjrzmBJQMmmHKca9A5AAAAAAACgY0BdHTn+FWlJQNQ9Mv1LGA9AAAAAAACAY0BkX5ZHLGpJQNpMJWf4YBFAAAAAAABgY0DGCaBbiblJQCilmlIS3RFAAAAAAAAgY0D1YHMK25xJQDiwPGEgphNAAAAAAAAAY0BRXe1hZ5JJQFZ+nH00ihJAAAAAAAAAY0Cj59KaI51JQMoKbrxeehBAAAAAAAAAY0CcfHJXN4hJQMWbc64ZDxJAAAAAAADgYkANU2pYHX5JQDyes2tVVhNAAAAAAADgYkB8aCxwLm9JQEhh2e7SxhFAAAAAAADAYkBRKWDEAWNJQNZgtLMfYApAAAAAAACAYkB3EtqoJnVJQBHWX87CQBBAAAAAAACAYkDl7n4WHjlJQDvCLpYqiBJAAAAAAABgYkD+4yMY2WtJQMHMi1no7QpAAAAAAABAYkAKkXhp8FZJQMuuERpZfxZAAAAAAABAYkCkpTPExm9JQFlmEkp8uBBAAAAAAAAgYkA7mF4s+EdJQM6rrTq+yRJAAAAAAAAgYkBSICYjQH9JQDbIWwsJjRBAAAAAAADgYUCzxC7FY3RJQHXrMkQlXxFAAAAAAADAYUB6z1YCDYZJQFOCQO5KghJAAAAAAACgYUAXxQBhQ4lJQHDeBA+XKhFAAAAAAACgYUC4SMYQrohJQA7tXQ83TwpAAAAAAACAYUA61ygATHJJQFlL/1rqxxFAAAAAAACAYUDHSNFscHpJQCKoAwQixAxAAAAAAACAYUDuJLJgfmVJQGjLJLmksRFAAAAAAABgYUAwXeJE+pJJQJ9oxIouJBFAAAAAAABAYUDnx337mINJQBnd3ZiFfw5AAAAAAAAgYUDrUGQuGjFJQMP5IqDcChJAAAAAAAAgYUC7Tm5C92tJQLWPauV3igpAAAAAAADgYEDYWeJs35hJQC5C1t+nfwxAAAAAAADAYECunykjAJRJQGxHWq43uxFAAAAAAADAYEA41LpEVFZJQM+uW/RnVRRAAAAAAADAYEBnwkBR9JpJQLNniBd2EhBAAAAAAACgYEAC4zjEMnNJQB9nrMQnlRZAAAAAAACAYEBPdyi5joFJQFl3LKNJZRRAAAAAAACAYEBrrMb4L49JQGIOpnGpTBBAAAAAAABgYEAjojf5SDxJQPPO+K/VLhRAAAAAAABAYEBGWQMQ3VFJQIn7ozlULRdAAAAAAABAYECT77c44ZdJQCYzPgLoswhAAAAAAABAYECDqGdGd25JQBhbAnzcSxFAAAAAAABAYECPgt9kjldJQBP2Ge4GxxBAAAAAAAAgYECH2gTGSpVJQPeQIEkOwhRAAAAAAAAAYEDSAzuyqoVJQHvkKceXIgVAAAAAAADAX0B1pirEzCBJQHJDn8bFfRRAAAAAAADAX0A3m1Ct2Y1JQF3popGFPAZAAAAAAACAX0B9yEG+xjxJQAs0cYFMfBBAAAAAAABAX0A6db5TWnNJQBj5qeAyHhFAAAAAAABAX0BskOUJBDtJQIwD8re5NhNAAAAAAABAX0AaaCkVcT9JQKSSDXY2fhNAAAAAAAAAX0CjqdYHiF1JQEhefGcL9hBAAAAAAACAXkBkRHmHfKJJQLbAzwb87BVAAAAAAABAXkBdEY++RDxJQANBRMnBJBJAAAAAAABAXkANqD57qoBJQOYuL9sBnhJAAAAAAAAAXkDBY73U9GtJQLFsjzdctgtAAAAAAAAAXkB7K9gfGp9JQAA8JuZS0gpAAAAAAAAAXkDpSigCa3hJQK7iMJBrihFAAAAAAAAAXkB1lU7RGW5JQEmhUpY5LApAAAAAAADAXUCOO6pL11ZJQJ3LmgtM2BJAAAAAAACAXUAjtv6icHlJQKx7/YlWSBJAAAAAAABAXUCyQ/doSqRJQLeDc0XJuBFAAAAAAABAXUCf265NFnBJQLnq/5HdCRBAAAAAAABAXUAVeBHCG45JQP/F694n0RVAAAAAAABAXUDH2r6KQm1JQE55lBQywQVAAAAAAAAAXUB5dG9LMaZJQJvfttH/IQlAAAAAAAAAXUBs1kic7DhJQNC7wq2GvRFAAAAAAAAAXUBT+WSYr4VJQISGURKpSQxAAAAAAAAAXUDn8kKEHm1JQNY0kMZA3wlAAAAAAAAAXUAH7Qq9GWdJQErjAOP9tgpAAAAAAADAXECEXXBudYNJQI8r+nS7LRJAAAAAAADAXECVWja5qoJJQNpvNy6Uag1AAAAAAADAXEBuPLm6fX9JQKVPppWuzBRAAAAAAADAXECu0Gt7ZI1JQHKsKNw+oRFAAAAAAADAXEBo8Vxk6mtJQA/HxzU++BFAAAAAAACAXEA8JZt+I4NJQBD8EGj1rA9AAAAAAACAXEDhwGyWWXRJQNQhaMw/khJAAAAAAABAXECeGGYvPP9IQBL0h3jdHBdAAAAAAABAXEAtsBa3MVJJQCSgf/dwtxVAAAAAAABAXECKW9YHRXZJQCbaWgiXuhRAAAAAAABAXECtKcLZHbNJQMZ81ECR+BJAAAAAAABAXECRs3KYH4NJQHGr7eYC/wdAAAAAAAAAXECVLirHnZ1JQCOaHOV9RxFAAAAAAAAAXED7QGR8q3RJQMaS0tZxqxVAAAAAAAAAXEDWUSzPDalJQMY0MOp5BBRAAAAAAAAAXEDqdBGwimdJQDX+MsngZBZAAAAAAADAW0B1PR3vMGBJQKrcXV5CsRJAAAAAAADAW0AfcSI9jHtJQKRwKbysuhBAAAAAAACAW0BBjsGJQIxJQLK8SiR7DhJAAAAAAACAW0CvfKU07j9JQIuVQvtouRRAAAAAAACAW0CPA5iE8lVJQII19+FVVhJAAAAAAABAW0CLUuuF4lZJQHhM12S3EhFAAAAAAABAW0BZ8fdwgnRJQGn0m+3s3gpAAAAAAAAAW0C3k+JX8nVJQK+xHODhFQpAAAAAAAAAW0BQ65ve31tJQI9INgebghNAAAAAAAAAW0Df5ZoYY51JQFn/N6ZFERJAAAAAAAAAW0Bw7N6sP5xJQB0r+HmGqRJAAAAAAADAWkBhV03j1KpJQLIADpB/VxRAAAAAAADAWkDRsF6y+YtJQD6Hy87ZfRFAAAAAAADAWkD8v6Lj9EtJQMp5Ov5zuBVAAAAAAADAWkBorf7NjYZJQA5KMdN6EA1AAAAAAADAWkAabwg7nnpJQGvr8i/liQ9AAAAAAADAWkDR3u+yN0BJQHzPwR9U+xBAAAAAAADAWkAyQ7A1KoVJQDe1kGYSSRZAAAAAAADAWkA489CokJ1JQJLjAzlVxxVAAAAAAACAWkDOZdXcYnVJQJO4YqaqqQ1AAAAAAACAWkCt1Rztk4hJQIH1PMW+Jw5AAAAAAACAWkBV+t5xC4ZJQEw27W5eNRNAAAAAAACAWkCGUAOp7JRJQO7mcxbeihNAAAAAAABAWkCvreGub3BJQO3DGvyJKRVAAAAAAABAWkCdXi4Mb5hJQJQCRCF+WRZAAAAAAABAWkDrpTIjO31JQC0v/xRAiBJAAAAAAABAWkDreu9UuTpJQIvMm4vdwRJAAAAAAABAWkD0Zrw9RHVJQJqEd1ddPQxAAAAAAABAWkAwK0JIL6JJQECxISWiThRAAAAAAAAAWkD6L9OiRk1JQFzvN1YOhxBAAAAAAAAAWkAGIE7oMhtJQEq9baoFdxVAAAAAAADAWUBd0T597G9JQI0aasffPBFAAAAAAADAWUBWbkFywXtJQPJSOI79CQhAAAAAAADAWUDrH8EsjmlJQOMA0kwvkghAAAAAAABAWUDLxDaFsZdJQN1H5iqq9RJAAAAAAABAWUCXs0qvyYpJQA+P6uPoZBZAAAAAAAAAWUDk2vcJnZBJQJwmJIwbkQpAAAAAAAAAWUChPRKX/W9JQPDm50EFNglAAAAAAADAWEC1ozFDyTZJQID3A60F8RFAAAAAAADAWEAXSG7LA4JJQHfJw3knCQ1AAAAAAACAWEBJT5J8rH1JQKxJVqYegwhAAAAAAACAWEBZQIDiIpRJQKKcEKQnXBBAAAAAAABAWEDYEvGnrG9JQJkXnqgbDRFAAAAAAABAWEBh51qh5KdJQB/SqhAoEgpAAAAAAABAWEApCt8i+oRJQEGyqTyp2w5AAAAAAABAWEAxsUzkQqtJQMzKm3LRehFAAAAAAADAV0DVppiTGoZJQGI0vPJnsRRAAAAAAADAV0B4mfmzF49JQLzol9zIXRVAAAAAAADAV0AVKuuG0G5JQHp7vkc+1gdAAAAAAACAV0Ax2LWHJnpJQCsSSRy+ZxBAAAAAAACAV0DPZ02Jda1JQP3I4wTqERNAAAAAAACAV0Csv1TaT3RJQCXuFCQTDRJAAAAAAABAV0C1rrYfGi5JQC6o9PHMFxJAAAAAAABAV0D5fCDgx21JQHpd3P0LGA9AAAAAAABAV0DiT77GnHFJQCbmoxPhlwhAAAAAAAAAV0DDI86aQk1JQFsw6HTpjBhAAAAAAAAAV0Cp08iHgHdJQI63ve+pKQ5AAAAAAAAAV0Cg0RrCKVtJQGsaTpOyHBJAAAAAAAAAV0CBRk0ivHlJQFfYjtk8XApAAAAAAADAVkDSJKS4tddIQD20QRJR9xZAAAAAAADAVkAIW55UColJQNDf18NpHxVAAAAAAADAVkAkkKIqtYZJQERB8IkPmRNAAAAAAACAVkCE2ZyrBoFJQE9Bb8F+xRBAAAAAAACAVkDRo/v96Z5JQLkvISMQfRRAAAAAAACAVkCmd2+ObilJQKU9G5zHkRFAAAAAAABAVkBard6v7TBJQAwWAjiVwhFAAAAAAABAVkDTIeOZEzxJQOeaGWarxRFAAAAAAABAVkA2IJouB2lJQNlZ+P0UuBBAAAAAAAAAVkDbCMGfppBJQAWRNW3jMghAAAAAAAAAVkC7qa2D3HFJQEjJRJN58hJAAAAAAAAAVkC8JXVfaq9JQBQwwU0ZexNAAAAAAADAVUAlQvCDPk9JQEp0vN0BEBNAAAAAAADAVUD6U2UiVE5JQMLjbOgrHxBAAAAAAABAVUCr0Iypd0tJQBtVInCRoxNAAAAAAABAVUBKlZB06JVJQAHVJ8tM6hZAAAAAAABAVUCvYA802TdJQJJRfC5F5Q5AAAAAAABAVUDSWd0pUlhJQPgdsvroAxVAAAAAAAAAVUClLfqFBjZJQPfj9ylPxhBAAAAAAAAAVUCNdS0jGXFJQJ+Ti6cfVxNAAAAAAAAAVUDjvI57WT1JQG16MR35KxdAAAAAAAAAVUCice45WV5JQAIytv6fzhZAAAAAAADAVEBvjdveCztJQCDR1qXZfBFAAAAAAADAVEBqSzmrpvtIQNJqvpcvhRVAAAAAAADAVEBSZ0YXl3xJQNdhgFpwPBFAAAAAAADAVED4pggdCYBJQMtLZDI3Xw5AAAAAAACAVEDapRhPYTFJQMy1K+zc9g5AAAAAAACAVEBoPZ4NRo1JQLbLSve04xJAAAAAAACAVEC2BEy4HXdJQBeDw56gsgpAAAAAAACAVEADj18JHGlJQN4lETEKBRJAAAAAAABAVEAn2LBh0HRJQC2FNS4YbRBAAAAAAABAVEA9s383MY1JQM4FaaS1Lg5AAAAAAABAVEAr7bSAzHhJQE3dT9bmTBFAAAAAAABAVEBbwPvjDX9JQM3pctThKQpAAAAAAAAAVEDoXX6u3lBJQBHumLxyPg5AAAAAAAAAVECICAYQ92ZJQN1rTYiXHA5AAAAAAAAAVEBBFRIsWlRJQFdL9YEkJRBAAAAAAAAAVEC+cueWBX5JQGVEyCiLOQdAAAAAAAAAVECRrgLfjYNJQDwoI1NCKwlAAAAAAADAU0B2K7s47HVJQFwGReos1BJAAAAAAADAU0Au9x/ue1xJQAGNmVdBABJAAAAAAADAU0BU/WvPj2ZJQMA8LZOiYxVAAAAAAABAU0B4ofjQUXhJQLfac27eYhRAAAAAAABAU0B/CSAR0JFJQBgbuHosChNAAAAAAAAAU0AliJ/5elJJQNyfgLg8cRJAAAAAAADAUkB2IROt/5NJQJ5q3fyOrQdAAAAAAADAUkD8lmxl1nlJQJvwZhSvNBVAAAAAAADAUkCXwAA06m5JQGm0OclEXxBAAAAAAACAUkAq6Vh66UdJQL06UyG3jBZAAAAAAACAUkDx+5YlFDpJQETLmQ9MLBhAAAAAAACAUkCNcitiuDFJQGG/Rto8ThNAAAAAAABAUkBtRaCPQHxJQAQI9Cb+oglAAAAAAABAUkCTDM4U24VJQDrCkqpf5BRAAAAAAABAUkD38Qc14lNJQOEXLugNsxZAAAAAAABAUkCTBLxwiTJJQBuRzzYUxBJAAAAAAAAAUkA+p0JBGVdJQAM50+JqBxZAAAAAAAAAUkBrEhwr26hJQG6SpWtZlglAAAAAAAAAUkCXHInXUZdJQO+ZVi+qBQxAAAAAAAAAUkB2b1LB8I9JQF/HkxVXSxRAAAAAAAAAUkCfsfqlayRJQOk5MD1nlBhAAAAAAAAAUkBfud5vfypJQC0IPFgZJRhAAAAAAAAAUkBkaOLEs49JQNODFXTpXhFAAAAAAAAAUkBOcuD78kBJQBZF1KlKjBZAAAAAAAAAUkDWTaS9QHFJQFA6cnwp8QpAAAAAAADAUUDBmTFs80VJQKK8OI9s7hNAAAAAAADAUUBEzw8ixSlJQCb3ywcfmhJAAAAAAADAUUAnft/1aBNJQFXWlPokrhRAAAAAAADAUUCV5tz7RH9JQDOaKTw41hJAAAAAAACAUUC7vedJb41JQCl5T+5tnhJAAAAAAACAUUDBR5gIUQNJQL9+6n+1FRJAAAAAAACAUUByH1mRjnlJQBwnAGS9IwtAAAAAAACAUUCNOeSsPmtJQLJ2K+iJTxBAAAAAAACAUUDlHlMTvlJJQHNuAPMV0BZAAAAAAACAUUCtWTp4zndJQNJyB4LFqBNAAAAAAABAUUCJIiXz2JBJQI7S+txL2AtAAAAAAABAUUAspqn9vUNJQK8kDo7dPRZAAAAAAABAUUD66MUTP15JQMfu7p/92xFAAAAAAABAUUDsA7WCJVBJQAf+wtyAchZAAAAAAABAUUB4mBR9AF5JQNF46lazWQpAAAAAAABAUUAr7xtYPplJQEGOE4U0/AdAAAAAAABAUUAUL1RpqW9JQHSLN8eswgpAAAAAAAAAUUCSxn5oBTtJQAH6MHwcrhZAAAAAAAAAUUD3SqZhdIlJQCQL9SmkbQ1AAAAAAADAUEAiJ/i2vHlJQH7jts9tARVAAAAAAADAUECORU2LsEVJQAC3usWnahJAAAAAAADAUEAAo7TyG4xJQLcEhDiWiBRAAAAAAADAUED3ckNwO0ZJQDuONbeXuRRAAAAAAACAUEARvHfIzZZJQFhOFyfYsQZAAAAAAACAUEAliJ/5elJJQNyfgLg8cRJAAAAAAACAUECJegPDWEZJQFrW63U1JBJAAAAAAACAUEBptgRd7GtJQKdvCFkieRRAAAAAAABAUEBdSiOf0ntJQKqw6r9hHhBAAAAAAABAUEAtjmNEPlpJQNWy/A+dwxVAAAAAAABAUEDv57S5GTRJQNt1b2C/5RFAAAAAAABAUEB8tZdUUUxJQAbbA2BI7RFAAAAAAABAUECIfpxr+k1JQF2+dKmzyxFAAAAAAABAUEBV6IlVCnJJQLXjYpMlUgpAAAAAAABAUEDYc+cPjItJQJK1kJ4ZxwdAAAAAAABAUEA/FufMN31JQCuCjuPieg1AAAAAAABAUEBJ47aJBYFJQB+q6w+vfQ9AAAAAAAAAUEBcCzDdkJRJQPEfjoehBxJAAAAAAAAAUECs7Hr1QItJQMN5aK07LxRAAAAAAAAAUEAC1yrhyktJQEeHBnKA7AxAAAAAAAAAUEAe4EDbcnpJQNiAh5Yn6xJAAAAAAACAT0DTkE4siJ9JQO1XnOrfMAhAAAAAAACAT0C8hKjEOqZJQLVXK3LnvAhAAAAAAACAT0CCG8nseo9JQBu/t204EBVAAAAAAACAT0CeGfsFt3VJQAbUodXLzQ5AAAAAAACAT0DBQUKvT3hJQKGvR5ZFPg9AAAAAAAAAT0CpWlAIomxJQNVlMcQa7hVAAAAAAAAAT0ByjI8MdDRJQEHljon+mRFAAAAAAAAAT0AHUtjkIzVJQF8uliIGchFAAAAAAAAAT0AX40ntl0tJQADM2jmobRZAAAAAAAAAT0A32nxPZ2hJQK5jp1yvehJAAAAAAAAAT0DBqRJFQ0FJQNeGquDhzBdAAAAAAAAAT0B6DVyzi2NJQJ54xi+PVgxAAAAAAAAAT0DEM6UpaHFJQOaC0y8u2wlAAAAAAAAAT0DG9aUHaY1JQGiQXPLG+gxAAAAAAAAAT0CPUnFsWJBJQM51LfnA/RFAAAAAAAAAT0DfvosrLk9JQF+D5Q9t+xZAAAAAAACATkBFw+J+mApJQJzaqMZKqRNAAAAAAACATkAxjqVguwpJQH/oyAZLKRRAAAAAAACATkAt8j3lXH9JQIMkUXOGJBNAAAAAAACATkAiGYJKazxJQKwkDjXidxdAAAAAAACATkDn9zOCXlRJQOguFV8q3RdAAAAAAACATkBO8QR9aHdJQPAgEi02TRZAAAAAAAAATkAMcu6p5blJQEr97fwT6RJAAAAAAAAATkC0FVssyHNJQLjFz3vN0QxAAAAAAAAATkCbWrabEY9JQNdlfpoifQxAAAAAAAAATkAoidQ3cjpJQGbXS9XkyBNAAAAAAAAATkDr66+o0iVJQF5Hr90s0hFAAAAAAACATUCVXN7f15JJQJps7LHi7RFAAAAAAACATUCBFaPcp2NJQIicL7h/gBBAAAAAAACATUAMsXK3kYdJQCB/Gk5HTRJAAAAAAACATUA0tHRoLnNJQIOZtGwGLQtAAAAAAACATUDJ26LswltJQHzxJJmNUxJAAAAAAAAATUCRw1ZeRFRJQJysfEbYHBZAAAAAAACATECkJedciItJQJsx9d0s/hRAAAAAAACATEAzKyd3E35JQFwAkIdIKxJAAAAAAACATED9H9/TLXFJQEwVkChmRhBAAAAAAACATEB/eJsSp3RJQHkZMHPIxRFAAAAAAACATEBu1Ehn0EJJQGT1uF1qihVAAAAAAACATECfG1fB9VVJQI6vpVMIhBdAAAAAAACATEDIoffhE6dJQN3mKTpVihNAAAAAAACATED6vzNJX0BJQPMHL5yOhhhAAAAAAAAATEAd/mWAkWVJQB/BBkt3PBFAAAAAAAAATEDhX3L0cIBJQE+71XSmqg1AAAAAAAAATEDxHqSK7oVJQDzwNVW4ERNAAAAAAAAATEB58lePaWFJQKlx05ujzRFAAAAAAAAATEA1xXjyZ7BJQM9NFAhSFxRAAAAAAAAATEAnyhvspbRJQJAIVYEnBhRAAAAAAACAS0AwmSRGukZJQF9YsAbpPhVAAAAAAACAS0BrIbWVTJ5JQFoQCNGr0QdAAAAAAACAS0BHXrt3L1BJQF7WayQZQBJAAAAAAACAS0AlQHz9QB1JQC55RnL4nxNAAAAAAACAS0C7YX+V6TVJQIZpInQlHBNAAAAAAACAS0DnYGWHnlBJQIyoV+rmIxZAAAAAAACAS0CJQd1kYTJJQBHnDXggzRdAAAAAAACAS0B1gvtCSGxJQHAgfguHWBVAAAAAAACAS0ANstpc/npJQCREwf8yxRFAAAAAAACAS0BVS1Vpa35JQInE4F3htxFAAAAAAAAAS0B8aTC9gZhJQLmqX0Jk8xFAAAAAAAAAS0AZ8byekylJQHoXHuJZrBVAAAAAAAAAS0CnaNCTQh1JQK6WKTX2uhJAAAAAAAAAS0DKaKW02RRJQGDvlfOdSRJAAAAAAAAAS0DWFqDTB4hJQFps6+1U9hBAAAAAAAAAS0AnV1vnIE9JQKS8Wkzw/RVAAAAAAAAAS0BG97cVU25JQMbBrk4mAQxAAAAAAACASkDVBX67pmlJQBSGyzGlBxNAAAAAAACASkBOdWd9kjRJQLopoiuosxBAAAAAAACASkCl+SEWZTdJQEHDGKICXhBAAAAAAACASkDSizIo8DRJQMvprww/sw5AAAAAAACASkDx2F3Nu41JQFZKfZieVxFAAAAAAACASkCYt0q/8W9JQMxF4KpGxhRAAAAAAAAASkC32G/GdWtJQGfiIJ7HzBBAAAAAAAAASkAptxKIcFhJQBAEdgREYRZAAAAAAAAASkBx30/VVnRJQD+/gCH4ZQdAAAAAAAAASkAjU5i800FJQJ4V72/oehBAAAAAAAAASkBSmIXYpC9JQDzhc3DcghFAAAAAAAAASkAg+zz0T1dJQLdcauQ0xhNAAAAAAAAASkB7A0DzfZlJQDrhcpgBeA5AAAAAAACASUAO1AdvxexIQOrpF8tD9hRAAAAAAACASUAhd4zQUzxJQPR2r1SlIRFAAAAAAACASUBz/f7600hJQJrEqvlTpxBAAAAAAACASUDzfytRTFdJQAXD36gragpAAAAAAACASUARvZe8wY5JQApDo2I36A1AAAAAAACASUDDiE+QB1JJQC9V7dDyCRFAAAAAAACASUDEt2ovslNJQPg3CdnsfxBAAAAAAAAASUD636u86ndJQOP/d+tc4xNAAAAAAAAASUB+u9d1ej5JQBWGOGc34hFAAAAAAAAASUBe/ROa6ERJQGQwCC6zyBFAAAAAAAAASUBHr6KId5NJQLDoRFST4AxAAAAAAACASECsOnpV2y5JQOsBhFpfFRRAAAAAAACASECQKjs6hC9JQDvdDmF6xRNAAAAAAACASEDuJDBVA4lJQH38aSW3wQRAAAAAAACASEDNwNzwp01JQA8VDEs9OhdAAAAAAACASEBlFpQS+FBJQBCTdCDuWhdAAAAAAACASECp6CRNclhJQChlnbVqFhdAAAAAAACASEB5unlZ805JQAGaFD8nxRJAAAAAAAAASEAhWle7hmNJQDLUxqs7lgtAAAAAAAAASECmvuGK+DBJQKLeHkJtoxFAAAAAAAAASEBLgigzmkNJQB7R3W90WQ9AAAAAAAAASEBtwr04dYFJQE6WoW14dxFAAAAAAAAASED1Gl493TlJQP5mD7/lKw9AAAAAAAAASEBIOEgUwzFJQJEUSIphig1AAAAAAAAASEA4UU5QDodJQGic2W3jDgtAAAAAAACAR0ARfYrFVDVJQIdkc8/8XRJAAAAAAACAR0CB7IdThTdJQJQdkPlxYw9AAAAAAACAR0AxKBjY0+tIQD4OykUIuhVAAAAAAACAR0DhcwwGikFJQDdUFYmMvQxAAAAAAAAAR0CYEk+jqTNJQLDvz7QKEBFAAAAAAAAAR0BYUZ+f3XxJQDxJOzM7UBJAAAAAAAAAR0AGXPsKEVJJQOFI8QHudhFAAAAAAAAAR0ArSBDzEQpJQFCU8/wbGRFAAAAAAAAAR0AFyP3B+1hJQGRhe+BMJxNAAAAAAAAAR0CYHTrmYExJQGqL2z08cRVAAAAAAAAAR0ANVU14gkNJQNYVcr5U3hZAAAAAAAAAR0CAqZfG7EtJQGh0PTSM4xRAAAAAAAAAR0AXK1W7ACtJQHZ50DpH7BNAAAAAAACARkCvOrxRhIBJQGjzf3GmSBZAAAAAAACARkBmSlV8aj1JQKz97fZc5RhAAAAAAACARkDnBilhuFdJQGfR16hQBw1AAAAAAACARkBzB4xQ2kJJQApiVlu80hJAAAAAAACARkA4ycctX0NJQFvYRGP5ERFAAAAAAACARkBPDar5yR9JQClj4QPKwBFAAAAAAACARkAGqJboY3BJQPAaJcR44A1AAAAAAAAARkBk5xd9rp1JQKOD/sh0Zg1AAAAAAAAARkBFKWnY1lJJQLtQTFx5wA5AAAAAAAAARkBAMOVN7F1JQOnq6TXRMRFAAAAAAAAARkAMa+XIT2pJQJYVbrs2ThNAAAAAAAAARkDjJhksn2pJQMo/Vi4SlBFAAAAAAAAARkA1dclNo21JQBEcFiH3ChJAAAAAAACARUCsKJSKqVlJQITvcqLKZxdAAAAAAACARUAlNXv+RjpJQDFImhPC7RFAAAAAAACARUDRFV18F5dJQCMg6PFy/A5AAAAAAACARUAiHaaz3X9JQHIiDiEt7RNAAAAAAACARUBYX4uU8FJJQM3Q00zhgw9AAAAAAACARUC94JSFTE5JQMoHWGMnVQpAAAAAAAAARUA9v9moa4FJQCeyQ7K/kBNAAAAAAAAARUCht5NdjKVJQFWvEjAM0BBAAAAAAAAARUBIT/CNLjRJQElWkKElSBRAAAAAAAAARUC3O/kIObdJQGJN9hPWGBNAAAAAAAAARUDIoFH/m05JQFV7pkyMfhZAAAAAAAAARUDoDQw5I0hJQPIOnVmR9RBAAAAAAAAARUCY45W2tFNJQJduKyn/ggtAAAAAAAAARUDGOTRWroBJQPD+8huo/hJAAAAAAACARECELk6eBEpJQCzPDZgkeRJAAAAAAACAREC0P20KDDJJQCxfjme0Zg5AAAAAAACAREAQkiJHv19JQFnkroWrORVAAAAAAACAREB3CeuJImJJQG8s1810KBRAAAAAAACAREDxGlxX41ZJQJJ5wEXu9hdAAAAAAACAREAhh3RR8kZJQN13sYIx4RVAAAAAAACAREC4f7fq2l5JQK1ksGUh7A9AAAAAAAAAREDBCHv+T0lJQPBljrxJPRhAAAAAAAAAREAPv0TUdmRJQDfnkE+Q+gdAAAAAAAAARECYYcrvZZJJQArrqvhYXBFAAAAAAAAARECDx/BWPXFJQJ8VurEEJxJAAAAAAAAAREARZM6fdDpJQCmgZkfR8RBAAAAAAAAARECCpBTFkblJQP4T2YtbNRRAAAAAAAAAREDvtCiLf5RJQAthtLDgHRBAAAAAAACAQ0BXtTrRunxJQDIuZaYblRNAAAAAAACAQ0BUBVqONJ1JQPvs1ku2DA5AAAAAAACAQ0AhVWB5biZJQFqupELtlBBAAAAAAACAQ0De1or72NBIQHLrvYg0WxdAAAAAAAAAQ0Di3dMNTbVJQKO2nnGWnRNAAAAAAAAAQ0DrdG13BlFJQJcALFavrxZAAAAAAAAAQ0CZGlE8UTtJQD+gOokGSxFAAAAAAAAAQ0BHI7HTIGRJQGyTRkasghNAAAAAAAAAQ0D6Te6s0pNJQIdbquqTNQZAAAAAAAAAQ0DbIa4ZlD1JQI9XeQ9INQ9AAAAAAAAAQ0B9M4ytZVxJQFoDzx3S7AlAAAAAAAAAQ0Bw6qeTdWRJQEjoJhfnLxFAAAAAAAAAQ0DiQrd73JtJQA5HrRRxFxNAAAAAAACAQkDIlGa86mFJQIxNIkqqahZAAAAAAACAQkBzALFJJTdJQG9N/jfFxxFAAAAAAACAQkBWTgA1oU5JQA/equ1SiRdAAAAAAACAQkDWQk94sTRJQAGLQBIQShFAAAAAAACAQkDmbEEJ7HVJQKRlMYabLxNAAAAAAACAQkBQ1eAo2nNJQMbVmSWUShJAAAAAAACAQkApf8JdajRJQEbUdwpwFRBAAAAAAACAQkACFH7cRnxJQPnM8bcj6RNAAAAAAACAQkD+PDEXdk1JQE3OyLb5QhVAAAAAAACAQkDtf1uf4XtJQGMa8EKiAxJAAAAAAAAAQkD6uGvV5qtJQFbdGQlEMRFAAAAAAAAAQkCccvLavYBJQIK1lGY1HhRAAAAAAAAAQkCnY/05Y1RJQEsqFctg+RRAAAAAAAAAQkAVzE5i72dJQK5r7K65FRRAAAAAAAAAQkC+lLtqAI9JQMocmVgXwAhAAAAAAACAQUD/eH1crINJQOS94il4yhJAAAAAAACAQUDh1zAFCIhJQFF2F/xM6xNAAAAAAACAQUBjU/5tVEdJQH0E0MiIMRdAAAAAAACAQUDYDS3pL1VJQCOo9W2otBdAAAAAAACAQUBe74+/nGVJQLefaN+4MQtAAAAAAAAAQUBVJ3pVLFRJQEdm+NLaWxFAAAAAAAAAQUDbRm3EonJJQJX0DR8L7AZAAAAAAAAAQUD/1dQ0vFpJQMACqfn7MBZAAAAAAAAAQUCcly3COXxJQMgAyt2Z4wVAAAAAAAAAQUCogQVEj1RJQFq7qjYDIxJAAAAAAAAAQUC/bAHEd1xJQPqs8sbnJBBAAAAAAACAQEByzoY/e01JQBbvcdwttBRAAAAAAACAQECEJkwmJE5JQHJo1VGCdhRAAAAAAACAQEAa+S9NaY5JQGAAvLgB6xRAAAAAAACAQEDAdI1nVINJQJAMuiX3mRFAAAAAAACAQEARBcwEGHBJQMfNWhk7ixBAAAAAAACAQEC2D1BObJlJQDdCAQVwyBJAAAAAAAAAQEB1XaXZ4GNJQHTpmnzpIxNAAAAAAAAAQECUw2PeD2JJQFUtLR0zHhFAAAAAAAAAQEDTUOPGb2pJQKVw9gYT7hBAAAAAAAAAQEATQtQivmRJQND1oXeSgA9AAAAAAAAAQEB7YYdQ7VpJQAa+1hY33xBAAAAAAAAAQEDb2aUnZV5JQOVFEY3ADBFAAAAAAAAAQEAU3M2G2W5JQFyy17xegxVAAAAAAAAAQECuVmOYynZJQESGd17/4RZAAAAAAAAAQED99UwtEltJQFFYr6NqchZAAAAAAAAAQECKU/6s7X9JQFtFuRTq4QxAAAAAAAAAQECfdGnGLktJQJD8jjqK7RZAAAAAAAAAP0ArcGgGr19JQNc9er7zTxFAAAAAAAAAP0B4Z3E7HQBJQHV1LWgEbhFAAAAAAAAAP0BKd4sAf0lJQL86Mnqndg5AAAAAAAAAP0Df2emirzdJQCciprkSMhJAAAAAAAAAP0D+WvqiIk9JQHSNHHmIuxZAAAAAAAAAP0C0COMMTGJJQOZqij20YRFAAAAAAAAAP0CX1eYOg0FJQJRQK5AukBFAAAAAAAAAP0C/0RjqnztJQJYbSRb2Zw5AAAAAAAAAP0DbSbhw/E9JQOKMCTy1xQpAAAAAAAAAP0DYpOLN/yNJQBRMQuLi8xdAAAAAAAAAP0AaOWPKG81IQKcChKODWBZAAAAAAAAAP0DBf09g+GJJQMAJclxZFgtAAAAAAAAAPkBr8E/6sipJQDwbF2DtLxNAAAAAAAAAPkC3W8kxQzZJQAFEY4gQkQ5AAAAAAAAAPkCRdlcHoltJQIKDvLpU0Q1AAAAAAAAAPkCJBaAjpDdJQBqyF3i7qg1AAAAAAAAAPkBYH9rjmVpJQK7+bBYKnw5AAAAAAAAAPkD4R4DwIYFJQCm3ispKFhJAAAAAAAAAPkBWTh3qmzlJQMwtIZHPiQ5AAAAAAAAAPkDhGUJm0yZJQBIh1e/0/BBAAAAAAAAAPkBoQiazFixJQBdBy8gMMBFAAAAAAAAAPkDTihM/3FJJQMIRaqGcQgpAAAAAAAAAPkAzCO0100tJQL+Rh4l5nBdAAAAAAAAAPkBK5TN4C51JQPXqavkQ0xJAAAAAAAAAPUD5vGjiQ0BJQKhDI9ZCQQ1AAAAAAAAAPUAwqNzclTFJQLXH+bcA4xFAAAAAAAAAPUA3Nwd0UVNJQKFNZP4CPRVAAAAAAAAAPUA28TDw2nZJQMUT2uDfpRZAAAAAAAAAPUBnW6QG92RJQDGqdGnWvg5AAAAAAAAAPUC8MjqkDmlJQFqML5Dlsg5AAAAAAAAAPUAB75OylDhJQG9AO6IdBxFAAAAAAAAAPUAfxtI2hEtJQP4j4vQOhBFAAAAAAAAAPUBBxhDYoSxJQPp2zFrvYhFAAAAAAAAAPEB1xcn3XRtJQE4Tq2NU+xBAAAAAAAAAPEDLZrXs0F9JQEobsmihGBFAAAAAAAAAPECK/f6EFGJJQBM12kIfQBFAAAAAAAAAPECZwCwiGf9IQIo1hv2xihNAAAAAAAAAPEDGY9yHTkJJQN6l3SzLShNAAAAAAAAAPECTJMy9vURJQH9MHMLwGRNAAAAAAAAAPEAmKHpVQEhJQE/TWlemlA9AAAAAAAAAPEAeaXWZD09JQM3ZrqSrbhFAAAAAAAAAPEAEnRIssx9JQFeszPN/PhdAAAAAAAAAPEAlRhYdGX9JQL8X/RH8AhJAAAAAAAAAO0BdLjiE8fRIQM5hmIlL/hNAAAAAAAAAO0DUpZCwv0VJQEKvmXm2MQtAAAAAAAAAO0DjqUdzhVpJQBAkOndMpgtAAAAAAAAAO0BC6FOlWjVJQLkHq27mgRFAAAAAAAAAO0Df8I5FTDhJQKn0hX2MjxFAAAAAAAAAO0A32mSpuTJJQBg+WOoLYhBAAAAAAAAAO0CaT3UIL9hIQDQlZIdkSBVAAAAAAAAAO0DRSAzDd91IQK2FXRmMvBRAAAAAAAAAO0DehF41tZRJQM5ixpOVew5AAAAAAAAAO0DZAOkJgV5JQKGMunwGtBRAAAAAAAAAO0Bwk65DtSxJQMuvC3fa3Q1AAAAAAAAAO0A+frnbSV1JQLId2TqZhhZAAAAAAAAAO0AC0PTi7z1JQPDqrDuYug5AAAAAAAAAO0DA+nCtFIJJQBTKF/UEyRNAAAAAAAAAO0DRAz6wKkxJQA91JnmbLxZAAAAAAAAAOkAoedfz4TZJQEKvCv2VTw5AAAAAAAAAOkBaSkjzOSxJQPXXJSN9VRlAAAAAAAAAOkB1Q4e52jVJQMuUfcijehVAAAAAAAAAOkA6GL0cgU5JQLaGOfPqahdAAAAAAAAAOkApRcAPnzJJQHnjbfWciBZAAAAAAAAAOkBPbV1NUyJJQKtLvvS6zhVAAAAAAAAAOkB8oo0op2pJQIaMOdiIdQdAAAAAAAAAOkA3A4c/7nNJQLC8T9VQOhRAAAAAAAAAOkDhqYXGSz1JQAU6g5RSkxNAAAAAAAAAOUCjF7BwR1VJQFU1D92E/BVAAAAAAAAAOUBApDEGd1BJQEBCmjqxzQ1AAAAAAAAAOUB4y3rEYptJQN9NSuc39xBAAAAAAAAAOUBBSwWRV3xJQEhgxr/QgxFAAAAAAAAAOUB88KKNbXVJQHL8LgHx/RRAAAAAAAAAOUBtMnwBNy1JQOSuBO7E7xRAAAAAAAAAOUDhTjAyrWlJQFcVvmQmmQ1AAAAAAAAAOUB+svrWpCVJQOkan3qhLRdAAAAAAAAAOUDZ2XzkHz1JQPAbaM/PJhVAAAAAAAAAOUDAkd4FjzhJQNK+yA/dlhRAAAAAAAAAOUBZcjN8o/RIQNaO/JeMbxZAAAAAAAAAOECgrIhssC1JQJ+p+E53ihhAAAAAAAAAOEAibpBZaTVJQLo1y0EttRFAAAAAAAAAOEAHb6mv9DxJQDnNGTl3UBJAAAAAAAAAOEBokIj3glBJQBKXHRUkyxZAAAAAAAAAOEANM/jV2ytJQG8pPgZbPxRAAAAAAAAAOED2ASoTrixJQOXOQVVapBRAAAAAAAAAOEA1AbZft5hJQELmnk7PFQ1AAAAAAAAAOED8kTDwnG9JQAjUfhI/PhJAAAAAAAAAOECJVTjXU5dJQNcVOT59jw9AAAAAAAAAOEBJBX20YWZJQNxXmhrzAw1AAAAAAAAAOEDzo6aV82hJQCv2dP75MBBAAAAAAAAAOECg7itEMF5JQA/T9tj6ohZAAAAAAAAAOEBAqTeN7vJIQFHxc6c3gxRAAAAAAAAAOEBEhS5i/FpJQL2oboGezRdAAAAAAAAAOECSBA7OyZ1JQOxqscwYTAxAAAAAAAAAOECatFt5/RRJQMRwKazZ6BBAAAAAAAAAOECZeK8z2AdJQP6wz/ovbhJAAAAAAAAAOEAj6Ek41Z5JQKJsvFNu3whAAAAAAAAAN0DX5Up193xJQGvHTgSYFgVAAAAAAAAAN0Ao+0wjVVVJQFM5eABinxVAAAAAAAAAN0DuXthMCRFJQNbYwBbMZRFAAAAAAAAAN0Ce00g9qjxJQElgDiMN7xRAAAAAAAAAN0DzesjmkFJJQNpv+YK6eBNAAAAAAAAAN0C00pq353ZJQFKXMAge9gVAAAAAAAAANkDZTacj2m9JQFlPdODezhNAAAAAAAAANkATDGijxjpJQNQsalXBLRBAAAAAAAAANkDHSNFscHpJQCKoAwQixAxAAAAAAAAANkA6XQ1GZXFJQKue9yujQAVAAAAAAAAANkCGKNbLWnlJQH9qvEybERNAAAAAAAAANkAemT1NJGdJQNuCUXdA7BBAAAAAAAAANkB9163kCj1JQJNqpQ/LiBVAAAAAAAAANkCG4Ici1NdIQPqHc7hmDBZAAAAAAAAANUC8J/MqC5FJQHCOE0VApRRAAAAAAAAANUD+OPXVYG9JQAMP8N6cgBJAAAAAAAAANUAIpqjU9HJJQPNApWeCMxBAAAAAAAAANUAzHviHSzdJQOAoZ80mSRFAAAAAAAAANUDVzgW9X2NJQHJea7jOyglAAAAAAAAANUCsmffozfxIQBq6EG9D8RRAAAAAAAAANUCmJn5bS+dIQPxCyNqZcBZAAAAAAAAANUCi6RgaYT9JQBuacQLpxg9AAAAAAAAANUAQ9A3YRT1JQN3nJ7WcWhNAAAAAAAAANUAFoxl1HllJQF5osahFnhZAAAAAAAAANUBFSZvbRUFJQCwOeSeKPA5AAAAAAAAANUDSITfx6yVJQAeg+JZ9NhVAAAAAAAAANUDXHZixM0xJQDhvUExK3QtAAAAAAAAANEAitJPbMkVJQOk6laGCQA1AAAAAAAAANEDqjwnj30ZJQF04iJWdjQ1AAAAAAAAANECCD7nGQV1JQP+3uXFG9xZAAAAAAAAANEBlkEGIVTBJQIUCDuF7GhZAAAAAAAAANEDD0qlEOlNJQHqVkOPCMhhAAAAAAAAANEARq1CDMVtJQFdrbuYh2wxAAAAAAAAANEDQzaKUG3JJQIok1NLioBRAAAAAAAAANEDAWI+c0y1JQOmwdo6WEBFAAAAAAAAANEAY1c05HWVJQDj8tWjVdg1AAAAAAAAANEC6l1qfVThJQLGQ1dL/6RVAAAAAAAAANEDUH/jZwGBJQJzA2O3OphBAAAAAAAAANEB/fwyGxEFJQB38pWixsxFAAAAAAAAANEDBW0oKz1dJQDONZJ3OUxVAAAAAAAAANEAkn2HEIF5JQBHWxbu0LxJAAAAAAAAANEASr9ZJuQRJQNGa6o5vQRVAAAAAAAAAM0CDVxmw44FJQAsnVBMKxQVAAAAAAAAAM0B8WzGRz9dIQLsO/7FEexVAAAAAAAAAM0DhZwWcIF1JQARSdYBMBgdAAAAAAAAAM0AZazD/LD9JQDiXr0+VSRFAAAAAAAAAM0AVrD8CE9VIQBdsr9zFdhZAAAAAAAAAM0CvemCWj3JJQMrtkgPZaxRAAAAAAAAAM0AtkMGwGBZJQJJoGNju3xNAAAAAAAAAM0ANCV7qWRdJQMtP5bDdVBRAAAAAAAAAM0Cah+fk41xJQF9VsQxzDBhAAAAAAAAAM0BCv3+taCZJQP9sHWvOmhZAAAAAAAAAM0CglakQKDhJQDsRNcYpDhBAAAAAAAAAM0DCLGdsGmxJQMo9NEp57A9AAAAAAAAAM0AXi1aW/ltJQBjxkIZIaxVAAAAAAAAAM0B5ILZ7F1hJQPEI4DV2oQpAAAAAAAAAM0BttfktCy9JQP/y8rG4aA9AAAAAAAAAM0BokujhF1NJQCEMaBQ2kBhAAAAAAAAAM0AlTm2mm1pJQOOH11BwRRhAAAAAAAAAM0Czu+JSGDZJQLoxjkvXJhdAAAAAAAAAMkAk2Dtr0UVJQCCRywS39AtAAAAAAAAAMkCJQGgHAWhJQHyWpLH+uAtAAAAAAAAAMkD2W9YP2kBJQM83eZK50g1AAAAAAAAAMkAKojMcE1dJQPJ+37ua/RZAAAAAAAAAMkBbWVnvdFtJQLAFdB0zHBdAAAAAAAAAMkAiYGUEU0ZJQC/t96YDkBVAAAAAAAAAMkBNP4okdWBJQAYUIzly2g1AAAAAAAAAMkCHjn9USFBJQNG+pHIr4hFAAAAAAAAAMkAQ46NuR3FJQFpwI75w2Q9AAAAAAAAAMkDStEaxN2RJQBo031GvOAdAAAAAAAAAMkBs5gA/HkRJQFDN3AHN7RVAAAAAAAAAMkCfdGnGLktJQJD8jjqK7RZAAAAAAAAAMkDksXjAhldJQBAIanHPOxJAAAAAAAAAMkC+gQ7gkDxJQLXsZX2TGA5AAAAAAAAAMkBoR792fldJQHO4LDYHtBZAAAAAAAAAMkB5J9xbeWdJQCLrENVcXwtAAAAAAAAAMUBsHfWP44BJQJx9o6nlmAlAAAAAAAAAMUDD6IsGeERJQLc88jTM3A1AAAAAAAAAMUDTk9c3O2xJQJMasbj8XBJAAAAAAAAAMUCQ0/U0cOJIQOXGk9SpeRRAAAAAAAAAMUCgC13mOetIQDgnSesPAhRAAAAAAAAAMUC7NmxTNHpJQNwFjq8LdBFAAAAAAAAAMUAtfKtFdEBJQL47Tzem7RFAAAAAAAAAMUDUUnopjFdJQFhmx+ry5w5AAAAAAAAAMUBhD7A6QoZJQH+ccWGFoxFAAAAAAAAAMUCBwBk8M2pJQGIqTz0LpRJAAAAAAAAAMUBw9Dvx/S9JQMHmIj5gGRBAAAAAAAAAMUAGh1sz3xxJQE8dNKIc7hVAAAAAAAAAMUBtjgY2Sl5JQNyep+M2DAtAAAAAAAAAMUDOP9uAim1JQLZ0QaFbnxBAAAAAAAAAMUDyYcZKPS1JQO/5QDemvxdAAAAAAAAAMUCkHkUMoGFJQHzVbFil0ApAAAAAAAAAMECaCEAZf1dJQLxqVwu30hVAAAAAAAAAMECJx364/jxJQNxkw3kt3g1AAAAAAAAAMECs4e9f4jxJQDOGYV+0UxZAAAAAAAAAMEDaFNQnWU1JQHfqahMzqRZAAAAAAAAAMEB1geqSjd9IQOqs7ERxoxZAAAAAAAAAMEBdIVgFJbNJQJ72I20cPRNAAAAAAAAAMECpgbWN7G5JQDvpRnwxBRRAAAAAAAAAMEA0Mt1sM0xJQNJH/Zo9QQ1AAAAAAAAAMED2fzLMq29JQC8rYG/mkRNAAAAAAAAAMEBxAQOuSWRJQHiil6Wb1AxAAAAAAAAAMEB7X2XYu1xJQCQfwnofCQxAAAAAAAAAMEADcomQJzxJQLkN+i58SRNAAAAAAAAAMEAEgE/jgkZJQAYM3+CeSwxAAAAAAAAAMEBpRcJdunxJQNhpqZjX1BJAAAAAAAAAMEABDrFEJUZJQICh7JVaZxBAAAAAAAAAMEB7Ln+L9OdIQAm+i04MpxNAAAAAAAAALkBfPskXoDBJQBrk9ARIzxBAAAAAAAAALkDDDx8Ch5ZJQKMIBc4pJRJAAAAAAAAALkAcRX/n0kpJQCgWipA0XxRAAAAAAAAALkCp+cXXUxhJQGN570JOvBFAAAAAAAAALkCdcYchwVtJQCkrGH5cnBVAAAAAAAAALkCAKtQWuJRJQKsnfuIw8hJAAAAAAAAALkDhcZ04j1ZJQA0veOoCOxdAAAAAAAAALkBHyYVuNaFJQKoIR67rnAxAAAAAAAAALkCnH9+Ntk1JQOgJGyYxGxRAAAAAAAAALEDspx9EEslIQHnpuoFCYBdAAAAAAAAALEBmCPUI91pJQDxDJ9QXdQ9AAAAAAAAALEA/1D+k6EpJQAovvPPekxZAAAAAAAAALEDJgrXHZCFJQOUf/DEy/RNAAAAAAAAALEBrJtavYFZJQJwNJmh5rBRAAAAAAAAALEBet0HLS0pJQC+fjtCnEhNAAAAAAAAALEAJYbkUUWZJQKOigDhJ8wVAAAAAAAAALEDXcwS3VnlJQGRLX1L1UhNAAAAAAAAALEBjD0ZwibxJQGDLeIKqMxNAAAAAAAAALECMWzSra2xJQA6ZO3DKkAZAAAAAAAAALEAntQwjxlpJQDFqO4ihHxhAAAAAAAAALEDOiI1Q/xNJQKQYTlD2FhZAAAAAAAAALECQkiRup1tJQJ/im+CRsxZAAAAAAAAALEBvS2mGa1lJQFohbjVaYhhAAAAAAAAALEAWDqaHdkJJQG1cKTIpMRBAAAAAAAAALECd57ErXlJJQHgGcrg9+xZAAAAAAAAALECrJKmRRiZJQOe531CwWhFAAAAAAAAALEBM6KN9WGFJQFF6zcP4FhdAAAAAAAAAKkASmYrrvlZJQLFGuq/lCg5AAAAAAAAAKkDv4enBXwtJQHIHMkGAAxRAAAAAAAAAKkDXkO3mC01JQEBDZ/YriRZAAAAAAAAAKkAtacZonl5JQIKyonBrWgdAAAAAAAAAKkAtQiaaAlBJQPlpnrDophFAAAAAAAAAKkD57IvbwtxIQJ8Y7pDrVhZAAAAAAAAAKkDJ/S4ifhBJQM22Yy4DJBdAAAAAAAAAKkAkuXTV4hNJQM22bMM7uhZAAAAAAAAAKkC58gB86FtJQGnjpYbVWRRAAAAAAAAAKkBz8kE4HpNJQIFZs3firwZAAAAAAAAAKkCAMghYkGhJQOGwRQdq0hJAAAAAAAAAKkBSYZLm9kBJQMmBZs0yQQxAAAAAAAAAKEDuRF7hieBIQDiUhCm4GhdAAAAAAAAAKEDkH+NLW2ZJQBlC8YuZBgxAAAAAAAAAKECyLGUMSRdJQGHbsSsIdxhAAAAAAAAAKEA9dI5+AVhJQEkNXThlPgxAAAAAAAAAKEAAo7TyG4xJQLcEhDiWiBRAAAAAAAAAKEDla7Y1vzZJQEyHb06VJBZAAAAAAAAAKEDd4hAOH2VJQNvv4PidrwZAAAAAAAAAKED7F3bp1mBJQBwL0xT28BNAAAAAAAAAKEBbUqp+0+dIQDlGKlsv5hZAAAAAAAAAKEAJFQgiLkJJQLz6tibkoRNAAAAAAAAAKECHcN4wnkVJQJpjYqGKHBZAAAAAAAAAKECknlAUoGpJQBqoc0o1lxRAAAAAAAAAKEAwmxu6WUdJQDWgLXmXBhBAAAAAAAAAKEC61HRVmlNJQBc48sak4xZAAAAAAAAAKEDJvf21rnJJQIAs5M4eqRNAAAAAAAAAJkBuGnfqkjJJQH5LG97s+xNAAAAAAAAAJkBha5Q/bchIQHxdwhLWNxdAAAAAAAAAJkDj+gZmnKFJQK+7QpBVgAhAAAAAAAAAJkBfDYwSSCVJQEy3Q62nUhZAAAAAAAAAJkDjuMZ2E2BJQBIvNg+PtBRAAAAAAAAAJkBstcYRXkNJQI4oS47kghRAAAAAAAAAJkCHS2HYKFNJQKOWvB07MxFAAAAAAAAAJkAH5P5Nb1tJQPPaBQJMUBZAAAAAAAAAJkDUcwoJFp1JQKMcXvJ57gxAAAAAAAAAJkD7xDGjHU1JQKMBcWG0vBdAAAAAAAAAJkCZ926YLylJQPVkgB4AwxBAAAAAAAAAJkCs6KpNsj1JQMwWH42JAxBAAAAAAAAAJkDNES8bDQ9JQKJEXb4XeBVAAAAAAAAAJkCt6521/GZJQGawfTL4mRJAAAAAAAAAJkD0uiGac2xJQL0b8fwtIAVAAAAAAAAAJkDI2f2BkghJQIzbOxnr4BRAAAAAAAAAJkDDfhQ+DmRJQBRlcCYl3hVAAAAAAAAAJkAuDZaeXUpJQFn+RQKfpApAAAAAAAAAJEAZp2wHuDNJQOi8P9jqmRBAAAAAAAAAJECWAzj9VH1JQPqtJnO1HBRAAAAAAAAAJEApWNMToTFJQHRsMRsnSRFAAAAAAAAAJECSe+hE93RJQLepPHLAARRAAAAAAAAAJEBCdCKPKl5JQNmba8o+cQ5AAAAAAAAAJED/jb47tFBJQN1WewcysBdAAAAAAAAAJEAtUmfDxAJJQFpL7MOEtBBAAAAAAAAAJEBKo2SRJj9JQEv5MLROuRNAAAAAAAAAJEBAvZ2+pGhJQAC1vE3xBRBAAAAAAAAAJEB5tSbwrGlJQGqn251S1xJAAAAAAAAAJEDm/KhLnV9JQEY6YkNH6xdAAAAAAAAAJEBNUYwgAABJQIJ6u0EbOxZAAAAAAAAAJECVLirHnZ1JQCOaHOV9RxFAAAAAAAAAIkAGvLJavItJQAs8+55X+wtAAAAAAAAAIkDNDUghI1tJQKaYTYcL2BRAAAAAAAAAIkB8aTC9gZhJQLmqX0Jk8xFAAAAAAAAAIkCanmXX8G9JQB5H6TzeLRBAAAAAAAAAIkBTYHv+5BNJQBZTdgJGshdAAAAAAAAAIkBLn6numxpJQFhkgBm+VBNAAAAAAAAAIkD1Z7P0jxxJQHsWY8lGBxRAAAAAAAAAIkBEWUgmU0ZJQGzU+qNOXBRAAAAAAAAAIkDmtmSNO1hJQAV/B9JHMRZAAAAAAAAAIkABvvx+1lxJQCgTuFUlARZAAAAAAAAAIkBkfvnCXZNJQI0EgWJAVwxAAAAAAAAAIkBDJgaeKFtJQAlMK3rlIRRAAAAAAAAAIkBGPMDpl1ZJQG+6dAQLJRhAAAAAAAAAIkCyXJNdcJVJQJe2zbuIDAdAAAAAAAAAIkBjMcCWd8hIQOwut0n+zBZAAAAAAAAAIkDpFYRJLFpJQM7CBsTC8A9AAAAAAAAAIkCAGLgsxmxJQBc7P7nUghBAAAAAAAAAIkB30c1gIk1JQF4QJ0sgxwpAAAAAAAAAIkBOzYJpbylJQMpmTIU2oRdAAAAAAAAAIkC3tNPi3V5JQAmFNdQ/VRdAAAAAAAAAIkCEoueyjmBJQEVlXcmE2RZAAAAAAAAAIkAu4CC7fAdJQJzZcrvxORRAAAAAAAAAIkCJK87DYQhJQDDpJS8PchRAAAAAAAAAIECqP9T0xKBJQHstZqQLrw1AAAAAAAAAIECDCZlkL8lIQOlfdvQzCBdAAAAAAAAAIEDe+zyFez1JQBJAsjFKLQ1AAAAAAAAAIECLk0hrk3BJQK99bHD0CRZAAAAAAAAAIECABCo7v1hJQCf36MpO1BZAAAAAAAAAIEB1ZJU2JjlJQKYJQidyXhFAAAAAAAAAIECKvfvPfQBJQNqyMXq9RBRAAAAAAAAAIEAcB55TYEFJQCqOhaTLHRJAAAAAAAAAIEDWdMpNIUxJQJygA4DvuxFAAAAAAAAAIEBbxe2qR29JQM6mVdeFrxNAAAAAAAAAIECjp/n3Fh1JQOidob3stxdAAAAAAAAAIECZ7ZSM5ipJQJOxn66ZdBRAAAAAAAAAIEDhlPqrYhRJQOQxqMG/JBdAAAAAAAAAIEAUzrRvCGJJQBQnl6CwZRRAAAAAAAAAIEDJ1s83vWZJQE6ExStNiQ5AAAAAAAAAIEDktfVaOH9JQEAxGep5+A1AAAAAAAAAIEBx17bXSz9JQElnNOBDYxNAAAAAAAAAIECO6BnJqhBJQOyk3E7tIRVAAAAAAAAAIEDGXJ9G51tJQNMoWMHxrRdAAAAAAAAAIEDUPHxNyD9JQBV4rN2S6AxAAAAAAAAAIECiGGaRfcRIQAhsJDe+/xVAAAAAAAAAIEDVaeF85qJJQE46lzvbIg1AAAAAAAAAIEDPdyEmu2NJQBByHzN5ihRAAAAAAAAAIEBXKKDoVMVIQCG+KzBXHxZAAAAAAAAAIEBhvgtUG2xJQGTUlo6fKRVAAAAAAAAAHEAjwqRG6HRJQKs5oD2axRNAAAAAAAAAHEBALgOy5OhIQKpo1FEJShRAAAAAAAAAHEC1vGVBmkxJQESmyP3O5A5AAAAAAAAAHEA0pyDW/BlJQC1+MKft+hdAAAAAAAAAHEDL/Kf8zC5JQDxuw424fxRAAAAAAAAAHEBq0gnkEW9JQCjM+cVQuRVAAAAAAAAAHECWtgxPFi5JQDBJ4kBPXRVAAAAAAAAAHEBFA+khj1hJQGMkVzTgSBZAAAAAAAAAHECJeCpYLk5JQEeIxgxgFhdAAAAAAAAAHEB3m8sQ23BJQKGUc8gOdwZAAAAAAAAAHEB3byYn/CRJQK1Ny1455RJAAAAAAAAAHEDukG8R5WtJQE2PuHa0kg9AAAAAAAAAHEDdFNl9Ys5IQGc3XCPdnBZAAAAAAAAAHEA6FuNLvgpJQGN6Jk9E1xVAAAAAAAAAHEDFAVaICw9JQBJVVBlI7xVAAAAAAAAAHEBnVX0qN05JQL+3OyyiagxAAAAAAAAAGEB+i6M+Fk9JQND4hD8RcA5AAAAAAAAAGEBL/x80gQtJQGt5RwZnthZAAAAAAAAAGEDjWpWEVSNJQBVD5JizHhFAAAAAAAAAGEDBmupsAllJQKhIKUCCABdAAAAAAAAAGEA42fIzlvNIQL5qoifnyhZAAAAAAAAAGEBBolcKuFNJQOWPGFgGyxRAAAAAAAAAGEAddj3+TFFJQP3ehOI8yRFAAAAAAAAAGEDu1qAjonFJQKRcw+4C1hNAAAAAAAAAGECDyc3PA3FJQBBQBcSkBQxAAAAAAAAAGECzx3n01HFJQHA3tx1YdgxAAAAAAAAAGECqSJD3okxJQAhkxz/70xdAAAAAAAAAGEA0Zx5c+G9JQNkTCov9KBNAAAAAAAAAGECW7CvsSc5IQOW2+8CR6xVAAAAAAAAAGECqpLLE3TZJQE74XvylLxBAAAAAAAAAGECtfsO00D5JQHzxxKT02RNAAAAAAAAAGEA2wHg4WE1JQN05WNw6DRFAAAAAAAAAGEBAMEsDbR5JQOoRUCxADxNAAAAAAAAAGEAQfd7dex9JQCEWQ9AQZxNAAAAAAAAAGECd+0KGwFhJQMJBo7WP8wpAAAAAAAAAGEATddKsN3dJQMOAqeB7/g5AAAAAAAAAGEAc8LIiA4dJQHAkroM0RxRAAAAAAAAAGEAynWbF2k9JQB5atYZxLAxAAAAAAAAAGEDFtA523VlJQO2tgP3XwBZA",
          "dtype": "f8",
          "shape": "980, 3"
         },
         "hovertemplate": "<b>%{hovertext}</b><br><br>sector=Wholesale and retail trade<br>company_count=%{customdata[0]}<extra></extra>",
         "hovertext": [
          "Antwerpen",
          "Brussel",
          "Brussel",
          "Brussel",
          "Anderlecht",
          "Elsene",
          "Elsene",
          "Gent",
          "Schaarbeek",
          "Ukkel",
          "Sint-Jans-Molenbeek",
          "Liège",
          "Roeselare",
          "Liège",
          "Hasselt",
          "Genk",
          "Mechelen",
          "Sint-Niklaas",
          "Oostende",
          "Waterloo",
          "Antwerpen",
          "Brugge",
          "Sint-Gillis (bij-Brussel)",
          "Zaventem",
          "Knokke-Heist",
          "Etterbeek",
          "Etterbeek",
          "Vorst",
          "Lokeren",
          "Brasschaat",
          "Leuven",
          "Dendermonde",
          "Wavre",
          "Wavre",
          "Kortrijk",
          "Brecht",
          "Turnhout",
          "Antwerpen",
          "Herentals",
          "Liège",
          "Sint-Truiden",
          "Aalst",
          "Deinze",
          "Temse",
          "Geel",
          "Antwerpen",
          "Lier",
          "Schoten",
          "Braine-l'Alleud",
          "Lommel",
          "Wevelgem",
          "Oudenaarde",
          "Heusden-Zolder",
          "Beveren-Kruibeke-Zwijndrecht",
          "Wemmel",
          "Sint-Lambrechts-Woluwe",
          "Sint-Pieters-Leeuw",
          "Kapellen",
          "Kontich",
          "Vilvoorde",
          "Mol",
          "Schilde",
          "Verviers",
          "Mouscron",
          "Waregem",
          "Dilbeek",
          "Izegem",
          "Heist-op-den-Berg",
          "Jette",
          "Antwerpen",
          "Evere",
          "Houthalen-Helchteren",
          "Nivelles",
          "Menen",
          "Aalter",
          "Leuven",
          "Oostkamp",
          "Sint-Pieters-Woluwe",
          "Aartselaar",
          "Bilzen-Hoeselt",
          "Verviers",
          "Maasmechelen",
          "Tongeren-Borgloon",
          "Overijse",
          "Evergem",
          "Wommelgem",
          "Antwerpen",
          "La Louvière",
          "Lasne",
          "Tienen",
          "Tournai",
          "Ieper",
          "Ieper",
          "Bornem",
          "Brugge",
          "Zoersel",
          "Lochristi",
          "Koksijde",
          "Sint-Genesius-Rode",
          "Asse",
          "Willebroek",
          "Sint-Joost-ten-Node",
          "Ronse",
          "Wetteren",
          "Mons",
          "Zedelgem",
          "Zele",
          "Sint-Agatha-Berchem",
          "Namur",
          "Hamme (Vl.)",
          "Ninove",
          "Ninove",
          "Ninove",
          "Westerlo",
          "Wuustwezel",
          "Namur",
          "Londerzeel",
          "Oudergem",
          "Dilsen-Stokkem",
          "Maaseik",
          "Ranst",
          "Seraing",
          "Antwerpen",
          "Merelbeke-Melle",
          "Torhout",
          "Kalmthout",
          "Charleroi",
          "Gent",
          "Malle",
          "Zonhoven",
          "Zottegem",
          "Mortsel",
          "Kraainem",
          "Tessenderlo-Ham",
          "Tielt",
          "Bree",
          "Maldegem",
          "Lille",
          "Merchtem",
          "Zulte",
          "Beerse",
          "Diksmuide",
          "Erpe-Mere",
          "Pelt",
          "Brugge",
          "Geraardsbergen",
          "Geraardsbergen",
          "Brussel",
          "Essen",
          "Kasterlee",
          "Nijlen",
          "Sint-Gillis-Waas",
          "Sint-Katelijne-Waver",
          "Aarschot",
          "Zaventem",
          "Kortrijk",
          "Aalst",
          "Sambreville",
          "Deerlijk",
          "Herstal",
          "Ternat",
          "Gembloux",
          "Lebbeke",
          "Grimbergen",
          "Putte",
          "Puurs-Sint-Amands",
          "Wingene",
          "Machelen (Brab.)",
          "Nazareth-De Pinte",
          "Watermaal-Bosvoorde",
          "Beveren-Kruibeke-Zwijndrecht",
          "Destelbergen",
          "Châtelet",
          "Harelbeke",
          "Eeklo",
          "Edegem",
          "Hannut",
          "Stekene",
          "Lanaken",
          "Diest",
          "Waasmunster",
          "Andenne",
          "Herve",
          "Jabbeke",
          "Koekelberg",
          "Tubize",
          "Balen",
          "Veurne",
          "Ciney",
          "Nieuwpoort",
          "La Louvière",
          "Asse",
          "Namur",
          "Namur",
          "Halle",
          "Hamont-Achel",
          "Fleurus",
          "Keerbergen",
          "Anzegem",
          "Damme",
          "Grimbergen",
          "Kuurne",
          "Chaumont-Gistoux",
          "Kampenhout",
          "Antwerpen",
          "Haaltert",
          "Peer",
          "Poperinge",
          "Blankenberge",
          "Charleroi",
          "Deinze",
          "Kortrijk",
          "Zwevegem",
          "Bonheiden",
          "Gent",
          "Lummen",
          "Rumst",
          "Wezembeek-Oppem",
          "Berlare",
          "Herent",
          "Bastogne",
          "Grâce-Hollogne",
          "Herk-de-Stad",
          "Hoogstraten",
          "Kortemark",
          "Beveren-Kruibeke-Zwijndrecht",
          "Diepenbeek",
          "Oud-Turnhout",
          "Riemst",
          "Grez-Doiceau",
          "Opwijk",
          "Duffel",
          "Huy",
          "Ottignies-Louvain-la-Neuve",
          "Braine-le-Château",
          "Wielsbeke",
          "Ingelmunster",
          "Jodoigne",
          "Wijnegem",
          "Zandhoven",
          "Arendonk",
          "Boom",
          "Flémalle",
          "Gent",
          "Lede",
          "Manage",
          "Oudsbergen",
          "Pelt",
          "Gavere",
          "Gent",
          "Hulshout",
          "Olen",
          "Alken",
          "Bocholt",
          "Haacht",
          "Jemeppe-sur-Sambre",
          "Kruisem",
          "Retie",
          "Braine-le-Comte",
          "Marche-en-Famenne",
          "Ganshoren",
          "Staden",
          "Wervik",
          "Grobbendonk",
          "Oudsbergen",
          "Beernem",
          "Ledegem",
          "Charleroi",
          "Sint-Martens-Latem",
          "Hooglede",
          "Sint-Niklaas",
          "Dilbeek",
          "Knokke-Heist",
          "Laarne",
          "Stabroek",
          "Beringen",
          "Hechtel-Eksel",
          "Zonnebeke",
          "Aalst",
          "Rijkevorsel",
          "Steenokkerzeel",
          "Gerpinnes",
          "Herzele",
          "Moorslede",
          "Eupen",
          "Oosterzele",
          "Rixensart",
          "Tielt",
          "Arlon",
          "Beringen",
          "Herselt",
          "Buggenhout",
          "Dessel",
          "Ham-sur-Heure-Nalinnes",
          "Charleroi",
          "Charleroi",
          "Lennik",
          "Ichtegem",
          "Leuven",
          "Merksplas",
          "Perwez",
          "Soignies",
          "Eghezée",
          "Kinrooi",
          "Quaregnon",
          "Waremme",
          "Binche",
          "Lubbeek",
          "Theux",
          "Visé",
          "Courcelles",
          "Libramont-Chevigny",
          "Meise",
          "Merelbeke-Melle",
          "Frameries",
          "Heist-op-den-Berg",
          "Oostrozebeke",
          "Tervuren",
          "Affligem",
          "Gent",
          "Meise",
          "Pittem",
          "Ath",
          "Brakel",
          "Enghien",
          "Houthulst",
          "Lichtervelde",
          "Leuven",
          "Rixensart",
          "Tongeren-Borgloon",
          "Halen",
          "Herenthout",
          "Ottignies-Louvain-la-Neuve",
          "Gistel",
          "Hasselt",
          "Liedekerke",
          "Chaudfontaine",
          "Malmedy",
          "Profondeville",
          "Ardooie",
          "Beringen",
          "Blégny",
          "Fosses-la-Ville",
          "Ans",
          "Brugge",
          "Maldegem",
          "Meerhout",
          "Sankt Vith",
          "Sankt Vith",
          "Schelle",
          "Sprimont",
          "Waregem",
          "Fernelmont",
          "Mettet",
          "Rochefort",
          "Tremelo",
          "Berlaar",
          "Couvin",
          "Dentergem",
          "Roosdaal",
          "Soumagne",
          "Tielt-Winge",
          "Aalter",
          "Esneux",
          "La Hulpe",
          "Liège",
          "Mouscron",
          "Oudenburg",
          "Waregem",
          "Aywaille",
          "Gent",
          "Hasselt",
          "Sombreffe",
          "Tessenderlo-Ham",
          "Wanze",
          "Middelkerke",
          "Mont-Saint-Guibert",
          "Villers-la-Ville",
          "Zoutleeuw",
          "Aalst",
          "Awans",
          "Charleroi",
          "Genappe",
          "Genappe",
          "Harelbeke",
          "Koekelare",
          "Nazareth-De Pinte",
          "Wichelen",
          "Boechout",
          "Laakdal",
          "Leuze-en-Hainaut",
          "Rotselaar",
          "De Haan",
          "De Haan",
          "Leopoldsburg",
          "Sint-Lievens-Houtem",
          "Sint-Lievens-Houtem",
          "Bilzen-Hoeselt",
          "Charleroi",
          "Charleroi",
          "Chaudfontaine",
          "Huldenberg",
          "Jalhay",
          "Kluisbergen",
          "Lendelede",
          "Lievegem",
          "Lint",
          "Soumagne",
          "Beauraing",
          "Beauraing",
          "Begijnendijk",
          "Spa",
          "Welkenraedt",
          "Zutendaal",
          "Hoogstraten",
          "Kruisem",
          "Lievegem",
          "Namur",
          "Walcourt",
          "Hove",
          "Pajottegem",
          "Sint-Katelijne-Waver",
          "Waregem",
          "Wavre",
          "Ans",
          "Beringen",
          "Boortmeerbeek",
          "Denderleeuw",
          "Machelen (Brab.)",
          "Nandrin",
          "Thimister-Clermont",
          "Vosselaar",
          "Waimes",
          "Drogenbos",
          "Gent",
          "Heist-op-den-Berg",
          "Hoeilaart",
          "Ravels",
          "Ravels",
          "Amay",
          "Bredene",
          "Court-Saint-Etienne",
          "Dinant",
          "Floreffe",
          "Saint-Nicolas",
          "Stavelot",
          "Wellen",
          "Zemst",
          "Zemst",
          "Antwerpen",
          "Durbuy",
          "Florennes",
          "Philippeville",
          "Puurs-Sint-Amands",
          "Seraing",
          "Wortegem-Petegem",
          "Bierbeek",
          "Binche",
          "Binche",
          "Colfontaine",
          "Niel",
          "Nieuwerkerken (Limb.)",
          "Dilbeek",
          "Herstal",
          "Langemark-Poelkapelle",
          "Le Roeulx",
          "Montigny-le-Tilleul",
          "Orp-Jauche",
          "Zelzate",
          "Bertrix",
          "Chapelle-lez-Herlaimont",
          "Ecaussinnes",
          "Estaimpuis",
          "Gent",
          "Ittre",
          "Rebecq",
          "Bekkevoort",
          "Les Bons Villers",
          "Les Bons Villers",
          "Lievegem",
          "Assesse",
          "Assesse",
          "De Panne",
          "Herve",
          "Herve",
          "Herve",
          "Walhain",
          "Avelgem",
          "Charleroi",
          "Jurbise",
          "Kapelle-op-den-Bos",
          "Mons",
          "Quiévrain",
          "Wingene",
          "Aiseau-Presles",
          "Mons",
          "Neufchâteau",
          "Péruwelz",
          "Anderlues",
          "Boortmeerbeek",
          "Braine-l'Alleud",
          "Chimay",
          "Incourt",
          "Saint-Georges-sur-Meuse",
          "Sprimont",
          "Villers-le-Bouillet",
          "Yvoir",
          "As",
          "Bütgenbach",
          "Frasnes-lez-Anvaing",
          "Gembloux",
          "Seneffe",
          "Walcourt",
          "Zwalm",
          "Assenede",
          "Ath",
          "Beersel",
          "Boutersem",
          "Brussel",
          "Zaventem",
          "Aubel",
          "Charleroi",
          "Lochristi",
          "Scherpenheuvel-Zichem",
          "Silly",
          "Tournai",
          "Aarschot",
          "Beveren-Kruibeke-Zwijndrecht",
          "Gesves",
          "Hoogstraten",
          "Liège",
          "Seneffe",
          "Tournai",
          "Tremelo",
          "Chastre",
          "Dour",
          "Heers",
          "Landen",
          "Lontzen",
          "Neupré",
          "Pajottegem",
          "Baelen",
          "Comines-Warneton",
          "Hemiksem",
          "Kortenberg",
          "Morlanwelz",
          "Ravels",
          "Sint-Niklaas",
          "Aarschot",
          "Assenede",
          "Erquelinnes",
          "Messancy",
          "Baarle-Hertog",
          "Beyne-Heusay",
          "Courcelles",
          "Hoegaarden",
          "Middelkerke",
          "Mons",
          "Mouscron",
          "Sint-Pieters-Leeuw",
          "Vorselaar",
          "Bassenge",
          "Charleroi",
          "Dison",
          "Fontaine-l'Evêque",
          "Holsbeek",
          "Kortenberg",
          "Mons",
          "Scherpenheuvel-Zichem",
          "Verlaine",
          "Zemst",
          "Antwerpen",
          "Diest",
          "Faimes",
          "Linter",
          "Zedelgem",
          "Heist-op-den-Berg",
          "Laakdal",
          "Pepinster",
          "Welkenraedt",
          "Zwevegem",
          "Braine-l'Alleud",
          "Ieper",
          "Juprelle",
          "Lo-Reninge",
          "Ottignies-Louvain-la-Neuve",
          "Pajottegem",
          "Braives",
          "Braives",
          "Leopoldsburg",
          "Mechelen",
          "Ternat",
          "Zandhoven",
          "Beauvechain",
          "Beersel",
          "Dilbeek",
          "Geraardsbergen",
          "Halle",
          "Halle",
          "Hasselt",
          "Maasmechelen",
          "Oupeye",
          "Sint-Martens-Latem",
          "Trooz",
          "Beersel",
          "Chimay",
          "Chièvres",
          "Farciennes",
          "Fléron",
          "Linkebeek",
          "Pont-à-Celles",
          "Saint-Ghislain",
          "Tournai",
          "Vielsalm",
          "Virton",
          "Zwevegem",
          "Anhée",
          "Boussu",
          "Ellezelles",
          "Hensies",
          "Lessines",
          "Mechelen",
          "Saint-Ghislain",
          "Thuin",
          "Thuin",
          "Tournai",
          "Verviers",
          "Zandhoven",
          "Bernissart",
          "Charleroi",
          "Donceel",
          "Lanaken",
          "Lierde",
          "Lierde",
          "Morlanwelz",
          "Nivelles",
          "Thuin",
          "Beaumont",
          "Beersel",
          "Beersel",
          "Gedinne",
          "La Bruyère",
          "La Bruyère",
          "Lens (Hainaut)",
          "Nivelles",
          "Vielsalm",
          "Zemst",
          "Bièvre",
          "Brunehaut",
          "Celles (lez-Tournai)",
          "Charleroi",
          "Charleroi",
          "Estinnes",
          "Florenville",
          "Florenville",
          "Gent",
          "Gingelom",
          "Honnelles",
          "Oupeye",
          "Saint-Ghislain",
          "Scherpenheuvel-Zichem",
          "Seraing",
          "Boussu",
          "Büllingen",
          "Clavier",
          "Dison",
          "Ferrières",
          "Hotton",
          "Ieper",
          "Kortenaken",
          "Namur",
          "Ans",
          "Ath",
          "Beveren",
          "Grimbergen",
          "Hasselt",
          "Havelange",
          "Horebeke",
          "Lierneux",
          "Modave",
          "Ohey",
          "Vaux-sur-Sûre",
          "Amel",
          "Charleroi",
          "Fleurus",
          "Fléron",
          "Hamois",
          "Hamois",
          "Kaprijke",
          "Kortenberg",
          "Lokeren",
          "Maarkedal",
          "Ninove",
          "Oupeye",
          "Paliseul",
          "Plombières",
          "Sint-Laureins",
          "Sivry-Rance",
          "Viroinval",
          "Zuienkerke",
          "Alveringem",
          "Fexhe-le-Haut-Clocher",
          "Froidchapelle",
          "Marchin",
          "Ramillies",
          "Vleteren",
          "Glabbeek",
          "Mons",
          "Nazareth",
          "Poperinge",
          "Rotselaar",
          "Sint-Pieters-Leeuw",
          "Tinlot",
          "Tintigny",
          "Balen",
          "Bertem",
          "Denderleeuw",
          "Fontaine-l'Evêque",
          "Kortrijk",
          "Libin",
          "Léglise",
          "Mons",
          "Namur",
          "Oupeye",
          "Saint-Ghislain",
          "Somme-Leuze",
          "Tournai",
          "Beloeil",
          "Beloeil",
          "Dalhem",
          "Durbuy",
          "Eupen",
          "Frasnes-lez-Anvaing",
          "Geetbets",
          "Lobbes",
          "Maarkedal",
          "Ouffet",
          "Pepingen",
          "Pont-à-Celles",
          "Remicourt",
          "Rixensart",
          "Saint-Hubert",
          "Alveringem",
          "Chiny",
          "Comines-Warneton",
          "Courcelles",
          "Etalle",
          "Geetbets",
          "Houyet",
          "Houyet",
          "Kelmis",
          "Manhay",
          "Mons",
          "Ninove",
          "Oreye",
          "Pecq",
          "Quévy",
          "Raeren",
          "Raeren",
          "Stoumont",
          "Antoing",
          "Anzegem",
          "Beloeil",
          "Blégny",
          "Dalhem",
          "Engis",
          "Flobecq",
          "Genappe",
          "Haaltert",
          "Heuvelland",
          "Neupré",
          "Olne",
          "Ottignies-Louvain-la-Neuve",
          "Saint-Ghislain",
          "Visé",
          "Zwevegem",
          "Ardooie",
          "Beloeil",
          "Bertem",
          "Bouillon",
          "Bouillon",
          "Grimbergen",
          "Les Bons Villers",
          "Lessines",
          "Mechelen",
          "Oud-Heverlee",
          "Quévy",
          "Rendeux",
          "Spiere-Helkijn",
          "Ternat",
          "Trois-Ponts",
          "Zwevegem",
          "Awans",
          "Bernissart",
          "Comblain-au-Pont",
          "Fléron",
          "Habay",
          "Hoogstraten",
          "Kortenaken",
          "Leuze-en-Hainaut",
          "Lubbeek",
          "Maarkedal",
          "Mont-de-l'Enclus",
          "Namur",
          "Péruwelz",
          "Rotselaar",
          "Soignies",
          "Vresse-sur-Semois",
          "Binche",
          "Boechout",
          "Burdinne",
          "Cerfontaine",
          "Crisnée",
          "Grobbendonk",
          "Herve",
          "Sint-Laureins",
          "Wasseiges",
          "Aubange",
          "Bever",
          "Chaudfontaine",
          "Dinant",
          "Geer",
          "Gembloux",
          "Heuvelland",
          "Holsbeek",
          "Hoogstraten",
          "Ieper",
          "Kelmis",
          "La Roche-en-Ardenne",
          "Oupeye",
          "Raeren",
          "Soignies",
          "Soumagne",
          "Thuin",
          "Voeren",
          "Ath",
          "Beauraing",
          "Chaudfontaine",
          "Comines-Warneton",
          "Genappe",
          "Habay",
          "Houffalize",
          "Houffalize",
          "Landen",
          "Middelkerke",
          "Oud-Heverlee",
          "Péruwelz",
          "Attert",
          "Avelgem",
          "Burg-Reuland",
          "Frasnes-lez-Anvaing",
          "Ham",
          "Hamoir",
          "Heuvelland",
          "Hélécine",
          "Martelange",
          "Namur",
          "Neupré",
          "Sint-Truiden",
          "Soignies",
          "Soumagne",
          "Tielt-Winge",
          "Assesse",
          "Aubange",
          "De Haan",
          "Erezée",
          "Gingelom",
          "Héron",
          "Ittre",
          "Juprelle",
          "Kaprijke",
          "Limbourg",
          "Merbes-le-Château",
          "Mons",
          "Nassogne",
          "Oud-Heverlee",
          "Poperinge",
          "Tellin",
          "Tongeren",
          "Tournai",
          "Binche",
          "Diest",
          "Fontaine-l'Evêque",
          "Kortenaken",
          "Lessines",
          "Limbourg",
          "Momignies",
          "Namur",
          "Ninove",
          "Oud-Heverlee",
          "Plombières",
          "Sainte-Ode",
          "Zwijndrecht",
          "Aalter",
          "Berloz",
          "Borsbeek",
          "Denderleeuw",
          "Gouvy",
          "Hastière",
          "Houyet",
          "Héron",
          "Juprelle",
          "Juprelle",
          "Lievegem",
          "Lincent",
          "Lontzen",
          "Middelkerke",
          "Musson",
          "Pajottegem",
          "Roosdaal",
          "Tournai",
          "Vielsalm",
          "Voeren",
          "Voeren",
          "Wellin",
          "Wellin",
          "Assenede",
          "Aubange",
          "Bernissart",
          "Bilzen",
          "Blégny",
          "Courcelles",
          "Daverdisse",
          "Fleurus",
          "Genappe",
          "Glabbeek",
          "Gouvy",
          "Hamois",
          "Houffalize",
          "Landen",
          "Lierde",
          "Merelbeke",
          "Namur",
          "Nassogne",
          "Plombières",
          "Péruwelz",
          "Rouvroy",
          "Sint-Laureins",
          "Sint-Truiden",
          "Virton",
          "Wellen",
          "Bekkevoort",
          "Bouillon",
          "Brugelette",
          "Gouvy",
          "Hamois",
          "Hasselt",
          "Havelange",
          "Herstal",
          "Herve",
          "Ieper",
          "Mettet",
          "Ninove",
          "Saint-Léger (Lux.)",
          "Tenneville",
          "Tenneville",
          "Tournai",
          "Ath",
          "Bastogne",
          "Beaumont",
          "Dalhem",
          "Fauvillers",
          "Geer",
          "Genappe",
          "Glabbeek",
          "Kruisem",
          "Kruisem",
          "Limbourg",
          "Lubbeek",
          "Meix-devant-Virton",
          "Mons",
          "Namur",
          "Nivelles",
          "Onhaye",
          "Onhaye",
          "Pecq",
          "Sint-Lievens-Houtem",
          "Tessenderlo",
          "Tournai",
          "Visé"
         ],
         "lat": {
          "bdata": "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",
          "dtype": "f8"
         },
         "legendgroup": "Wholesale and retail trade",
         "lon": {
          "bdata": "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",
          "dtype": "f8"
         },
         "marker": {
          "color": "#EF553B",
          "size": {
           "bdata": "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",
           "dtype": "i2"
          },
          "sizemode": "area",
          "sizeref": 3.8866666666666667
         },
         "mode": "markers",
         "name": "Wholesale and retail trade",
         "showlegend": true,
         "subplot": "mapbox",
         "type": "scattermapbox"
        },
        {
         "customdata": {
          "bdata": "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",
          "dtype": "f8",
          "shape": "765, 3"
         },
         "hovertemplate": "<b>%{hovertext}</b><br><br>sector=Administrative and support service activities<br>company_count=%{customdata[0]}<extra></extra>",
         "hovertext": [
          "Antwerpen",
          "Brussel",
          "Brussel",
          "Brussel",
          "Gent",
          "Elsene",
          "Elsene",
          "Ukkel",
          "Schaarbeek",
          "Anderlecht",
          "Hasselt",
          "Roeselare",
          "Sint-Jans-Molenbeek",
          "Genk",
          "Mechelen",
          "Brasschaat",
          "Kortrijk",
          "Leuven",
          "Zaventem",
          "Antwerpen",
          "Schilde",
          "Etterbeek",
          "Etterbeek",
          "Antwerpen",
          "Waterloo",
          "Liège",
          "Deinze",
          "Lokeren",
          "Oostende",
          "Sint-Niklaas",
          "Sint-Lambrechts-Woluwe",
          "Vorst",
          "Geel",
          "Liège",
          "Kapellen",
          "Knokke-Heist",
          "Schoten",
          "Sint-Gillis (bij-Brussel)",
          "Wavre",
          "Wavre",
          "Vilvoorde",
          "Zoersel",
          "Brecht",
          "Brugge",
          "Beveren-Kruibeke-Zwijndrecht",
          "Dendermonde",
          "Evere",
          "Sint-Pieters-Woluwe",
          "Temse",
          "Heusden-Zolder",
          "Turnhout",
          "Herentals",
          "Kontich",
          "Lasne",
          "Braine-l'Alleud",
          "Antwerpen",
          "Dilbeek",
          "Oostkamp",
          "Oudenaarde",
          "Lier",
          "Sint-Truiden",
          "Evergem",
          "Sint-Genesius-Rode",
          "Lochristi",
          "Sint-Agatha-Berchem",
          "Sint-Pieters-Leeuw",
          "Grimbergen",
          "Hamme (Vl.)",
          "Jette",
          "Watermaal-Bosvoorde",
          "Brussel",
          "Oudergem",
          "Waregem",
          "Wemmel",
          "Asse",
          "Grimbergen",
          "Merelbeke-Melle",
          "Overijse",
          "Sint-Joost-ten-Node",
          "Lommel",
          "Brugge",
          "Wevelgem",
          "Machelen (Brab.)",
          "Mol",
          "Wommelgem",
          "Leuven",
          "Zonhoven",
          "Antwerpen",
          "Gent",
          "Herent",
          "Kraainem",
          "Zele",
          "Antwerpen",
          "Bilzen-Hoeselt",
          "Bornem",
          "Malle",
          "Menen",
          "Kortrijk",
          "Londerzeel",
          "Kalmthout",
          "Tielt",
          "Tongeren-Borgloon",
          "Wetteren",
          "Antwerpen",
          "Destelbergen",
          "Mortsel",
          "Ranst",
          "Aartselaar",
          "Izegem",
          "Nivelles",
          "Deinze",
          "Koekelberg",
          "Liège",
          "Tervuren",
          "Aalter",
          "Aalst",
          "Antwerpen",
          "Gent",
          "Nijlen",
          "Zaventem",
          "Sint-Gillis-Waas",
          "Edegem",
          "Keerbergen",
          "Rumst",
          "Wuustwezel",
          "Aalst",
          "Kasterlee",
          "Mouscron",
          "Waasmunster",
          "Zulte",
          "Maasmechelen",
          "Willebroek",
          "Herk-de-Stad",
          "Stekene",
          "Essen",
          "Tournai",
          "Chaumont-Gistoux",
          "Heist-op-den-Berg",
          "Namur",
          "Nazareth-De Pinte",
          "Duffel",
          "Merchtem",
          "Wingene",
          "Beerse",
          "Brugge",
          "Leuven",
          "Lummen",
          "Grez-Doiceau",
          "Maaseik",
          "Lille",
          "Maldegem",
          "Mons",
          "Westerlo",
          "Zottegem",
          "Houthalen-Helchteren",
          "Kampenhout",
          "Tienen",
          "Bilzen-Hoeselt",
          "Haacht",
          "Halle",
          "Sint-Martens-Latem",
          "Zedelgem",
          "Zemst",
          "Zemst",
          "Diksmuide",
          "Gent",
          "Namur",
          "Namur",
          "Putte",
          "Damme",
          "Ganshoren",
          "Koksijde",
          "Nieuwpoort",
          "Ninove",
          "Ninove",
          "Ninove",
          "Sint-Katelijne-Waver",
          "Verviers",
          "Wijnegem",
          "Anzegem",
          "Jodoigne",
          "Lanaken",
          "Ottignies-Louvain-la-Neuve",
          "Diepenbeek",
          "Lennik",
          "Nazareth-De Pinte",
          "Pelt",
          "Eeklo",
          "Mont-Saint-Guibert",
          "Puurs-Sint-Amands",
          "Stabroek",
          "Steenokkerzeel",
          "Aarschot",
          "Lubbeek",
          "Veurne",
          "Asse",
          "Balen",
          "Braine-le-Comte",
          "Dilsen-Stokkem",
          "Gembloux",
          "Jabbeke",
          "Laarne",
          "Namur",
          "Oosterzele",
          "Opwijk",
          "Zandhoven",
          "Deerlijk",
          "Gent",
          "Geraardsbergen",
          "Geraardsbergen",
          "Riemst",
          "Ronse",
          "Affligem",
          "Gavere",
          "Gent",
          "Harelbeke",
          "Lede",
          "Merelbeke-Melle",
          "Oudsbergen",
          "Roosdaal",
          "Beveren-Kruibeke-Zwijndrecht",
          "Bonheiden",
          "Gent",
          "Huldenberg",
          "Leuven",
          "Ottignies-Louvain-la-Neuve",
          "Perwez",
          "Tessenderlo-Ham",
          "Beringen",
          "Bree",
          "Eghezée",
          "Herselt",
          "Knokke-Heist",
          "Wezembeek-Oppem",
          "Alken",
          "Andenne",
          "Buggenhout",
          "Erpe-Mere",
          "Gent",
          "Hannut",
          "Oud-Turnhout",
          "Tubize",
          "Grâce-Hollogne",
          "Hamont-Achel",
          "Herve",
          "Herzele",
          "Ichtegem",
          "La Louvière",
          "Lebbeke",
          "Moorslede",
          "Peer",
          "Pelt",
          "Rotselaar",
          "Diest",
          "Dilbeek",
          "Kortrijk",
          "Pajottegem",
          "Tielt",
          "Wervik",
          "Zonnebeke",
          "Aalst",
          "Beveren-Kruibeke-Zwijndrecht",
          "Flémalle",
          "Retie",
          "Seraing",
          "Sint-Martens-Latem",
          "Torhout",
          "Verviers",
          "Vosselaar",
          "Berlare",
          "Bocholt",
          "Genappe",
          "Genappe",
          "Hooglede",
          "Ledegem",
          "Ternat",
          "Villers-la-Ville",
          "Zemst",
          "Zwevegem",
          "Ieper",
          "Ieper",
          "Oudsbergen",
          "Rijkevorsel",
          "Seneffe",
          "Ardooie",
          "Arendonk",
          "Beernem",
          "Grobbendonk",
          "Heist-op-den-Berg",
          "Herstal",
          "Hoeilaart",
          "Huy",
          "Meise",
          "Rixensart",
          "Sint-Niklaas",
          "Wanze",
          "Wortegem-Petegem",
          "Beringen",
          "Boechout",
          "Braine-le-Château",
          "Court-Saint-Etienne",
          "Kortemark",
          "Kruisem",
          "Meise",
          "Tongeren-Borgloon",
          "Wichelen",
          "Beauvechain",
          "Enghien",
          "Kapelle-op-den-Bos",
          "La Hulpe",
          "Boom",
          "Charleroi",
          "Halen",
          "Hasselt",
          "Kuurne",
          "Lievegem",
          "Lievegem",
          "Olen",
          "Rixensart",
          "Staden",
          "Ternat",
          "Wielsbeke",
          "Boortmeerbeek",
          "Châtelet",
          "Haaltert",
          "Hove",
          "Kinrooi",
          "Lichtervelde",
          "Malmedy",
          "Pont-à-Celles",
          "Puurs-Sint-Amands",
          "Zaventem",
          "Aarschot",
          "Berlaar",
          "Brugge",
          "Charleroi",
          "Ciney",
          "Fleurus",
          "Gent",
          "Incourt",
          "Lint",
          "Nieuwerkerken (Limb.)",
          "Tessenderlo-Ham",
          "Tielt-Winge",
          "Walhain",
          "Zwalm",
          "Aalter",
          "Aywaille",
          "Beersel",
          "Blankenberge",
          "Charleroi",
          "Esneux",
          "Ham-sur-Heure-Nalinnes",
          "Holsbeek",
          "Kruisem",
          "La Louvière",
          "Bierbeek",
          "Boutersem",
          "Dentergem",
          "Drogenbos",
          "Frameries",
          "Ittre",
          "Landen",
          "Liedekerke",
          "Waregem",
          "Beersel",
          "Hulshout",
          "Kortenberg",
          "Soignies",
          "Theux",
          "Ath",
          "Bastogne",
          "Brakel",
          "Brussel",
          "Charleroi",
          "Chaudfontaine",
          "Halle",
          "Hemiksem",
          "Hoogstraten",
          "Jemeppe-sur-Sambre",
          "Pajottegem",
          "Poperinge",
          "Visé",
          "Wavre",
          "Aalst",
          "Blégny",
          "Boechout",
          "Bredene",
          "Chapelle-lez-Herlaimont",
          "Chaudfontaine",
          "De Panne",
          "Eupen",
          "Gerpinnes",
          "Gistel",
          "Laakdal",
          "Langemark-Poelkapelle",
          "Meerhout",
          "Oudenburg",
          "Rebecq",
          "Schelle",
          "Antwerpen",
          "Binche",
          "Dessel",
          "Gesves",
          "Herve",
          "Herve",
          "Herve",
          "Manage",
          "Marche-en-Famenne",
          "Mechelen",
          "Orp-Jauche",
          "Pittem",
          "Rochefort",
          "Saint-Georges-sur-Meuse",
          "Sambreville",
          "Sprimont",
          "Vorselaar",
          "Anderlues",
          "Durbuy",
          "Herenthout",
          "Hoogstraten",
          "Ingelmunster",
          "Jalhay",
          "Koekelare",
          "Machelen (Brab.)",
          "Merksplas",
          "Scherpenheuvel-Zichem",
          "Sint-Lievens-Houtem",
          "Sint-Lievens-Houtem",
          "Thimister-Clermont",
          "Tremelo",
          "Waregem",
          "Wingene",
          "Amay",
          "Braine-l'Alleud",
          "Chastre",
          "Fernelmont",
          "Gembloux",
          "Heist-op-den-Berg",
          "Kluisbergen",
          "Kortenberg",
          "Kortenberg",
          "Liège",
          "Oostrozebeke",
          "Rixensart",
          "Waremme",
          "Yvoir",
          "Zandhoven",
          "Zoutleeuw",
          "As",
          "Beringen",
          "Beveren-Kruibeke-Zwijndrecht",
          "Charleroi",
          "Charleroi",
          "Hasselt",
          "Lievegem",
          "Lochristi",
          "Mettet",
          "Middelkerke",
          "Mons",
          "Niel",
          "Ramillies",
          "Rotselaar",
          "Seneffe",
          "Sombreffe",
          "Villers-le-Bouillet",
          "Arlon",
          "Bassenge",
          "Begijnendijk",
          "Braives",
          "Braives",
          "Gent",
          "Grimbergen",
          "Harelbeke",
          "Hoegaarden",
          "Jurbise",
          "Laakdal",
          "Montigny-le-Tilleul",
          "Nandrin",
          "Profondeville",
          "Ravels",
          "Silly",
          "Sint-Katelijne-Waver",
          "Spa",
          "Sprimont",
          "Zelzate",
          "Avelgem",
          "Couvin",
          "Hechtel-Eksel",
          "Kaprijke",
          "Lokeren",
          "Pepinster",
          "Waimes",
          "Walcourt",
          "Aarschot",
          "Bekkevoort",
          "Braine-l'Alleud",
          "De Haan",
          "De Haan",
          "Frasnes-lez-Anvaing",
          "Heist-op-den-Berg",
          "Leopoldsburg",
          "Libramont-Chevigny",
          "Linkebeek",
          "Maldegem",
          "Namur",
          "Ottignies-Louvain-la-Neuve",
          "Ravels",
          "Rotselaar",
          "Saint-Ghislain",
          "Sint-Pieters-Leeuw",
          "Stavelot",
          "Tinlot",
          "Assenede",
          "Beersel",
          "Bertem",
          "Boortmeerbeek",
          "Comines-Warneton",
          "Courcelles",
          "Dilbeek",
          "Estaimpuis",
          "Herstal",
          "Leuze-en-Hainaut",
          "Middelkerke",
          "Scherpenheuvel-Zichem",
          "Tournai",
          "Trooz",
          "Wellen",
          "Aalter",
          "Ans",
          "Assenede",
          "Awans",
          "Beersel",
          "Celles (lez-Tournai)",
          "Charleroi",
          "Charleroi",
          "Diest",
          "Dinant",
          "Fosses-la-Ville",
          "Hasselt",
          "Heers",
          "Hoogstraten",
          "La Bruyère",
          "Landen",
          "Les Bons Villers",
          "Les Bons Villers",
          "Linter",
          "Liège",
          "Mechelen",
          "Mons",
          "Mouscron",
          "Nivelles",
          "Ottignies-Louvain-la-Neuve",
          "Pepingen",
          "Sint-Niklaas",
          "Welkenraedt",
          "Zemst",
          "Bertem",
          "Bever",
          "Charleroi",
          "Charleroi",
          "Denderleeuw",
          "Ferrières",
          "Fleurus",
          "Fontaine-l'Evêque",
          "Gingelom",
          "Halle",
          "Hotton",
          "Le Roeulx",
          "Lo-Reninge",
          "Lobbes",
          "Lubbeek",
          "Marchin",
          "Ninove",
          "Oud-Heverlee",
          "Oud-Heverlee",
          "Pajottegem",
          "Philippeville",
          "Scherpenheuvel-Zichem",
          "Vleteren",
          "Walcourt",
          "Waregem",
          "Zandhoven",
          "Zedelgem",
          "Aiseau-Presles",
          "Antwerpen",
          "Assesse",
          "Assesse",
          "Ath",
          "Aubel",
          "Beyne-Heusay",
          "Blégny",
          "Dison",
          "Ecaussinnes",
          "Engis",
          "Faimes",
          "Fléron",
          "Geraardsbergen",
          "Glabbeek",
          "Houthulst",
          "Ieper",
          "Juprelle",
          "Kaprijke",
          "Kortenaken",
          "La Bruyère",
          "Lendelede",
          "Lierneux",
          "Lubbeek",
          "Mechelen",
          "Mons",
          "Mont-de-l'Enclus",
          "Morlanwelz",
          "Oupeye",
          "Quaregnon",
          "Saint-Nicolas",
          "Soumagne",
          "Soumagne",
          "Welkenraedt",
          "Zutendaal",
          "Zwevegem",
          "Alveringem",
          "Anhée",
          "Beersel",
          "Beringen",
          "Bernissart",
          "Binche",
          "Binche",
          "Chimay",
          "Chimay",
          "Clavier",
          "Dilbeek",
          "Dour",
          "Estinnes",
          "Floreffe",
          "Grimbergen",
          "Hasselt",
          "Kortrijk",
          "Leopoldsburg",
          "Lessines",
          "Modave",
          "Mons",
          "Mons",
          "Oupeye",
          "Raeren",
          "Sint-Truiden",
          "Tournai",
          "Zuienkerke",
          "Zwevegem",
          "Ans",
          "Ath",
          "Balen",
          "Beloeil",
          "Charleroi",
          "Donceel",
          "Etalle",
          "Fléron",
          "Genappe",
          "Hoogstraten",
          "La Roche-en-Ardenne",
          "Maarkedal",
          "Middelkerke",
          "Namur",
          "Oupeye",
          "Pont-à-Celles",
          "Saint-Ghislain",
          "Sint-Pieters-Leeuw",
          "Somme-Leuze",
          "Ternat",
          "Tournai",
          "Tremelo",
          "Zwevegem",
          "Ardooie",
          "Avelgem",
          "Beauraing",
          "Beauraing",
          "Bernissart",
          "Brunehaut",
          "Comblain-au-Pont",
          "Durbuy",
          "Geetbets",
          "Genappe",
          "Hamois",
          "Hamois",
          "Houyet",
          "Houyet",
          "Ieper",
          "Lanaken",
          "Lens (Hainaut)",
          "Maarkedal",
          "Mons",
          "Morlanwelz",
          "Namur",
          "Nazareth",
          "Neupré",
          "Neupré",
          "Olne",
          "Oreye",
          "Oupeye",
          "Plombières",
          "Quiévrain",
          "Quévy",
          "Ravels",
          "Saint-Hubert",
          "Sankt Vith",
          "Sankt Vith",
          "Verlaine",
          "Virton",
          "Wellen",
          "Alveringem",
          "Anthisnes",
          "Antoing",
          "Bastogne",
          "Beaumont",
          "Bertrix",
          "Burdinne",
          "Büllingen",
          "Cerfontaine",
          "Chaudfontaine",
          "Chièvres",
          "Comines-Warneton",
          "Courcelles",
          "Crisnée",
          "Dalhem",
          "Dalhem",
          "De Haan",
          "Denderleeuw",
          "Dison",
          "Florennes",
          "Frasnes-lez-Anvaing",
          "Gedinne",
          "Gembloux",
          "Genappe",
          "Herve",
          "Heuvelland",
          "Ieper",
          "Kelmis",
          "Kortenaken",
          "Kruibeke",
          "Kruisem",
          "Les Bons Villers",
          "Leuze-en-Hainaut",
          "Lierde",
          "Lierde",
          "Lontzen",
          "Léglise",
          "Maarkedal",
          "Maasmechelen",
          "Mons",
          "Namur",
          "Neufchâteau",
          "Ninove",
          "Nivelles",
          "Ohey",
          "Pepingen",
          "Péruwelz",
          "Rendeux",
          "Roosdaal",
          "Saint-Ghislain",
          "Sint-Laureins",
          "Soignies",
          "Stoumont",
          "Vaux-sur-Sûre",
          "Verviers",
          "Viroinval",
          "Zwevegem"
         ],
         "lat": {
          "bdata": "BmNgI82fSUA/dlflvW9JQDQZJPdBaUlAMxRPuUltSUBs3Co/0YZJQDQZJPdBaUlAZF+WRyxqSUBNVcB8GmVJQKuCpKRPbklAv6SRBhxqSUCqMsLreXdJQD2XH/seeUlA7qkHKnhtSUDAm3RezHtJQK+tL47Zg0lACS9C+p2nSUDHVnjcYWhJQFa34Yy9bUlAljmUvxJxSUAaiPzSl5hJQLjUM5ZcoElA4yYZLJ9qSUA/dlflvW9JQN+uUrAHlUlAEj4vidlaSUDywgfAwUtJQBkJZn9yfklAetN72NSMSUApJY1zHppJQN7KGIfzlElAWRm5tYdsSUAbYb3vM2hJQO5aRMlOlUlAN7AvkgxSSUCmiqYEv6pJQAwEJRRfrElALyRsjdChSUBkX5ZHLGpJQFaBjbFYWUlAW5TpesVcSUAr+NB2DndJQBvvgTS8oUlA4z4MhOCqSUDJSRtYx51JQHjLesRim0lAM60XQ7uESUCT3yrKXG9JQMYcV3lhaklATz7xTgSSSUBtJAOqJ4FJQFpCloIbqklABIyH6nSXSUC5q2HtcZBJQNmsqCqEV0lANkOMAaBYSUATo/+MoptJQP95wKCdbElA1QLPdMyOSUARQtfhi2xJQJVz9VPYkElANIZOo0FmSUAx6VV6aY9JQLn+mKVLX0lAMQM68MKMSUCjpmTxrG5JQCNg4OL3Y0lA6UooAmt4SUDY92sUbYtJQIRVoTPccElA7iSyYH5lSUBkX5ZHLGpJQG/GgZe0Z0lAu/vNrnNwSUCUBzoabXRJQE9yHgtjdElAs8QuxWN0SUDktfVaOH9JQIOplVm6YklAMxRPuUltSUB0Crzv35xJQLkIZOTLmElA1v5/t39rSUA61ygATHJJQNGj+/3pnklA1MNXA3iaSUBrtY1VxnBJQPJbwuP3fklAskP3aEqkSUDFpHvdzIRJQOHAbJZZdElAy1kApDVsSUC6L21cnohJQD87L7Yim0lAi5NIa5NwSUBP6h7soItJQL43ivT3pElAbBSmaexmSUBRKWDEAWNJQF+cNlDbgUlA7byU6w2zSUAjKYJE/39JQMN+FD4OZElA+MR+V02ASUBBj+ZTM6BJQOfHffuYg0lABFJ5mFqWSUDASRS7s5dJQAZjxO/fkElA83A+1KV0SUBXvFSdsktJQFP5ZJivhUlAg6hnRnduSUBY7Acu6lFJQAOPXwkcaUlAhmlW57aLSUB3EtqoJnVJQGx+NWihlklAlVo2uaqCSUBRXe1hZ5JJQHxoLHAub0lAo+fSmiOdSUCunykjAJRJQA2oPnuqgElArtBre2SNSUCVJdwtKLJJQPw8UkaMeElA9WBzCtucSUBYUJoFeV9JQGusxvgvj0lAX8Yj2LJ3SUCQ78PqpHxJQHmFaCIqiElAilvWB0V2SUBnwkBR9JpJQMYJoFuJuUlA6WneWVRNSUCOO6pL11ZJQNeYxxsGiElAcTQnmKI0SUDHSNFscHpJQEGOwYlAjElA+pXARIR7SUC4SMYQrohJQFhzjosAqUlAe7S4Or+bSUC7qa2D3HFJQG48ubp9f0lAdT0d7zBgSUBdht59sYxJQG8UQYRNoElADmz3AIyZSUDkUCvgZDpJQA6fP+Evj0lAgYj0PzlvSUC5hnMv2oNJQCO2/qJweUlAVuFiwpRnSUCpWlAIomxJQOulMiM7fUlAo6nWB4hdSUAXSG7LA4JJQI0lD3B/kUlADbLaXP56SUBVS1Vpa35JQDoncC0Ch0lAaK3+zY2GSUBskOUJBDtJQBpoKRVxP0lAes9WAg2GSUB7K9gfGp9JQF3RPn3sb0lAkLcYSYiPSUA3m1Ct2Y1JQM0peWTaZUlA5n0zx1lsSUBWw0VdUm1JQJx8clc3iElAYIpNwNlISUDf5ZoYY51JQMFjvdT0a0lAUOub3t9bSUAC4zjEMnNJQI8DmITyVUlA+0BkfKt0SUA2IJouB2lJQD8W58w3fUlA2FylaKOZSUDYWeJs35hJQCWIn/l6UklAF8UAYUOJSUAxsUzkQqtJQKy/VNpPdElADVNqWB1+SUCNdS0jGXFJQNIDO7KqhUlAOnW+U1pzSUCH2gTGSpVJQPov06JGTUlA3ej9XDiESUA7mF4s+EdJQJPvtzjhl0lAKQrfIvqESUAozWbdlzpJQKnTyIeAd0lAH3EiPYx7SUBw7N6sP5xJQP7jIxjZa0lArdUc7ZOISUBnQCjrzmBJQF0dOf4VaUlA6nQRsIpnSUBQDMV69l9JQCfYsGHQdElAzmXV3GJ1SUD3SqZhdIlJQLtObkL3a0lAGm8IO556SUD4pggdCYBJQJezSq/JiklAjTnkrD5rSUCVLirHnZ1JQIRdcG51g0lAPbN/NzGNSUA32nxPZ2hJQHYruzjsdUlAJYif+XpSSUAlQvCDPk9JQBzwsiIDh0lA1aaYkxqGSUDCFuqz/pFJQKvQjKl3S0lAJJCiKrWGSUBh51qh5KdJQGjxXGTqa0lAr63hrm9wSUAjojf5SDxJQITZnKsGgUlAvUMonlh1SUDhX3L0cIBJQDjUukRUVklA1lEszw2pSUCPgt9kjldJQC2wFrcxUklAZER5h3yiSUBGWQMQ3VFJQPl8IODHbUlA2wjBn6aQSUA8FDoInD1JQFIgJiNAf0lA4k++xpxxSUAVeBHCG45JQDjz0KiQnUlAHuBA23J6SUBPdyi5joFJQNgS8aesb0lA5/JChB5tSUCBFaPcp2NJQIFGTSK8eUlA6x/BLI5pSUAVKuuG0G5JQDHYtYcmeklAMF3iRPqSSUD8v6Lj9EtJQDArQkgvoklArI6gCOBKSUCKU/6s7X9JQIH26J76h0lA2+aqE7dLSUDIoffhE6dJQDwlm34jg0lAnV4uDG+YSUB8tZdUUUxJQIh+nGv6TUlASU+SfKx9SUChPRKX/W9JQKSlM8TGb0lAiXoDw1hGSUDtf1uf4XtJQAftCr0ZZ0lAuVzWFcRoSUB7V23qe21JQDJDsDUqhUlAz2dNiXWtSUDoDQw5I0hJQG1FoI9AfElAYVdN49SqSUDk2vcJnZBJQMvENoWxl0lAaD2eDUaNSUAKkXhp8FZJQHnyV49pYUlAr3ylNO4/SUAr7bSAzHhJQKDRGsIpW0lAWUCA4iKUSUD3ckNwO0ZJQEb3txVTbklACFueVAqJSUBcCzDdkJRJQItS64XiVklAR167dy9QSUCRs3KYH4NJQPRmvD1EdUlAUmdGF5d8SUBU/WvPj2ZJQEnjtokFgUlAdV2l2eBjSUBBFRIsWlRJQG3CvTh1gUlA+ujFEz9eSUDRsF6y+YtJQDmTLxJKNUlAeKH40FF4SUD8lmxl1nlJQHWVTtEZbklAxvWlB2mNSUCbWrabEY9JQIZQA6nslElALvcf7ntcSUBWbkFywXtJQBEFzAQYcElAWfH3cIJ0SUAzKyd3E35JQOtQZC4aMUlAn9uuTRZwSUCVXN7f15JJQEqVkHTolUlAka4C342DSUDx+5YlFDpJQJfV5g6DQUlA1hag0weISUA1dclNo21JQD2/2ahrgUlAu73nSW+NSUBrEhwr26hJQGzWSJzsOElAdaYqxMwgSUBdEY++RDxJQBG9l7zBjklABcj9wftYSUCPUnFsWJBJQJi3Sr/xb0lAAKO08huMSUCtWTp4zndJQHm6eVnzTklABqiW6GNwSUCJIiXz2JBJQJLGfmgFO0lAK3BoBq9fSUB5dG9LMaZJQFqt3q/tMElALKap/b1DSUCmd2+ObilJQOZsQQnsdUlAtBVbLMhzSUB9yEG+xjxJQNUFfrumaUlADGvlyE9qSUByH1mRjnlJQB3+ZYCRZUlA2qUYT2ExSUDDiE+QB1JJQHcJ64kiYklAl8AANOpuSUAUL1RpqW9JQEAw5U3sXUlAVfrecQuGSUBQ1eAo2nNJQPpTZSJUTklA47yOe1k9SUDoXX6u3lBJQJ4YZi88/0hAiAgGEPdmSUDjJhksn2pJQNMh45kTPElAF+NJ7ZdLSUB7YYdQ7VpJQJhhyu9lkklArSnC2R2zSUDreu9UuTpJQLh/t+raXklAx9q+ikJtSUCice45WV5JQMnbouzCW0lAXUojn9J7SUD38Qc14lNJQMMPHwKHlklAayG1lUyeSUAhd4zQUzxJQCrpWHrpR0lA7iQwVQOJSUDDI86aQk1JQLWuth8aLklAdiETrf+TSUCs7Hr1QItJQHHfT9VWdElAdm9SwfCPSUAr7xtYPplJQMS3ai+yU0lAZGjixLOPSUD6uGvV5qtJQKUt+oUGNklA0aP7/emeSUBIT/CNLjRJQM3A3PCnTUlAZRaUEvhQSUCp6CRNclhJQNHe77I3QElABiBO6DIbSUDAdI1nVINJQCD7PPRPV0lAW8D74w1/SUAnft/1aBNJQJgdOuZgTElA5e5+Fh45SUBOcuD78kBJQOJCt3vcm0lAmBJPo6kzSUAZ8byekylJQH8JIBHQkUlADHLuqeW5SUC3k+JX8nVJQMGpEkVDQUlA2HPnD4yLSUB/eJsSp3RJQLwldV9qr0lAIh2ms91/SUCeGfsFt3VJQMFBQq9PeElAnxtXwfVVSUCV5tz7RH9JQNZNpL1AcUlAOFFOUA6HSUAwmSRGukZJQAZc+woRUklAhC5OngRKSUDBmTFs80VJQHMHjFDaQklA8R6kiu6FSUB6DVyzi2NJQPyRMPCcb0lAg8fwVj1xSUDsA7WCJVBJQLYETLgdd0lAJJ9hxCBeSUDSWd0pUlhJQBcrVbsAK0lAtg9QTmyZSUBptgRd7GtJQK86vFGEgElAkwzOFNuFSUCht5NdjKVJQKa+4Yr4MElAJTV7/kY6SUAiJ/i2vHlJQEevooh3k0lA0RVdfBeXSUBEzw8ixSlJQPpN7qzSk0lA2yGuGZQ9SUDx2F3Nu41JQPN6yOaQUklAhijWy1p5SUA4ycctX0NJQI5FTYuwRUlAgKmXxuxLSUDSJKS4tddIQMiUZrzqYUlALfI95Vx/SUByzoY/e01JQIQmTCYkTklA3oReNbWUSUBBSwWRV3xJQFXoiVUKcklARyOx0yBkSUBLgigzmkNJQOHXMAUIiElAUpiF2KQvSUBu1Ehn0EJJQI1yK2K4MUlANcV48mewSUBYX4uU8FJJQAyxcreRh0lAIhmCSms8SUANVU14gkNJQHsDQPN9mUlAIVpXu4ZjSUDBR5gIUQNJQHiZ+bMXj0lANQG2X7eYSUCJVTjXU5dJQGNT/m1UR0lA+r8zSV9ASUDr66+o0iVJQFe1OtG6fElA+t+rvOp3SUBVJ3pVLFRJQNOQTiyIn0lAvISoxDqmSUDnBilhuFdJQP94fVysg0lAghvJ7HqPSUBqSzmrpvtIQLQI4wxMYklAlxyJ11GXSUAoidQ3cjpJQKiBBUSPVElAJ8ob7KW0SUBpRcJdunxJQALQ9OLvPUlAHpk9TSRnSUCJQd1kYTJJQH3XreQKPUlAZOcXfa6dSUCUw2PeD2JJQNOT1zc7bElAWFGfn918SUAPv0TUdmRJQG+N294LO0lAt9hvxnVrSUDzfytRTFdJQCm3EohwWElAAtcq4cpLSUARvHfIzZZJQAIUftxGfElAmOOVtrRTSUCfdGnGLktJQHWC+0JIbElABryyWryLSUA+p0JBGVdJQFQFWo40nUlALY5jRD5aSUCK/f6EFGJJQOOpR3OFWklAcoyPDHQ0SUAHUtjkIzVJQJxy8tq9gElAJUB8/UAdSUCTBLxwiTJJQHzwoo1tdUlAEJIiR79fSUC3O/kIObdJQJMkzL29RElAufIAfOhbSUB+u9d1ej5JQF79E5roRElAFcxOYu9nSUDIoFH/m05JQPhHgPAhgUlA9RpePd05SUB4mBR9AF5JQB5pdZkPT0lA5LF4wIZXSUDUH/jZwGBJQO+0KIt/lElA5/czgl5USUAlRhYdGX9JQP449dVgb0lAZgj1CPdaSUDv57S5GTRJQLWjMUPJNklA/R/f0y1xSUApRcAPnzJJQAdvqa/0PElA1kJPeLE0SUDZAOkJgV5JQNvZpSdlXklAT21dTVMiSUAjU5i800FJQJyXLcI5fElAwFiPnNMtSUA0Zx5c+G9JQJ7TSD2qPElA86OmlfNoSUCAMghYkGhJQIHAGTwzaklAv2wBxHdcSUDKaKW02RRJQMD6cK0UgklAtNKat+d2SUBPDar5yR9JQDS0dGguc0lASuUzeAudSUC+lLtqAI9JQBF9isVUNUlAfGkwvYGYSUCsOnpV2y5JQJAqOzqEL0lAQKQxBndQSUCsKJSKqVlJQOt0bXcGUUlACqIzHBNXSUA6GL0cgU5JQHP9/vrTSElAImBlBFNGSUCnY/05Y1RJQGiQiPeCUElAE0LUIr5kSUDZTacj2m9JQL5y55YFfklA20ZtxKJySUD/1dQ0vFpJQNRzCgkWnUlAknvoRPd0SUDGY9yHTkJJQMQzpSlocUlAfrL61qQlSUD2fzLMq29JQGEPsDpChklAEwxoo8Y6SUB7X2XYu1xJQAHvk7KUOElAoO4rRDBeSUCvYA802TdJQOdgZYeeUElA376LKy5PSUDlHlMTvlJJQNgNLekvVUlATvEEfWh3SUDBf09g+GJJQNflSnX3fElAa/BP+rIqSUDLZrXs0F9JQKQl51yIi0lAicd+uP48SUBOdWd9kjRJQKX5IRZlN0lAeGdxOx0ASUArSBDzEQpJQHVDh7naNUlA01Djxm9qSUC0P20KDDJJQDfaZKm5MklAu2F/lek1SUC7NmxTNHpJQBTczYbZbklA1c4FvV9jSUAa+S9NaY5JQNRSeimMV0lA2dl85B89SUCglakQKDhJQKLpGBphP0lA/fVMLRJbSUBvS2mGa1lJQKSeUBSgaklAveCUhUxOSUAj6Ek41Z5JQF7vj7+cZUlAkcNWXkRUSUBFKWnY1lJJQLwn8yoLkUlA9lvWD9pASUAwqNzclTFJQDc3B3RRU0lAFaw/AhPVSED+WvqiIk9JQB12Pf5MUUlAYw9GcIm8SUDOiI1Q/xNJQHEBA65JZElAc/JBOB6TSUDhqYXGSz1JQD5+udtJXUlAf38MhsRBSUC/0RjqnztJQHDqp5N1ZElA0iE38eslSUDOP9uAim1JQNOKEz/cUklAxjk0Vq6ASUB5J9xbeWdJQGwd9Y/jgElA5B/jS1tmSUBFw+J+mApJQDGOpWC7CklA+bxo4kNASUDUpZCwv0VJQKzh71/iPElAZZBBiFUwSUCvemCWj3JJQIeOf1RIUElADTP41dsrSUD2ASoTrixJQC2QwbAYFklADQle6lkXSUB8oo0op2pJQDbxMPDadklAJih6VUBISUAY1c05HWVJQIHsh1OFN0lAEWTOn3Q6SUAQ9A3YRT1JQMdI0WxweklAh3DeMJ5FSUAhh3RR8kZJQJ90acYuS0lAF4tWlv5bSUCQkiRup1tJQESFLmL8WklASDhIFMMxSUBttfktCy9JQIKkFMWRuUlAEq/WSbkESUCfsfqlayRJQF+53m9/KklA/jwxF3ZNSUAaOWPKG81IQGG+C1QbbElAg1cZsOOBSUAKRRpsfj9JQCTYO2vRRUlAS/8fNIELSUB1xcn3XRtJQA7UB2/F7EhAHEV/59JKSUBaSkjzOSxJQKn5xddTGElA15Dt5gtNSUBKd4sAf0lJQC1pxmieXklAmRpRPFE7SUCdcYchwVtJQFtZWe90W0lAgg+5xkFdSUDj+gZmnKFJQAimqNT0cklAVk4ANaFOSUCnaNCTQh1JQD10jn4BWElAmcAsIhn/SEBet0HLS0pJQC1CJpoCUElA4XGdOI9WSUAJYbkUUWZJQIxbNKtrbElAmofn5ONcSUA3A4c/7nNJQDBd4kT6kklAs8d59NRxSUAtfKtFdEBJQDQy3WwzTElAZ1ukBvdkSUC8MjqkDmlJQPEaXFfjVklApiZ+W0vnSEBJBX20YWZJQK5WY5jKdklArOiqTbI9SUBKo2SRJj9JQDEoGNjT60hAwixnbBpsSUAfxtI2hEtJQMCR3gWPOElAFrhTFuFjSUDUPHxNyD9JQAaHWzPfHElAgBi4LMZsSUBWTh3qmzlJQJIEDs7JnUlAFg6mh3ZCSUCzu+JSGDZJQFlyM3yj9EhAMwjtNdNLSUCZeK8z2AdJQKQeRQygYUlA",
          "dtype": "f8"
         },
         "legendgroup": "Administrative and support service activities",
         "lon": {
          "bdata": "KbYhRymBEUB1sWhhPYARQJgHjI0dghFAOawILyR6EUAk24znGMMNQJgHjI0dghFA2kwlZ/hgEUAIOusaC3IRQIjKyo9SixFACWpgJO8rEUBieSvramoVQHSFOXM48QhAO8nSiw9GEUBazqxMzfoVQIx3bw5W3xFA++cma28AEkAZWiEyWzYKQM6nXGSvwxJANdxdjq7pEUCwhR0wV7oRQPmy/7q8YBJAyj9WLhKUEUB1sWhhPYARQLrRmtgzjRFAYaH9fTSdEUD+VMRRZE8WQLS6FweoIQxA+HXddty+D0DNqD/t51wHQIXlTo1noBBAm6asBea5EUCDW7Ec9UsRQIqcQcde8BNAichlpZZOFkDQrxlNcMYRQOnEQ5rZpwpAejhBJGQIEkDaTCVn+GARQGUhYNqiSRJAVn4TFplwEkBlcug+3bYRQOcShzQ/uxJA+kCTiL5tEkCiAlp8T6gJQN9NSuc39xBAf0C9qBxWEEBJ9q2eCKIRQAcuk9S8xRFAZ5KKtMTdEEDr7Y882S0VQBaICJW6whNAlD2oB4VTE0Af0zoGuMMRQHvtb3Ts8hFAQuSjzNVuEUDUH9SNed8RQPKnN9wVCBFAwRZl9/ysCUAB9EA+guMMQBIHYnRGPxJASiu0QfXoFEDT6VxYAKkNQL70Sc+zfhFAi4GLHtSnDkCEJA5q+SwRQMomLaK2ABFAruIwkGuKEUDGeQBWkHsQQDFod9MYSRFAaMskuaSxEUDaTCVn+GARQI4q98uAwBFAU/fM51lpC0CINefzvjwRQNHEwn9FvxBAdesyRCVfEUBAMRnqefgNQJT2RvqrIRJAOawILyR6EUAsN+/ZTjUVQLdge+jyXQlAEGheUKk0CUBZS/9a6scRQLkvISMQfRRAl8BAN2gTEkCw/FukZMgSQKHxXbyzgRVAt4NzRcm4EUC6e9ZVGysOQNQhaMw/khJAHd+0IKjiEUDy9BYlxSQQQJLot+SKxxFAr31scPQJFkCjnFyGrekQQPaIP1LG+RJANaxXE974CEDWYLSzH2AKQHy/+vSKLxFAAg8/J+/fEUASJVpkArMKQBRlcCYl3hVAO1Obuzv3DkCTfvluK8cRQBnd3ZiFfw5AGqGT5xrYEUDSZQk9TWYSQFD+M9izhxFA6i5NDBajCUAkrmrnIE8RQISGURKpSQxAGFsCfNxLEUDUMFv94o0WQN4lETEKBRJAlrnuZzFbC0AR1l/OwkAQQHMtqxTWZRFA2m83LpRqDUBWfpx9NIoSQEhh2e7SxhFAygpuvF56EEBsR1quN7sRQOYuL9sBnhJAcqwo3D6hEUCggbK6SEMSQDzVIb4iMBBAOLA8YSCmE0DJmQHHYLgJQGIOpnGpTBBArFX1iHTFC0AVj/xl5ZsWQMthdniwcBFAJtpaCJe6FECzZ4gXdhIQQCilmlIS3RFAi0Qm5LAcC0Cdy5oLTNgSQEajhPYy6xJAnX0k3F6ZE0AiqAMEIsQMQLK8SiR7DhJAio5J/IXuEEAO7V0PN08KQAIPehVtVhNAKqH27egtCkBIyUSTefISQKVPppWuzBRAqtxdXkKxEkAwqnTpt9AWQCbwXQYqShNAJK11S1F2C0C8P18Qfr8PQHmcQzLDkhNAgVtJnhVTDkC6/BpVpK8VQKx7/YlWSBJAsOk5vcLDE0DVZTHEGu4VQC0v/xRAiBJASF58Zwv2EEB3ycN5JwkNQGB1ZBF1FwlAJETB/zLFEUCJxOBd4bcRQFaL99lj+wZADkox03oQDUCMA/K3uTYTQKSSDXY2fhNAU4JA7kqCEkAAPCbmUtIKQI0aasffPBFA8IKBUeKaBUBd6aKRhTwGQG9U4SGGDhBAuy1qB1EYEECLjw0bZ7sPQMWbc64ZDxJAlZYIf8SEF0BZ/zemRRESQLFsjzdctgtAj0g2B5uCE0AfZ6zEJ5UWQII19+FVVhJAxpLS1nGrFUDZWfj9FLgQQCuCjuPieg1AJ5e6JNeSFUAuQtbfp38MQNyfgLg8cRJAcN4ED5cqEUDMypty0XoRQCXuFCQTDRJAPJ6za1VWE0Cfk4unH1cTQHvkKceXIgVAGPmp4DIeEUD3kCBJDsIUQFzvN1YOhxBAuAWu0grNFkDOq606vskSQCYzPgLoswhAQbKpPKnbDkAcgGxQDGsTQI63ve+pKQ5ApHApvKy6EEAdK/h5hqkSQMHMi1no7QpAgfU8xb4nDkDJphynGvQOQNQ9Mv1LGA9ANf4yyeBkFkBYiz7LWdwMQC2FNS4YbRBAk7hipqqpDUAkC/UppG0NQLWPauV3igpAa+vyL+WJD0DLS2QyN18OQA+P6uPoZBZAsnYr6IlPEEAjmhzlfUcRQI8r+nS7LRJAzgVppLUuDkCuY6dcr3oSQFwGReos1BJA3J+AuDxxEkBKdLzdARATQHAkroM0RxRAYjS88mexFED+KBqYr4sWQBtVInCRoxNAREHwiQ+ZE0Af0qoQKBIKQA/HxzU++BFA7cMa/IkpFUDzzviv1S4UQE9Bb8F+xRBAGOiu11S4D0BPu9V0pqoNQM+uW/RnVRRAxjQw6nkEFEAT9hnuBscQQCSgf/dwtxVAtsDPBvzsFUCJ+6M5VC0XQHpd3P0LGA9ABZE1beMyCEDMJ6+ZrMIQQDbIWwsJjRBAJuajE+GXCED/xeveJ9EVQJLjAzlVxxVA2ICHlifrEkBZdyyjSWUUQJkXnqgbDRFA1jSQxkDfCUCInC+4f4AQQFfYjtk8XApA4wDSTC+SCEB6e75HPtYHQCsSSRy+ZxBAn2jEii4kEUDKeTr+c7gVQECxISWiThRAoIxV7z0IFkBbRbkU6uEMQGYpzQ+NwwhAgJlUD6h2F0Dd5ik6VYoTQBD8EGj1rA9AlAJEIX5ZFkAG2wNgSO0RQF2+dKmzyxFArElWph6DCEDw5udBBTYJQFlmEkp8uBBAWtbrdTUkEkBjGvBCogMSQErjAOP9tgpAWpvd6cWQBkAtPshTaCoHQDe1kGYSSRZA/cjjBOoRE0DyDp1ZkfUQQAQI9Cb+oglAsgAOkH9XFECcJiSMG5EKQN1H5iqq9RJAtstK97TjEkDLrhEaWX8WQKlx05ujzRFAi5VC+2i5FEBN3U/W5kwRQGsaTpOyHBJAopwQpCdcEEA7jjW3l7kUQMbBrk4mAQxA0N/Xw2kfFUDxH46HoQcSQHhM12S3EhFAXtZrJBlAEkBxq+3mAv8HQJqEd1ddPQxA12GAWnA8EUDAPC2TomMVQB+q6w+vfQ9AdOmafOkjE0BXS/WBJCUQQE6WoW14dxFAx+7un/3bEUA+h8vO2X0RQJOVCGJOyxFAt9pzbt5iFECb8GYUrzQVQEmhUpY5LApAaJBc8sb6DEDXZX6aIn0MQO7mcxbeihNAAY2ZV0EAEkDyUjiO/QkIQMfNWhk7ixBAafSb7ezeCkBcAJCHSCsSQMP5IqDcChJAuer/kd0JEECabOyx4u0RQAHVJ8tM6hZAPCgjU0IrCUBEy5kPTCwYQJRQK5AukBFAWmzr7VT2EEARHBYh9woSQCeyQ7K/kBNAKXlP7m2eEkBukqVrWZYJQNC7wq2GvRFAckOfxsV9FEADQUTJwSQSQApDo2I36A1AZGF74EwnE0DOdS35wP0RQMxF4KpGxhRAtwSEOJaIFEDScgeCxagTQAGaFD8nxRJA8BolxHjgDUCO0vrcS9gLQAH6MHwcrhZA1z16vvNPEUCb37bR/yEJQAwWAjiVwhFAryQOjt09FkClPRucx5ERQKRlMYabLxNAuMXPe83RDEALNHGBTHwQQBSGyzGlBxNAlhVuuzZOE0AcJwBkvSMLQB/BBkt3PBFAzLUr7Nz2DkAvVe3Q8gkRQG8s1810KBRAabQ5yURfEEB0izfHrMIKQOnq6TXRMRFATDbtbl41E0DG1ZkllEoSQMLjbOgrHxBAbXoxHfkrF0AR7pi8cj4OQBL0h3jdHBdA3WtNiJccDkDKP1YuEpQRQOeaGWarxRFAAMzaOahtFkAGvtYWN98QQArrqvhYXBFAxnzUQJH4EkCLzJuL3cESQK1ksGUh7A9ATnmUFDLBBUACMrb+n84WQHzxJJmNUxJAqrDqv2EeEEDhFy7oDbMWQKMIBc4pJRJAWhAI0avRB0D0dq9UpSERQL06UyG3jBZAffxpJbfBBEBbMOh06YwYQC6o9PHMFxJAnmrd/I6tB0DDeWitOy8UQD+/gCH4ZQdAX8eTFVdLFEBBjhOFNPwHQPg3CdnsfxBA04MVdOleEUBW3RkJRDERQPfj9ylPxhBAuS8hIxB9FEBJVpChJUgUQA8VDEs9OhdAEJN0IO5aF0AoZZ21ahYXQHzPwR9U+xBASr1tqgV3FUCQDLol95kRQLdcauQ0xhNAzely1OEpCkBV1pT6JK4UQGqL2z08cRVAO8IuliqIEkAWRdSpSowWQA5HrRRxFxNAsO/PtAoQEUB6Fx7iWawVQBgbuHosChNASv3t/BPpEkCvsRzg4RUKQNeGquDhzBdAkrWQnhnHB0B5GTBzyMURQBQwwU0ZexNAciIOIS3tE0AG1KHVy80OQKGvR5ZFPg9Ajq+lUwiEF0Azmik8ONYSQFA6cnwp8QpAaJzZbeMOC0BfWLAG6T4VQOFI8QHudhFALM8NmCR5EkCivDiPbO4TQApiVlu80hJAPPA1VbgRE0CeeMYvj1YMQAjUfhI/PhJAnxW6sQQnEkAH/sLcgHIWQBeDw56gsgpAEdbFu7QvEkD4HbL66AMVQHZ50DpH7BNAN0IBBXDIEkCnbwhZInkUQGjzf3GmSBZAOsKSql/kFEBVrxIwDNAQQKLeHkJtoxFAMUiaE8LtEUB+47bPbQEVQLDoRFST4AxAIyDo8XL8DkAm98sHH5oSQIdbquqTNQZAj1d5D0g1D0BWSn2YnlcRQNpv+YK6eBNAf2q8TJsRE0Bb2ERj+RERQAC3usWnahJAaHQ9NIzjFEA9tEESUfcWQIxNIkqqahZAgyRRc4YkE0AW73HcLbQUQHJo1VGCdhRAzmLGk5V7DkBIYMa/0IMRQLXjYpMlUgpAbJNGRqyCE0Ae0d1vdFkPQFF2F/xM6xNAPOFzcNyCEUBk9bhdaooVQGG/Rto8ThNAz00UCFIXFEDN0NNM4YMPQCB/Gk5HTRJArCQONeJ3F0DWFXK+VN4WQDrhcpgBeA5AMtTGqzuWC0C/fup/tRUSQLzol9zIXRVAQuaeTs8VDUDXFTk+fY8PQH0E0MiIMRdA8wcvnI6GGEBeR6/dLNIRQDIuZaYblRNA4/9361zjE0BHZvjS2lsRQO1XnOrfMAhAtVcrcue8CEBn0deoUAcNQOS94il4yhJAG7+3bTgQFUDSar6XL4UVQOZqij20YRFA75lWL6oFDEBm10vV5MgTQFq7qjYDIxJAkAhVgScGFEDYaamY19QSQPDqrDuYug5A24JRd0DsEEAR5w14IM0XQJNqpQ/LiBVAo4P+yHRmDUBVLS0dMx4RQJMasbj8XBJAPEk7MztQEkA355BPkPoHQCDR1qXZfBFAZ+IgnsfMEEAFw9+oK2oKQBAEdgREYRZAR4cGcoDsDEBYThcn2LEGQPnM8bcj6RNAl24rKf+CC0CQ/I46iu0WQHAgfguHWBVACzz7nlf7C0ADOdPiagcWQPvs1ku2DA5A1bL8D53DFUATNdpCH0ARQBAkOndMpgtAQeWOif6ZEUBfLpYiBnIRQIK1lGY1HhRALnlGcvifE0Abkc82FMQSQHL8LgHx/RRAWeSuhas5FUBiTfYT1hgTQH9MHMLwGRNAaeOlhtVZFEAVhjhnN+IRQGQwCC6zyBFArmvsrrkVFEBVe6ZMjH4WQCm3ispKFhJA/mYPv+UrD0DReOpWs1kKQM3ZrqSrbhFAEAhqcc87EkCcwNjtzqYQQAthtLDgHRBA6C4VXyrdF0C/F/0R/AISQAMP8N6cgBJAPEMn1Bd1D0DbdW9gv+URQID3A60F8RFATBWQKGZGEEB54231nIgWQDnNGTl3UBJAAYtAEhBKEUChjLp8BrQUQOVFEY3ADBFAq0u+9LrOFUCeFe9v6HoQQMgAyt2Z4wVA6bB2jpYQEUDZEwqL/SgTQElgDiMN7xRAK/Z0/vkwEEDhsEUHatISQGIqTz0LpRJA+qzyxuckEEBg75XznUkSQBTKF/UEyRNAUpcwCB72BUApY+EDysARQIOZtGwGLQtA9epq+RDTEkDKHJlYF8AIQIdkc8/8XRJAuapfQmTzEUDrAYRaXxUUQDvdDmF6xRNAQEKaOrHNDUCE73KiymcXQJcALFavrxZA8n7fu5r9FkC2hjnz6moXQJrEqvlTpxBAL+33pgOQFUBLKhXLYPkUQBKXHRUkyxZA0PWhd5KAD0BZT3Tg3s4TQGVEyCiLOQdAlfQNHwvsBkDAAqn5+zAWQKMcXvJ57gxAt6k8csABFEDepd0sy0oTQOaC0y8u2wlA6RqfeqEtF0AvK2Bv5pETQH+ccWGFoxFA1CxqVcEtEEAkH8J6HwkMQG9AO6IdBxFAD9P22PqiFkCSUXwuReUOQIyoV+rmIxZAX4PlD237FkBzbgDzFdAWQCOo9W2otBdA8CASLTZNFkDACXJcWRYLQGvHTgSYFgVAPBsXYO0vE0BKG7JooRgRQJsx9d0s/hRA3GTDeS3eDUC6KaIrqLMQQEHDGKICXhBAdXUtaARuEUBQlPP8GxkRQMuUfcijehVApXD2BhPuEEAsX45ntGYOQBg+WOoLYhBAhmkidCUcE0DcBY6vC3QRQFyy17xegxVAcl5ruM7KCUBgALy4AesUQFhmx+ry5w5A8Btoz88mFUA7ETXGKQ4QQBuacQLpxg9AUVivo2pyFkBaIW41WmIYQBqoc0o1lxRAygdYYydVCkCibLxTbt8IQLefaN+4MQtAnKx8RtgcFkC7UExcecAOQHCOE0VApRRAzzd5krnSDUC1x/m3AOMRQKFNZP4CPRVAF2yv3MV2FkB0jRx5iLsWQP3ehOI8yRFAYMt4gqozE0CkGE5Q9hYWQHiil6Wb1AxAgVmzd+KvBkAFOoOUUpMTQLId2TqZhhZAHfylaLGzEUCWG0kW9mcOQEjoJhfnLxFAB6D4ln02FUC2dEGhW58QQMIRaqGcQgpA8P7yG6j+EkAi6xDVXF8LQJx9o6nlmAlAGULxi5kGDECc2qjGSqkTQH/oyAZLKRRAqEMj1kJBDUBCr5l5tjELQDOGYV+0UxZAhQIO4XsaFkDK7ZID2WsUQNG+pHIr4hFAbyk+Bls/FEDlzkFVWqQUQJJoGNju3xNAy0/lsN1UFECGjDnYiHUHQMUT2uDfpRZAT9NaV6aUD0A4/LVo1XYNQJQdkPlxYw9AKaBmR9HxEEDd5ye1nFoTQCKoAwQixAxAmmNioYocFkDdd7GCMeEVQJD8jjqK7RZAGPGQhkhrFUCf4pvgkbMWQL2oboGezRdAkRRIimGKDUD/8vKxuGgPQP4T2YtbNRRA0Zrqjm9BFUDpOTA9Z5QYQC0IPFgZJRhATc7ItvlCFUCnAoSjg1gWQGTUlo6fKRVACydUEwrFBUDpAjFUMuUVQCCRywS39AtAa3lHBme2FkBOE6tjVPsQQOrpF8tD9hRAKBaKkDRfFED11yUjfVUZQGN570JOvBFAQENn9iuJFkC/OjJ6p3YOQIKyonBrWgdAP6A6iQZLEUApKxh+XJwVQLAFdB0zHBdA/7e5cUb3FkCvu0KQVYAIQPNApWeCMxBAD96q7VKJF0Culik19roSQEkNXThlPgxAijWG/bGKE0Avn47QpxITQPlpnrDophFADS946gI7F0CjooA4SfMFQA6ZO3DKkAZAX1WxDHMMGECwvE/VUDoUQJ9oxIouJBFAcDe3HVh2DEC+O083pu0RQNJH/Zo9QQ1AMap0ada+DkBajC+Q5bIOQJJ5wEXu9hdA/ELI2plwFkDcV5oa8wMNQESGd17/4RZAzBYfjYkDEEBL+TC0TrkTQD4OykUIuhVAyj00SnnsD0D+I+L0DoQRQNK+yA/dlhRAVCBCUByzEEAVeKzdkugMQE8dNKIc7hVAFzs/udSCEEDMLSGRz4kOQOxqscwYTAxAbVwpMikxEEC6MY5L1yYXQNaO/JeMbxZAv5GHiXmcF0D+sM/6L24SQHzVbFil0ApA",
          "dtype": "f8"
         },
         "marker": {
          "color": "#00cc96",
          "size": {
           "bdata": "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",
           "dtype": "i2"
          },
          "sizemode": "area",
          "sizeref": 3.8866666666666667
         },
         "mode": "markers",
         "name": "Administrative and support service activities",
         "showlegend": true,
         "subplot": "mapbox",
         "type": "scattermapbox"
        }
       ],
       "layout": {
        "legend": {
         "itemsizing": "constant",
         "title": {
          "text": "sector"
         },
         "tracegroupgap": 0
        },
        "mapbox": {
         "center": {
          "lat": 50.759980234582635,
          "lon": 4.504177946763253
         },
         "domain": {
          "x": [
           0,
           1
          ],
          "y": [
           0,
           1
          ]
         },
         "style": "open-street-map",
         "zoom": 7
        },
        "margin": {
         "b": 0,
         "l": 0,
         "r": 0,
         "t": 50
        },
        "template": {
         "data": {
          "bar": [
           {
            "error_x": {
             "color": "#2a3f5f"
            },
            "error_y": {
             "color": "#2a3f5f"
            },
            "marker": {
             "line": {
              "color": "#E5ECF6",
              "width": 0.5
             },
             "pattern": {
              "fillmode": "overlay",
              "size": 10,
              "solidity": 0.2
             }
            },
            "type": "bar"
           }
          ],
          "barpolar": [
           {
            "marker": {
             "line": {
              "color": "#E5ECF6",
              "width": 0.5
             },
             "pattern": {
              "fillmode": "overlay",
              "size": 10,
              "solidity": 0.2
             }
            },
            "type": "barpolar"
           }
          ],
          "carpet": [
           {
            "aaxis": {
             "endlinecolor": "#2a3f5f",
             "gridcolor": "white",
             "linecolor": "white",
             "minorgridcolor": "white",
             "startlinecolor": "#2a3f5f"
            },
            "baxis": {
             "endlinecolor": "#2a3f5f",
             "gridcolor": "white",
             "linecolor": "white",
             "minorgridcolor": "white",
             "startlinecolor": "#2a3f5f"
            },
            "type": "carpet"
           }
          ],
          "choropleth": [
           {
            "colorbar": {
             "outlinewidth": 0,
             "ticks": ""
            },
            "type": "choropleth"
           }
          ],
          "contour": [
           {
            "colorbar": {
             "outlinewidth": 0,
             "ticks": ""
            },
            "colorscale": [
             [
              0,
              "#0d0887"
             ],
             [
              0.1111111111111111,
              "#46039f"
             ],
             [
              0.2222222222222222,
              "#7201a8"
             ],
             [
              0.3333333333333333,
              "#9c179e"
             ],
             [
              0.4444444444444444,
              "#bd3786"
             ],
             [
              0.5555555555555556,
              "#d8576b"
             ],
             [
              0.6666666666666666,
              "#ed7953"
             ],
             [
              0.7777777777777778,
              "#fb9f3a"
             ],
             [
              0.8888888888888888,
              "#fdca26"
             ],
             [
              1,
              "#f0f921"
             ]
            ],
            "type": "contour"
           }
          ],
          "contourcarpet": [
           {
            "colorbar": {
             "outlinewidth": 0,
             "ticks": ""
            },
            "type": "contourcarpet"
           }
          ],
          "heatmap": [
           {
            "colorbar": {
             "outlinewidth": 0,
             "ticks": ""
            },
            "colorscale": [
             [
              0,
              "#0d0887"
             ],
             [
              0.1111111111111111,
              "#46039f"
             ],
             [
              0.2222222222222222,
              "#7201a8"
             ],
             [
              0.3333333333333333,
              "#9c179e"
             ],
             [
              0.4444444444444444,
              "#bd3786"
             ],
             [
              0.5555555555555556,
              "#d8576b"
             ],
             [
              0.6666666666666666,
              "#ed7953"
             ],
             [
              0.7777777777777778,
              "#fb9f3a"
             ],
             [
              0.8888888888888888,
              "#fdca26"
             ],
             [
              1,
              "#f0f921"
             ]
            ],
            "type": "heatmap"
           }
          ],
          "histogram": [
           {
            "marker": {
             "pattern": {
              "fillmode": "overlay",
              "size": 10,
              "solidity": 0.2
             }
            },
            "type": "histogram"
           }
          ],
          "histogram2d": [
           {
            "colorbar": {
             "outlinewidth": 0,
             "ticks": ""
            },
            "colorscale": [
             [
              0,
              "#0d0887"
             ],
             [
              0.1111111111111111,
              "#46039f"
             ],
             [
              0.2222222222222222,
              "#7201a8"
             ],
             [
              0.3333333333333333,
              "#9c179e"
             ],
             [
              0.4444444444444444,
              "#bd3786"
             ],
             [
              0.5555555555555556,
              "#d8576b"
             ],
             [
              0.6666666666666666,
              "#ed7953"
             ],
             [
              0.7777777777777778,
              "#fb9f3a"
             ],
             [
              0.8888888888888888,
              "#fdca26"
             ],
             [
              1,
              "#f0f921"
             ]
            ],
            "type": "histogram2d"
           }
          ],
          "histogram2dcontour": [
           {
            "colorbar": {
             "outlinewidth": 0,
             "ticks": ""
            },
            "colorscale": [
             [
              0,
              "#0d0887"
             ],
             [
              0.1111111111111111,
              "#46039f"
             ],
             [
              0.2222222222222222,
              "#7201a8"
             ],
             [
              0.3333333333333333,
              "#9c179e"
             ],
             [
              0.4444444444444444,
              "#bd3786"
             ],
             [
              0.5555555555555556,
              "#d8576b"
             ],
             [
              0.6666666666666666,
              "#ed7953"
             ],
             [
              0.7777777777777778,
              "#fb9f3a"
             ],
             [
              0.8888888888888888,
              "#fdca26"
             ],
             [
              1,
              "#f0f921"
             ]
            ],
            "type": "histogram2dcontour"
           }
          ],
          "mesh3d": [
           {
            "colorbar": {
             "outlinewidth": 0,
             "ticks": ""
            },
            "type": "mesh3d"
           }
          ],
          "parcoords": [
           {
            "line": {
             "colorbar": {
              "outlinewidth": 0,
              "ticks": ""
             }
            },
            "type": "parcoords"
           }
          ],
          "pie": [
           {
            "automargin": true,
            "type": "pie"
           }
          ],
          "scatter": [
           {
            "fillpattern": {
             "fillmode": "overlay",
             "size": 10,
             "solidity": 0.2
            },
            "type": "scatter"
           }
          ],
          "scatter3d": [
           {
            "line": {
             "colorbar": {
              "outlinewidth": 0,
              "ticks": ""
             }
            },
            "marker": {
             "colorbar": {
              "outlinewidth": 0,
              "ticks": ""
             }
            },
            "type": "scatter3d"
           }
          ],
          "scattercarpet": [
           {
            "marker": {
             "colorbar": {
              "outlinewidth": 0,
              "ticks": ""
             }
            },
            "type": "scattercarpet"
           }
          ],
          "scattergeo": [
           {
            "marker": {
             "colorbar": {
              "outlinewidth": 0,
              "ticks": ""
             }
            },
            "type": "scattergeo"
           }
          ],
          "scattergl": [
           {
            "marker": {
             "colorbar": {
              "outlinewidth": 0,
              "ticks": ""
             }
            },
            "type": "scattergl"
           }
          ],
          "scattermap": [
           {
            "marker": {
             "colorbar": {
              "outlinewidth": 0,
              "ticks": ""
             }
            },
            "type": "scattermap"
           }
          ],
          "scattermapbox": [
           {
            "marker": {
             "colorbar": {
              "outlinewidth": 0,
              "ticks": ""
             }
            },
            "type": "scattermapbox"
           }
          ],
          "scatterpolar": [
           {
            "marker": {
             "colorbar": {
              "outlinewidth": 0,
              "ticks": ""
             }
            },
            "type": "scatterpolar"
           }
          ],
          "scatterpolargl": [
           {
            "marker": {
             "colorbar": {
              "outlinewidth": 0,
              "ticks": ""
             }
            },
            "type": "scatterpolargl"
           }
          ],
          "scatterternary": [
           {
            "marker": {
             "colorbar": {
              "outlinewidth": 0,
              "ticks": ""
             }
            },
            "type": "scatterternary"
           }
          ],
          "surface": [
           {
            "colorbar": {
             "outlinewidth": 0,
             "ticks": ""
            },
            "colorscale": [
             [
              0,
              "#0d0887"
             ],
             [
              0.1111111111111111,
              "#46039f"
             ],
             [
              0.2222222222222222,
              "#7201a8"
             ],
             [
              0.3333333333333333,
              "#9c179e"
             ],
             [
              0.4444444444444444,
              "#bd3786"
             ],
             [
              0.5555555555555556,
              "#d8576b"
             ],
             [
              0.6666666666666666,
              "#ed7953"
             ],
             [
              0.7777777777777778,
              "#fb9f3a"
             ],
             [
              0.8888888888888888,
              "#fdca26"
             ],
             [
              1,
              "#f0f921"
             ]
            ],
            "type": "surface"
           }
          ],
          "table": [
           {
            "cells": {
             "fill": {
              "color": "#EBF0F8"
             },
             "line": {
              "color": "white"
             }
            },
            "header": {
             "fill": {
              "color": "#C8D4E3"
             },
             "line": {
              "color": "white"
             }
            },
            "type": "table"
           }
          ]
         },
         "layout": {
          "annotationdefaults": {
           "arrowcolor": "#2a3f5f",
           "arrowhead": 0,
           "arrowwidth": 1
          },
          "autotypenumbers": "strict",
          "coloraxis": {
           "colorbar": {
            "outlinewidth": 0,
            "ticks": ""
           }
          },
          "colorscale": {
           "diverging": [
            [
             0,
             "#8e0152"
            ],
            [
             0.1,
             "#c51b7d"
            ],
            [
             0.2,
             "#de77ae"
            ],
            [
             0.3,
             "#f1b6da"
            ],
            [
             0.4,
             "#fde0ef"
            ],
            [
             0.5,
             "#f7f7f7"
            ],
            [
             0.6,
             "#e6f5d0"
            ],
            [
             0.7,
             "#b8e186"
            ],
            [
             0.8,
             "#7fbc41"
            ],
            [
             0.9,
             "#4d9221"
            ],
            [
             1,
             "#276419"
            ]
           ],
           "sequential": [
            [
             0,
             "#0d0887"
            ],
            [
             0.1111111111111111,
             "#46039f"
            ],
            [
             0.2222222222222222,
             "#7201a8"
            ],
            [
             0.3333333333333333,
             "#9c179e"
            ],
            [
             0.4444444444444444,
             "#bd3786"
            ],
            [
             0.5555555555555556,
             "#d8576b"
            ],
            [
             0.6666666666666666,
             "#ed7953"
            ],
            [
             0.7777777777777778,
             "#fb9f3a"
            ],
            [
             0.8888888888888888,
             "#fdca26"
            ],
            [
             1,
             "#f0f921"
            ]
           ],
           "sequentialminus": [
            [
             0,
             "#0d0887"
            ],
            [
             0.1111111111111111,
             "#46039f"
            ],
            [
             0.2222222222222222,
             "#7201a8"
            ],
            [
             0.3333333333333333,
             "#9c179e"
            ],
            [
             0.4444444444444444,
             "#bd3786"
            ],
            [
             0.5555555555555556,
             "#d8576b"
            ],
            [
             0.6666666666666666,
             "#ed7953"
            ],
            [
             0.7777777777777778,
             "#fb9f3a"
            ],
            [
             0.8888888888888888,
             "#fdca26"
            ],
            [
             1,
             "#f0f921"
            ]
           ]
          },
          "colorway": [
           "#636efa",
           "#EF553B",
           "#00cc96",
           "#ab63fa",
           "#FFA15A",
           "#19d3f3",
           "#FF6692",
           "#B6E880",
           "#FF97FF",
           "#FECB52"
          ],
          "font": {
           "color": "#2a3f5f"
          },
          "geo": {
           "bgcolor": "white",
           "lakecolor": "white",
           "landcolor": "#E5ECF6",
           "showlakes": true,
           "showland": true,
           "subunitcolor": "white"
          },
          "hoverlabel": {
           "align": "left"
          },
          "hovermode": "closest",
          "mapbox": {
           "style": "light"
          },
          "paper_bgcolor": "white",
          "plot_bgcolor": "#E5ECF6",
          "polar": {
           "angularaxis": {
            "gridcolor": "white",
            "linecolor": "white",
            "ticks": ""
           },
           "bgcolor": "#E5ECF6",
           "radialaxis": {
            "gridcolor": "white",
            "linecolor": "white",
            "ticks": ""
           }
          },
          "scene": {
           "xaxis": {
            "backgroundcolor": "#E5ECF6",
            "gridcolor": "white",
            "gridwidth": 2,
            "linecolor": "white",
            "showbackground": true,
            "ticks": "",
            "zerolinecolor": "white"
           },
           "yaxis": {
            "backgroundcolor": "#E5ECF6",
            "gridcolor": "white",
            "gridwidth": 2,
            "linecolor": "white",
            "showbackground": true,
            "ticks": "",
            "zerolinecolor": "white"
           },
           "zaxis": {
            "backgroundcolor": "#E5ECF6",
            "gridcolor": "white",
            "gridwidth": 2,
            "linecolor": "white",
            "showbackground": true,
            "ticks": "",
            "zerolinecolor": "white"
           }
          },
          "shapedefaults": {
           "line": {
            "color": "#2a3f5f"
           }
          },
          "ternary": {
           "aaxis": {
            "gridcolor": "white",
            "linecolor": "white",
            "ticks": ""
           },
           "baxis": {
            "gridcolor": "white",
            "linecolor": "white",
            "ticks": ""
           },
           "bgcolor": "#E5ECF6",
           "caxis": {
            "gridcolor": "white",
            "linecolor": "white",
            "ticks": ""
           }
          },
          "title": {
           "x": 0.05
          },
          "xaxis": {
           "automargin": true,
           "gridcolor": "white",
           "linecolor": "white",
           "ticks": "",
           "title": {
            "standoff": 15
           },
           "zerolinecolor": "white",
           "zerolinewidth": 2
          },
          "yaxis": {
           "automargin": true,
           "gridcolor": "white",
           "linecolor": "white",
           "ticks": "",
           "title": {
            "standoff": 15
           },
           "zerolinecolor": "white",
           "zerolinewidth": 2
          }
         }
        },
        "title": {
         "text": "Business Hotspots by Sector and Municipality (Legal form: Besloten Vennootschap)"
        }
       }
      }
     },
     "metadata": {},
     "output_type": "display_data"
    }
   ],
   "source": [
    "\n",
    "fig = px.scatter_mapbox(\n",
    "    df,\n",
    "    lat='latitude',\n",
    "    lon='longitude',\n",
    "    size='company_count',\n",
    "    color='sector',\n",
    "    hover_name='Municipality',\n",
    "    hover_data={'company_count': True, 'latitude': False, 'longitude': False},\n",
    "    size_max=30,\n",
    "    zoom=7,  \n",
    "    mapbox_style='open-street-map',  \n",
    "    title='Business Hotspots by Sector and Municipality (Legal form: Besloten Vennootschap)'\n",
    ")\n",
    "\n",
    "fig.update_layout(margin={\"r\":0,\"t\":50,\"l\":0,\"b\":0})\n",
    "fig.show()\n",
    "\n",
    "\n"
   ]
  },
  {
   "cell_type": "code",
   "execution_count": 124,
   "id": "e1d28af8",
   "metadata": {},
   "outputs": [
    {
     "data": {
      "application/vnd.plotly.v1+json": {
       "config": {
        "plotlyServerURL": "https://plot.ly"
       },
       "data": [
        {
         "hovertemplate": "<b>%{hovertext}</b><br><br>company_count=%{marker.size}<br>latitude=%{lat}<br>longitude=%{lon}<extra></extra>",
         "hovertext": [
          "Antwerpen",
          "Brussel",
          "Brussel",
          "Elsene",
          "Elsene",
          "Ukkel",
          "Brussel",
          "Gent",
          "Hasselt",
          "Sint-Pieters-Woluwe",
          "Schaarbeek",
          "Liège",
          "Leuven",
          "Antwerpen",
          "Mechelen",
          "Liège",
          "Watermaal-Bosvoorde",
          "Etterbeek",
          "Etterbeek",
          "Waterloo",
          "Roeselare",
          "Schilde",
          "Kortrijk",
          "Vorst",
          "Brasschaat",
          "Lasne",
          "Sint-Lambrechts-Woluwe",
          "Sint-Gillis (bij-Brussel)",
          "Oudergem",
          "Anderlecht",
          "Overijse",
          "Wavre",
          "Wavre",
          "Brussel",
          "Schoten",
          "Antwerpen",
          "Knokke-Heist",
          "Kapellen",
          "Leuven",
          "Sint-Niklaas",
          "Genk",
          "Zoersel",
          "Lier",
          "Oostende",
          "Deinze",
          "Brugge",
          "Tervuren",
          "Edegem",
          "Kontich",
          "Lokeren",
          "Braine-l'Alleud",
          "Geel",
          "Brugge",
          "Sint-Jans-Molenbeek",
          "Sint-Genesius-Rode",
          "Chaumont-Gistoux",
          "Dendermonde",
          "Antwerpen",
          "Beveren-Kruibeke-Zwijndrecht",
          "Turnhout",
          "Oudenaarde",
          "Temse",
          "Aalst",
          "Waregem",
          "Dilbeek",
          "Herentals",
          "Nivelles",
          "Keerbergen",
          "Liège",
          "Koksijde",
          "Mol",
          "Destelbergen",
          "Heusden-Zolder",
          "Merelbeke-Melle",
          "Ottignies-Louvain-la-Neuve",
          "Brecht",
          "Herent",
          "Lochristi",
          "Asse",
          "Gent",
          "Aalter",
          "Mortsel",
          "Grez-Doiceau",
          "Sint-Truiden",
          "Bonheiden",
          "Wemmel",
          "Kalmthout",
          "Leuven",
          "Mons",
          "Rixensart",
          "Jette",
          "Zonhoven",
          "Gent",
          "Oostkamp",
          "Sint-Martens-Latem",
          "Zaventem",
          "Bornem",
          "Ranst",
          "Vilvoorde",
          "Namur",
          "Waasmunster",
          "Verviers",
          "Antwerpen",
          "Evergem",
          "Wevelgem",
          "Brugge",
          "Izegem",
          "Merchtem",
          "Gent",
          "Tournai",
          "Aartselaar",
          "Evere",
          "Grimbergen",
          "Lommel",
          "Nijlen",
          "Kortrijk",
          "Gent",
          "Bilzen-Hoeselt",
          "Ieper",
          "Ieper",
          "Tienen",
          "Wezembeek-Oppem",
          "Heist-op-den-Berg",
          "Londerzeel",
          "Zottegem",
          "La Hulpe",
          "Westerlo",
          "Hove",
          "Hoeilaart",
          "Halle",
          "Tongeren-Borgloon",
          "Kasterlee",
          "Wetteren",
          "Kraainem",
          "Rumst",
          "Duffel",
          "Puurs-Sint-Amands",
          "Erpe-Mere",
          "Namur",
          "Nazareth-De Pinte",
          "Verviers",
          "Putte",
          "Rixensart",
          "Oosterzele",
          "Ottignies-Louvain-la-Neuve",
          "Antwerpen",
          "Sint-Agatha-Berchem",
          "Namur",
          "Namur",
          "Wuustwezel",
          "Jodoigne",
          "Zulte",
          "Boechout",
          "Zedelgem",
          "Nazareth-De Pinte",
          "Tielt",
          "Beerse",
          "Diepenbeek",
          "Kampenhout",
          "Houthalen-Helchteren",
          "Knokke-Heist",
          "Haacht",
          "Sint-Joost-ten-Node",
          "Essen",
          "Willebroek",
          "Wommelgem",
          "Malle",
          "Lille",
          "Lummen",
          "Chaudfontaine",
          "Gavere",
          "Jabbeke",
          "Deinze",
          "Zele",
          "Lubbeek",
          "Meise",
          "Menen",
          "Aalst",
          "Esneux",
          "Ninove",
          "Ninove",
          "Ninove",
          "Maasmechelen",
          "Sprimont",
          "Gent",
          "Herve",
          "Ronse",
          "Sint-Katelijne-Waver",
          "Stekene",
          "Antwerpen",
          "Beveren-Kruibeke-Zwijndrecht",
          "Hamme (Vl.)",
          "Harelbeke",
          "Maaseik",
          "Zwevegem",
          "Bierbeek",
          "Lennik",
          "Mouscron",
          "Braine-le-Château",
          "Hasselt",
          "Mont-Saint-Guibert",
          "Oud-Turnhout",
          "Rotselaar",
          "Wingene",
          "Eghezée",
          "Merelbeke-Melle",
          "Diest",
          "Gembloux",
          "Huldenberg",
          "Tessenderlo-Ham",
          "Lede",
          "Tubize",
          "Villers-la-Ville",
          "Walhain",
          "Anzegem",
          "Gent",
          "Machelen (Brab.)",
          "Leuven",
          "Hannut",
          "Huy",
          "Maldegem",
          "Genappe",
          "Genappe",
          "Lanaken",
          "Andenne",
          "Alken",
          "Sint-Gillis-Waas",
          "Kortrijk",
          "Laarne",
          "Charleroi",
          "Herk-de-Stad",
          "Opwijk",
          "Bree",
          "Grimbergen",
          "Pelt",
          "Wijnegem",
          "Chaudfontaine",
          "Gent",
          "Torhout",
          "Wavre",
          "Court-Saint-Etienne",
          "Sint-Niklaas",
          "Ganshoren",
          "Aarschot",
          "Eupen",
          "Sint-Pieters-Leeuw",
          "Enghien",
          "Stabroek",
          "Perwez",
          "Koekelberg",
          "Affligem",
          "Berlare",
          "Ham-sur-Heure-Nalinnes",
          "Pelt",
          "Boortmeerbeek",
          "Diksmuide",
          "Lebbeke",
          "Zemst",
          "Zemst",
          "Damme",
          "Beernem",
          "Braine-le-Comte",
          "La Louvière",
          "Seraing",
          "Geraardsbergen",
          "Geraardsbergen",
          "Balen",
          "Theux",
          "Berlaar",
          "Chastre",
          "Kuurne",
          "Vosselaar",
          "Antwerpen",
          "Deerlijk",
          "Brussel",
          "Beveren-Kruibeke-Zwijndrecht",
          "Lint",
          "Peer",
          "Riemst",
          "Visé",
          "Wielsbeke",
          "Oudsbergen",
          "Zonnebeke",
          "Buggenhout",
          "Ciney",
          "Haaltert",
          "Holsbeek",
          "Hoogstraten",
          "Kortenberg",
          "Veurne",
          "Meise",
          "Nieuwpoort",
          "Boom",
          "Kruisem",
          "Poperinge",
          "Wervik",
          "Beersel",
          "Beersel",
          "Beringen",
          "Eeklo",
          "Marche-en-Famenne",
          "Steenokkerzeel",
          "Rijkevorsel",
          "Beersel",
          "Beringen",
          "Herselt",
          "Moorslede",
          "Beauvechain",
          "Boutersem",
          "Sint-Martens-Latem",
          "Tremelo",
          "Aalst",
          "Zaventem",
          "Aywaille",
          "Hooglede",
          "Pajottegem",
          "Zandhoven",
          "Retie",
          "Tielt-Winge",
          "Arendonk",
          "Gerpinnes",
          "Malmedy",
          "Lievegem",
          "Olen",
          "Wortegem-Petegem",
          "Asse",
          "Zemst",
          "Hamont-Achel",
          "Blégny",
          "Gent",
          "Grâce-Hollogne",
          "Kapelle-op-den-Bos",
          "Profondeville",
          "Pont-à-Celles",
          "Dilsen-Stokkem",
          "Merksplas",
          "Wanze",
          "Wichelen",
          "Herve",
          "Herve",
          "Herve",
          "Staden",
          "Thimister-Clermont",
          "Charleroi",
          "Dilbeek",
          "Waremme",
          "Tessenderlo-Ham",
          "Fernelmont",
          "Incourt",
          "Seneffe",
          "Kruisem",
          "Lievegem",
          "Neupré",
          "Puurs-Sint-Amands",
          "Tongeren-Borgloon",
          "Bilzen-Hoeselt",
          "Brakel",
          "De Haan",
          "De Haan",
          "Ledegem",
          "Manage",
          "Tielt",
          "Dentergem",
          "Halen",
          "Herzele",
          "Nandrin",
          "Sint-Lievens-Houtem",
          "Sint-Lievens-Houtem",
          "Zaventem",
          "Jurbise",
          "Soignies",
          "Kortemark",
          "Namur",
          "Ternat",
          "Ardooie",
          "Villers-le-Bouillet",
          "Charleroi",
          "Flémalle",
          "Hechtel-Eksel",
          "Meerhout",
          "Ramillies",
          "Ittre",
          "Grobbendonk",
          "Harelbeke",
          "Heist-op-den-Berg",
          "Liège",
          "Gistel",
          "Yvoir",
          "Grimbergen",
          "Herstal",
          "Hulshout",
          "Jemeppe-sur-Sambre",
          "Schelle",
          "Ath",
          "Hoegaarden",
          "Jalhay",
          "Sint-Katelijne-Waver",
          "Brugge",
          "Herenthout",
          "Liedekerke",
          "Mechelen",
          "Orp-Jauche",
          "Oudsbergen",
          "Spa",
          "Aalter",
          "Niel",
          "Bocholt",
          "Couvin",
          "Hemiksem",
          "La Louvière",
          "Montigny-le-Tilleul",
          "Pajottegem",
          "Aarschot",
          "Bastogne",
          "Bertem",
          "Dinant",
          "Fleurus",
          "Silly",
          "Bredene",
          "Charleroi",
          "Waregem",
          "Beringen",
          "Ottignies-Louvain-la-Neuve",
          "Bertem",
          "Braine-l'Alleud",
          "Estaimpuis",
          "Ingelmunster",
          "Rebecq",
          "Walcourt",
          "Zwalm",
          "Awans",
          "Begijnendijk",
          "Blankenberge",
          "Dilbeek",
          "Kluisbergen",
          "Roosdaal",
          "Sambreville",
          "Sankt Vith",
          "Sankt Vith",
          "Sprimont",
          "Vorselaar",
          "Arlon",
          "Châtelet",
          "Ichtegem",
          "Sint-Niklaas",
          "Aalst",
          "Frameries",
          "Gembloux",
          "Kortenberg",
          "Landen",
          "Sombreffe",
          "Zutendaal",
          "Braine-l'Alleud",
          "Dessel",
          "Hasselt",
          "Tournai",
          "Ecaussinnes",
          "Pajottegem",
          "Waimes",
          "As",
          "La Bruyère",
          "Laakdal",
          "Ottignies-Louvain-la-Neuve",
          "Oudenburg",
          "Soumagne",
          "Zemst",
          "Ans",
          "Charleroi",
          "Le Roeulx",
          "Linkebeek",
          "Oud-Heverlee",
          "Pittem",
          "Trooz",
          "Les Bons Villers",
          "Les Bons Villers",
          "Rochefort",
          "Ans",
          "Boortmeerbeek",
          "Gesves",
          "La Bruyère",
          "Mettet",
          "Middelkerke",
          "Rixensart",
          "Tremelo",
          "Waregem",
          "Antwerpen",
          "Floreffe",
          "Libramont-Chevigny",
          "Lokeren",
          "Mechelen",
          "Halle",
          "Zoutleeuw",
          "Nieuwerkerken (Limb.)",
          "Oud-Heverlee",
          "Oupeye",
          "Frasnes-lez-Anvaing",
          "Kinrooi",
          "Kortenberg",
          "Wellen",
          "Avelgem",
          "Oud-Heverlee",
          "Rotselaar",
          "Soumagne",
          "Beveren-Kruibeke-Zwijndrecht",
          "Blégny",
          "Gingelom",
          "Lendelede",
          "Scherpenheuvel-Zichem",
          "Assesse",
          "Assesse",
          "De Panne",
          "Dilbeek",
          "Dour",
          "Mouscron",
          "Welkenraedt",
          "Assenede",
          "Florennes",
          "Machelen (Brab.)",
          "Maldegem",
          "Tournai",
          "Ellezelles",
          "Langemark-Poelkapelle",
          "Wingene",
          "Bekkevoort",
          "Binche",
          "Binche",
          "Binche",
          "Boechout",
          "Lichtervelde",
          "Aubel",
          "Fosses-la-Ville",
          "Kaprijke",
          "Middelkerke",
          "Oostrozebeke",
          "Saint-Nicolas",
          "Ternat",
          "Verlaine",
          "Antwerpen",
          "Neupré",
          "Chaudfontaine",
          "Denderleeuw",
          "Mons",
          "Olne",
          "Waregem",
          "Heist-op-den-Berg",
          "Lievegem",
          "Lochristi",
          "Maarkedal",
          "Mons",
          "Nivelles",
          "Ravels",
          "Bassenge",
          "Braives",
          "Braives",
          "Dalhem",
          "Hasselt",
          "Rotselaar",
          "Tournai",
          "Beyne-Heusay",
          "Courcelles",
          "Grimbergen",
          "Halle",
          "Hasselt",
          "Glabbeek",
          "Herstal",
          "Linter",
          "Seneffe",
          "Stavelot",
          "Aalter",
          "Chapelle-lez-Herlaimont",
          "Charleroi",
          "Faimes",
          "Geraardsbergen",
          "Hoogstraten",
          "Philippeville",
          "Scherpenheuvel-Zichem",
          "Ternat",
          "Amay",
          "Ferrières",
          "Namur",
          "Thuin",
          "Thuin",
          "Welkenraedt",
          "Celles (lez-Tournai)",
          "Geetbets",
          "Heers",
          "Koekelare",
          "Morlanwelz",
          "Ninove",
          "Walcourt",
          "Diest",
          "Leuze-en-Hainaut",
          "Ravels",
          "Remicourt",
          "Burdinne",
          "Lanaken",
          "Soignies",
          "Zandhoven",
          "Beringen",
          "Estinnes",
          "Houthulst",
          "Pepinster",
          "Quévy",
          "Tournai",
          "Durbuy",
          "Grobbendonk",
          "Holsbeek",
          "Ieper",
          "Lubbeek",
          "Oreye",
          "Dalhem",
          "Juprelle",
          "Laakdal",
          "Péruwelz",
          "Somme-Leuze",
          "Zuienkerke",
          "Zwevegem",
          "Ath",
          "Beersel",
          "Eupen",
          "Heist-op-den-Berg",
          "Liège",
          "Lo-Reninge",
          "Modave",
          "Mons",
          "Neupré",
          "Saint-Georges-sur-Meuse",
          "Sint-Pieters-Leeuw",
          "Tinlot",
          "Zelzate",
          "Aiseau-Presles",
          "Crisnée",
          "Havelange",
          "Mechelen",
          "Plombières",
          "Scherpenheuvel-Zichem",
          "Thuin",
          "Zwevegem",
          "Assenede",
          "Büllingen",
          "Clavier",
          "Nazareth",
          "Zandhoven",
          "Anderlues",
          "Bertrix",
          "Chièvres",
          "Donceel",
          "Leopoldsburg",
          "Lierde",
          "Lierde",
          "Manhay",
          "Marchin",
          "Colfontaine",
          "Hoogstraten",
          "Héron",
          "Lens (Hainaut)",
          "Mons",
          "Stoumont",
          "Charleroi",
          "Neufchâteau",
          "Ohey",
          "Quaregnon",
          "Zwevegem",
          "Anhée",
          "Binche",
          "Charleroi",
          "Charleroi",
          "Comines-Warneton",
          "Diest",
          "Geer",
          "Genappe",
          "Landen",
          "Mouscron",
          "Namur",
          "Ravels",
          "Seraing",
          "Assesse",
          "Bever",
          "Denderleeuw",
          "Drogenbos",
          "Hamois",
          "Hamois",
          "Leopoldsburg",
          "Mons",
          "Namur",
          "Seraing",
          "Vielsalm",
          "Aarschot",
          "Ans",
          "Ath",
          "Baelen",
          "Balen",
          "Fléron",
          "Pepingen",
          "Sint-Pieters-Leeuw",
          "Zedelgem",
          "Beaumont",
          "Gembloux",
          "Lontzen",
          "Engis",
          "Flobecq",
          "Fléron",
          "Genappe",
          "Héron",
          "Ieper",
          "Lievegem",
          "Saint-Ghislain",
          "Vielsalm",
          "Zwevegem",
          "Berloz",
          "Boussu",
          "Bütgenbach",
          "Courcelles",
          "Erquelinnes",
          "Frasnes-lez-Anvaing",
          "Genappe",
          "Hasselt",
          "Herve",
          "Hoogstraten",
          "Kortenaken",
          "Kruisem",
          "Mons",
          "Mons",
          "Mont-de-l'Enclus",
          "Nivelles",
          "Sint-Truiden",
          "Soignies",
          "Verviers",
          "Virton",
          "Beauraing",
          "Beauraing",
          "Charleroi",
          "Charleroi",
          "Chimay",
          "Honnelles",
          "Maarkedal",
          "Oupeye",
          "Saint-Hubert",
          "Antoing",
          "Bernissart",
          "Fléron",
          "Frasnes-lez-Anvaing",
          "Genappe",
          "Maarkedal",
          "Amel",
          "Ardooie",
          "Chaudfontaine",
          "De Haan",
          "Fexhe-le-Haut-Clocher",
          "Hoogstraten",
          "Horebeke",
          "Hélécine",
          "Ninove",
          "Oud-Heverlee",
          "Raeren",
          "Raeren",
          "Saint-Ghislain",
          "Wasseiges",
          "Anzegem",
          "Brunehaut",
          "Chimay",
          "Comblain-au-Pont",
          "Fontaine-l'Evêque",
          "Gedinne",
          "Lessines",
          "Lubbeek",
          "Morlanwelz",
          "Oupeye",
          "Sint-Laureins",
          "Visé",
          "Alveringem",
          "Beersel",
          "Cerfontaine",
          "Erezée",
          "Habay",
          "Herzele",
          "Hotton",
          "Lessines",
          "Lincent",
          "Ouffet",
          "Oupeye",
          "Pont-à-Celles",
          "Sint-Truiden",
          "Beloeil",
          "Fleurus",
          "Hamoir",
          "Juprelle",
          "Kortenaken",
          "La Roche-en-Ardenne",
          "Maasmechelen",
          "Merbes-le-Château",
          "Middelkerke",
          "Poperinge",
          "Saint-Ghislain",
          "Alveringem",
          "Bièvre",
          "Durbuy",
          "Ieper",
          "Kruisem",
          "Limbourg",
          "Mons",
          "Namur",
          "Plombières",
          "Saint-Ghislain",
          "Vaux-sur-Sûre",
          "Dison",
          "Etalle",
          "Farciennes",
          "Gent",
          "Herve",
          "Hoegaarden",
          "Leuze-en-Hainaut",
          "Libin",
          "Limbourg",
          "Ninove",
          "Ninove",
          "Pajottegem",
          "Paliseul",
          "Pecq",
          "Roosdaal",
          "Spiere-Helkijn",
          "Viroinval",
          "Awans",
          "Bastogne",
          "Bekkevoort",
          "Boussu",
          "Burg-Reuland",
          "Denderleeuw",
          "Doische",
          "Hamois",
          "Hasselt",
          "Hensies",
          "Herve",
          "Kortrijk",
          "Les Bons Villers",
          "Lierneux",
          "Oud-Heverlee",
          "Tielt-Winge",
          "Anthisnes",
          "Ath",
          "Beloeil",
          "Beloeil",
          "Beveren",
          "Comines-Warneton",
          "Courcelles",
          "Dinant",
          "Dison",
          "Florenville",
          "Florenville",
          "Froidchapelle",
          "Geetbets",
          "Glabbeek",
          "Haaltert",
          "Léglise",
          "Oupeye",
          "Pepingen",
          "Raeren",
          "Sint-Laureins",
          "Vleteren",
          "Bilzen-Hoeselt",
          "Binche",
          "Fontaine-l'Evêque",
          "Ham",
          "Houffalize",
          "Kelmis",
          "Lessines",
          "Lierde",
          "Lobbes",
          "Namur",
          "Sivry-Rance",
          "Thuin",
          "Tournai",
          "Bernissart",
          "Hasselt",
          "Landen",
          "Messancy",
          "Saint-Ghislain",
          "Sint-Lievens-Houtem",
          "Soumagne",
          "Tintigny",
          "Tournai",
          "Anzegem",
          "Assenede",
          "Attert",
          "Avelgem",
          "Blégny",
          "Charleroi",
          "Dalhem",
          "Middelkerke",
          "Namur",
          "Poperinge",
          "Péruwelz",
          "Genappe",
          "Juprelle",
          "Juprelle",
          "Lievegem",
          "Lontzen",
          "Nassogne",
          "Pepinster",
          "Plombières",
          "Quiévrain",
          "Sainte-Ode",
          "Soignies",
          "Voeren",
          "Vresse-sur-Semois",
          "Bouillon",
          "Bouillon",
          "Charleroi",
          "Comines-Warneton",
          "Courcelles",
          "Fontaine-l'Evêque",
          "Hastière",
          "Heuvelland",
          "Heuvelland",
          "Kaprijke",
          "Limbourg",
          "Pecq",
          "Rumes",
          "Sint-Laureins",
          "Tournai",
          "Vielsalm",
          "Voeren",
          "Voeren",
          "Wellin",
          "Wellin",
          "Anthisnes",
          "Ath",
          "Aubange",
          "Aubange",
          "Chiny",
          "Fleurus",
          "Gingelom",
          "Hamois",
          "Heuvelland",
          "Houyet",
          "Houyet",
          "Houyet",
          "Maldegem",
          "Merelbeke",
          "Montigny-le-Tilleul",
          "Namur",
          "Onhaye",
          "Onhaye",
          "Pepingen",
          "Quévy",
          "Tournai",
          "Visé",
          "Zwalm",
          "Zwijndrecht",
          "Aubange",
          "Avelgem",
          "Beaumont",
          "Brugelette",
          "Charleroi",
          "Fauvillers",
          "Gooik",
          "Ieper",
          "Kortenaken",
          "Kortenaken",
          "Meix-devant-Virton",
          "Momignies",
          "Nivelles",
          "Ohey",
          "Onhaye",
          "Paliseul",
          "Pecq",
          "Péruwelz",
          "Saint-Léger (Lux.)",
          "Sint-Laureins",
          "Soumagne",
          "Tellin",
          "Tenneville",
          "Tournai",
          "Tournai",
          "Tournai",
          "Tournai",
          "Trois-Ponts",
          "Assesse",
          "Ath",
          "Baarle-Hertog",
          "Beauraing",
          "Bouillon",
          "Braives",
          "Charleroi",
          "Comblain-au-Pont",
          "Fléron",
          "Glabbeek",
          "Habay",
          "Hasselt",
          "Herzele",
          "Heuvelland",
          "Heuvelland",
          "Houffalize",
          "Mons",
          "Mons",
          "Rendeux",
          "Sankt Vith",
          "Thuin",
          "Tournai",
          "Wachtebeke",
          "Wellen"
         ],
         "lat": {
          "bdata": "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",
          "dtype": "f8"
         },
         "legendgroup": "",
         "lon": {
          "bdata": "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",
          "dtype": "f8"
         },
         "marker": {
          "color": "#636efa",
          "size": {
           "bdata": "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",
           "dtype": "i2"
          },
          "sizemode": "area",
          "sizeref": 2.18625
         },
         "mode": "markers",
         "name": "",
         "showlegend": false,
         "subplot": "map",
         "type": "scattermap"
        }
       ],
       "layout": {
        "legend": {
         "itemsizing": "constant",
         "tracegroupgap": 0
        },
        "map": {
         "center": {
          "lat": 50.74415728646714,
          "lon": 4.510984954138654
         },
         "domain": {
          "x": [
           0,
           1
          ],
          "y": [
           0,
           1
          ]
         },
         "style": "open-street-map",
         "zoom": 7
        },
        "mapbox": {
         "center": {
          "lat": 50.74415728646714,
          "lon": 4.510984954138654
         },
         "style": "open-street-map",
         "zoom": 7
        },
        "template": {
         "data": {
          "bar": [
           {
            "error_x": {
             "color": "#2a3f5f"
            },
            "error_y": {
             "color": "#2a3f5f"
            },
            "marker": {
             "line": {
              "color": "#E5ECF6",
              "width": 0.5
             },
             "pattern": {
              "fillmode": "overlay",
              "size": 10,
              "solidity": 0.2
             }
            },
            "type": "bar"
           }
          ],
          "barpolar": [
           {
            "marker": {
             "line": {
              "color": "#E5ECF6",
              "width": 0.5
             },
             "pattern": {
              "fillmode": "overlay",
              "size": 10,
              "solidity": 0.2
             }
            },
            "type": "barpolar"
           }
          ],
          "carpet": [
           {
            "aaxis": {
             "endlinecolor": "#2a3f5f",
             "gridcolor": "white",
             "linecolor": "white",
             "minorgridcolor": "white",
             "startlinecolor": "#2a3f5f"
            },
            "baxis": {
             "endlinecolor": "#2a3f5f",
             "gridcolor": "white",
             "linecolor": "white",
             "minorgridcolor": "white",
             "startlinecolor": "#2a3f5f"
            },
            "type": "carpet"
           }
          ],
          "choropleth": [
           {
            "colorbar": {
             "outlinewidth": 0,
             "ticks": ""
            },
            "type": "choropleth"
           }
          ],
          "contour": [
           {
            "colorbar": {
             "outlinewidth": 0,
             "ticks": ""
            },
            "colorscale": [
             [
              0,
              "#0d0887"
             ],
             [
              0.1111111111111111,
              "#46039f"
             ],
             [
              0.2222222222222222,
              "#7201a8"
             ],
             [
              0.3333333333333333,
              "#9c179e"
             ],
             [
              0.4444444444444444,
              "#bd3786"
             ],
             [
              0.5555555555555556,
              "#d8576b"
             ],
             [
              0.6666666666666666,
              "#ed7953"
             ],
             [
              0.7777777777777778,
              "#fb9f3a"
             ],
             [
              0.8888888888888888,
              "#fdca26"
             ],
             [
              1,
              "#f0f921"
             ]
            ],
            "type": "contour"
           }
          ],
          "contourcarpet": [
           {
            "colorbar": {
             "outlinewidth": 0,
             "ticks": ""
            },
            "type": "contourcarpet"
           }
          ],
          "heatmap": [
           {
            "colorbar": {
             "outlinewidth": 0,
             "ticks": ""
            },
            "colorscale": [
             [
              0,
              "#0d0887"
             ],
             [
              0.1111111111111111,
              "#46039f"
             ],
             [
              0.2222222222222222,
              "#7201a8"
             ],
             [
              0.3333333333333333,
              "#9c179e"
             ],
             [
              0.4444444444444444,
              "#bd3786"
             ],
             [
              0.5555555555555556,
              "#d8576b"
             ],
             [
              0.6666666666666666,
              "#ed7953"
             ],
             [
              0.7777777777777778,
              "#fb9f3a"
             ],
             [
              0.8888888888888888,
              "#fdca26"
             ],
             [
              1,
              "#f0f921"
             ]
            ],
            "type": "heatmap"
           }
          ],
          "histogram": [
           {
            "marker": {
             "pattern": {
              "fillmode": "overlay",
              "size": 10,
              "solidity": 0.2
             }
            },
            "type": "histogram"
           }
          ],
          "histogram2d": [
           {
            "colorbar": {
             "outlinewidth": 0,
             "ticks": ""
            },
            "colorscale": [
             [
              0,
              "#0d0887"
             ],
             [
              0.1111111111111111,
              "#46039f"
             ],
             [
              0.2222222222222222,
              "#7201a8"
             ],
             [
              0.3333333333333333,
              "#9c179e"
             ],
             [
              0.4444444444444444,
              "#bd3786"
             ],
             [
              0.5555555555555556,
              "#d8576b"
             ],
             [
              0.6666666666666666,
              "#ed7953"
             ],
             [
              0.7777777777777778,
              "#fb9f3a"
             ],
             [
              0.8888888888888888,
              "#fdca26"
             ],
             [
              1,
              "#f0f921"
             ]
            ],
            "type": "histogram2d"
           }
          ],
          "histogram2dcontour": [
           {
            "colorbar": {
             "outlinewidth": 0,
             "ticks": ""
            },
            "colorscale": [
             [
              0,
              "#0d0887"
             ],
             [
              0.1111111111111111,
              "#46039f"
             ],
             [
              0.2222222222222222,
              "#7201a8"
             ],
             [
              0.3333333333333333,
              "#9c179e"
             ],
             [
              0.4444444444444444,
              "#bd3786"
             ],
             [
              0.5555555555555556,
              "#d8576b"
             ],
             [
              0.6666666666666666,
              "#ed7953"
             ],
             [
              0.7777777777777778,
              "#fb9f3a"
             ],
             [
              0.8888888888888888,
              "#fdca26"
             ],
             [
              1,
              "#f0f921"
             ]
            ],
            "type": "histogram2dcontour"
           }
          ],
          "mesh3d": [
           {
            "colorbar": {
             "outlinewidth": 0,
             "ticks": ""
            },
            "type": "mesh3d"
           }
          ],
          "parcoords": [
           {
            "line": {
             "colorbar": {
              "outlinewidth": 0,
              "ticks": ""
             }
            },
            "type": "parcoords"
           }
          ],
          "pie": [
           {
            "automargin": true,
            "type": "pie"
           }
          ],
          "scatter": [
           {
            "fillpattern": {
             "fillmode": "overlay",
             "size": 10,
             "solidity": 0.2
            },
            "type": "scatter"
           }
          ],
          "scatter3d": [
           {
            "line": {
             "colorbar": {
              "outlinewidth": 0,
              "ticks": ""
             }
            },
            "marker": {
             "colorbar": {
              "outlinewidth": 0,
              "ticks": ""
             }
            },
            "type": "scatter3d"
           }
          ],
          "scattercarpet": [
           {
            "marker": {
             "colorbar": {
              "outlinewidth": 0,
              "ticks": ""
             }
            },
            "type": "scattercarpet"
           }
          ],
          "scattergeo": [
           {
            "marker": {
             "colorbar": {
              "outlinewidth": 0,
              "ticks": ""
             }
            },
            "type": "scattergeo"
           }
          ],
          "scattergl": [
           {
            "marker": {
             "colorbar": {
              "outlinewidth": 0,
              "ticks": ""
             }
            },
            "type": "scattergl"
           }
          ],
          "scattermap": [
           {
            "marker": {
             "colorbar": {
              "outlinewidth": 0,
              "ticks": ""
             }
            },
            "type": "scattermap"
           }
          ],
          "scattermapbox": [
           {
            "marker": {
             "colorbar": {
              "outlinewidth": 0,
              "ticks": ""
             }
            },
            "type": "scattermapbox"
           }
          ],
          "scatterpolar": [
           {
            "marker": {
             "colorbar": {
              "outlinewidth": 0,
              "ticks": ""
             }
            },
            "type": "scatterpolar"
           }
          ],
          "scatterpolargl": [
           {
            "marker": {
             "colorbar": {
              "outlinewidth": 0,
              "ticks": ""
             }
            },
            "type": "scatterpolargl"
           }
          ],
          "scatterternary": [
           {
            "marker": {
             "colorbar": {
              "outlinewidth": 0,
              "ticks": ""
             }
            },
            "type": "scatterternary"
           }
          ],
          "surface": [
           {
            "colorbar": {
             "outlinewidth": 0,
             "ticks": ""
            },
            "colorscale": [
             [
              0,
              "#0d0887"
             ],
             [
              0.1111111111111111,
              "#46039f"
             ],
             [
              0.2222222222222222,
              "#7201a8"
             ],
             [
              0.3333333333333333,
              "#9c179e"
             ],
             [
              0.4444444444444444,
              "#bd3786"
             ],
             [
              0.5555555555555556,
              "#d8576b"
             ],
             [
              0.6666666666666666,
              "#ed7953"
             ],
             [
              0.7777777777777778,
              "#fb9f3a"
             ],
             [
              0.8888888888888888,
              "#fdca26"
             ],
             [
              1,
              "#f0f921"
             ]
            ],
            "type": "surface"
           }
          ],
          "table": [
           {
            "cells": {
             "fill": {
              "color": "#EBF0F8"
             },
             "line": {
              "color": "white"
             }
            },
            "header": {
             "fill": {
              "color": "#C8D4E3"
             },
             "line": {
              "color": "white"
             }
            },
            "type": "table"
           }
          ]
         },
         "layout": {
          "annotationdefaults": {
           "arrowcolor": "#2a3f5f",
           "arrowhead": 0,
           "arrowwidth": 1
          },
          "autotypenumbers": "strict",
          "coloraxis": {
           "colorbar": {
            "outlinewidth": 0,
            "ticks": ""
           }
          },
          "colorscale": {
           "diverging": [
            [
             0,
             "#8e0152"
            ],
            [
             0.1,
             "#c51b7d"
            ],
            [
             0.2,
             "#de77ae"
            ],
            [
             0.3,
             "#f1b6da"
            ],
            [
             0.4,
             "#fde0ef"
            ],
            [
             0.5,
             "#f7f7f7"
            ],
            [
             0.6,
             "#e6f5d0"
            ],
            [
             0.7,
             "#b8e186"
            ],
            [
             0.8,
             "#7fbc41"
            ],
            [
             0.9,
             "#4d9221"
            ],
            [
             1,
             "#276419"
            ]
           ],
           "sequential": [
            [
             0,
             "#0d0887"
            ],
            [
             0.1111111111111111,
             "#46039f"
            ],
            [
             0.2222222222222222,
             "#7201a8"
            ],
            [
             0.3333333333333333,
             "#9c179e"
            ],
            [
             0.4444444444444444,
             "#bd3786"
            ],
            [
             0.5555555555555556,
             "#d8576b"
            ],
            [
             0.6666666666666666,
             "#ed7953"
            ],
            [
             0.7777777777777778,
             "#fb9f3a"
            ],
            [
             0.8888888888888888,
             "#fdca26"
            ],
            [
             1,
             "#f0f921"
            ]
           ],
           "sequentialminus": [
            [
             0,
             "#0d0887"
            ],
            [
             0.1111111111111111,
             "#46039f"
            ],
            [
             0.2222222222222222,
             "#7201a8"
            ],
            [
             0.3333333333333333,
             "#9c179e"
            ],
            [
             0.4444444444444444,
             "#bd3786"
            ],
            [
             0.5555555555555556,
             "#d8576b"
            ],
            [
             0.6666666666666666,
             "#ed7953"
            ],
            [
             0.7777777777777778,
             "#fb9f3a"
            ],
            [
             0.8888888888888888,
             "#fdca26"
            ],
            [
             1,
             "#f0f921"
            ]
           ]
          },
          "colorway": [
           "#636efa",
           "#EF553B",
           "#00cc96",
           "#ab63fa",
           "#FFA15A",
           "#19d3f3",
           "#FF6692",
           "#B6E880",
           "#FF97FF",
           "#FECB52"
          ],
          "font": {
           "color": "#2a3f5f"
          },
          "geo": {
           "bgcolor": "white",
           "lakecolor": "white",
           "landcolor": "#E5ECF6",
           "showlakes": true,
           "showland": true,
           "subunitcolor": "white"
          },
          "hoverlabel": {
           "align": "left"
          },
          "hovermode": "closest",
          "mapbox": {
           "style": "light"
          },
          "paper_bgcolor": "white",
          "plot_bgcolor": "#E5ECF6",
          "polar": {
           "angularaxis": {
            "gridcolor": "white",
            "linecolor": "white",
            "ticks": ""
           },
           "bgcolor": "#E5ECF6",
           "radialaxis": {
            "gridcolor": "white",
            "linecolor": "white",
            "ticks": ""
           }
          },
          "scene": {
           "xaxis": {
            "backgroundcolor": "#E5ECF6",
            "gridcolor": "white",
            "gridwidth": 2,
            "linecolor": "white",
            "showbackground": true,
            "ticks": "",
            "zerolinecolor": "white"
           },
           "yaxis": {
            "backgroundcolor": "#E5ECF6",
            "gridcolor": "white",
            "gridwidth": 2,
            "linecolor": "white",
            "showbackground": true,
            "ticks": "",
            "zerolinecolor": "white"
           },
           "zaxis": {
            "backgroundcolor": "#E5ECF6",
            "gridcolor": "white",
            "gridwidth": 2,
            "linecolor": "white",
            "showbackground": true,
            "ticks": "",
            "zerolinecolor": "white"
           }
          },
          "shapedefaults": {
           "line": {
            "color": "#2a3f5f"
           }
          },
          "ternary": {
           "aaxis": {
            "gridcolor": "white",
            "linecolor": "white",
            "ticks": ""
           },
           "baxis": {
            "gridcolor": "white",
            "linecolor": "white",
            "ticks": ""
           },
           "bgcolor": "#E5ECF6",
           "caxis": {
            "gridcolor": "white",
            "linecolor": "white",
            "ticks": ""
           }
          },
          "title": {
           "x": 0.05
          },
          "xaxis": {
           "automargin": true,
           "gridcolor": "white",
           "linecolor": "white",
           "ticks": "",
           "title": {
            "standoff": 15
           },
           "zerolinecolor": "white",
           "zerolinewidth": 2
          },
          "yaxis": {
           "automargin": true,
           "gridcolor": "white",
           "linecolor": "white",
           "ticks": "",
           "title": {
            "standoff": 15
           },
           "zerolinecolor": "white",
           "zerolinewidth": 2
          }
         }
        },
        "title": {
         "text": "Professional, scientific and technical activities Business Clusters"
        }
       }
      }
     },
     "metadata": {},
     "output_type": "display_data"
    },
    {
     "data": {
      "application/vnd.plotly.v1+json": {
       "config": {
        "plotlyServerURL": "https://plot.ly"
       },
       "data": [
        {
         "hovertemplate": "<b>%{hovertext}</b><br><br>company_count=%{marker.size}<br>latitude=%{lat}<br>longitude=%{lon}<extra></extra>",
         "hovertext": [
          "Antwerpen",
          "Brussel",
          "Brussel",
          "Brussel",
          "Anderlecht",
          "Elsene",
          "Elsene",
          "Gent",
          "Schaarbeek",
          "Ukkel",
          "Sint-Jans-Molenbeek",
          "Liège",
          "Roeselare",
          "Liège",
          "Hasselt",
          "Genk",
          "Mechelen",
          "Sint-Niklaas",
          "Oostende",
          "Waterloo",
          "Antwerpen",
          "Brugge",
          "Sint-Gillis (bij-Brussel)",
          "Zaventem",
          "Knokke-Heist",
          "Etterbeek",
          "Etterbeek",
          "Vorst",
          "Lokeren",
          "Brasschaat",
          "Leuven",
          "Dendermonde",
          "Wavre",
          "Wavre",
          "Kortrijk",
          "Brecht",
          "Turnhout",
          "Antwerpen",
          "Herentals",
          "Liège",
          "Sint-Truiden",
          "Aalst",
          "Deinze",
          "Temse",
          "Geel",
          "Antwerpen",
          "Lier",
          "Schoten",
          "Braine-l'Alleud",
          "Lommel",
          "Wevelgem",
          "Oudenaarde",
          "Heusden-Zolder",
          "Beveren-Kruibeke-Zwijndrecht",
          "Wemmel",
          "Sint-Lambrechts-Woluwe",
          "Sint-Pieters-Leeuw",
          "Kapellen",
          "Kontich",
          "Vilvoorde",
          "Mol",
          "Schilde",
          "Verviers",
          "Mouscron",
          "Waregem",
          "Dilbeek",
          "Izegem",
          "Heist-op-den-Berg",
          "Jette",
          "Antwerpen",
          "Evere",
          "Houthalen-Helchteren",
          "Nivelles",
          "Menen",
          "Aalter",
          "Leuven",
          "Oostkamp",
          "Sint-Pieters-Woluwe",
          "Aartselaar",
          "Bilzen-Hoeselt",
          "Verviers",
          "Maasmechelen",
          "Tongeren-Borgloon",
          "Overijse",
          "Evergem",
          "Wommelgem",
          "Antwerpen",
          "La Louvière",
          "Lasne",
          "Tienen",
          "Tournai",
          "Ieper",
          "Ieper",
          "Bornem",
          "Brugge",
          "Zoersel",
          "Lochristi",
          "Koksijde",
          "Sint-Genesius-Rode",
          "Asse",
          "Willebroek",
          "Sint-Joost-ten-Node",
          "Ronse",
          "Wetteren",
          "Mons",
          "Zedelgem",
          "Zele",
          "Sint-Agatha-Berchem",
          "Namur",
          "Hamme (Vl.)",
          "Ninove",
          "Ninove",
          "Ninove",
          "Westerlo",
          "Wuustwezel",
          "Namur",
          "Londerzeel",
          "Oudergem",
          "Dilsen-Stokkem",
          "Maaseik",
          "Ranst",
          "Seraing",
          "Antwerpen",
          "Merelbeke-Melle",
          "Torhout",
          "Kalmthout",
          "Charleroi",
          "Gent",
          "Malle",
          "Zonhoven",
          "Zottegem",
          "Mortsel",
          "Kraainem",
          "Tessenderlo-Ham",
          "Tielt",
          "Bree",
          "Maldegem",
          "Lille",
          "Merchtem",
          "Zulte",
          "Beerse",
          "Diksmuide",
          "Erpe-Mere",
          "Pelt",
          "Brugge",
          "Geraardsbergen",
          "Geraardsbergen",
          "Brussel",
          "Essen",
          "Kasterlee",
          "Nijlen",
          "Sint-Gillis-Waas",
          "Sint-Katelijne-Waver",
          "Aarschot",
          "Zaventem",
          "Kortrijk",
          "Aalst",
          "Sambreville",
          "Deerlijk",
          "Herstal",
          "Ternat",
          "Gembloux",
          "Lebbeke",
          "Grimbergen",
          "Putte",
          "Puurs-Sint-Amands",
          "Wingene",
          "Machelen (Brab.)",
          "Nazareth-De Pinte",
          "Watermaal-Bosvoorde",
          "Beveren-Kruibeke-Zwijndrecht",
          "Destelbergen",
          "Châtelet",
          "Harelbeke",
          "Eeklo",
          "Edegem",
          "Hannut",
          "Stekene",
          "Lanaken",
          "Diest",
          "Waasmunster",
          "Andenne",
          "Herve",
          "Jabbeke",
          "Koekelberg",
          "Tubize",
          "Balen",
          "Veurne",
          "Ciney",
          "Nieuwpoort",
          "La Louvière",
          "Asse",
          "Namur",
          "Namur",
          "Halle",
          "Hamont-Achel",
          "Fleurus",
          "Keerbergen",
          "Anzegem",
          "Damme",
          "Grimbergen",
          "Kuurne",
          "Chaumont-Gistoux",
          "Kampenhout",
          "Antwerpen",
          "Haaltert",
          "Peer",
          "Poperinge",
          "Blankenberge",
          "Charleroi",
          "Deinze",
          "Kortrijk",
          "Zwevegem",
          "Bonheiden",
          "Gent",
          "Lummen",
          "Rumst",
          "Wezembeek-Oppem",
          "Berlare",
          "Herent",
          "Bastogne",
          "Grâce-Hollogne",
          "Herk-de-Stad",
          "Hoogstraten",
          "Kortemark",
          "Beveren-Kruibeke-Zwijndrecht",
          "Diepenbeek",
          "Oud-Turnhout",
          "Riemst",
          "Grez-Doiceau",
          "Opwijk",
          "Duffel",
          "Huy",
          "Ottignies-Louvain-la-Neuve",
          "Braine-le-Château",
          "Wielsbeke",
          "Ingelmunster",
          "Jodoigne",
          "Wijnegem",
          "Zandhoven",
          "Arendonk",
          "Boom",
          "Flémalle",
          "Gent",
          "Lede",
          "Manage",
          "Oudsbergen",
          "Pelt",
          "Gavere",
          "Gent",
          "Hulshout",
          "Olen",
          "Alken",
          "Bocholt",
          "Haacht",
          "Jemeppe-sur-Sambre",
          "Kruisem",
          "Retie",
          "Braine-le-Comte",
          "Marche-en-Famenne",
          "Ganshoren",
          "Staden",
          "Wervik",
          "Grobbendonk",
          "Oudsbergen",
          "Beernem",
          "Ledegem",
          "Charleroi",
          "Sint-Martens-Latem",
          "Hooglede",
          "Sint-Niklaas",
          "Dilbeek",
          "Knokke-Heist",
          "Laarne",
          "Stabroek",
          "Beringen",
          "Hechtel-Eksel",
          "Zonnebeke",
          "Aalst",
          "Rijkevorsel",
          "Steenokkerzeel",
          "Gerpinnes",
          "Herzele",
          "Moorslede",
          "Eupen",
          "Oosterzele",
          "Rixensart",
          "Tielt",
          "Arlon",
          "Beringen",
          "Herselt",
          "Buggenhout",
          "Dessel",
          "Ham-sur-Heure-Nalinnes",
          "Charleroi",
          "Charleroi",
          "Lennik",
          "Ichtegem",
          "Leuven",
          "Merksplas",
          "Perwez",
          "Soignies",
          "Eghezée",
          "Kinrooi",
          "Quaregnon",
          "Waremme",
          "Binche",
          "Lubbeek",
          "Theux",
          "Visé",
          "Courcelles",
          "Libramont-Chevigny",
          "Meise",
          "Merelbeke-Melle",
          "Frameries",
          "Heist-op-den-Berg",
          "Oostrozebeke",
          "Tervuren",
          "Affligem",
          "Gent",
          "Meise",
          "Pittem",
          "Ath",
          "Brakel",
          "Enghien",
          "Houthulst",
          "Lichtervelde",
          "Leuven",
          "Rixensart",
          "Tongeren-Borgloon",
          "Halen",
          "Herenthout",
          "Ottignies-Louvain-la-Neuve",
          "Gistel",
          "Hasselt",
          "Liedekerke",
          "Chaudfontaine",
          "Malmedy",
          "Profondeville",
          "Ardooie",
          "Beringen",
          "Blégny",
          "Fosses-la-Ville",
          "Ans",
          "Brugge",
          "Maldegem",
          "Meerhout",
          "Sankt Vith",
          "Sankt Vith",
          "Schelle",
          "Sprimont",
          "Waregem",
          "Fernelmont",
          "Mettet",
          "Rochefort",
          "Tremelo",
          "Berlaar",
          "Couvin",
          "Dentergem",
          "Roosdaal",
          "Soumagne",
          "Tielt-Winge",
          "Aalter",
          "Esneux",
          "La Hulpe",
          "Liège",
          "Mouscron",
          "Oudenburg",
          "Waregem",
          "Aywaille",
          "Gent",
          "Hasselt",
          "Sombreffe",
          "Tessenderlo-Ham",
          "Wanze",
          "Middelkerke",
          "Mont-Saint-Guibert",
          "Villers-la-Ville",
          "Zoutleeuw",
          "Aalst",
          "Awans",
          "Charleroi",
          "Genappe",
          "Genappe",
          "Harelbeke",
          "Koekelare",
          "Nazareth-De Pinte",
          "Wichelen",
          "Boechout",
          "Laakdal",
          "Leuze-en-Hainaut",
          "Rotselaar",
          "De Haan",
          "De Haan",
          "Leopoldsburg",
          "Sint-Lievens-Houtem",
          "Sint-Lievens-Houtem",
          "Bilzen-Hoeselt",
          "Charleroi",
          "Charleroi",
          "Chaudfontaine",
          "Huldenberg",
          "Jalhay",
          "Kluisbergen",
          "Lendelede",
          "Lievegem",
          "Lint",
          "Soumagne",
          "Beauraing",
          "Beauraing",
          "Begijnendijk",
          "Spa",
          "Welkenraedt",
          "Zutendaal",
          "Hoogstraten",
          "Kruisem",
          "Lievegem",
          "Namur",
          "Walcourt",
          "Hove",
          "Pajottegem",
          "Sint-Katelijne-Waver",
          "Waregem",
          "Wavre",
          "Ans",
          "Beringen",
          "Boortmeerbeek",
          "Denderleeuw",
          "Machelen (Brab.)",
          "Nandrin",
          "Thimister-Clermont",
          "Vosselaar",
          "Waimes",
          "Drogenbos",
          "Gent",
          "Heist-op-den-Berg",
          "Hoeilaart",
          "Ravels",
          "Ravels",
          "Amay",
          "Bredene",
          "Court-Saint-Etienne",
          "Dinant",
          "Floreffe",
          "Saint-Nicolas",
          "Stavelot",
          "Wellen",
          "Zemst",
          "Zemst",
          "Antwerpen",
          "Durbuy",
          "Florennes",
          "Philippeville",
          "Puurs-Sint-Amands",
          "Seraing",
          "Wortegem-Petegem",
          "Bierbeek",
          "Binche",
          "Binche",
          "Colfontaine",
          "Niel",
          "Nieuwerkerken (Limb.)",
          "Dilbeek",
          "Herstal",
          "Langemark-Poelkapelle",
          "Le Roeulx",
          "Montigny-le-Tilleul",
          "Orp-Jauche",
          "Zelzate",
          "Bertrix",
          "Chapelle-lez-Herlaimont",
          "Ecaussinnes",
          "Estaimpuis",
          "Gent",
          "Ittre",
          "Rebecq",
          "Bekkevoort",
          "Les Bons Villers",
          "Les Bons Villers",
          "Lievegem",
          "Assesse",
          "Assesse",
          "De Panne",
          "Herve",
          "Herve",
          "Herve",
          "Walhain",
          "Avelgem",
          "Charleroi",
          "Jurbise",
          "Kapelle-op-den-Bos",
          "Mons",
          "Quiévrain",
          "Wingene",
          "Aiseau-Presles",
          "Mons",
          "Neufchâteau",
          "Péruwelz",
          "Anderlues",
          "Boortmeerbeek",
          "Braine-l'Alleud",
          "Chimay",
          "Incourt",
          "Saint-Georges-sur-Meuse",
          "Sprimont",
          "Villers-le-Bouillet",
          "Yvoir",
          "As",
          "Bütgenbach",
          "Frasnes-lez-Anvaing",
          "Gembloux",
          "Seneffe",
          "Walcourt",
          "Zwalm",
          "Assenede",
          "Ath",
          "Beersel",
          "Boutersem",
          "Brussel",
          "Zaventem",
          "Aubel",
          "Charleroi",
          "Lochristi",
          "Scherpenheuvel-Zichem",
          "Silly",
          "Tournai",
          "Aarschot",
          "Beveren-Kruibeke-Zwijndrecht",
          "Gesves",
          "Hoogstraten",
          "Liège",
          "Seneffe",
          "Tournai",
          "Tremelo",
          "Chastre",
          "Dour",
          "Heers",
          "Landen",
          "Lontzen",
          "Neupré",
          "Pajottegem",
          "Baelen",
          "Comines-Warneton",
          "Hemiksem",
          "Kortenberg",
          "Morlanwelz",
          "Ravels",
          "Sint-Niklaas",
          "Aarschot",
          "Assenede",
          "Erquelinnes",
          "Messancy",
          "Baarle-Hertog",
          "Beyne-Heusay",
          "Courcelles",
          "Hoegaarden",
          "Middelkerke",
          "Mons",
          "Mouscron",
          "Sint-Pieters-Leeuw",
          "Vorselaar",
          "Bassenge",
          "Charleroi",
          "Dison",
          "Fontaine-l'Evêque",
          "Holsbeek",
          "Kortenberg",
          "Mons",
          "Scherpenheuvel-Zichem",
          "Verlaine",
          "Zemst",
          "Antwerpen",
          "Diest",
          "Faimes",
          "Linter",
          "Zedelgem",
          "Heist-op-den-Berg",
          "Laakdal",
          "Pepinster",
          "Welkenraedt",
          "Zwevegem",
          "Braine-l'Alleud",
          "Ieper",
          "Juprelle",
          "Lo-Reninge",
          "Ottignies-Louvain-la-Neuve",
          "Pajottegem",
          "Braives",
          "Braives",
          "Leopoldsburg",
          "Mechelen",
          "Ternat",
          "Zandhoven",
          "Beauvechain",
          "Beersel",
          "Dilbeek",
          "Geraardsbergen",
          "Halle",
          "Halle",
          "Hasselt",
          "Maasmechelen",
          "Oupeye",
          "Sint-Martens-Latem",
          "Trooz",
          "Beersel",
          "Chimay",
          "Chièvres",
          "Farciennes",
          "Fléron",
          "Linkebeek",
          "Pont-à-Celles",
          "Saint-Ghislain",
          "Tournai",
          "Vielsalm",
          "Virton",
          "Zwevegem",
          "Anhée",
          "Boussu",
          "Ellezelles",
          "Hensies",
          "Lessines",
          "Mechelen",
          "Saint-Ghislain",
          "Thuin",
          "Thuin",
          "Tournai",
          "Verviers",
          "Zandhoven",
          "Bernissart",
          "Charleroi",
          "Donceel",
          "Lanaken",
          "Lierde",
          "Lierde",
          "Morlanwelz",
          "Nivelles",
          "Thuin",
          "Beaumont",
          "Beersel",
          "Beersel",
          "Gedinne",
          "La Bruyère",
          "La Bruyère",
          "Lens (Hainaut)",
          "Nivelles",
          "Vielsalm",
          "Zemst",
          "Bièvre",
          "Brunehaut",
          "Celles (lez-Tournai)",
          "Charleroi",
          "Charleroi",
          "Estinnes",
          "Florenville",
          "Florenville",
          "Gent",
          "Gingelom",
          "Honnelles",
          "Oupeye",
          "Saint-Ghislain",
          "Scherpenheuvel-Zichem",
          "Seraing",
          "Boussu",
          "Büllingen",
          "Clavier",
          "Dison",
          "Ferrières",
          "Hotton",
          "Ieper",
          "Kortenaken",
          "Namur",
          "Ans",
          "Ath",
          "Beveren",
          "Grimbergen",
          "Hasselt",
          "Havelange",
          "Horebeke",
          "Lierneux",
          "Modave",
          "Ohey",
          "Vaux-sur-Sûre",
          "Amel",
          "Charleroi",
          "Fleurus",
          "Fléron",
          "Hamois",
          "Hamois",
          "Kaprijke",
          "Kortenberg",
          "Lokeren",
          "Maarkedal",
          "Ninove",
          "Oupeye",
          "Paliseul",
          "Plombières",
          "Sint-Laureins",
          "Sivry-Rance",
          "Viroinval",
          "Zuienkerke",
          "Alveringem",
          "Fexhe-le-Haut-Clocher",
          "Froidchapelle",
          "Marchin",
          "Ramillies",
          "Vleteren",
          "Glabbeek",
          "Mons",
          "Nazareth",
          "Poperinge",
          "Rotselaar",
          "Sint-Pieters-Leeuw",
          "Tinlot",
          "Tintigny",
          "Balen",
          "Bertem",
          "Denderleeuw",
          "Fontaine-l'Evêque",
          "Kortrijk",
          "Libin",
          "Léglise",
          "Mons",
          "Namur",
          "Oupeye",
          "Saint-Ghislain",
          "Somme-Leuze",
          "Tournai",
          "Beloeil",
          "Beloeil",
          "Dalhem",
          "Durbuy",
          "Eupen",
          "Frasnes-lez-Anvaing",
          "Geetbets",
          "Lobbes",
          "Maarkedal",
          "Ouffet",
          "Pepingen",
          "Pont-à-Celles",
          "Remicourt",
          "Rixensart",
          "Saint-Hubert",
          "Alveringem",
          "Chiny",
          "Comines-Warneton",
          "Courcelles",
          "Etalle",
          "Geetbets",
          "Houyet",
          "Houyet",
          "Kelmis",
          "Manhay",
          "Mons",
          "Ninove",
          "Oreye",
          "Pecq",
          "Quévy",
          "Raeren",
          "Raeren",
          "Stoumont",
          "Antoing",
          "Anzegem",
          "Beloeil",
          "Blégny",
          "Dalhem",
          "Engis",
          "Flobecq",
          "Genappe",
          "Haaltert",
          "Heuvelland",
          "Neupré",
          "Olne",
          "Ottignies-Louvain-la-Neuve",
          "Saint-Ghislain",
          "Visé",
          "Zwevegem",
          "Ardooie",
          "Beloeil",
          "Bertem",
          "Bouillon",
          "Bouillon",
          "Grimbergen",
          "Les Bons Villers",
          "Lessines",
          "Mechelen",
          "Oud-Heverlee",
          "Quévy",
          "Rendeux",
          "Spiere-Helkijn",
          "Ternat",
          "Trois-Ponts",
          "Zwevegem",
          "Awans",
          "Bernissart",
          "Comblain-au-Pont",
          "Fléron",
          "Habay",
          "Hoogstraten",
          "Kortenaken",
          "Leuze-en-Hainaut",
          "Lubbeek",
          "Maarkedal",
          "Mont-de-l'Enclus",
          "Namur",
          "Péruwelz",
          "Rotselaar",
          "Soignies",
          "Vresse-sur-Semois",
          "Binche",
          "Boechout",
          "Burdinne",
          "Cerfontaine",
          "Crisnée",
          "Grobbendonk",
          "Herve",
          "Sint-Laureins",
          "Wasseiges",
          "Aubange",
          "Bever",
          "Chaudfontaine",
          "Dinant",
          "Geer",
          "Gembloux",
          "Heuvelland",
          "Holsbeek",
          "Hoogstraten",
          "Ieper",
          "Kelmis",
          "La Roche-en-Ardenne",
          "Oupeye",
          "Raeren",
          "Soignies",
          "Soumagne",
          "Thuin",
          "Voeren",
          "Ath",
          "Beauraing",
          "Chaudfontaine",
          "Comines-Warneton",
          "Genappe",
          "Habay",
          "Houffalize",
          "Houffalize",
          "Landen",
          "Middelkerke",
          "Oud-Heverlee",
          "Péruwelz",
          "Attert",
          "Avelgem",
          "Burg-Reuland",
          "Frasnes-lez-Anvaing",
          "Ham",
          "Hamoir",
          "Heuvelland",
          "Hélécine",
          "Martelange",
          "Namur",
          "Neupré",
          "Sint-Truiden",
          "Soignies",
          "Soumagne",
          "Tielt-Winge",
          "Assesse",
          "Aubange",
          "De Haan",
          "Erezée",
          "Gingelom",
          "Héron",
          "Ittre",
          "Juprelle",
          "Kaprijke",
          "Limbourg",
          "Merbes-le-Château",
          "Mons",
          "Nassogne",
          "Oud-Heverlee",
          "Poperinge",
          "Tellin",
          "Tongeren",
          "Tournai",
          "Binche",
          "Diest",
          "Fontaine-l'Evêque",
          "Kortenaken",
          "Lessines",
          "Limbourg",
          "Momignies",
          "Namur",
          "Ninove",
          "Oud-Heverlee",
          "Plombières",
          "Sainte-Ode",
          "Zwijndrecht",
          "Aalter",
          "Berloz",
          "Borsbeek",
          "Denderleeuw",
          "Gouvy",
          "Hastière",
          "Houyet",
          "Héron",
          "Juprelle",
          "Juprelle",
          "Lievegem",
          "Lincent",
          "Lontzen",
          "Middelkerke",
          "Musson",
          "Pajottegem",
          "Roosdaal",
          "Tournai",
          "Vielsalm",
          "Voeren",
          "Voeren",
          "Wellin",
          "Wellin",
          "Assenede",
          "Aubange",
          "Bernissart",
          "Bilzen",
          "Blégny",
          "Courcelles",
          "Daverdisse",
          "Fleurus",
          "Genappe",
          "Glabbeek",
          "Gouvy",
          "Hamois",
          "Houffalize",
          "Landen",
          "Lierde",
          "Merelbeke",
          "Namur",
          "Nassogne",
          "Plombières",
          "Péruwelz",
          "Rouvroy",
          "Sint-Laureins",
          "Sint-Truiden",
          "Virton",
          "Wellen",
          "Bekkevoort",
          "Bouillon",
          "Brugelette",
          "Gouvy",
          "Hamois",
          "Hasselt",
          "Havelange",
          "Herstal",
          "Herve",
          "Ieper",
          "Mettet",
          "Ninove",
          "Saint-Léger (Lux.)",
          "Tenneville",
          "Tenneville",
          "Tournai",
          "Ath",
          "Bastogne",
          "Beaumont",
          "Dalhem",
          "Fauvillers",
          "Geer",
          "Genappe",
          "Glabbeek",
          "Kruisem",
          "Kruisem",
          "Limbourg",
          "Lubbeek",
          "Meix-devant-Virton",
          "Mons",
          "Namur",
          "Nivelles",
          "Onhaye",
          "Onhaye",
          "Pecq",
          "Sint-Lievens-Houtem",
          "Tessenderlo",
          "Tournai",
          "Visé"
         ],
         "lat": {
          "bdata": "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",
          "dtype": "f8"
         },
         "legendgroup": "",
         "lon": {
          "bdata": "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",
          "dtype": "f8"
         },
         "marker": {
          "color": "#636efa",
          "size": {
           "bdata": "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",
           "dtype": "i2"
          },
          "sizemode": "area",
          "sizeref": 1.79375
         },
         "mode": "markers",
         "name": "",
         "showlegend": false,
         "subplot": "map",
         "type": "scattermap"
        }
       ],
       "layout": {
        "legend": {
         "itemsizing": "constant",
         "tracegroupgap": 0
        },
        "map": {
         "center": {
          "lat": 50.73787397527373,
          "lon": 4.5319176917925725
         },
         "domain": {
          "x": [
           0,
           1
          ],
          "y": [
           0,
           1
          ]
         },
         "style": "open-street-map",
         "zoom": 7
        },
        "mapbox": {
         "center": {
          "lat": 50.73787397527373,
          "lon": 4.5319176917925725
         },
         "style": "open-street-map",
         "zoom": 7
        },
        "template": {
         "data": {
          "bar": [
           {
            "error_x": {
             "color": "#2a3f5f"
            },
            "error_y": {
             "color": "#2a3f5f"
            },
            "marker": {
             "line": {
              "color": "#E5ECF6",
              "width": 0.5
             },
             "pattern": {
              "fillmode": "overlay",
              "size": 10,
              "solidity": 0.2
             }
            },
            "type": "bar"
           }
          ],
          "barpolar": [
           {
            "marker": {
             "line": {
              "color": "#E5ECF6",
              "width": 0.5
             },
             "pattern": {
              "fillmode": "overlay",
              "size": 10,
              "solidity": 0.2
             }
            },
            "type": "barpolar"
           }
          ],
          "carpet": [
           {
            "aaxis": {
             "endlinecolor": "#2a3f5f",
             "gridcolor": "white",
             "linecolor": "white",
             "minorgridcolor": "white",
             "startlinecolor": "#2a3f5f"
            },
            "baxis": {
             "endlinecolor": "#2a3f5f",
             "gridcolor": "white",
             "linecolor": "white",
             "minorgridcolor": "white",
             "startlinecolor": "#2a3f5f"
            },
            "type": "carpet"
           }
          ],
          "choropleth": [
           {
            "colorbar": {
             "outlinewidth": 0,
             "ticks": ""
            },
            "type": "choropleth"
           }
          ],
          "contour": [
           {
            "colorbar": {
             "outlinewidth": 0,
             "ticks": ""
            },
            "colorscale": [
             [
              0,
              "#0d0887"
             ],
             [
              0.1111111111111111,
              "#46039f"
             ],
             [
              0.2222222222222222,
              "#7201a8"
             ],
             [
              0.3333333333333333,
              "#9c179e"
             ],
             [
              0.4444444444444444,
              "#bd3786"
             ],
             [
              0.5555555555555556,
              "#d8576b"
             ],
             [
              0.6666666666666666,
              "#ed7953"
             ],
             [
              0.7777777777777778,
              "#fb9f3a"
             ],
             [
              0.8888888888888888,
              "#fdca26"
             ],
             [
              1,
              "#f0f921"
             ]
            ],
            "type": "contour"
           }
          ],
          "contourcarpet": [
           {
            "colorbar": {
             "outlinewidth": 0,
             "ticks": ""
            },
            "type": "contourcarpet"
           }
          ],
          "heatmap": [
           {
            "colorbar": {
             "outlinewidth": 0,
             "ticks": ""
            },
            "colorscale": [
             [
              0,
              "#0d0887"
             ],
             [
              0.1111111111111111,
              "#46039f"
             ],
             [
              0.2222222222222222,
              "#7201a8"
             ],
             [
              0.3333333333333333,
              "#9c179e"
             ],
             [
              0.4444444444444444,
              "#bd3786"
             ],
             [
              0.5555555555555556,
              "#d8576b"
             ],
             [
              0.6666666666666666,
              "#ed7953"
             ],
             [
              0.7777777777777778,
              "#fb9f3a"
             ],
             [
              0.8888888888888888,
              "#fdca26"
             ],
             [
              1,
              "#f0f921"
             ]
            ],
            "type": "heatmap"
           }
          ],
          "histogram": [
           {
            "marker": {
             "pattern": {
              "fillmode": "overlay",
              "size": 10,
              "solidity": 0.2
             }
            },
            "type": "histogram"
           }
          ],
          "histogram2d": [
           {
            "colorbar": {
             "outlinewidth": 0,
             "ticks": ""
            },
            "colorscale": [
             [
              0,
              "#0d0887"
             ],
             [
              0.1111111111111111,
              "#46039f"
             ],
             [
              0.2222222222222222,
              "#7201a8"
             ],
             [
              0.3333333333333333,
              "#9c179e"
             ],
             [
              0.4444444444444444,
              "#bd3786"
             ],
             [
              0.5555555555555556,
              "#d8576b"
             ],
             [
              0.6666666666666666,
              "#ed7953"
             ],
             [
              0.7777777777777778,
              "#fb9f3a"
             ],
             [
              0.8888888888888888,
              "#fdca26"
             ],
             [
              1,
              "#f0f921"
             ]
            ],
            "type": "histogram2d"
           }
          ],
          "histogram2dcontour": [
           {
            "colorbar": {
             "outlinewidth": 0,
             "ticks": ""
            },
            "colorscale": [
             [
              0,
              "#0d0887"
             ],
             [
              0.1111111111111111,
              "#46039f"
             ],
             [
              0.2222222222222222,
              "#7201a8"
             ],
             [
              0.3333333333333333,
              "#9c179e"
             ],
             [
              0.4444444444444444,
              "#bd3786"
             ],
             [
              0.5555555555555556,
              "#d8576b"
             ],
             [
              0.6666666666666666,
              "#ed7953"
             ],
             [
              0.7777777777777778,
              "#fb9f3a"
             ],
             [
              0.8888888888888888,
              "#fdca26"
             ],
             [
              1,
              "#f0f921"
             ]
            ],
            "type": "histogram2dcontour"
           }
          ],
          "mesh3d": [
           {
            "colorbar": {
             "outlinewidth": 0,
             "ticks": ""
            },
            "type": "mesh3d"
           }
          ],
          "parcoords": [
           {
            "line": {
             "colorbar": {
              "outlinewidth": 0,
              "ticks": ""
             }
            },
            "type": "parcoords"
           }
          ],
          "pie": [
           {
            "automargin": true,
            "type": "pie"
           }
          ],
          "scatter": [
           {
            "fillpattern": {
             "fillmode": "overlay",
             "size": 10,
             "solidity": 0.2
            },
            "type": "scatter"
           }
          ],
          "scatter3d": [
           {
            "line": {
             "colorbar": {
              "outlinewidth": 0,
              "ticks": ""
             }
            },
            "marker": {
             "colorbar": {
              "outlinewidth": 0,
              "ticks": ""
             }
            },
            "type": "scatter3d"
           }
          ],
          "scattercarpet": [
           {
            "marker": {
             "colorbar": {
              "outlinewidth": 0,
              "ticks": ""
             }
            },
            "type": "scattercarpet"
           }
          ],
          "scattergeo": [
           {
            "marker": {
             "colorbar": {
              "outlinewidth": 0,
              "ticks": ""
             }
            },
            "type": "scattergeo"
           }
          ],
          "scattergl": [
           {
            "marker": {
             "colorbar": {
              "outlinewidth": 0,
              "ticks": ""
             }
            },
            "type": "scattergl"
           }
          ],
          "scattermap": [
           {
            "marker": {
             "colorbar": {
              "outlinewidth": 0,
              "ticks": ""
             }
            },
            "type": "scattermap"
           }
          ],
          "scattermapbox": [
           {
            "marker": {
             "colorbar": {
              "outlinewidth": 0,
              "ticks": ""
             }
            },
            "type": "scattermapbox"
           }
          ],
          "scatterpolar": [
           {
            "marker": {
             "colorbar": {
              "outlinewidth": 0,
              "ticks": ""
             }
            },
            "type": "scatterpolar"
           }
          ],
          "scatterpolargl": [
           {
            "marker": {
             "colorbar": {
              "outlinewidth": 0,
              "ticks": ""
             }
            },
            "type": "scatterpolargl"
           }
          ],
          "scatterternary": [
           {
            "marker": {
             "colorbar": {
              "outlinewidth": 0,
              "ticks": ""
             }
            },
            "type": "scatterternary"
           }
          ],
          "surface": [
           {
            "colorbar": {
             "outlinewidth": 0,
             "ticks": ""
            },
            "colorscale": [
             [
              0,
              "#0d0887"
             ],
             [
              0.1111111111111111,
              "#46039f"
             ],
             [
              0.2222222222222222,
              "#7201a8"
             ],
             [
              0.3333333333333333,
              "#9c179e"
             ],
             [
              0.4444444444444444,
              "#bd3786"
             ],
             [
              0.5555555555555556,
              "#d8576b"
             ],
             [
              0.6666666666666666,
              "#ed7953"
             ],
             [
              0.7777777777777778,
              "#fb9f3a"
             ],
             [
              0.8888888888888888,
              "#fdca26"
             ],
             [
              1,
              "#f0f921"
             ]
            ],
            "type": "surface"
           }
          ],
          "table": [
           {
            "cells": {
             "fill": {
              "color": "#EBF0F8"
             },
             "line": {
              "color": "white"
             }
            },
            "header": {
             "fill": {
              "color": "#C8D4E3"
             },
             "line": {
              "color": "white"
             }
            },
            "type": "table"
           }
          ]
         },
         "layout": {
          "annotationdefaults": {
           "arrowcolor": "#2a3f5f",
           "arrowhead": 0,
           "arrowwidth": 1
          },
          "autotypenumbers": "strict",
          "coloraxis": {
           "colorbar": {
            "outlinewidth": 0,
            "ticks": ""
           }
          },
          "colorscale": {
           "diverging": [
            [
             0,
             "#8e0152"
            ],
            [
             0.1,
             "#c51b7d"
            ],
            [
             0.2,
             "#de77ae"
            ],
            [
             0.3,
             "#f1b6da"
            ],
            [
             0.4,
             "#fde0ef"
            ],
            [
             0.5,
             "#f7f7f7"
            ],
            [
             0.6,
             "#e6f5d0"
            ],
            [
             0.7,
             "#b8e186"
            ],
            [
             0.8,
             "#7fbc41"
            ],
            [
             0.9,
             "#4d9221"
            ],
            [
             1,
             "#276419"
            ]
           ],
           "sequential": [
            [
             0,
             "#0d0887"
            ],
            [
             0.1111111111111111,
             "#46039f"
            ],
            [
             0.2222222222222222,
             "#7201a8"
            ],
            [
             0.3333333333333333,
             "#9c179e"
            ],
            [
             0.4444444444444444,
             "#bd3786"
            ],
            [
             0.5555555555555556,
             "#d8576b"
            ],
            [
             0.6666666666666666,
             "#ed7953"
            ],
            [
             0.7777777777777778,
             "#fb9f3a"
            ],
            [
             0.8888888888888888,
             "#fdca26"
            ],
            [
             1,
             "#f0f921"
            ]
           ],
           "sequentialminus": [
            [
             0,
             "#0d0887"
            ],
            [
             0.1111111111111111,
             "#46039f"
            ],
            [
             0.2222222222222222,
             "#7201a8"
            ],
            [
             0.3333333333333333,
             "#9c179e"
            ],
            [
             0.4444444444444444,
             "#bd3786"
            ],
            [
             0.5555555555555556,
             "#d8576b"
            ],
            [
             0.6666666666666666,
             "#ed7953"
            ],
            [
             0.7777777777777778,
             "#fb9f3a"
            ],
            [
             0.8888888888888888,
             "#fdca26"
            ],
            [
             1,
             "#f0f921"
            ]
           ]
          },
          "colorway": [
           "#636efa",
           "#EF553B",
           "#00cc96",
           "#ab63fa",
           "#FFA15A",
           "#19d3f3",
           "#FF6692",
           "#B6E880",
           "#FF97FF",
           "#FECB52"
          ],
          "font": {
           "color": "#2a3f5f"
          },
          "geo": {
           "bgcolor": "white",
           "lakecolor": "white",
           "landcolor": "#E5ECF6",
           "showlakes": true,
           "showland": true,
           "subunitcolor": "white"
          },
          "hoverlabel": {
           "align": "left"
          },
          "hovermode": "closest",
          "mapbox": {
           "style": "light"
          },
          "paper_bgcolor": "white",
          "plot_bgcolor": "#E5ECF6",
          "polar": {
           "angularaxis": {
            "gridcolor": "white",
            "linecolor": "white",
            "ticks": ""
           },
           "bgcolor": "#E5ECF6",
           "radialaxis": {
            "gridcolor": "white",
            "linecolor": "white",
            "ticks": ""
           }
          },
          "scene": {
           "xaxis": {
            "backgroundcolor": "#E5ECF6",
            "gridcolor": "white",
            "gridwidth": 2,
            "linecolor": "white",
            "showbackground": true,
            "ticks": "",
            "zerolinecolor": "white"
           },
           "yaxis": {
            "backgroundcolor": "#E5ECF6",
            "gridcolor": "white",
            "gridwidth": 2,
            "linecolor": "white",
            "showbackground": true,
            "ticks": "",
            "zerolinecolor": "white"
           },
           "zaxis": {
            "backgroundcolor": "#E5ECF6",
            "gridcolor": "white",
            "gridwidth": 2,
            "linecolor": "white",
            "showbackground": true,
            "ticks": "",
            "zerolinecolor": "white"
           }
          },
          "shapedefaults": {
           "line": {
            "color": "#2a3f5f"
           }
          },
          "ternary": {
           "aaxis": {
            "gridcolor": "white",
            "linecolor": "white",
            "ticks": ""
           },
           "baxis": {
            "gridcolor": "white",
            "linecolor": "white",
            "ticks": ""
           },
           "bgcolor": "#E5ECF6",
           "caxis": {
            "gridcolor": "white",
            "linecolor": "white",
            "ticks": ""
           }
          },
          "title": {
           "x": 0.05
          },
          "xaxis": {
           "automargin": true,
           "gridcolor": "white",
           "linecolor": "white",
           "ticks": "",
           "title": {
            "standoff": 15
           },
           "zerolinecolor": "white",
           "zerolinewidth": 2
          },
          "yaxis": {
           "automargin": true,
           "gridcolor": "white",
           "linecolor": "white",
           "ticks": "",
           "title": {
            "standoff": 15
           },
           "zerolinecolor": "white",
           "zerolinewidth": 2
          }
         }
        },
        "title": {
         "text": "Wholesale and retail trade Business Clusters"
        }
       }
      }
     },
     "metadata": {},
     "output_type": "display_data"
    },
    {
     "data": {
      "application/vnd.plotly.v1+json": {
       "config": {
        "plotlyServerURL": "https://plot.ly"
       },
       "data": [
        {
         "hovertemplate": "<b>%{hovertext}</b><br><br>company_count=%{marker.size}<br>latitude=%{lat}<br>longitude=%{lon}<extra></extra>",
         "hovertext": [
          "Antwerpen",
          "Brussel",
          "Brussel",
          "Brussel",
          "Gent",
          "Elsene",
          "Elsene",
          "Ukkel",
          "Schaarbeek",
          "Anderlecht",
          "Hasselt",
          "Roeselare",
          "Sint-Jans-Molenbeek",
          "Genk",
          "Mechelen",
          "Brasschaat",
          "Kortrijk",
          "Leuven",
          "Zaventem",
          "Antwerpen",
          "Schilde",
          "Etterbeek",
          "Etterbeek",
          "Antwerpen",
          "Waterloo",
          "Liège",
          "Deinze",
          "Lokeren",
          "Oostende",
          "Sint-Niklaas",
          "Sint-Lambrechts-Woluwe",
          "Vorst",
          "Geel",
          "Liège",
          "Kapellen",
          "Knokke-Heist",
          "Schoten",
          "Sint-Gillis (bij-Brussel)",
          "Wavre",
          "Wavre",
          "Vilvoorde",
          "Zoersel",
          "Brecht",
          "Brugge",
          "Beveren-Kruibeke-Zwijndrecht",
          "Dendermonde",
          "Evere",
          "Sint-Pieters-Woluwe",
          "Temse",
          "Heusden-Zolder",
          "Turnhout",
          "Herentals",
          "Kontich",
          "Lasne",
          "Braine-l'Alleud",
          "Antwerpen",
          "Dilbeek",
          "Oostkamp",
          "Oudenaarde",
          "Lier",
          "Sint-Truiden",
          "Evergem",
          "Sint-Genesius-Rode",
          "Lochristi",
          "Sint-Agatha-Berchem",
          "Sint-Pieters-Leeuw",
          "Grimbergen",
          "Hamme (Vl.)",
          "Jette",
          "Watermaal-Bosvoorde",
          "Brussel",
          "Oudergem",
          "Waregem",
          "Wemmel",
          "Asse",
          "Grimbergen",
          "Merelbeke-Melle",
          "Overijse",
          "Sint-Joost-ten-Node",
          "Lommel",
          "Brugge",
          "Wevelgem",
          "Machelen (Brab.)",
          "Mol",
          "Wommelgem",
          "Leuven",
          "Zonhoven",
          "Antwerpen",
          "Gent",
          "Herent",
          "Kraainem",
          "Zele",
          "Antwerpen",
          "Bilzen-Hoeselt",
          "Bornem",
          "Malle",
          "Menen",
          "Kortrijk",
          "Londerzeel",
          "Kalmthout",
          "Tielt",
          "Tongeren-Borgloon",
          "Wetteren",
          "Antwerpen",
          "Destelbergen",
          "Mortsel",
          "Ranst",
          "Aartselaar",
          "Izegem",
          "Nivelles",
          "Deinze",
          "Koekelberg",
          "Liège",
          "Tervuren",
          "Aalter",
          "Aalst",
          "Antwerpen",
          "Gent",
          "Nijlen",
          "Zaventem",
          "Sint-Gillis-Waas",
          "Edegem",
          "Keerbergen",
          "Rumst",
          "Wuustwezel",
          "Aalst",
          "Kasterlee",
          "Mouscron",
          "Waasmunster",
          "Zulte",
          "Maasmechelen",
          "Willebroek",
          "Herk-de-Stad",
          "Stekene",
          "Essen",
          "Tournai",
          "Chaumont-Gistoux",
          "Heist-op-den-Berg",
          "Namur",
          "Nazareth-De Pinte",
          "Duffel",
          "Merchtem",
          "Wingene",
          "Beerse",
          "Brugge",
          "Leuven",
          "Lummen",
          "Grez-Doiceau",
          "Maaseik",
          "Lille",
          "Maldegem",
          "Mons",
          "Westerlo",
          "Zottegem",
          "Houthalen-Helchteren",
          "Kampenhout",
          "Tienen",
          "Bilzen-Hoeselt",
          "Haacht",
          "Halle",
          "Sint-Martens-Latem",
          "Zedelgem",
          "Zemst",
          "Zemst",
          "Diksmuide",
          "Gent",
          "Namur",
          "Namur",
          "Putte",
          "Damme",
          "Ganshoren",
          "Koksijde",
          "Nieuwpoort",
          "Ninove",
          "Ninove",
          "Ninove",
          "Sint-Katelijne-Waver",
          "Verviers",
          "Wijnegem",
          "Anzegem",
          "Jodoigne",
          "Lanaken",
          "Ottignies-Louvain-la-Neuve",
          "Diepenbeek",
          "Lennik",
          "Nazareth-De Pinte",
          "Pelt",
          "Eeklo",
          "Mont-Saint-Guibert",
          "Puurs-Sint-Amands",
          "Stabroek",
          "Steenokkerzeel",
          "Aarschot",
          "Lubbeek",
          "Veurne",
          "Asse",
          "Balen",
          "Braine-le-Comte",
          "Dilsen-Stokkem",
          "Gembloux",
          "Jabbeke",
          "Laarne",
          "Namur",
          "Oosterzele",
          "Opwijk",
          "Zandhoven",
          "Deerlijk",
          "Gent",
          "Geraardsbergen",
          "Geraardsbergen",
          "Riemst",
          "Ronse",
          "Affligem",
          "Gavere",
          "Gent",
          "Harelbeke",
          "Lede",
          "Merelbeke-Melle",
          "Oudsbergen",
          "Roosdaal",
          "Beveren-Kruibeke-Zwijndrecht",
          "Bonheiden",
          "Gent",
          "Huldenberg",
          "Leuven",
          "Ottignies-Louvain-la-Neuve",
          "Perwez",
          "Tessenderlo-Ham",
          "Beringen",
          "Bree",
          "Eghezée",
          "Herselt",
          "Knokke-Heist",
          "Wezembeek-Oppem",
          "Alken",
          "Andenne",
          "Buggenhout",
          "Erpe-Mere",
          "Gent",
          "Hannut",
          "Oud-Turnhout",
          "Tubize",
          "Grâce-Hollogne",
          "Hamont-Achel",
          "Herve",
          "Herzele",
          "Ichtegem",
          "La Louvière",
          "Lebbeke",
          "Moorslede",
          "Peer",
          "Pelt",
          "Rotselaar",
          "Diest",
          "Dilbeek",
          "Kortrijk",
          "Pajottegem",
          "Tielt",
          "Wervik",
          "Zonnebeke",
          "Aalst",
          "Beveren-Kruibeke-Zwijndrecht",
          "Flémalle",
          "Retie",
          "Seraing",
          "Sint-Martens-Latem",
          "Torhout",
          "Verviers",
          "Vosselaar",
          "Berlare",
          "Bocholt",
          "Genappe",
          "Genappe",
          "Hooglede",
          "Ledegem",
          "Ternat",
          "Villers-la-Ville",
          "Zemst",
          "Zwevegem",
          "Ieper",
          "Ieper",
          "Oudsbergen",
          "Rijkevorsel",
          "Seneffe",
          "Ardooie",
          "Arendonk",
          "Beernem",
          "Grobbendonk",
          "Heist-op-den-Berg",
          "Herstal",
          "Hoeilaart",
          "Huy",
          "Meise",
          "Rixensart",
          "Sint-Niklaas",
          "Wanze",
          "Wortegem-Petegem",
          "Beringen",
          "Boechout",
          "Braine-le-Château",
          "Court-Saint-Etienne",
          "Kortemark",
          "Kruisem",
          "Meise",
          "Tongeren-Borgloon",
          "Wichelen",
          "Beauvechain",
          "Enghien",
          "Kapelle-op-den-Bos",
          "La Hulpe",
          "Boom",
          "Charleroi",
          "Halen",
          "Hasselt",
          "Kuurne",
          "Lievegem",
          "Lievegem",
          "Olen",
          "Rixensart",
          "Staden",
          "Ternat",
          "Wielsbeke",
          "Boortmeerbeek",
          "Châtelet",
          "Haaltert",
          "Hove",
          "Kinrooi",
          "Lichtervelde",
          "Malmedy",
          "Pont-à-Celles",
          "Puurs-Sint-Amands",
          "Zaventem",
          "Aarschot",
          "Berlaar",
          "Brugge",
          "Charleroi",
          "Ciney",
          "Fleurus",
          "Gent",
          "Incourt",
          "Lint",
          "Nieuwerkerken (Limb.)",
          "Tessenderlo-Ham",
          "Tielt-Winge",
          "Walhain",
          "Zwalm",
          "Aalter",
          "Aywaille",
          "Beersel",
          "Blankenberge",
          "Charleroi",
          "Esneux",
          "Ham-sur-Heure-Nalinnes",
          "Holsbeek",
          "Kruisem",
          "La Louvière",
          "Bierbeek",
          "Boutersem",
          "Dentergem",
          "Drogenbos",
          "Frameries",
          "Ittre",
          "Landen",
          "Liedekerke",
          "Waregem",
          "Beersel",
          "Hulshout",
          "Kortenberg",
          "Soignies",
          "Theux",
          "Ath",
          "Bastogne",
          "Brakel",
          "Brussel",
          "Charleroi",
          "Chaudfontaine",
          "Halle",
          "Hemiksem",
          "Hoogstraten",
          "Jemeppe-sur-Sambre",
          "Pajottegem",
          "Poperinge",
          "Visé",
          "Wavre",
          "Aalst",
          "Blégny",
          "Boechout",
          "Bredene",
          "Chapelle-lez-Herlaimont",
          "Chaudfontaine",
          "De Panne",
          "Eupen",
          "Gerpinnes",
          "Gistel",
          "Laakdal",
          "Langemark-Poelkapelle",
          "Meerhout",
          "Oudenburg",
          "Rebecq",
          "Schelle",
          "Antwerpen",
          "Binche",
          "Dessel",
          "Gesves",
          "Herve",
          "Herve",
          "Herve",
          "Manage",
          "Marche-en-Famenne",
          "Mechelen",
          "Orp-Jauche",
          "Pittem",
          "Rochefort",
          "Saint-Georges-sur-Meuse",
          "Sambreville",
          "Sprimont",
          "Vorselaar",
          "Anderlues",
          "Durbuy",
          "Herenthout",
          "Hoogstraten",
          "Ingelmunster",
          "Jalhay",
          "Koekelare",
          "Machelen (Brab.)",
          "Merksplas",
          "Scherpenheuvel-Zichem",
          "Sint-Lievens-Houtem",
          "Sint-Lievens-Houtem",
          "Thimister-Clermont",
          "Tremelo",
          "Waregem",
          "Wingene",
          "Amay",
          "Braine-l'Alleud",
          "Chastre",
          "Fernelmont",
          "Gembloux",
          "Heist-op-den-Berg",
          "Kluisbergen",
          "Kortenberg",
          "Kortenberg",
          "Liège",
          "Oostrozebeke",
          "Rixensart",
          "Waremme",
          "Yvoir",
          "Zandhoven",
          "Zoutleeuw",
          "As",
          "Beringen",
          "Beveren-Kruibeke-Zwijndrecht",
          "Charleroi",
          "Charleroi",
          "Hasselt",
          "Lievegem",
          "Lochristi",
          "Mettet",
          "Middelkerke",
          "Mons",
          "Niel",
          "Ramillies",
          "Rotselaar",
          "Seneffe",
          "Sombreffe",
          "Villers-le-Bouillet",
          "Arlon",
          "Bassenge",
          "Begijnendijk",
          "Braives",
          "Braives",
          "Gent",
          "Grimbergen",
          "Harelbeke",
          "Hoegaarden",
          "Jurbise",
          "Laakdal",
          "Montigny-le-Tilleul",
          "Nandrin",
          "Profondeville",
          "Ravels",
          "Silly",
          "Sint-Katelijne-Waver",
          "Spa",
          "Sprimont",
          "Zelzate",
          "Avelgem",
          "Couvin",
          "Hechtel-Eksel",
          "Kaprijke",
          "Lokeren",
          "Pepinster",
          "Waimes",
          "Walcourt",
          "Aarschot",
          "Bekkevoort",
          "Braine-l'Alleud",
          "De Haan",
          "De Haan",
          "Frasnes-lez-Anvaing",
          "Heist-op-den-Berg",
          "Leopoldsburg",
          "Libramont-Chevigny",
          "Linkebeek",
          "Maldegem",
          "Namur",
          "Ottignies-Louvain-la-Neuve",
          "Ravels",
          "Rotselaar",
          "Saint-Ghislain",
          "Sint-Pieters-Leeuw",
          "Stavelot",
          "Tinlot",
          "Assenede",
          "Beersel",
          "Bertem",
          "Boortmeerbeek",
          "Comines-Warneton",
          "Courcelles",
          "Dilbeek",
          "Estaimpuis",
          "Herstal",
          "Leuze-en-Hainaut",
          "Middelkerke",
          "Scherpenheuvel-Zichem",
          "Tournai",
          "Trooz",
          "Wellen",
          "Aalter",
          "Ans",
          "Assenede",
          "Awans",
          "Beersel",
          "Celles (lez-Tournai)",
          "Charleroi",
          "Charleroi",
          "Diest",
          "Dinant",
          "Fosses-la-Ville",
          "Hasselt",
          "Heers",
          "Hoogstraten",
          "La Bruyère",
          "Landen",
          "Les Bons Villers",
          "Les Bons Villers",
          "Linter",
          "Liège",
          "Mechelen",
          "Mons",
          "Mouscron",
          "Nivelles",
          "Ottignies-Louvain-la-Neuve",
          "Pepingen",
          "Sint-Niklaas",
          "Welkenraedt",
          "Zemst",
          "Bertem",
          "Bever",
          "Charleroi",
          "Charleroi",
          "Denderleeuw",
          "Ferrières",
          "Fleurus",
          "Fontaine-l'Evêque",
          "Gingelom",
          "Halle",
          "Hotton",
          "Le Roeulx",
          "Lo-Reninge",
          "Lobbes",
          "Lubbeek",
          "Marchin",
          "Ninove",
          "Oud-Heverlee",
          "Oud-Heverlee",
          "Pajottegem",
          "Philippeville",
          "Scherpenheuvel-Zichem",
          "Vleteren",
          "Walcourt",
          "Waregem",
          "Zandhoven",
          "Zedelgem",
          "Aiseau-Presles",
          "Antwerpen",
          "Assesse",
          "Assesse",
          "Ath",
          "Aubel",
          "Beyne-Heusay",
          "Blégny",
          "Dison",
          "Ecaussinnes",
          "Engis",
          "Faimes",
          "Fléron",
          "Geraardsbergen",
          "Glabbeek",
          "Houthulst",
          "Ieper",
          "Juprelle",
          "Kaprijke",
          "Kortenaken",
          "La Bruyère",
          "Lendelede",
          "Lierneux",
          "Lubbeek",
          "Mechelen",
          "Mons",
          "Mont-de-l'Enclus",
          "Morlanwelz",
          "Oupeye",
          "Quaregnon",
          "Saint-Nicolas",
          "Soumagne",
          "Soumagne",
          "Welkenraedt",
          "Zutendaal",
          "Zwevegem",
          "Alveringem",
          "Anhée",
          "Beersel",
          "Beringen",
          "Bernissart",
          "Binche",
          "Binche",
          "Chimay",
          "Chimay",
          "Clavier",
          "Dilbeek",
          "Dour",
          "Estinnes",
          "Floreffe",
          "Grimbergen",
          "Hasselt",
          "Kortrijk",
          "Leopoldsburg",
          "Lessines",
          "Modave",
          "Mons",
          "Mons",
          "Oupeye",
          "Raeren",
          "Sint-Truiden",
          "Tournai",
          "Zuienkerke",
          "Zwevegem",
          "Ans",
          "Ath",
          "Balen",
          "Beloeil",
          "Charleroi",
          "Donceel",
          "Etalle",
          "Fléron",
          "Genappe",
          "Hoogstraten",
          "La Roche-en-Ardenne",
          "Maarkedal",
          "Middelkerke",
          "Namur",
          "Oupeye",
          "Pont-à-Celles",
          "Saint-Ghislain",
          "Sint-Pieters-Leeuw",
          "Somme-Leuze",
          "Ternat",
          "Tournai",
          "Tremelo",
          "Zwevegem",
          "Ardooie",
          "Avelgem",
          "Beauraing",
          "Beauraing",
          "Bernissart",
          "Brunehaut",
          "Comblain-au-Pont",
          "Durbuy",
          "Geetbets",
          "Genappe",
          "Hamois",
          "Hamois",
          "Houyet",
          "Houyet",
          "Ieper",
          "Lanaken",
          "Lens (Hainaut)",
          "Maarkedal",
          "Mons",
          "Morlanwelz",
          "Namur",
          "Nazareth",
          "Neupré",
          "Neupré",
          "Olne",
          "Oreye",
          "Oupeye",
          "Plombières",
          "Quiévrain",
          "Quévy",
          "Ravels",
          "Saint-Hubert",
          "Sankt Vith",
          "Sankt Vith",
          "Verlaine",
          "Virton",
          "Wellen",
          "Alveringem",
          "Anthisnes",
          "Antoing",
          "Bastogne",
          "Beaumont",
          "Bertrix",
          "Burdinne",
          "Büllingen",
          "Cerfontaine",
          "Chaudfontaine",
          "Chièvres",
          "Comines-Warneton",
          "Courcelles",
          "Crisnée",
          "Dalhem",
          "Dalhem",
          "De Haan",
          "Denderleeuw",
          "Dison",
          "Florennes",
          "Frasnes-lez-Anvaing",
          "Gedinne",
          "Gembloux",
          "Genappe",
          "Herve",
          "Heuvelland",
          "Ieper",
          "Kelmis",
          "Kortenaken",
          "Kruibeke",
          "Kruisem",
          "Les Bons Villers",
          "Leuze-en-Hainaut",
          "Lierde",
          "Lierde",
          "Lontzen",
          "Léglise",
          "Maarkedal",
          "Maasmechelen",
          "Mons",
          "Namur",
          "Neufchâteau",
          "Ninove",
          "Nivelles",
          "Ohey",
          "Pepingen",
          "Péruwelz",
          "Rendeux",
          "Roosdaal",
          "Saint-Ghislain",
          "Sint-Laureins",
          "Soignies",
          "Stoumont",
          "Vaux-sur-Sûre",
          "Verviers",
          "Viroinval",
          "Zwevegem"
         ],
         "lat": {
          "bdata": "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",
          "dtype": "f8"
         },
         "legendgroup": "",
         "lon": {
          "bdata": "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",
          "dtype": "f8"
         },
         "marker": {
          "color": "#636efa",
          "size": {
           "bdata": "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",
           "dtype": "i2"
          },
          "sizemode": "area",
          "sizeref": 0.498125
         },
         "mode": "markers",
         "name": "",
         "showlegend": false,
         "subplot": "map",
         "type": "scattermap"
        }
       ],
       "layout": {
        "legend": {
         "itemsizing": "constant",
         "tracegroupgap": 0
        },
        "map": {
         "center": {
          "lat": 50.80900364005497,
          "lon": 4.459735117336441
         },
         "domain": {
          "x": [
           0,
           1
          ],
          "y": [
           0,
           1
          ]
         },
         "style": "open-street-map",
         "zoom": 7
        },
        "mapbox": {
         "center": {
          "lat": 50.80900364005497,
          "lon": 4.459735117336441
         },
         "style": "open-street-map",
         "zoom": 7
        },
        "template": {
         "data": {
          "bar": [
           {
            "error_x": {
             "color": "#2a3f5f"
            },
            "error_y": {
             "color": "#2a3f5f"
            },
            "marker": {
             "line": {
              "color": "#E5ECF6",
              "width": 0.5
             },
             "pattern": {
              "fillmode": "overlay",
              "size": 10,
              "solidity": 0.2
             }
            },
            "type": "bar"
           }
          ],
          "barpolar": [
           {
            "marker": {
             "line": {
              "color": "#E5ECF6",
              "width": 0.5
             },
             "pattern": {
              "fillmode": "overlay",
              "size": 10,
              "solidity": 0.2
             }
            },
            "type": "barpolar"
           }
          ],
          "carpet": [
           {
            "aaxis": {
             "endlinecolor": "#2a3f5f",
             "gridcolor": "white",
             "linecolor": "white",
             "minorgridcolor": "white",
             "startlinecolor": "#2a3f5f"
            },
            "baxis": {
             "endlinecolor": "#2a3f5f",
             "gridcolor": "white",
             "linecolor": "white",
             "minorgridcolor": "white",
             "startlinecolor": "#2a3f5f"
            },
            "type": "carpet"
           }
          ],
          "choropleth": [
           {
            "colorbar": {
             "outlinewidth": 0,
             "ticks": ""
            },
            "type": "choropleth"
           }
          ],
          "contour": [
           {
            "colorbar": {
             "outlinewidth": 0,
             "ticks": ""
            },
            "colorscale": [
             [
              0,
              "#0d0887"
             ],
             [
              0.1111111111111111,
              "#46039f"
             ],
             [
              0.2222222222222222,
              "#7201a8"
             ],
             [
              0.3333333333333333,
              "#9c179e"
             ],
             [
              0.4444444444444444,
              "#bd3786"
             ],
             [
              0.5555555555555556,
              "#d8576b"
             ],
             [
              0.6666666666666666,
              "#ed7953"
             ],
             [
              0.7777777777777778,
              "#fb9f3a"
             ],
             [
              0.8888888888888888,
              "#fdca26"
             ],
             [
              1,
              "#f0f921"
             ]
            ],
            "type": "contour"
           }
          ],
          "contourcarpet": [
           {
            "colorbar": {
             "outlinewidth": 0,
             "ticks": ""
            },
            "type": "contourcarpet"
           }
          ],
          "heatmap": [
           {
            "colorbar": {
             "outlinewidth": 0,
             "ticks": ""
            },
            "colorscale": [
             [
              0,
              "#0d0887"
             ],
             [
              0.1111111111111111,
              "#46039f"
             ],
             [
              0.2222222222222222,
              "#7201a8"
             ],
             [
              0.3333333333333333,
              "#9c179e"
             ],
             [
              0.4444444444444444,
              "#bd3786"
             ],
             [
              0.5555555555555556,
              "#d8576b"
             ],
             [
              0.6666666666666666,
              "#ed7953"
             ],
             [
              0.7777777777777778,
              "#fb9f3a"
             ],
             [
              0.8888888888888888,
              "#fdca26"
             ],
             [
              1,
              "#f0f921"
             ]
            ],
            "type": "heatmap"
           }
          ],
          "histogram": [
           {
            "marker": {
             "pattern": {
              "fillmode": "overlay",
              "size": 10,
              "solidity": 0.2
             }
            },
            "type": "histogram"
           }
          ],
          "histogram2d": [
           {
            "colorbar": {
             "outlinewidth": 0,
             "ticks": ""
            },
            "colorscale": [
             [
              0,
              "#0d0887"
             ],
             [
              0.1111111111111111,
              "#46039f"
             ],
             [
              0.2222222222222222,
              "#7201a8"
             ],
             [
              0.3333333333333333,
              "#9c179e"
             ],
             [
              0.4444444444444444,
              "#bd3786"
             ],
             [
              0.5555555555555556,
              "#d8576b"
             ],
             [
              0.6666666666666666,
              "#ed7953"
             ],
             [
              0.7777777777777778,
              "#fb9f3a"
             ],
             [
              0.8888888888888888,
              "#fdca26"
             ],
             [
              1,
              "#f0f921"
             ]
            ],
            "type": "histogram2d"
           }
          ],
          "histogram2dcontour": [
           {
            "colorbar": {
             "outlinewidth": 0,
             "ticks": ""
            },
            "colorscale": [
             [
              0,
              "#0d0887"
             ],
             [
              0.1111111111111111,
              "#46039f"
             ],
             [
              0.2222222222222222,
              "#7201a8"
             ],
             [
              0.3333333333333333,
              "#9c179e"
             ],
             [
              0.4444444444444444,
              "#bd3786"
             ],
             [
              0.5555555555555556,
              "#d8576b"
             ],
             [
              0.6666666666666666,
              "#ed7953"
             ],
             [
              0.7777777777777778,
              "#fb9f3a"
             ],
             [
              0.8888888888888888,
              "#fdca26"
             ],
             [
              1,
              "#f0f921"
             ]
            ],
            "type": "histogram2dcontour"
           }
          ],
          "mesh3d": [
           {
            "colorbar": {
             "outlinewidth": 0,
             "ticks": ""
            },
            "type": "mesh3d"
           }
          ],
          "parcoords": [
           {
            "line": {
             "colorbar": {
              "outlinewidth": 0,
              "ticks": ""
             }
            },
            "type": "parcoords"
           }
          ],
          "pie": [
           {
            "automargin": true,
            "type": "pie"
           }
          ],
          "scatter": [
           {
            "fillpattern": {
             "fillmode": "overlay",
             "size": 10,
             "solidity": 0.2
            },
            "type": "scatter"
           }
          ],
          "scatter3d": [
           {
            "line": {
             "colorbar": {
              "outlinewidth": 0,
              "ticks": ""
             }
            },
            "marker": {
             "colorbar": {
              "outlinewidth": 0,
              "ticks": ""
             }
            },
            "type": "scatter3d"
           }
          ],
          "scattercarpet": [
           {
            "marker": {
             "colorbar": {
              "outlinewidth": 0,
              "ticks": ""
             }
            },
            "type": "scattercarpet"
           }
          ],
          "scattergeo": [
           {
            "marker": {
             "colorbar": {
              "outlinewidth": 0,
              "ticks": ""
             }
            },
            "type": "scattergeo"
           }
          ],
          "scattergl": [
           {
            "marker": {
             "colorbar": {
              "outlinewidth": 0,
              "ticks": ""
             }
            },
            "type": "scattergl"
           }
          ],
          "scattermap": [
           {
            "marker": {
             "colorbar": {
              "outlinewidth": 0,
              "ticks": ""
             }
            },
            "type": "scattermap"
           }
          ],
          "scattermapbox": [
           {
            "marker": {
             "colorbar": {
              "outlinewidth": 0,
              "ticks": ""
             }
            },
            "type": "scattermapbox"
           }
          ],
          "scatterpolar": [
           {
            "marker": {
             "colorbar": {
              "outlinewidth": 0,
              "ticks": ""
             }
            },
            "type": "scatterpolar"
           }
          ],
          "scatterpolargl": [
           {
            "marker": {
             "colorbar": {
              "outlinewidth": 0,
              "ticks": ""
             }
            },
            "type": "scatterpolargl"
           }
          ],
          "scatterternary": [
           {
            "marker": {
             "colorbar": {
              "outlinewidth": 0,
              "ticks": ""
             }
            },
            "type": "scatterternary"
           }
          ],
          "surface": [
           {
            "colorbar": {
             "outlinewidth": 0,
             "ticks": ""
            },
            "colorscale": [
             [
              0,
              "#0d0887"
             ],
             [
              0.1111111111111111,
              "#46039f"
             ],
             [
              0.2222222222222222,
              "#7201a8"
             ],
             [
              0.3333333333333333,
              "#9c179e"
             ],
             [
              0.4444444444444444,
              "#bd3786"
             ],
             [
              0.5555555555555556,
              "#d8576b"
             ],
             [
              0.6666666666666666,
              "#ed7953"
             ],
             [
              0.7777777777777778,
              "#fb9f3a"
             ],
             [
              0.8888888888888888,
              "#fdca26"
             ],
             [
              1,
              "#f0f921"
             ]
            ],
            "type": "surface"
           }
          ],
          "table": [
           {
            "cells": {
             "fill": {
              "color": "#EBF0F8"
             },
             "line": {
              "color": "white"
             }
            },
            "header": {
             "fill": {
              "color": "#C8D4E3"
             },
             "line": {
              "color": "white"
             }
            },
            "type": "table"
           }
          ]
         },
         "layout": {
          "annotationdefaults": {
           "arrowcolor": "#2a3f5f",
           "arrowhead": 0,
           "arrowwidth": 1
          },
          "autotypenumbers": "strict",
          "coloraxis": {
           "colorbar": {
            "outlinewidth": 0,
            "ticks": ""
           }
          },
          "colorscale": {
           "diverging": [
            [
             0,
             "#8e0152"
            ],
            [
             0.1,
             "#c51b7d"
            ],
            [
             0.2,
             "#de77ae"
            ],
            [
             0.3,
             "#f1b6da"
            ],
            [
             0.4,
             "#fde0ef"
            ],
            [
             0.5,
             "#f7f7f7"
            ],
            [
             0.6,
             "#e6f5d0"
            ],
            [
             0.7,
             "#b8e186"
            ],
            [
             0.8,
             "#7fbc41"
            ],
            [
             0.9,
             "#4d9221"
            ],
            [
             1,
             "#276419"
            ]
           ],
           "sequential": [
            [
             0,
             "#0d0887"
            ],
            [
             0.1111111111111111,
             "#46039f"
            ],
            [
             0.2222222222222222,
             "#7201a8"
            ],
            [
             0.3333333333333333,
             "#9c179e"
            ],
            [
             0.4444444444444444,
             "#bd3786"
            ],
            [
             0.5555555555555556,
             "#d8576b"
            ],
            [
             0.6666666666666666,
             "#ed7953"
            ],
            [
             0.7777777777777778,
             "#fb9f3a"
            ],
            [
             0.8888888888888888,
             "#fdca26"
            ],
            [
             1,
             "#f0f921"
            ]
           ],
           "sequentialminus": [
            [
             0,
             "#0d0887"
            ],
            [
             0.1111111111111111,
             "#46039f"
            ],
            [
             0.2222222222222222,
             "#7201a8"
            ],
            [
             0.3333333333333333,
             "#9c179e"
            ],
            [
             0.4444444444444444,
             "#bd3786"
            ],
            [
             0.5555555555555556,
             "#d8576b"
            ],
            [
             0.6666666666666666,
             "#ed7953"
            ],
            [
             0.7777777777777778,
             "#fb9f3a"
            ],
            [
             0.8888888888888888,
             "#fdca26"
            ],
            [
             1,
             "#f0f921"
            ]
           ]
          },
          "colorway": [
           "#636efa",
           "#EF553B",
           "#00cc96",
           "#ab63fa",
           "#FFA15A",
           "#19d3f3",
           "#FF6692",
           "#B6E880",
           "#FF97FF",
           "#FECB52"
          ],
          "font": {
           "color": "#2a3f5f"
          },
          "geo": {
           "bgcolor": "white",
           "lakecolor": "white",
           "landcolor": "#E5ECF6",
           "showlakes": true,
           "showland": true,
           "subunitcolor": "white"
          },
          "hoverlabel": {
           "align": "left"
          },
          "hovermode": "closest",
          "mapbox": {
           "style": "light"
          },
          "paper_bgcolor": "white",
          "plot_bgcolor": "#E5ECF6",
          "polar": {
           "angularaxis": {
            "gridcolor": "white",
            "linecolor": "white",
            "ticks": ""
           },
           "bgcolor": "#E5ECF6",
           "radialaxis": {
            "gridcolor": "white",
            "linecolor": "white",
            "ticks": ""
           }
          },
          "scene": {
           "xaxis": {
            "backgroundcolor": "#E5ECF6",
            "gridcolor": "white",
            "gridwidth": 2,
            "linecolor": "white",
            "showbackground": true,
            "ticks": "",
            "zerolinecolor": "white"
           },
           "yaxis": {
            "backgroundcolor": "#E5ECF6",
            "gridcolor": "white",
            "gridwidth": 2,
            "linecolor": "white",
            "showbackground": true,
            "ticks": "",
            "zerolinecolor": "white"
           },
           "zaxis": {
            "backgroundcolor": "#E5ECF6",
            "gridcolor": "white",
            "gridwidth": 2,
            "linecolor": "white",
            "showbackground": true,
            "ticks": "",
            "zerolinecolor": "white"
           }
          },
          "shapedefaults": {
           "line": {
            "color": "#2a3f5f"
           }
          },
          "ternary": {
           "aaxis": {
            "gridcolor": "white",
            "linecolor": "white",
            "ticks": ""
           },
           "baxis": {
            "gridcolor": "white",
            "linecolor": "white",
            "ticks": ""
           },
           "bgcolor": "#E5ECF6",
           "caxis": {
            "gridcolor": "white",
            "linecolor": "white",
            "ticks": ""
           }
          },
          "title": {
           "x": 0.05
          },
          "xaxis": {
           "automargin": true,
           "gridcolor": "white",
           "linecolor": "white",
           "ticks": "",
           "title": {
            "standoff": 15
           },
           "zerolinecolor": "white",
           "zerolinewidth": 2
          },
          "yaxis": {
           "automargin": true,
           "gridcolor": "white",
           "linecolor": "white",
           "ticks": "",
           "title": {
            "standoff": 15
           },
           "zerolinecolor": "white",
           "zerolinewidth": 2
          }
         }
        },
        "title": {
         "text": "Administrative and support service activities Business Clusters"
        }
       }
      }
     },
     "metadata": {},
     "output_type": "display_data"
    }
   ],
   "source": [
    "\n",
    "sectors_to_highlight = ['Professional, scientific and technical activities',\n",
    "    'Wholesale and retail trade',\n",
    "    'Administrative and support service activities']\n",
    "\n",
    "for sector in sectors_to_highlight:\n",
    "    sector_df = df[df['sector'] == sector]\n",
    "    fig = px.scatter_map(\n",
    "        sector_df,\n",
    "        lat='latitude',\n",
    "        lon='longitude', \n",
    "        size='company_count',\n",
    "        hover_name='Municipality',\n",
    "        size_max=40,\n",
    "        zoom=7,\n",
    "        map_style='open-street-map',  \n",
    "        title=f'{sector} Business Clusters'\n",
    "    )\n",
    "    fig.show()\n",
    "    fig.write_image(f\"belgium_{sector.lower().replace(' ', '_')}_hotspots.png\", \n",
    "                   width=800, height=600, scale=2)\n",
    "    "
   ]
  },
  {
   "cell_type": "code",
   "execution_count": 125,
   "id": "5c95e11a",
   "metadata": {},
   "outputs": [
    {
     "name": "stdout",
     "output_type": "stream",
     "text": [
      "    Municipality                          Region  company_count\n",
      "87       Brussel  Brussels Hoofdstedelijk Gewest          14878\n",
      "17     Antwerpen                   Vlaams Gewest          12332\n",
      "143       Elsene  Brussels Hoofdstedelijk Gewest           7332\n",
      "185         Gent                   Vlaams Gewest           6038\n",
      "319        Liège                    Waals Gewest           4159\n",
      "509        Ukkel  Brussels Hoofdstedelijk Gewest           3343\n",
      "303       Leuven                   Vlaams Gewest           2864\n",
      "154    Etterbeek  Brussels Hoofdstedelijk Gewest           2624\n",
      "211      Hasselt                   Vlaams Gewest           2437\n",
      "85        Brugge                   Vlaams Gewest           2271\n"
     ]
    }
   ],
   "source": [
    "\n",
    "top_cities = df.groupby(['Municipality', 'Region'])['company_count'].sum().reset_index()\n",
    "top_cities = top_cities.sort_values('company_count', ascending=False).head(10)\n",
    "print(top_cities[['Municipality', 'Region', 'company_count']])"
   ]
  },
  {
   "cell_type": "code",
   "execution_count": 126,
   "id": "cabb2332",
   "metadata": {},
   "outputs": [
    {
     "data": {
      "application/vnd.plotly.v1+json": {
       "config": {
        "plotlyServerURL": "https://plot.ly"
       },
       "data": [
        {
         "hovertemplate": "Region=Brussels Hoofdstedelijk Gewest<br>Number of Companies=%{x}<br>City=%{y}<extra></extra>",
         "legendgroup": "Brussels Hoofdstedelijk Gewest",
         "marker": {
          "color": "rgb(141,211,199)",
          "pattern": {
           "shape": ""
          }
         },
         "name": "Brussels Hoofdstedelijk Gewest",
         "orientation": "h",
         "showlegend": true,
         "textposition": "auto",
         "type": "bar",
         "x": {
          "bdata": "HjqkHA8NQAo=",
          "dtype": "i2"
         },
         "xaxis": "x",
         "y": [
          "Brussel",
          "Elsene",
          "Ukkel",
          "Etterbeek"
         ],
         "yaxis": "y"
        },
        {
         "hovertemplate": "Region=Vlaams Gewest<br>Number of Companies=%{x}<br>City=%{y}<extra></extra>",
         "legendgroup": "Vlaams Gewest",
         "marker": {
          "color": "rgb(255,255,179)",
          "pattern": {
           "shape": ""
          }
         },
         "name": "Vlaams Gewest",
         "orientation": "h",
         "showlegend": true,
         "textposition": "auto",
         "type": "bar",
         "x": {
          "bdata": "LDCWFzALhQnfCA==",
          "dtype": "i2"
         },
         "xaxis": "x",
         "y": [
          "Antwerpen",
          "Gent",
          "Leuven",
          "Hasselt",
          "Brugge"
         ],
         "yaxis": "y"
        },
        {
         "hovertemplate": "Region=Waals Gewest<br>Number of Companies=%{x}<br>City=%{y}<extra></extra>",
         "legendgroup": "Waals Gewest",
         "marker": {
          "color": "rgb(190,186,218)",
          "pattern": {
           "shape": ""
          }
         },
         "name": "Waals Gewest",
         "orientation": "h",
         "showlegend": true,
         "textposition": "auto",
         "type": "bar",
         "x": {
          "bdata": "PxA=",
          "dtype": "i2"
         },
         "xaxis": "x",
         "y": [
          "Liège"
         ],
         "yaxis": "y"
        }
       ],
       "layout": {
        "barmode": "relative",
        "height": 500,
        "legend": {
         "orientation": "h",
         "title": {
          "text": "Region"
         },
         "tracegroupgap": 0,
         "x": 0.5,
         "xanchor": "center",
         "y": -0.2,
         "yanchor": "top"
        },
        "template": {
         "data": {
          "bar": [
           {
            "error_x": {
             "color": "#2a3f5f"
            },
            "error_y": {
             "color": "#2a3f5f"
            },
            "marker": {
             "line": {
              "color": "#E5ECF6",
              "width": 0.5
             },
             "pattern": {
              "fillmode": "overlay",
              "size": 10,
              "solidity": 0.2
             }
            },
            "type": "bar"
           }
          ],
          "barpolar": [
           {
            "marker": {
             "line": {
              "color": "#E5ECF6",
              "width": 0.5
             },
             "pattern": {
              "fillmode": "overlay",
              "size": 10,
              "solidity": 0.2
             }
            },
            "type": "barpolar"
           }
          ],
          "carpet": [
           {
            "aaxis": {
             "endlinecolor": "#2a3f5f",
             "gridcolor": "white",
             "linecolor": "white",
             "minorgridcolor": "white",
             "startlinecolor": "#2a3f5f"
            },
            "baxis": {
             "endlinecolor": "#2a3f5f",
             "gridcolor": "white",
             "linecolor": "white",
             "minorgridcolor": "white",
             "startlinecolor": "#2a3f5f"
            },
            "type": "carpet"
           }
          ],
          "choropleth": [
           {
            "colorbar": {
             "outlinewidth": 0,
             "ticks": ""
            },
            "type": "choropleth"
           }
          ],
          "contour": [
           {
            "colorbar": {
             "outlinewidth": 0,
             "ticks": ""
            },
            "colorscale": [
             [
              0,
              "#0d0887"
             ],
             [
              0.1111111111111111,
              "#46039f"
             ],
             [
              0.2222222222222222,
              "#7201a8"
             ],
             [
              0.3333333333333333,
              "#9c179e"
             ],
             [
              0.4444444444444444,
              "#bd3786"
             ],
             [
              0.5555555555555556,
              "#d8576b"
             ],
             [
              0.6666666666666666,
              "#ed7953"
             ],
             [
              0.7777777777777778,
              "#fb9f3a"
             ],
             [
              0.8888888888888888,
              "#fdca26"
             ],
             [
              1,
              "#f0f921"
             ]
            ],
            "type": "contour"
           }
          ],
          "contourcarpet": [
           {
            "colorbar": {
             "outlinewidth": 0,
             "ticks": ""
            },
            "type": "contourcarpet"
           }
          ],
          "heatmap": [
           {
            "colorbar": {
             "outlinewidth": 0,
             "ticks": ""
            },
            "colorscale": [
             [
              0,
              "#0d0887"
             ],
             [
              0.1111111111111111,
              "#46039f"
             ],
             [
              0.2222222222222222,
              "#7201a8"
             ],
             [
              0.3333333333333333,
              "#9c179e"
             ],
             [
              0.4444444444444444,
              "#bd3786"
             ],
             [
              0.5555555555555556,
              "#d8576b"
             ],
             [
              0.6666666666666666,
              "#ed7953"
             ],
             [
              0.7777777777777778,
              "#fb9f3a"
             ],
             [
              0.8888888888888888,
              "#fdca26"
             ],
             [
              1,
              "#f0f921"
             ]
            ],
            "type": "heatmap"
           }
          ],
          "histogram": [
           {
            "marker": {
             "pattern": {
              "fillmode": "overlay",
              "size": 10,
              "solidity": 0.2
             }
            },
            "type": "histogram"
           }
          ],
          "histogram2d": [
           {
            "colorbar": {
             "outlinewidth": 0,
             "ticks": ""
            },
            "colorscale": [
             [
              0,
              "#0d0887"
             ],
             [
              0.1111111111111111,
              "#46039f"
             ],
             [
              0.2222222222222222,
              "#7201a8"
             ],
             [
              0.3333333333333333,
              "#9c179e"
             ],
             [
              0.4444444444444444,
              "#bd3786"
             ],
             [
              0.5555555555555556,
              "#d8576b"
             ],
             [
              0.6666666666666666,
              "#ed7953"
             ],
             [
              0.7777777777777778,
              "#fb9f3a"
             ],
             [
              0.8888888888888888,
              "#fdca26"
             ],
             [
              1,
              "#f0f921"
             ]
            ],
            "type": "histogram2d"
           }
          ],
          "histogram2dcontour": [
           {
            "colorbar": {
             "outlinewidth": 0,
             "ticks": ""
            },
            "colorscale": [
             [
              0,
              "#0d0887"
             ],
             [
              0.1111111111111111,
              "#46039f"
             ],
             [
              0.2222222222222222,
              "#7201a8"
             ],
             [
              0.3333333333333333,
              "#9c179e"
             ],
             [
              0.4444444444444444,
              "#bd3786"
             ],
             [
              0.5555555555555556,
              "#d8576b"
             ],
             [
              0.6666666666666666,
              "#ed7953"
             ],
             [
              0.7777777777777778,
              "#fb9f3a"
             ],
             [
              0.8888888888888888,
              "#fdca26"
             ],
             [
              1,
              "#f0f921"
             ]
            ],
            "type": "histogram2dcontour"
           }
          ],
          "mesh3d": [
           {
            "colorbar": {
             "outlinewidth": 0,
             "ticks": ""
            },
            "type": "mesh3d"
           }
          ],
          "parcoords": [
           {
            "line": {
             "colorbar": {
              "outlinewidth": 0,
              "ticks": ""
             }
            },
            "type": "parcoords"
           }
          ],
          "pie": [
           {
            "automargin": true,
            "type": "pie"
           }
          ],
          "scatter": [
           {
            "fillpattern": {
             "fillmode": "overlay",
             "size": 10,
             "solidity": 0.2
            },
            "type": "scatter"
           }
          ],
          "scatter3d": [
           {
            "line": {
             "colorbar": {
              "outlinewidth": 0,
              "ticks": ""
             }
            },
            "marker": {
             "colorbar": {
              "outlinewidth": 0,
              "ticks": ""
             }
            },
            "type": "scatter3d"
           }
          ],
          "scattercarpet": [
           {
            "marker": {
             "colorbar": {
              "outlinewidth": 0,
              "ticks": ""
             }
            },
            "type": "scattercarpet"
           }
          ],
          "scattergeo": [
           {
            "marker": {
             "colorbar": {
              "outlinewidth": 0,
              "ticks": ""
             }
            },
            "type": "scattergeo"
           }
          ],
          "scattergl": [
           {
            "marker": {
             "colorbar": {
              "outlinewidth": 0,
              "ticks": ""
             }
            },
            "type": "scattergl"
           }
          ],
          "scattermap": [
           {
            "marker": {
             "colorbar": {
              "outlinewidth": 0,
              "ticks": ""
             }
            },
            "type": "scattermap"
           }
          ],
          "scattermapbox": [
           {
            "marker": {
             "colorbar": {
              "outlinewidth": 0,
              "ticks": ""
             }
            },
            "type": "scattermapbox"
           }
          ],
          "scatterpolar": [
           {
            "marker": {
             "colorbar": {
              "outlinewidth": 0,
              "ticks": ""
             }
            },
            "type": "scatterpolar"
           }
          ],
          "scatterpolargl": [
           {
            "marker": {
             "colorbar": {
              "outlinewidth": 0,
              "ticks": ""
             }
            },
            "type": "scatterpolargl"
           }
          ],
          "scatterternary": [
           {
            "marker": {
             "colorbar": {
              "outlinewidth": 0,
              "ticks": ""
             }
            },
            "type": "scatterternary"
           }
          ],
          "surface": [
           {
            "colorbar": {
             "outlinewidth": 0,
             "ticks": ""
            },
            "colorscale": [
             [
              0,
              "#0d0887"
             ],
             [
              0.1111111111111111,
              "#46039f"
             ],
             [
              0.2222222222222222,
              "#7201a8"
             ],
             [
              0.3333333333333333,
              "#9c179e"
             ],
             [
              0.4444444444444444,
              "#bd3786"
             ],
             [
              0.5555555555555556,
              "#d8576b"
             ],
             [
              0.6666666666666666,
              "#ed7953"
             ],
             [
              0.7777777777777778,
              "#fb9f3a"
             ],
             [
              0.8888888888888888,
              "#fdca26"
             ],
             [
              1,
              "#f0f921"
             ]
            ],
            "type": "surface"
           }
          ],
          "table": [
           {
            "cells": {
             "fill": {
              "color": "#EBF0F8"
             },
             "line": {
              "color": "white"
             }
            },
            "header": {
             "fill": {
              "color": "#C8D4E3"
             },
             "line": {
              "color": "white"
             }
            },
            "type": "table"
           }
          ]
         },
         "layout": {
          "annotationdefaults": {
           "arrowcolor": "#2a3f5f",
           "arrowhead": 0,
           "arrowwidth": 1
          },
          "autotypenumbers": "strict",
          "coloraxis": {
           "colorbar": {
            "outlinewidth": 0,
            "ticks": ""
           }
          },
          "colorscale": {
           "diverging": [
            [
             0,
             "#8e0152"
            ],
            [
             0.1,
             "#c51b7d"
            ],
            [
             0.2,
             "#de77ae"
            ],
            [
             0.3,
             "#f1b6da"
            ],
            [
             0.4,
             "#fde0ef"
            ],
            [
             0.5,
             "#f7f7f7"
            ],
            [
             0.6,
             "#e6f5d0"
            ],
            [
             0.7,
             "#b8e186"
            ],
            [
             0.8,
             "#7fbc41"
            ],
            [
             0.9,
             "#4d9221"
            ],
            [
             1,
             "#276419"
            ]
           ],
           "sequential": [
            [
             0,
             "#0d0887"
            ],
            [
             0.1111111111111111,
             "#46039f"
            ],
            [
             0.2222222222222222,
             "#7201a8"
            ],
            [
             0.3333333333333333,
             "#9c179e"
            ],
            [
             0.4444444444444444,
             "#bd3786"
            ],
            [
             0.5555555555555556,
             "#d8576b"
            ],
            [
             0.6666666666666666,
             "#ed7953"
            ],
            [
             0.7777777777777778,
             "#fb9f3a"
            ],
            [
             0.8888888888888888,
             "#fdca26"
            ],
            [
             1,
             "#f0f921"
            ]
           ],
           "sequentialminus": [
            [
             0,
             "#0d0887"
            ],
            [
             0.1111111111111111,
             "#46039f"
            ],
            [
             0.2222222222222222,
             "#7201a8"
            ],
            [
             0.3333333333333333,
             "#9c179e"
            ],
            [
             0.4444444444444444,
             "#bd3786"
            ],
            [
             0.5555555555555556,
             "#d8576b"
            ],
            [
             0.6666666666666666,
             "#ed7953"
            ],
            [
             0.7777777777777778,
             "#fb9f3a"
            ],
            [
             0.8888888888888888,
             "#fdca26"
            ],
            [
             1,
             "#f0f921"
            ]
           ]
          },
          "colorway": [
           "#636efa",
           "#EF553B",
           "#00cc96",
           "#ab63fa",
           "#FFA15A",
           "#19d3f3",
           "#FF6692",
           "#B6E880",
           "#FF97FF",
           "#FECB52"
          ],
          "font": {
           "color": "#2a3f5f"
          },
          "geo": {
           "bgcolor": "white",
           "lakecolor": "white",
           "landcolor": "#E5ECF6",
           "showlakes": true,
           "showland": true,
           "subunitcolor": "white"
          },
          "hoverlabel": {
           "align": "left"
          },
          "hovermode": "closest",
          "mapbox": {
           "style": "light"
          },
          "paper_bgcolor": "white",
          "plot_bgcolor": "#E5ECF6",
          "polar": {
           "angularaxis": {
            "gridcolor": "white",
            "linecolor": "white",
            "ticks": ""
           },
           "bgcolor": "#E5ECF6",
           "radialaxis": {
            "gridcolor": "white",
            "linecolor": "white",
            "ticks": ""
           }
          },
          "scene": {
           "xaxis": {
            "backgroundcolor": "#E5ECF6",
            "gridcolor": "white",
            "gridwidth": 2,
            "linecolor": "white",
            "showbackground": true,
            "ticks": "",
            "zerolinecolor": "white"
           },
           "yaxis": {
            "backgroundcolor": "#E5ECF6",
            "gridcolor": "white",
            "gridwidth": 2,
            "linecolor": "white",
            "showbackground": true,
            "ticks": "",
            "zerolinecolor": "white"
           },
           "zaxis": {
            "backgroundcolor": "#E5ECF6",
            "gridcolor": "white",
            "gridwidth": 2,
            "linecolor": "white",
            "showbackground": true,
            "ticks": "",
            "zerolinecolor": "white"
           }
          },
          "shapedefaults": {
           "line": {
            "color": "#2a3f5f"
           }
          },
          "ternary": {
           "aaxis": {
            "gridcolor": "white",
            "linecolor": "white",
            "ticks": ""
           },
           "baxis": {
            "gridcolor": "white",
            "linecolor": "white",
            "ticks": ""
           },
           "bgcolor": "#E5ECF6",
           "caxis": {
            "gridcolor": "white",
            "linecolor": "white",
            "ticks": ""
           }
          },
          "title": {
           "x": 0.05
          },
          "xaxis": {
           "automargin": true,
           "gridcolor": "white",
           "linecolor": "white",
           "ticks": "",
           "title": {
            "standoff": 15
           },
           "zerolinecolor": "white",
           "zerolinewidth": 2
          },
          "yaxis": {
           "automargin": true,
           "gridcolor": "white",
           "linecolor": "white",
           "ticks": "",
           "title": {
            "standoff": 15
           },
           "zerolinecolor": "white",
           "zerolinewidth": 2
          }
         }
        },
        "title": {
         "text": "Top 10 BV Municipalities – Technical Activities, Trade, Admin Support"
        },
        "width": 800,
        "xaxis": {
         "anchor": "y",
         "domain": [
          0,
          1
         ],
         "title": {
          "text": "Number of Companies(BV)"
         }
        },
        "yaxis": {
         "anchor": "x",
         "categoryorder": "total ascending",
         "domain": [
          0,
          1
         ],
         "title": {
          "text": "Municipality"
         }
        }
       }
      }
     },
     "metadata": {},
     "output_type": "display_data"
    }
   ],
   "source": [
    "import plotly.express as px\n",
    "\n",
    "fig = px.bar(\n",
    "    top_cities,\n",
    "    x='company_count',\n",
    "    y='Municipality',\n",
    "    color='Region',\n",
    "    orientation='h',\n",
    "    title='Top 10 BV Municipalities – Technical Activities, Trade, Admin Support',\n",
    "    labels={'company_count': 'Number of Companies', 'Municipality': 'City'},\n",
    "    height=500,\n",
    "    width=800,\n",
    "    color_discrete_sequence=px.colors.qualitative.Set3,\n",
    ")\n",
    "\n",
    "fig.update_layout(\n",
    "    yaxis={'categoryorder':'total ascending'},\n",
    "    xaxis_title='Number of Companies(BV)',\n",
    "    yaxis_title='Municipality',\n",
    "    legend=dict(\n",
    "        orientation=\"h\",      \n",
    "        yanchor=\"top\",        \n",
    "        y=-0.2,                \n",
    "        xanchor=\"center\",     \n",
    "        x=0.5                 \n",
    "    ),\n",
    ")\n",
    "\n",
    "fig.show()\n",
    "\n",
    "\n"
   ]
  },
  {
   "cell_type": "code",
   "execution_count": 127,
   "id": "ade5e056",
   "metadata": {},
   "outputs": [
    {
     "name": "stdout",
     "output_type": "stream",
     "text": [
      "   year                                             sector  count\n",
      "0  2015  Professional, scientific and technical activities   2676\n",
      "1  2015                         Wholesale and retail trade   1821\n",
      "2  2015                                       Construction   1773\n",
      "3  2015      Administrative and support service activities    736\n",
      "4  2015                                      Manufacturing    672\n",
      "5  2015                         Transportation and storage    285\n",
      "6  2016  Professional, scientific and technical activities   3097\n",
      "7  2016                                       Construction   1995\n",
      "8  2016                         Wholesale and retail trade   1994\n",
      "9  2016      Administrative and support service activities    855\n"
     ]
    }
   ],
   "source": [
    "q = \"\"\"SELECT \n",
    "    strftime('%Y', DATE(substr(e.StartDate, 7, 4) || '-' || substr(e.StartDate, 4, 2) || '-' || substr(e.StartDate, 1, 2))) AS year,\n",
    "    n.description AS sector,\n",
    "    COUNT(*) AS count\n",
    "FROM enterprise AS e\n",
    "JOIN activity_lable_cleaned AS a ON e.EnterpriseNumber = a.EntityNumber\n",
    "JOIN nace_section AS n ON a.nace_section = n.section\n",
    "JOIN JuridicalForm AS j ON e.JuridicalForm = j.code\n",
    "WHERE DATE(substr(e.StartDate, 7, 4) || '-' || substr(e.StartDate, 4, 2) || '-' || substr(e.StartDate, 1, 2)) >= '2015-01-01'\n",
    "  AND a.Classification = 'MAIN'\n",
    "  AND j.description_nl = 'Besloten Vennootschap'\n",
    "  AND n.description IN (\n",
    "    'Professional, scientific and technical activities',\n",
    "    'Wholesale and retail trade',\n",
    "    'Administrative and support service activities',\n",
    "    'Manufacturing',\n",
    "    'Transportation and storage',\n",
    "    'Construction'\n",
    "  )\n",
    "  AND NOT (\n",
    "    strftime('%Y', DATE(substr(e.StartDate, 7, 4) || '-' || substr(e.StartDate, 4, 2) || '-' || substr(e.StartDate, 1, 2))) = '2025'\n",
    "\n",
    "  )\n",
    "GROUP BY year, sector\n",
    "ORDER BY year, count DESC;\"\"\"\n",
    "\n",
    "\n",
    "df = pd.read_sql_query(q, connect)\n",
    "\n",
    "print(df.head(10))\n"
   ]
  },
  {
   "cell_type": "code",
   "execution_count": 128,
   "id": "e8a8baed",
   "metadata": {},
   "outputs": [
    {
     "name": "stdout",
     "output_type": "stream",
     "text": [
      "sector\n",
      "Professional, scientific and technical activities    58799\n",
      "Construction                                         41222\n",
      "Wholesale and retail trade                           31090\n",
      "Administrative and support service activities        16083\n",
      "Manufacturing                                        12028\n",
      "Transportation and storage                            8216\n",
      "Name: count, dtype: int64\n"
     ]
    }
   ],
   "source": [
    "print(df.groupby('sector')['count'].sum().sort_values(ascending=False))\n"
   ]
  },
  {
   "cell_type": "code",
   "execution_count": 129,
   "id": "f3bb1634",
   "metadata": {},
   "outputs": [
    {
     "data": {
      "application/vnd.plotly.v1+json": {
       "config": {
        "plotlyServerURL": "https://plot.ly"
       },
       "data": [
        {
         "hovertemplate": "sector=Administrative and support service activities<br>year=%{x}<br>growth_pct=%{y}<extra></extra>",
         "legendgroup": "Administrative and support service activities",
         "line": {
          "color": "rgb(141,211,199)",
          "dash": "solid"
         },
         "marker": {
          "symbol": "circle"
         },
         "mode": "lines+markers",
         "name": "Administrative and support service activities",
         "orientation": "v",
         "showlegend": true,
         "type": "scatter",
         "x": {
          "bdata": "4AfhB+IH4wfkB+UH5gfnB+gH",
          "dtype": "i2"
         },
         "xaxis": "x",
         "y": {
          "bdata": "joUsZCErMECauYzmMpobQB5COtiOeSNAHk/ei5SuRkD0gT7+DNMvQMqDAWdcizZAtve0+Hx7L0CwtoXMSbH0P7p6Q6D89xBA",
          "dtype": "f8"
         },
         "yaxis": "y"
        },
        {
         "hovertemplate": "sector=Construction<br>year=%{x}<br>growth_pct=%{y}<extra></extra>",
         "legendgroup": "Construction",
         "line": {
          "color": "rgb(255,255,179)",
          "dash": "solid"
         },
         "marker": {
          "symbol": "circle"
         },
         "mode": "lines+markers",
         "name": "Construction",
         "orientation": "v",
         "showlegend": true,
         "type": "scatter",
         "x": {
          "bdata": "4AfhB+IH4wfkB+UH5gfnB+gH",
          "dtype": "i2"
         },
         "xaxis": "x",
         "y": {
          "bdata": "+rgbQNQKKUD6kAJEChAZQM4hNcF4KytAncPCZ171SECrabOLA8NEQKVFCof17DNAKk5uUDU8AcCaPwowkSgOQAMiWbJa9BbA",
          "dtype": "f8"
         },
         "yaxis": "y"
        },
        {
         "hovertemplate": "sector=Manufacturing<br>year=%{x}<br>growth_pct=%{y}<extra></extra>",
         "legendgroup": "Manufacturing",
         "line": {
          "color": "rgb(190,186,218)",
          "dash": "solid"
         },
         "marker": {
          "symbol": "circle"
         },
         "mode": "lines+markers",
         "name": "Manufacturing",
         "orientation": "v",
         "showlegend": true,
         "type": "scatter",
         "x": {
          "bdata": "4AfhB+IH4wfkB+UH5gfnB+gH",
          "dtype": "i2"
         },
         "xaxis": "x",
         "y": {
          "bdata": "OkmSJEmSDEC0Q7/ZOvQgQMZ74b3wXihAFHeqdCISREB2+IBOXJwpQDjUXjDZsDlAc+3dn6fGEsDARx9fO/PjPyBnTRRA2vA/",
          "dtype": "f8"
         },
         "yaxis": "y"
        },
        {
         "hovertemplate": "sector=Professional, scientific and technical activities<br>year=%{x}<br>growth_pct=%{y}<extra></extra>",
         "legendgroup": "Professional, scientific and technical activities",
         "line": {
          "color": "rgb(251,128,114)",
          "dash": "solid"
         },
         "marker": {
          "symbol": "circle"
         },
         "mode": "lines+markers",
         "name": "Professional, scientific and technical activities",
         "orientation": "v",
         "showlegend": true,
         "type": "scatter",
         "x": {
          "bdata": "4AfhB+IH4wfkB+UH5gfnB+gH",
          "dtype": "i2"
         },
         "xaxis": "x",
         "y": {
          "bdata": "D0HO6QF3L0DBEZHttpMdQEbAYfvhvDVAmhOqHit2Q0BiZmZmZmYuQK9IGXi6NTJA7GKU3s00IUBPIbtBWDQVQAAT0EpAK+E/",
          "dtype": "f8"
         },
         "yaxis": "y"
        },
        {
         "hovertemplate": "sector=Transportation and storage<br>year=%{x}<br>growth_pct=%{y}<extra></extra>",
         "legendgroup": "Transportation and storage",
         "line": {
          "color": "rgb(128,177,211)",
          "dash": "solid"
         },
         "marker": {
          "symbol": "circle"
         },
         "mode": "lines+markers",
         "name": "Transportation and storage",
         "orientation": "v",
         "showlegend": true,
         "type": "scatter",
         "x": {
          "bdata": "4AfhB+IH4wfkB+UH5gfnB+gH",
          "dtype": "i2"
         },
         "xaxis": "x",
         "y": {
          "bdata": "dRbTWUxnNUBAEx/33VIsQNORPQNR6UZAVlVVVVV9QkB2gjb4t+UcQPhBNRhojEBA1j6yqD+8BkCEhcZV6noiQBwLWchCFipA",
          "dtype": "f8"
         },
         "yaxis": "y"
        },
        {
         "hovertemplate": "sector=Wholesale and retail trade<br>year=%{x}<br>growth_pct=%{y}<extra></extra>",
         "legendgroup": "Wholesale and retail trade",
         "line": {
          "color": "rgb(253,180,98)",
          "dash": "solid"
         },
         "marker": {
          "symbol": "circle"
         },
         "mode": "lines+markers",
         "name": "Wholesale and retail trade",
         "orientation": "v",
         "showlegend": true,
         "type": "scatter",
         "x": {
          "bdata": "4AfhB+IH4wfkB+UH5gfnB+gH",
          "dtype": "i2"
         },
         "xaxis": "x",
         "y": {
          "bdata": "QDgw/SMAI0Awgo4xUwzgPwajHe628glA7ZmU04qmQEBpKaviSWY/QNaaFvi1JjdAJPr5pu8yKMASMwa7OhQeQICDgXnjRqi/",
          "dtype": "f8"
         },
         "yaxis": "y"
        }
       ],
       "layout": {
        "height": 650,
        "legend": {
         "orientation": "h",
         "title": {
          "text": "sector"
         },
         "tracegroupgap": 0,
         "x": 0.5,
         "xanchor": "center",
         "y": -0.1,
         "yanchor": "top"
        },
        "template": {
         "data": {
          "bar": [
           {
            "error_x": {
             "color": "#2a3f5f"
            },
            "error_y": {
             "color": "#2a3f5f"
            },
            "marker": {
             "line": {
              "color": "#E5ECF6",
              "width": 0.5
             },
             "pattern": {
              "fillmode": "overlay",
              "size": 10,
              "solidity": 0.2
             }
            },
            "type": "bar"
           }
          ],
          "barpolar": [
           {
            "marker": {
             "line": {
              "color": "#E5ECF6",
              "width": 0.5
             },
             "pattern": {
              "fillmode": "overlay",
              "size": 10,
              "solidity": 0.2
             }
            },
            "type": "barpolar"
           }
          ],
          "carpet": [
           {
            "aaxis": {
             "endlinecolor": "#2a3f5f",
             "gridcolor": "white",
             "linecolor": "white",
             "minorgridcolor": "white",
             "startlinecolor": "#2a3f5f"
            },
            "baxis": {
             "endlinecolor": "#2a3f5f",
             "gridcolor": "white",
             "linecolor": "white",
             "minorgridcolor": "white",
             "startlinecolor": "#2a3f5f"
            },
            "type": "carpet"
           }
          ],
          "choropleth": [
           {
            "colorbar": {
             "outlinewidth": 0,
             "ticks": ""
            },
            "type": "choropleth"
           }
          ],
          "contour": [
           {
            "colorbar": {
             "outlinewidth": 0,
             "ticks": ""
            },
            "colorscale": [
             [
              0,
              "#0d0887"
             ],
             [
              0.1111111111111111,
              "#46039f"
             ],
             [
              0.2222222222222222,
              "#7201a8"
             ],
             [
              0.3333333333333333,
              "#9c179e"
             ],
             [
              0.4444444444444444,
              "#bd3786"
             ],
             [
              0.5555555555555556,
              "#d8576b"
             ],
             [
              0.6666666666666666,
              "#ed7953"
             ],
             [
              0.7777777777777778,
              "#fb9f3a"
             ],
             [
              0.8888888888888888,
              "#fdca26"
             ],
             [
              1,
              "#f0f921"
             ]
            ],
            "type": "contour"
           }
          ],
          "contourcarpet": [
           {
            "colorbar": {
             "outlinewidth": 0,
             "ticks": ""
            },
            "type": "contourcarpet"
           }
          ],
          "heatmap": [
           {
            "colorbar": {
             "outlinewidth": 0,
             "ticks": ""
            },
            "colorscale": [
             [
              0,
              "#0d0887"
             ],
             [
              0.1111111111111111,
              "#46039f"
             ],
             [
              0.2222222222222222,
              "#7201a8"
             ],
             [
              0.3333333333333333,
              "#9c179e"
             ],
             [
              0.4444444444444444,
              "#bd3786"
             ],
             [
              0.5555555555555556,
              "#d8576b"
             ],
             [
              0.6666666666666666,
              "#ed7953"
             ],
             [
              0.7777777777777778,
              "#fb9f3a"
             ],
             [
              0.8888888888888888,
              "#fdca26"
             ],
             [
              1,
              "#f0f921"
             ]
            ],
            "type": "heatmap"
           }
          ],
          "histogram": [
           {
            "marker": {
             "pattern": {
              "fillmode": "overlay",
              "size": 10,
              "solidity": 0.2
             }
            },
            "type": "histogram"
           }
          ],
          "histogram2d": [
           {
            "colorbar": {
             "outlinewidth": 0,
             "ticks": ""
            },
            "colorscale": [
             [
              0,
              "#0d0887"
             ],
             [
              0.1111111111111111,
              "#46039f"
             ],
             [
              0.2222222222222222,
              "#7201a8"
             ],
             [
              0.3333333333333333,
              "#9c179e"
             ],
             [
              0.4444444444444444,
              "#bd3786"
             ],
             [
              0.5555555555555556,
              "#d8576b"
             ],
             [
              0.6666666666666666,
              "#ed7953"
             ],
             [
              0.7777777777777778,
              "#fb9f3a"
             ],
             [
              0.8888888888888888,
              "#fdca26"
             ],
             [
              1,
              "#f0f921"
             ]
            ],
            "type": "histogram2d"
           }
          ],
          "histogram2dcontour": [
           {
            "colorbar": {
             "outlinewidth": 0,
             "ticks": ""
            },
            "colorscale": [
             [
              0,
              "#0d0887"
             ],
             [
              0.1111111111111111,
              "#46039f"
             ],
             [
              0.2222222222222222,
              "#7201a8"
             ],
             [
              0.3333333333333333,
              "#9c179e"
             ],
             [
              0.4444444444444444,
              "#bd3786"
             ],
             [
              0.5555555555555556,
              "#d8576b"
             ],
             [
              0.6666666666666666,
              "#ed7953"
             ],
             [
              0.7777777777777778,
              "#fb9f3a"
             ],
             [
              0.8888888888888888,
              "#fdca26"
             ],
             [
              1,
              "#f0f921"
             ]
            ],
            "type": "histogram2dcontour"
           }
          ],
          "mesh3d": [
           {
            "colorbar": {
             "outlinewidth": 0,
             "ticks": ""
            },
            "type": "mesh3d"
           }
          ],
          "parcoords": [
           {
            "line": {
             "colorbar": {
              "outlinewidth": 0,
              "ticks": ""
             }
            },
            "type": "parcoords"
           }
          ],
          "pie": [
           {
            "automargin": true,
            "type": "pie"
           }
          ],
          "scatter": [
           {
            "fillpattern": {
             "fillmode": "overlay",
             "size": 10,
             "solidity": 0.2
            },
            "type": "scatter"
           }
          ],
          "scatter3d": [
           {
            "line": {
             "colorbar": {
              "outlinewidth": 0,
              "ticks": ""
             }
            },
            "marker": {
             "colorbar": {
              "outlinewidth": 0,
              "ticks": ""
             }
            },
            "type": "scatter3d"
           }
          ],
          "scattercarpet": [
           {
            "marker": {
             "colorbar": {
              "outlinewidth": 0,
              "ticks": ""
             }
            },
            "type": "scattercarpet"
           }
          ],
          "scattergeo": [
           {
            "marker": {
             "colorbar": {
              "outlinewidth": 0,
              "ticks": ""
             }
            },
            "type": "scattergeo"
           }
          ],
          "scattergl": [
           {
            "marker": {
             "colorbar": {
              "outlinewidth": 0,
              "ticks": ""
             }
            },
            "type": "scattergl"
           }
          ],
          "scattermap": [
           {
            "marker": {
             "colorbar": {
              "outlinewidth": 0,
              "ticks": ""
             }
            },
            "type": "scattermap"
           }
          ],
          "scattermapbox": [
           {
            "marker": {
             "colorbar": {
              "outlinewidth": 0,
              "ticks": ""
             }
            },
            "type": "scattermapbox"
           }
          ],
          "scatterpolar": [
           {
            "marker": {
             "colorbar": {
              "outlinewidth": 0,
              "ticks": ""
             }
            },
            "type": "scatterpolar"
           }
          ],
          "scatterpolargl": [
           {
            "marker": {
             "colorbar": {
              "outlinewidth": 0,
              "ticks": ""
             }
            },
            "type": "scatterpolargl"
           }
          ],
          "scatterternary": [
           {
            "marker": {
             "colorbar": {
              "outlinewidth": 0,
              "ticks": ""
             }
            },
            "type": "scatterternary"
           }
          ],
          "surface": [
           {
            "colorbar": {
             "outlinewidth": 0,
             "ticks": ""
            },
            "colorscale": [
             [
              0,
              "#0d0887"
             ],
             [
              0.1111111111111111,
              "#46039f"
             ],
             [
              0.2222222222222222,
              "#7201a8"
             ],
             [
              0.3333333333333333,
              "#9c179e"
             ],
             [
              0.4444444444444444,
              "#bd3786"
             ],
             [
              0.5555555555555556,
              "#d8576b"
             ],
             [
              0.6666666666666666,
              "#ed7953"
             ],
             [
              0.7777777777777778,
              "#fb9f3a"
             ],
             [
              0.8888888888888888,
              "#fdca26"
             ],
             [
              1,
              "#f0f921"
             ]
            ],
            "type": "surface"
           }
          ],
          "table": [
           {
            "cells": {
             "fill": {
              "color": "#EBF0F8"
             },
             "line": {
              "color": "white"
             }
            },
            "header": {
             "fill": {
              "color": "#C8D4E3"
             },
             "line": {
              "color": "white"
             }
            },
            "type": "table"
           }
          ]
         },
         "layout": {
          "annotationdefaults": {
           "arrowcolor": "#2a3f5f",
           "arrowhead": 0,
           "arrowwidth": 1
          },
          "autotypenumbers": "strict",
          "coloraxis": {
           "colorbar": {
            "outlinewidth": 0,
            "ticks": ""
           }
          },
          "colorscale": {
           "diverging": [
            [
             0,
             "#8e0152"
            ],
            [
             0.1,
             "#c51b7d"
            ],
            [
             0.2,
             "#de77ae"
            ],
            [
             0.3,
             "#f1b6da"
            ],
            [
             0.4,
             "#fde0ef"
            ],
            [
             0.5,
             "#f7f7f7"
            ],
            [
             0.6,
             "#e6f5d0"
            ],
            [
             0.7,
             "#b8e186"
            ],
            [
             0.8,
             "#7fbc41"
            ],
            [
             0.9,
             "#4d9221"
            ],
            [
             1,
             "#276419"
            ]
           ],
           "sequential": [
            [
             0,
             "#0d0887"
            ],
            [
             0.1111111111111111,
             "#46039f"
            ],
            [
             0.2222222222222222,
             "#7201a8"
            ],
            [
             0.3333333333333333,
             "#9c179e"
            ],
            [
             0.4444444444444444,
             "#bd3786"
            ],
            [
             0.5555555555555556,
             "#d8576b"
            ],
            [
             0.6666666666666666,
             "#ed7953"
            ],
            [
             0.7777777777777778,
             "#fb9f3a"
            ],
            [
             0.8888888888888888,
             "#fdca26"
            ],
            [
             1,
             "#f0f921"
            ]
           ],
           "sequentialminus": [
            [
             0,
             "#0d0887"
            ],
            [
             0.1111111111111111,
             "#46039f"
            ],
            [
             0.2222222222222222,
             "#7201a8"
            ],
            [
             0.3333333333333333,
             "#9c179e"
            ],
            [
             0.4444444444444444,
             "#bd3786"
            ],
            [
             0.5555555555555556,
             "#d8576b"
            ],
            [
             0.6666666666666666,
             "#ed7953"
            ],
            [
             0.7777777777777778,
             "#fb9f3a"
            ],
            [
             0.8888888888888888,
             "#fdca26"
            ],
            [
             1,
             "#f0f921"
            ]
           ]
          },
          "colorway": [
           "#636efa",
           "#EF553B",
           "#00cc96",
           "#ab63fa",
           "#FFA15A",
           "#19d3f3",
           "#FF6692",
           "#B6E880",
           "#FF97FF",
           "#FECB52"
          ],
          "font": {
           "color": "#2a3f5f"
          },
          "geo": {
           "bgcolor": "white",
           "lakecolor": "white",
           "landcolor": "#E5ECF6",
           "showlakes": true,
           "showland": true,
           "subunitcolor": "white"
          },
          "hoverlabel": {
           "align": "left"
          },
          "hovermode": "closest",
          "mapbox": {
           "style": "light"
          },
          "paper_bgcolor": "white",
          "plot_bgcolor": "#E5ECF6",
          "polar": {
           "angularaxis": {
            "gridcolor": "white",
            "linecolor": "white",
            "ticks": ""
           },
           "bgcolor": "#E5ECF6",
           "radialaxis": {
            "gridcolor": "white",
            "linecolor": "white",
            "ticks": ""
           }
          },
          "scene": {
           "xaxis": {
            "backgroundcolor": "#E5ECF6",
            "gridcolor": "white",
            "gridwidth": 2,
            "linecolor": "white",
            "showbackground": true,
            "ticks": "",
            "zerolinecolor": "white"
           },
           "yaxis": {
            "backgroundcolor": "#E5ECF6",
            "gridcolor": "white",
            "gridwidth": 2,
            "linecolor": "white",
            "showbackground": true,
            "ticks": "",
            "zerolinecolor": "white"
           },
           "zaxis": {
            "backgroundcolor": "#E5ECF6",
            "gridcolor": "white",
            "gridwidth": 2,
            "linecolor": "white",
            "showbackground": true,
            "ticks": "",
            "zerolinecolor": "white"
           }
          },
          "shapedefaults": {
           "line": {
            "color": "#2a3f5f"
           }
          },
          "ternary": {
           "aaxis": {
            "gridcolor": "white",
            "linecolor": "white",
            "ticks": ""
           },
           "baxis": {
            "gridcolor": "white",
            "linecolor": "white",
            "ticks": ""
           },
           "bgcolor": "#E5ECF6",
           "caxis": {
            "gridcolor": "white",
            "linecolor": "white",
            "ticks": ""
           }
          },
          "title": {
           "x": 0.05
          },
          "xaxis": {
           "automargin": true,
           "gridcolor": "white",
           "linecolor": "white",
           "ticks": "",
           "title": {
            "standoff": 15
           },
           "zerolinecolor": "white",
           "zerolinewidth": 2
          },
          "yaxis": {
           "automargin": true,
           "gridcolor": "white",
           "linecolor": "white",
           "ticks": "",
           "title": {
            "standoff": 15
           },
           "zerolinecolor": "white",
           "zerolinewidth": 2
          }
         }
        },
        "title": {
         "text": "Year-over-Year Growth – Top Business Sectors (%)"
        },
        "xaxis": {
         "anchor": "y",
         "domain": [
          0,
          1
         ],
         "title": {
          "text": "year"
         }
        },
        "yaxis": {
         "anchor": "x",
         "domain": [
          0,
          1
         ],
         "title": {
          "text": "growth %"
         }
        }
       }
      }
     },
     "metadata": {},
     "output_type": "display_data"
    },
    {
     "data": {
      "application/vnd.plotly.v1+json": {
       "config": {
        "plotlyServerURL": "https://plot.ly"
       },
       "data": [
        {
         "hovertemplate": "sector=Administrative and support service activities<br>year=%{x}<br>growth_pct=%{y}<extra></extra>",
         "legendgroup": "Administrative and support service activities",
         "line": {
          "color": "#636efa",
          "dash": "solid"
         },
         "marker": {
          "symbol": "circle"
         },
         "mode": "lines+markers",
         "name": "Administrative and support service activities",
         "orientation": "v",
         "showlegend": true,
         "type": "scatter",
         "x": {
          "bdata": "4AfhB+IH4wfkB+UH5gfnB+gH",
          "dtype": "i2"
         },
         "xaxis": "x",
         "y": {
          "bdata": "joUsZCErMECauYzmMpobQB5COtiOeSNAHk/ei5SuRkD0gT7+DNMvQMqDAWdcizZAtve0+Hx7L0CwtoXMSbH0P7p6Q6D89xBA",
          "dtype": "f8"
         },
         "yaxis": "y"
        },
        {
         "hovertemplate": "sector=Professional, scientific and technical activities<br>year=%{x}<br>growth_pct=%{y}<extra></extra>",
         "legendgroup": "Professional, scientific and technical activities",
         "line": {
          "color": "#EF553B",
          "dash": "solid"
         },
         "marker": {
          "symbol": "circle"
         },
         "mode": "lines+markers",
         "name": "Professional, scientific and technical activities",
         "orientation": "v",
         "showlegend": true,
         "type": "scatter",
         "x": {
          "bdata": "4AfhB+IH4wfkB+UH5gfnB+gH",
          "dtype": "i2"
         },
         "xaxis": "x",
         "y": {
          "bdata": "D0HO6QF3L0DBEZHttpMdQEbAYfvhvDVAmhOqHit2Q0BiZmZmZmYuQK9IGXi6NTJA7GKU3s00IUBPIbtBWDQVQAAT0EpAK+E/",
          "dtype": "f8"
         },
         "yaxis": "y"
        },
        {
         "hovertemplate": "sector=Wholesale and retail trade<br>year=%{x}<br>growth_pct=%{y}<extra></extra>",
         "legendgroup": "Wholesale and retail trade",
         "line": {
          "color": "#00cc96",
          "dash": "solid"
         },
         "marker": {
          "symbol": "circle"
         },
         "mode": "lines+markers",
         "name": "Wholesale and retail trade",
         "orientation": "v",
         "showlegend": true,
         "type": "scatter",
         "x": {
          "bdata": "4AfhB+IH4wfkB+UH5gfnB+gH",
          "dtype": "i2"
         },
         "xaxis": "x",
         "y": {
          "bdata": "QDgw/SMAI0Awgo4xUwzgPwajHe628glA7ZmU04qmQEBpKaviSWY/QNaaFvi1JjdAJPr5pu8yKMASMwa7OhQeQICDgXnjRqi/",
          "dtype": "f8"
         },
         "yaxis": "y"
        }
       ],
       "layout": {
        "legend": {
         "title": {
          "text": "sector"
         },
         "tracegroupgap": 0
        },
        "template": {
         "data": {
          "bar": [
           {
            "error_x": {
             "color": "#2a3f5f"
            },
            "error_y": {
             "color": "#2a3f5f"
            },
            "marker": {
             "line": {
              "color": "#E5ECF6",
              "width": 0.5
             },
             "pattern": {
              "fillmode": "overlay",
              "size": 10,
              "solidity": 0.2
             }
            },
            "type": "bar"
           }
          ],
          "barpolar": [
           {
            "marker": {
             "line": {
              "color": "#E5ECF6",
              "width": 0.5
             },
             "pattern": {
              "fillmode": "overlay",
              "size": 10,
              "solidity": 0.2
             }
            },
            "type": "barpolar"
           }
          ],
          "carpet": [
           {
            "aaxis": {
             "endlinecolor": "#2a3f5f",
             "gridcolor": "white",
             "linecolor": "white",
             "minorgridcolor": "white",
             "startlinecolor": "#2a3f5f"
            },
            "baxis": {
             "endlinecolor": "#2a3f5f",
             "gridcolor": "white",
             "linecolor": "white",
             "minorgridcolor": "white",
             "startlinecolor": "#2a3f5f"
            },
            "type": "carpet"
           }
          ],
          "choropleth": [
           {
            "colorbar": {
             "outlinewidth": 0,
             "ticks": ""
            },
            "type": "choropleth"
           }
          ],
          "contour": [
           {
            "colorbar": {
             "outlinewidth": 0,
             "ticks": ""
            },
            "colorscale": [
             [
              0,
              "#0d0887"
             ],
             [
              0.1111111111111111,
              "#46039f"
             ],
             [
              0.2222222222222222,
              "#7201a8"
             ],
             [
              0.3333333333333333,
              "#9c179e"
             ],
             [
              0.4444444444444444,
              "#bd3786"
             ],
             [
              0.5555555555555556,
              "#d8576b"
             ],
             [
              0.6666666666666666,
              "#ed7953"
             ],
             [
              0.7777777777777778,
              "#fb9f3a"
             ],
             [
              0.8888888888888888,
              "#fdca26"
             ],
             [
              1,
              "#f0f921"
             ]
            ],
            "type": "contour"
           }
          ],
          "contourcarpet": [
           {
            "colorbar": {
             "outlinewidth": 0,
             "ticks": ""
            },
            "type": "contourcarpet"
           }
          ],
          "heatmap": [
           {
            "colorbar": {
             "outlinewidth": 0,
             "ticks": ""
            },
            "colorscale": [
             [
              0,
              "#0d0887"
             ],
             [
              0.1111111111111111,
              "#46039f"
             ],
             [
              0.2222222222222222,
              "#7201a8"
             ],
             [
              0.3333333333333333,
              "#9c179e"
             ],
             [
              0.4444444444444444,
              "#bd3786"
             ],
             [
              0.5555555555555556,
              "#d8576b"
             ],
             [
              0.6666666666666666,
              "#ed7953"
             ],
             [
              0.7777777777777778,
              "#fb9f3a"
             ],
             [
              0.8888888888888888,
              "#fdca26"
             ],
             [
              1,
              "#f0f921"
             ]
            ],
            "type": "heatmap"
           }
          ],
          "histogram": [
           {
            "marker": {
             "pattern": {
              "fillmode": "overlay",
              "size": 10,
              "solidity": 0.2
             }
            },
            "type": "histogram"
           }
          ],
          "histogram2d": [
           {
            "colorbar": {
             "outlinewidth": 0,
             "ticks": ""
            },
            "colorscale": [
             [
              0,
              "#0d0887"
             ],
             [
              0.1111111111111111,
              "#46039f"
             ],
             [
              0.2222222222222222,
              "#7201a8"
             ],
             [
              0.3333333333333333,
              "#9c179e"
             ],
             [
              0.4444444444444444,
              "#bd3786"
             ],
             [
              0.5555555555555556,
              "#d8576b"
             ],
             [
              0.6666666666666666,
              "#ed7953"
             ],
             [
              0.7777777777777778,
              "#fb9f3a"
             ],
             [
              0.8888888888888888,
              "#fdca26"
             ],
             [
              1,
              "#f0f921"
             ]
            ],
            "type": "histogram2d"
           }
          ],
          "histogram2dcontour": [
           {
            "colorbar": {
             "outlinewidth": 0,
             "ticks": ""
            },
            "colorscale": [
             [
              0,
              "#0d0887"
             ],
             [
              0.1111111111111111,
              "#46039f"
             ],
             [
              0.2222222222222222,
              "#7201a8"
             ],
             [
              0.3333333333333333,
              "#9c179e"
             ],
             [
              0.4444444444444444,
              "#bd3786"
             ],
             [
              0.5555555555555556,
              "#d8576b"
             ],
             [
              0.6666666666666666,
              "#ed7953"
             ],
             [
              0.7777777777777778,
              "#fb9f3a"
             ],
             [
              0.8888888888888888,
              "#fdca26"
             ],
             [
              1,
              "#f0f921"
             ]
            ],
            "type": "histogram2dcontour"
           }
          ],
          "mesh3d": [
           {
            "colorbar": {
             "outlinewidth": 0,
             "ticks": ""
            },
            "type": "mesh3d"
           }
          ],
          "parcoords": [
           {
            "line": {
             "colorbar": {
              "outlinewidth": 0,
              "ticks": ""
             }
            },
            "type": "parcoords"
           }
          ],
          "pie": [
           {
            "automargin": true,
            "type": "pie"
           }
          ],
          "scatter": [
           {
            "fillpattern": {
             "fillmode": "overlay",
             "size": 10,
             "solidity": 0.2
            },
            "type": "scatter"
           }
          ],
          "scatter3d": [
           {
            "line": {
             "colorbar": {
              "outlinewidth": 0,
              "ticks": ""
             }
            },
            "marker": {
             "colorbar": {
              "outlinewidth": 0,
              "ticks": ""
             }
            },
            "type": "scatter3d"
           }
          ],
          "scattercarpet": [
           {
            "marker": {
             "colorbar": {
              "outlinewidth": 0,
              "ticks": ""
             }
            },
            "type": "scattercarpet"
           }
          ],
          "scattergeo": [
           {
            "marker": {
             "colorbar": {
              "outlinewidth": 0,
              "ticks": ""
             }
            },
            "type": "scattergeo"
           }
          ],
          "scattergl": [
           {
            "marker": {
             "colorbar": {
              "outlinewidth": 0,
              "ticks": ""
             }
            },
            "type": "scattergl"
           }
          ],
          "scattermap": [
           {
            "marker": {
             "colorbar": {
              "outlinewidth": 0,
              "ticks": ""
             }
            },
            "type": "scattermap"
           }
          ],
          "scattermapbox": [
           {
            "marker": {
             "colorbar": {
              "outlinewidth": 0,
              "ticks": ""
             }
            },
            "type": "scattermapbox"
           }
          ],
          "scatterpolar": [
           {
            "marker": {
             "colorbar": {
              "outlinewidth": 0,
              "ticks": ""
             }
            },
            "type": "scatterpolar"
           }
          ],
          "scatterpolargl": [
           {
            "marker": {
             "colorbar": {
              "outlinewidth": 0,
              "ticks": ""
             }
            },
            "type": "scatterpolargl"
           }
          ],
          "scatterternary": [
           {
            "marker": {
             "colorbar": {
              "outlinewidth": 0,
              "ticks": ""
             }
            },
            "type": "scatterternary"
           }
          ],
          "surface": [
           {
            "colorbar": {
             "outlinewidth": 0,
             "ticks": ""
            },
            "colorscale": [
             [
              0,
              "#0d0887"
             ],
             [
              0.1111111111111111,
              "#46039f"
             ],
             [
              0.2222222222222222,
              "#7201a8"
             ],
             [
              0.3333333333333333,
              "#9c179e"
             ],
             [
              0.4444444444444444,
              "#bd3786"
             ],
             [
              0.5555555555555556,
              "#d8576b"
             ],
             [
              0.6666666666666666,
              "#ed7953"
             ],
             [
              0.7777777777777778,
              "#fb9f3a"
             ],
             [
              0.8888888888888888,
              "#fdca26"
             ],
             [
              1,
              "#f0f921"
             ]
            ],
            "type": "surface"
           }
          ],
          "table": [
           {
            "cells": {
             "fill": {
              "color": "#EBF0F8"
             },
             "line": {
              "color": "white"
             }
            },
            "header": {
             "fill": {
              "color": "#C8D4E3"
             },
             "line": {
              "color": "white"
             }
            },
            "type": "table"
           }
          ]
         },
         "layout": {
          "annotationdefaults": {
           "arrowcolor": "#2a3f5f",
           "arrowhead": 0,
           "arrowwidth": 1
          },
          "autotypenumbers": "strict",
          "coloraxis": {
           "colorbar": {
            "outlinewidth": 0,
            "ticks": ""
           }
          },
          "colorscale": {
           "diverging": [
            [
             0,
             "#8e0152"
            ],
            [
             0.1,
             "#c51b7d"
            ],
            [
             0.2,
             "#de77ae"
            ],
            [
             0.3,
             "#f1b6da"
            ],
            [
             0.4,
             "#fde0ef"
            ],
            [
             0.5,
             "#f7f7f7"
            ],
            [
             0.6,
             "#e6f5d0"
            ],
            [
             0.7,
             "#b8e186"
            ],
            [
             0.8,
             "#7fbc41"
            ],
            [
             0.9,
             "#4d9221"
            ],
            [
             1,
             "#276419"
            ]
           ],
           "sequential": [
            [
             0,
             "#0d0887"
            ],
            [
             0.1111111111111111,
             "#46039f"
            ],
            [
             0.2222222222222222,
             "#7201a8"
            ],
            [
             0.3333333333333333,
             "#9c179e"
            ],
            [
             0.4444444444444444,
             "#bd3786"
            ],
            [
             0.5555555555555556,
             "#d8576b"
            ],
            [
             0.6666666666666666,
             "#ed7953"
            ],
            [
             0.7777777777777778,
             "#fb9f3a"
            ],
            [
             0.8888888888888888,
             "#fdca26"
            ],
            [
             1,
             "#f0f921"
            ]
           ],
           "sequentialminus": [
            [
             0,
             "#0d0887"
            ],
            [
             0.1111111111111111,
             "#46039f"
            ],
            [
             0.2222222222222222,
             "#7201a8"
            ],
            [
             0.3333333333333333,
             "#9c179e"
            ],
            [
             0.4444444444444444,
             "#bd3786"
            ],
            [
             0.5555555555555556,
             "#d8576b"
            ],
            [
             0.6666666666666666,
             "#ed7953"
            ],
            [
             0.7777777777777778,
             "#fb9f3a"
            ],
            [
             0.8888888888888888,
             "#fdca26"
            ],
            [
             1,
             "#f0f921"
            ]
           ]
          },
          "colorway": [
           "#636efa",
           "#EF553B",
           "#00cc96",
           "#ab63fa",
           "#FFA15A",
           "#19d3f3",
           "#FF6692",
           "#B6E880",
           "#FF97FF",
           "#FECB52"
          ],
          "font": {
           "color": "#2a3f5f"
          },
          "geo": {
           "bgcolor": "white",
           "lakecolor": "white",
           "landcolor": "#E5ECF6",
           "showlakes": true,
           "showland": true,
           "subunitcolor": "white"
          },
          "hoverlabel": {
           "align": "left"
          },
          "hovermode": "closest",
          "mapbox": {
           "style": "light"
          },
          "paper_bgcolor": "white",
          "plot_bgcolor": "#E5ECF6",
          "polar": {
           "angularaxis": {
            "gridcolor": "white",
            "linecolor": "white",
            "ticks": ""
           },
           "bgcolor": "#E5ECF6",
           "radialaxis": {
            "gridcolor": "white",
            "linecolor": "white",
            "ticks": ""
           }
          },
          "scene": {
           "xaxis": {
            "backgroundcolor": "#E5ECF6",
            "gridcolor": "white",
            "gridwidth": 2,
            "linecolor": "white",
            "showbackground": true,
            "ticks": "",
            "zerolinecolor": "white"
           },
           "yaxis": {
            "backgroundcolor": "#E5ECF6",
            "gridcolor": "white",
            "gridwidth": 2,
            "linecolor": "white",
            "showbackground": true,
            "ticks": "",
            "zerolinecolor": "white"
           },
           "zaxis": {
            "backgroundcolor": "#E5ECF6",
            "gridcolor": "white",
            "gridwidth": 2,
            "linecolor": "white",
            "showbackground": true,
            "ticks": "",
            "zerolinecolor": "white"
           }
          },
          "shapedefaults": {
           "line": {
            "color": "#2a3f5f"
           }
          },
          "ternary": {
           "aaxis": {
            "gridcolor": "white",
            "linecolor": "white",
            "ticks": ""
           },
           "baxis": {
            "gridcolor": "white",
            "linecolor": "white",
            "ticks": ""
           },
           "bgcolor": "#E5ECF6",
           "caxis": {
            "gridcolor": "white",
            "linecolor": "white",
            "ticks": ""
           }
          },
          "title": {
           "x": 0.05
          },
          "xaxis": {
           "automargin": true,
           "gridcolor": "white",
           "linecolor": "white",
           "ticks": "",
           "title": {
            "standoff": 15
           },
           "zerolinecolor": "white",
           "zerolinewidth": 2
          },
          "yaxis": {
           "automargin": true,
           "gridcolor": "white",
           "linecolor": "white",
           "ticks": "",
           "title": {
            "standoff": 15
           },
           "zerolinecolor": "white",
           "zerolinewidth": 2
          }
         }
        },
        "title": {
         "text": "Year-over-Year Growth – Top Business Sectors (%)"
        },
        "xaxis": {
         "anchor": "y",
         "domain": [
          0,
          1
         ],
         "title": {
          "text": "year"
         }
        },
        "yaxis": {
         "anchor": "x",
         "domain": [
          0,
          1
         ],
         "title": {
          "text": "growth_pct"
         }
        }
       }
      }
     },
     "metadata": {},
     "output_type": "display_data"
    }
   ],
   "source": [
    "\n",
    "\n",
    "df['year'] = df['year'].astype(int)\n",
    "\n",
    "df_sorted = df.sort_values(['sector', 'year'])\n",
    "df_sorted['growth_pct'] = df_sorted.groupby('sector')['count'].pct_change() * 100\n",
    "df_growth = df_sorted.dropna(subset=['growth_pct'])\n",
    "\n",
    "top_sectors = [\n",
    "    'Professional, scientific and technical activities',\n",
    "    'Wholesale and retail trade',\n",
    "    'Administrative and support service activities'\n",
    "]\n",
    "\n",
    "support_sectors = [\n",
    "    'Manufacturing',\n",
    "    'Transportation and storage',\n",
    "    'Construction'\n",
    "]\n",
    "\n",
    "df['year'] = df['year'].astype(int)\n",
    "\n",
    "df_sorted = df.sort_values(['sector', 'year'])\n",
    "df_sorted['growth_pct'] = df_sorted.groupby('sector')['count'].pct_change() * 100\n",
    "df_growth = df_sorted.dropna(subset=['growth_pct'])\n",
    "\n",
    "top_sectors = [\n",
    "    'Professional, scientific and technical activities',\n",
    "    'Wholesale and retail trade',\n",
    "    'Administrative and support service activities'\n",
    "]\n",
    "\n",
    "support_sectors = [\n",
    "    'Manufacturing',\n",
    "    'Transportation and storage',\n",
    "    'Construction'\n",
    "]\n",
    "\n",
    "\n",
    "fig_top = px.line(df_growth, x='year', y='growth_pct', color='sector',\n",
    "                  markers=True,\n",
    "                  title='Year-over-Year Growth – Top Business Sectors (%)',\n",
    "                  color_discrete_sequence=px.colors.qualitative.Set3)\n",
    "\n",
    "fig_top.update_layout(\n",
    "    yaxis_title='growth %',\n",
    "    legend=dict(\n",
    "        orientation=\"h\",      \n",
    "        yanchor=\"top\",        \n",
    "        y=-0.1,                \n",
    "        xanchor=\"center\",     \n",
    "        x=0.5,\n",
    "        ),\n",
    "    height= 650)\n",
    "fig_top.show()\n",
    "\n",
    "\n",
    "\n",
    "\n",
    "\n",
    "df_top = df_growth[df_growth['sector'].isin(top_sectors)]\n",
    "fig_top = px.line(df_top, x='year', y='growth_pct', color='sector',\n",
    "                  markers=True,\n",
    "                  title='Year-over-Year Growth – Top Business Sectors (%)')\n",
    "fig_top.show()\n",
    "\n"
   ]
  },
  {
   "cell_type": "code",
   "execution_count": 130,
   "id": "15e07880",
   "metadata": {},
   "outputs": [
    {
     "data": {
      "application/vnd.plotly.v1+json": {
       "config": {
        "plotlyServerURL": "https://plot.ly"
       },
       "data": [
        {
         "hovertemplate": "sector=Construction<br>year=%{x}<br>growth_pct=%{y}<extra></extra>",
         "legendgroup": "Construction",
         "line": {
          "color": "#636efa",
          "dash": "solid"
         },
         "marker": {
          "symbol": "circle"
         },
         "mode": "lines+markers",
         "name": "Construction",
         "orientation": "v",
         "showlegend": true,
         "type": "scatter",
         "x": {
          "bdata": "4AfhB+IH4wfkB+UH5gfnB+gH",
          "dtype": "i2"
         },
         "xaxis": "x",
         "y": {
          "bdata": "+rgbQNQKKUD6kAJEChAZQM4hNcF4KytAncPCZ171SECrabOLA8NEQKVFCof17DNAKk5uUDU8AcCaPwowkSgOQAMiWbJa9BbA",
          "dtype": "f8"
         },
         "yaxis": "y"
        },
        {
         "hovertemplate": "sector=Manufacturing<br>year=%{x}<br>growth_pct=%{y}<extra></extra>",
         "legendgroup": "Manufacturing",
         "line": {
          "color": "#EF553B",
          "dash": "solid"
         },
         "marker": {
          "symbol": "circle"
         },
         "mode": "lines+markers",
         "name": "Manufacturing",
         "orientation": "v",
         "showlegend": true,
         "type": "scatter",
         "x": {
          "bdata": "4AfhB+IH4wfkB+UH5gfnB+gH",
          "dtype": "i2"
         },
         "xaxis": "x",
         "y": {
          "bdata": "OkmSJEmSDEC0Q7/ZOvQgQMZ74b3wXihAFHeqdCISREB2+IBOXJwpQDjUXjDZsDlAc+3dn6fGEsDARx9fO/PjPyBnTRRA2vA/",
          "dtype": "f8"
         },
         "yaxis": "y"
        },
        {
         "hovertemplate": "sector=Transportation and storage<br>year=%{x}<br>growth_pct=%{y}<extra></extra>",
         "legendgroup": "Transportation and storage",
         "line": {
          "color": "#00cc96",
          "dash": "solid"
         },
         "marker": {
          "symbol": "circle"
         },
         "mode": "lines+markers",
         "name": "Transportation and storage",
         "orientation": "v",
         "showlegend": true,
         "type": "scatter",
         "x": {
          "bdata": "4AfhB+IH4wfkB+UH5gfnB+gH",
          "dtype": "i2"
         },
         "xaxis": "x",
         "y": {
          "bdata": "dRbTWUxnNUBAEx/33VIsQNORPQNR6UZAVlVVVVV9QkB2gjb4t+UcQPhBNRhojEBA1j6yqD+8BkCEhcZV6noiQBwLWchCFipA",
          "dtype": "f8"
         },
         "yaxis": "y"
        }
       ],
       "layout": {
        "legend": {
         "title": {
          "text": "sector"
         },
         "tracegroupgap": 0
        },
        "template": {
         "data": {
          "bar": [
           {
            "error_x": {
             "color": "#2a3f5f"
            },
            "error_y": {
             "color": "#2a3f5f"
            },
            "marker": {
             "line": {
              "color": "#E5ECF6",
              "width": 0.5
             },
             "pattern": {
              "fillmode": "overlay",
              "size": 10,
              "solidity": 0.2
             }
            },
            "type": "bar"
           }
          ],
          "barpolar": [
           {
            "marker": {
             "line": {
              "color": "#E5ECF6",
              "width": 0.5
             },
             "pattern": {
              "fillmode": "overlay",
              "size": 10,
              "solidity": 0.2
             }
            },
            "type": "barpolar"
           }
          ],
          "carpet": [
           {
            "aaxis": {
             "endlinecolor": "#2a3f5f",
             "gridcolor": "white",
             "linecolor": "white",
             "minorgridcolor": "white",
             "startlinecolor": "#2a3f5f"
            },
            "baxis": {
             "endlinecolor": "#2a3f5f",
             "gridcolor": "white",
             "linecolor": "white",
             "minorgridcolor": "white",
             "startlinecolor": "#2a3f5f"
            },
            "type": "carpet"
           }
          ],
          "choropleth": [
           {
            "colorbar": {
             "outlinewidth": 0,
             "ticks": ""
            },
            "type": "choropleth"
           }
          ],
          "contour": [
           {
            "colorbar": {
             "outlinewidth": 0,
             "ticks": ""
            },
            "colorscale": [
             [
              0,
              "#0d0887"
             ],
             [
              0.1111111111111111,
              "#46039f"
             ],
             [
              0.2222222222222222,
              "#7201a8"
             ],
             [
              0.3333333333333333,
              "#9c179e"
             ],
             [
              0.4444444444444444,
              "#bd3786"
             ],
             [
              0.5555555555555556,
              "#d8576b"
             ],
             [
              0.6666666666666666,
              "#ed7953"
             ],
             [
              0.7777777777777778,
              "#fb9f3a"
             ],
             [
              0.8888888888888888,
              "#fdca26"
             ],
             [
              1,
              "#f0f921"
             ]
            ],
            "type": "contour"
           }
          ],
          "contourcarpet": [
           {
            "colorbar": {
             "outlinewidth": 0,
             "ticks": ""
            },
            "type": "contourcarpet"
           }
          ],
          "heatmap": [
           {
            "colorbar": {
             "outlinewidth": 0,
             "ticks": ""
            },
            "colorscale": [
             [
              0,
              "#0d0887"
             ],
             [
              0.1111111111111111,
              "#46039f"
             ],
             [
              0.2222222222222222,
              "#7201a8"
             ],
             [
              0.3333333333333333,
              "#9c179e"
             ],
             [
              0.4444444444444444,
              "#bd3786"
             ],
             [
              0.5555555555555556,
              "#d8576b"
             ],
             [
              0.6666666666666666,
              "#ed7953"
             ],
             [
              0.7777777777777778,
              "#fb9f3a"
             ],
             [
              0.8888888888888888,
              "#fdca26"
             ],
             [
              1,
              "#f0f921"
             ]
            ],
            "type": "heatmap"
           }
          ],
          "histogram": [
           {
            "marker": {
             "pattern": {
              "fillmode": "overlay",
              "size": 10,
              "solidity": 0.2
             }
            },
            "type": "histogram"
           }
          ],
          "histogram2d": [
           {
            "colorbar": {
             "outlinewidth": 0,
             "ticks": ""
            },
            "colorscale": [
             [
              0,
              "#0d0887"
             ],
             [
              0.1111111111111111,
              "#46039f"
             ],
             [
              0.2222222222222222,
              "#7201a8"
             ],
             [
              0.3333333333333333,
              "#9c179e"
             ],
             [
              0.4444444444444444,
              "#bd3786"
             ],
             [
              0.5555555555555556,
              "#d8576b"
             ],
             [
              0.6666666666666666,
              "#ed7953"
             ],
             [
              0.7777777777777778,
              "#fb9f3a"
             ],
             [
              0.8888888888888888,
              "#fdca26"
             ],
             [
              1,
              "#f0f921"
             ]
            ],
            "type": "histogram2d"
           }
          ],
          "histogram2dcontour": [
           {
            "colorbar": {
             "outlinewidth": 0,
             "ticks": ""
            },
            "colorscale": [
             [
              0,
              "#0d0887"
             ],
             [
              0.1111111111111111,
              "#46039f"
             ],
             [
              0.2222222222222222,
              "#7201a8"
             ],
             [
              0.3333333333333333,
              "#9c179e"
             ],
             [
              0.4444444444444444,
              "#bd3786"
             ],
             [
              0.5555555555555556,
              "#d8576b"
             ],
             [
              0.6666666666666666,
              "#ed7953"
             ],
             [
              0.7777777777777778,
              "#fb9f3a"
             ],
             [
              0.8888888888888888,
              "#fdca26"
             ],
             [
              1,
              "#f0f921"
             ]
            ],
            "type": "histogram2dcontour"
           }
          ],
          "mesh3d": [
           {
            "colorbar": {
             "outlinewidth": 0,
             "ticks": ""
            },
            "type": "mesh3d"
           }
          ],
          "parcoords": [
           {
            "line": {
             "colorbar": {
              "outlinewidth": 0,
              "ticks": ""
             }
            },
            "type": "parcoords"
           }
          ],
          "pie": [
           {
            "automargin": true,
            "type": "pie"
           }
          ],
          "scatter": [
           {
            "fillpattern": {
             "fillmode": "overlay",
             "size": 10,
             "solidity": 0.2
            },
            "type": "scatter"
           }
          ],
          "scatter3d": [
           {
            "line": {
             "colorbar": {
              "outlinewidth": 0,
              "ticks": ""
             }
            },
            "marker": {
             "colorbar": {
              "outlinewidth": 0,
              "ticks": ""
             }
            },
            "type": "scatter3d"
           }
          ],
          "scattercarpet": [
           {
            "marker": {
             "colorbar": {
              "outlinewidth": 0,
              "ticks": ""
             }
            },
            "type": "scattercarpet"
           }
          ],
          "scattergeo": [
           {
            "marker": {
             "colorbar": {
              "outlinewidth": 0,
              "ticks": ""
             }
            },
            "type": "scattergeo"
           }
          ],
          "scattergl": [
           {
            "marker": {
             "colorbar": {
              "outlinewidth": 0,
              "ticks": ""
             }
            },
            "type": "scattergl"
           }
          ],
          "scattermap": [
           {
            "marker": {
             "colorbar": {
              "outlinewidth": 0,
              "ticks": ""
             }
            },
            "type": "scattermap"
           }
          ],
          "scattermapbox": [
           {
            "marker": {
             "colorbar": {
              "outlinewidth": 0,
              "ticks": ""
             }
            },
            "type": "scattermapbox"
           }
          ],
          "scatterpolar": [
           {
            "marker": {
             "colorbar": {
              "outlinewidth": 0,
              "ticks": ""
             }
            },
            "type": "scatterpolar"
           }
          ],
          "scatterpolargl": [
           {
            "marker": {
             "colorbar": {
              "outlinewidth": 0,
              "ticks": ""
             }
            },
            "type": "scatterpolargl"
           }
          ],
          "scatterternary": [
           {
            "marker": {
             "colorbar": {
              "outlinewidth": 0,
              "ticks": ""
             }
            },
            "type": "scatterternary"
           }
          ],
          "surface": [
           {
            "colorbar": {
             "outlinewidth": 0,
             "ticks": ""
            },
            "colorscale": [
             [
              0,
              "#0d0887"
             ],
             [
              0.1111111111111111,
              "#46039f"
             ],
             [
              0.2222222222222222,
              "#7201a8"
             ],
             [
              0.3333333333333333,
              "#9c179e"
             ],
             [
              0.4444444444444444,
              "#bd3786"
             ],
             [
              0.5555555555555556,
              "#d8576b"
             ],
             [
              0.6666666666666666,
              "#ed7953"
             ],
             [
              0.7777777777777778,
              "#fb9f3a"
             ],
             [
              0.8888888888888888,
              "#fdca26"
             ],
             [
              1,
              "#f0f921"
             ]
            ],
            "type": "surface"
           }
          ],
          "table": [
           {
            "cells": {
             "fill": {
              "color": "#EBF0F8"
             },
             "line": {
              "color": "white"
             }
            },
            "header": {
             "fill": {
              "color": "#C8D4E3"
             },
             "line": {
              "color": "white"
             }
            },
            "type": "table"
           }
          ]
         },
         "layout": {
          "annotationdefaults": {
           "arrowcolor": "#2a3f5f",
           "arrowhead": 0,
           "arrowwidth": 1
          },
          "autotypenumbers": "strict",
          "coloraxis": {
           "colorbar": {
            "outlinewidth": 0,
            "ticks": ""
           }
          },
          "colorscale": {
           "diverging": [
            [
             0,
             "#8e0152"
            ],
            [
             0.1,
             "#c51b7d"
            ],
            [
             0.2,
             "#de77ae"
            ],
            [
             0.3,
             "#f1b6da"
            ],
            [
             0.4,
             "#fde0ef"
            ],
            [
             0.5,
             "#f7f7f7"
            ],
            [
             0.6,
             "#e6f5d0"
            ],
            [
             0.7,
             "#b8e186"
            ],
            [
             0.8,
             "#7fbc41"
            ],
            [
             0.9,
             "#4d9221"
            ],
            [
             1,
             "#276419"
            ]
           ],
           "sequential": [
            [
             0,
             "#0d0887"
            ],
            [
             0.1111111111111111,
             "#46039f"
            ],
            [
             0.2222222222222222,
             "#7201a8"
            ],
            [
             0.3333333333333333,
             "#9c179e"
            ],
            [
             0.4444444444444444,
             "#bd3786"
            ],
            [
             0.5555555555555556,
             "#d8576b"
            ],
            [
             0.6666666666666666,
             "#ed7953"
            ],
            [
             0.7777777777777778,
             "#fb9f3a"
            ],
            [
             0.8888888888888888,
             "#fdca26"
            ],
            [
             1,
             "#f0f921"
            ]
           ],
           "sequentialminus": [
            [
             0,
             "#0d0887"
            ],
            [
             0.1111111111111111,
             "#46039f"
            ],
            [
             0.2222222222222222,
             "#7201a8"
            ],
            [
             0.3333333333333333,
             "#9c179e"
            ],
            [
             0.4444444444444444,
             "#bd3786"
            ],
            [
             0.5555555555555556,
             "#d8576b"
            ],
            [
             0.6666666666666666,
             "#ed7953"
            ],
            [
             0.7777777777777778,
             "#fb9f3a"
            ],
            [
             0.8888888888888888,
             "#fdca26"
            ],
            [
             1,
             "#f0f921"
            ]
           ]
          },
          "colorway": [
           "#636efa",
           "#EF553B",
           "#00cc96",
           "#ab63fa",
           "#FFA15A",
           "#19d3f3",
           "#FF6692",
           "#B6E880",
           "#FF97FF",
           "#FECB52"
          ],
          "font": {
           "color": "#2a3f5f"
          },
          "geo": {
           "bgcolor": "white",
           "lakecolor": "white",
           "landcolor": "#E5ECF6",
           "showlakes": true,
           "showland": true,
           "subunitcolor": "white"
          },
          "hoverlabel": {
           "align": "left"
          },
          "hovermode": "closest",
          "mapbox": {
           "style": "light"
          },
          "paper_bgcolor": "white",
          "plot_bgcolor": "#E5ECF6",
          "polar": {
           "angularaxis": {
            "gridcolor": "white",
            "linecolor": "white",
            "ticks": ""
           },
           "bgcolor": "#E5ECF6",
           "radialaxis": {
            "gridcolor": "white",
            "linecolor": "white",
            "ticks": ""
           }
          },
          "scene": {
           "xaxis": {
            "backgroundcolor": "#E5ECF6",
            "gridcolor": "white",
            "gridwidth": 2,
            "linecolor": "white",
            "showbackground": true,
            "ticks": "",
            "zerolinecolor": "white"
           },
           "yaxis": {
            "backgroundcolor": "#E5ECF6",
            "gridcolor": "white",
            "gridwidth": 2,
            "linecolor": "white",
            "showbackground": true,
            "ticks": "",
            "zerolinecolor": "white"
           },
           "zaxis": {
            "backgroundcolor": "#E5ECF6",
            "gridcolor": "white",
            "gridwidth": 2,
            "linecolor": "white",
            "showbackground": true,
            "ticks": "",
            "zerolinecolor": "white"
           }
          },
          "shapedefaults": {
           "line": {
            "color": "#2a3f5f"
           }
          },
          "ternary": {
           "aaxis": {
            "gridcolor": "white",
            "linecolor": "white",
            "ticks": ""
           },
           "baxis": {
            "gridcolor": "white",
            "linecolor": "white",
            "ticks": ""
           },
           "bgcolor": "#E5ECF6",
           "caxis": {
            "gridcolor": "white",
            "linecolor": "white",
            "ticks": ""
           }
          },
          "title": {
           "x": 0.05
          },
          "xaxis": {
           "automargin": true,
           "gridcolor": "white",
           "linecolor": "white",
           "ticks": "",
           "title": {
            "standoff": 15
           },
           "zerolinecolor": "white",
           "zerolinewidth": 2
          },
          "yaxis": {
           "automargin": true,
           "gridcolor": "white",
           "linecolor": "white",
           "ticks": "",
           "title": {
            "standoff": 15
           },
           "zerolinecolor": "white",
           "zerolinewidth": 2
          }
         }
        },
        "title": {
         "text": "🔧 Year-over-Year Growth – Support Sectors (%)"
        },
        "xaxis": {
         "anchor": "y",
         "domain": [
          0,
          1
         ],
         "title": {
          "text": "year"
         }
        },
        "yaxis": {
         "anchor": "x",
         "domain": [
          0,
          1
         ],
         "title": {
          "text": "growth_pct"
         }
        }
       }
      }
     },
     "metadata": {},
     "output_type": "display_data"
    }
   ],
   "source": [
    "df_support = df_growth[df_growth['sector'].isin(support_sectors)]\n",
    "fig_support = px.line(df_support, x='year', y='growth_pct', color='sector',\n",
    "                      markers=True,\n",
    "                      title='🔧 Year-over-Year Growth – Support Sectors (%)')\n",
    "\n",
    "fig_support.show()"
   ]
  },
  {
   "cell_type": "code",
   "execution_count": 131,
   "id": "03dbaf89",
   "metadata": {},
   "outputs": [
    {
     "data": {
      "application/vnd.plotly.v1+json": {
       "config": {
        "plotlyServerURL": "https://plot.ly"
       },
       "data": [
        {
         "hovertemplate": "sector=%{y}<br>growth_pct=%{text}<extra></extra>",
         "legendgroup": "Administrative and support service activities",
         "marker": {
          "color": "rgb(141,211,199)",
          "pattern": {
           "shape": ""
          }
         },
         "name": "Administrative and support service activities",
         "orientation": "h",
         "showlegend": true,
         "text": {
          "bdata": "unpDoPz3EEA=",
          "dtype": "f8"
         },
         "textposition": "outside",
         "texttemplate": "%{text:.1f}%",
         "type": "bar",
         "x": {
          "bdata": "unpDoPz3EEA=",
          "dtype": "f8"
         },
         "xaxis": "x",
         "y": [
          "Administrative and support service activities"
         ],
         "yaxis": "y"
        },
        {
         "hovertemplate": "sector=%{y}<br>growth_pct=%{text}<extra></extra>",
         "legendgroup": "Construction",
         "marker": {
          "color": "rgb(255,255,179)",
          "pattern": {
           "shape": ""
          }
         },
         "name": "Construction",
         "orientation": "h",
         "showlegend": true,
         "text": {
          "bdata": "AyJZslr0FsA=",
          "dtype": "f8"
         },
         "textposition": "outside",
         "texttemplate": "%{text:.1f}%",
         "type": "bar",
         "x": {
          "bdata": "AyJZslr0FsA=",
          "dtype": "f8"
         },
         "xaxis": "x",
         "y": [
          "Construction"
         ],
         "yaxis": "y"
        },
        {
         "hovertemplate": "sector=%{y}<br>growth_pct=%{text}<extra></extra>",
         "legendgroup": "Manufacturing",
         "marker": {
          "color": "rgb(190,186,218)",
          "pattern": {
           "shape": ""
          }
         },
         "name": "Manufacturing",
         "orientation": "h",
         "showlegend": true,
         "text": {
          "bdata": "IGdNFEDa8D8=",
          "dtype": "f8"
         },
         "textposition": "outside",
         "texttemplate": "%{text:.1f}%",
         "type": "bar",
         "x": {
          "bdata": "IGdNFEDa8D8=",
          "dtype": "f8"
         },
         "xaxis": "x",
         "y": [
          "Manufacturing"
         ],
         "yaxis": "y"
        },
        {
         "hovertemplate": "sector=%{y}<br>growth_pct=%{text}<extra></extra>",
         "legendgroup": "Professional, scientific and technical activities",
         "marker": {
          "color": "rgb(251,128,114)",
          "pattern": {
           "shape": ""
          }
         },
         "name": "Professional, scientific and technical activities",
         "orientation": "h",
         "showlegend": true,
         "text": {
          "bdata": "ABPQSkAr4T8=",
          "dtype": "f8"
         },
         "textposition": "outside",
         "texttemplate": "%{text:.1f}%",
         "type": "bar",
         "x": {
          "bdata": "ABPQSkAr4T8=",
          "dtype": "f8"
         },
         "xaxis": "x",
         "y": [
          "Professional, scientific and technical activities"
         ],
         "yaxis": "y"
        },
        {
         "hovertemplate": "sector=%{y}<br>growth_pct=%{text}<extra></extra>",
         "legendgroup": "Transportation and storage",
         "marker": {
          "color": "rgb(128,177,211)",
          "pattern": {
           "shape": ""
          }
         },
         "name": "Transportation and storage",
         "orientation": "h",
         "showlegend": true,
         "text": {
          "bdata": "HAtZyEIWKkA=",
          "dtype": "f8"
         },
         "textposition": "outside",
         "texttemplate": "%{text:.1f}%",
         "type": "bar",
         "x": {
          "bdata": "HAtZyEIWKkA=",
          "dtype": "f8"
         },
         "xaxis": "x",
         "y": [
          "Transportation and storage"
         ],
         "yaxis": "y"
        },
        {
         "hovertemplate": "sector=%{y}<br>growth_pct=%{text}<extra></extra>",
         "legendgroup": "Wholesale and retail trade",
         "marker": {
          "color": "rgb(253,180,98)",
          "pattern": {
           "shape": ""
          }
         },
         "name": "Wholesale and retail trade",
         "orientation": "h",
         "showlegend": true,
         "text": {
          "bdata": "gIOBeeNGqL8=",
          "dtype": "f8"
         },
         "textposition": "outside",
         "texttemplate": "%{text:.1f}%",
         "type": "bar",
         "x": {
          "bdata": "gIOBeeNGqL8=",
          "dtype": "f8"
         },
         "xaxis": "x",
         "y": [
          "Wholesale and retail trade"
         ],
         "yaxis": "y"
        }
       ],
       "layout": {
        "barmode": "relative",
        "legend": {
         "title": {
          "text": "sector"
         },
         "tracegroupgap": 0
        },
        "showlegend": false,
        "template": {
         "data": {
          "bar": [
           {
            "error_x": {
             "color": "#2a3f5f"
            },
            "error_y": {
             "color": "#2a3f5f"
            },
            "marker": {
             "line": {
              "color": "#E5ECF6",
              "width": 0.5
             },
             "pattern": {
              "fillmode": "overlay",
              "size": 10,
              "solidity": 0.2
             }
            },
            "type": "bar"
           }
          ],
          "barpolar": [
           {
            "marker": {
             "line": {
              "color": "#E5ECF6",
              "width": 0.5
             },
             "pattern": {
              "fillmode": "overlay",
              "size": 10,
              "solidity": 0.2
             }
            },
            "type": "barpolar"
           }
          ],
          "carpet": [
           {
            "aaxis": {
             "endlinecolor": "#2a3f5f",
             "gridcolor": "white",
             "linecolor": "white",
             "minorgridcolor": "white",
             "startlinecolor": "#2a3f5f"
            },
            "baxis": {
             "endlinecolor": "#2a3f5f",
             "gridcolor": "white",
             "linecolor": "white",
             "minorgridcolor": "white",
             "startlinecolor": "#2a3f5f"
            },
            "type": "carpet"
           }
          ],
          "choropleth": [
           {
            "colorbar": {
             "outlinewidth": 0,
             "ticks": ""
            },
            "type": "choropleth"
           }
          ],
          "contour": [
           {
            "colorbar": {
             "outlinewidth": 0,
             "ticks": ""
            },
            "colorscale": [
             [
              0,
              "#0d0887"
             ],
             [
              0.1111111111111111,
              "#46039f"
             ],
             [
              0.2222222222222222,
              "#7201a8"
             ],
             [
              0.3333333333333333,
              "#9c179e"
             ],
             [
              0.4444444444444444,
              "#bd3786"
             ],
             [
              0.5555555555555556,
              "#d8576b"
             ],
             [
              0.6666666666666666,
              "#ed7953"
             ],
             [
              0.7777777777777778,
              "#fb9f3a"
             ],
             [
              0.8888888888888888,
              "#fdca26"
             ],
             [
              1,
              "#f0f921"
             ]
            ],
            "type": "contour"
           }
          ],
          "contourcarpet": [
           {
            "colorbar": {
             "outlinewidth": 0,
             "ticks": ""
            },
            "type": "contourcarpet"
           }
          ],
          "heatmap": [
           {
            "colorbar": {
             "outlinewidth": 0,
             "ticks": ""
            },
            "colorscale": [
             [
              0,
              "#0d0887"
             ],
             [
              0.1111111111111111,
              "#46039f"
             ],
             [
              0.2222222222222222,
              "#7201a8"
             ],
             [
              0.3333333333333333,
              "#9c179e"
             ],
             [
              0.4444444444444444,
              "#bd3786"
             ],
             [
              0.5555555555555556,
              "#d8576b"
             ],
             [
              0.6666666666666666,
              "#ed7953"
             ],
             [
              0.7777777777777778,
              "#fb9f3a"
             ],
             [
              0.8888888888888888,
              "#fdca26"
             ],
             [
              1,
              "#f0f921"
             ]
            ],
            "type": "heatmap"
           }
          ],
          "histogram": [
           {
            "marker": {
             "pattern": {
              "fillmode": "overlay",
              "size": 10,
              "solidity": 0.2
             }
            },
            "type": "histogram"
           }
          ],
          "histogram2d": [
           {
            "colorbar": {
             "outlinewidth": 0,
             "ticks": ""
            },
            "colorscale": [
             [
              0,
              "#0d0887"
             ],
             [
              0.1111111111111111,
              "#46039f"
             ],
             [
              0.2222222222222222,
              "#7201a8"
             ],
             [
              0.3333333333333333,
              "#9c179e"
             ],
             [
              0.4444444444444444,
              "#bd3786"
             ],
             [
              0.5555555555555556,
              "#d8576b"
             ],
             [
              0.6666666666666666,
              "#ed7953"
             ],
             [
              0.7777777777777778,
              "#fb9f3a"
             ],
             [
              0.8888888888888888,
              "#fdca26"
             ],
             [
              1,
              "#f0f921"
             ]
            ],
            "type": "histogram2d"
           }
          ],
          "histogram2dcontour": [
           {
            "colorbar": {
             "outlinewidth": 0,
             "ticks": ""
            },
            "colorscale": [
             [
              0,
              "#0d0887"
             ],
             [
              0.1111111111111111,
              "#46039f"
             ],
             [
              0.2222222222222222,
              "#7201a8"
             ],
             [
              0.3333333333333333,
              "#9c179e"
             ],
             [
              0.4444444444444444,
              "#bd3786"
             ],
             [
              0.5555555555555556,
              "#d8576b"
             ],
             [
              0.6666666666666666,
              "#ed7953"
             ],
             [
              0.7777777777777778,
              "#fb9f3a"
             ],
             [
              0.8888888888888888,
              "#fdca26"
             ],
             [
              1,
              "#f0f921"
             ]
            ],
            "type": "histogram2dcontour"
           }
          ],
          "mesh3d": [
           {
            "colorbar": {
             "outlinewidth": 0,
             "ticks": ""
            },
            "type": "mesh3d"
           }
          ],
          "parcoords": [
           {
            "line": {
             "colorbar": {
              "outlinewidth": 0,
              "ticks": ""
             }
            },
            "type": "parcoords"
           }
          ],
          "pie": [
           {
            "automargin": true,
            "type": "pie"
           }
          ],
          "scatter": [
           {
            "fillpattern": {
             "fillmode": "overlay",
             "size": 10,
             "solidity": 0.2
            },
            "type": "scatter"
           }
          ],
          "scatter3d": [
           {
            "line": {
             "colorbar": {
              "outlinewidth": 0,
              "ticks": ""
             }
            },
            "marker": {
             "colorbar": {
              "outlinewidth": 0,
              "ticks": ""
             }
            },
            "type": "scatter3d"
           }
          ],
          "scattercarpet": [
           {
            "marker": {
             "colorbar": {
              "outlinewidth": 0,
              "ticks": ""
             }
            },
            "type": "scattercarpet"
           }
          ],
          "scattergeo": [
           {
            "marker": {
             "colorbar": {
              "outlinewidth": 0,
              "ticks": ""
             }
            },
            "type": "scattergeo"
           }
          ],
          "scattergl": [
           {
            "marker": {
             "colorbar": {
              "outlinewidth": 0,
              "ticks": ""
             }
            },
            "type": "scattergl"
           }
          ],
          "scattermap": [
           {
            "marker": {
             "colorbar": {
              "outlinewidth": 0,
              "ticks": ""
             }
            },
            "type": "scattermap"
           }
          ],
          "scattermapbox": [
           {
            "marker": {
             "colorbar": {
              "outlinewidth": 0,
              "ticks": ""
             }
            },
            "type": "scattermapbox"
           }
          ],
          "scatterpolar": [
           {
            "marker": {
             "colorbar": {
              "outlinewidth": 0,
              "ticks": ""
             }
            },
            "type": "scatterpolar"
           }
          ],
          "scatterpolargl": [
           {
            "marker": {
             "colorbar": {
              "outlinewidth": 0,
              "ticks": ""
             }
            },
            "type": "scatterpolargl"
           }
          ],
          "scatterternary": [
           {
            "marker": {
             "colorbar": {
              "outlinewidth": 0,
              "ticks": ""
             }
            },
            "type": "scatterternary"
           }
          ],
          "surface": [
           {
            "colorbar": {
             "outlinewidth": 0,
             "ticks": ""
            },
            "colorscale": [
             [
              0,
              "#0d0887"
             ],
             [
              0.1111111111111111,
              "#46039f"
             ],
             [
              0.2222222222222222,
              "#7201a8"
             ],
             [
              0.3333333333333333,
              "#9c179e"
             ],
             [
              0.4444444444444444,
              "#bd3786"
             ],
             [
              0.5555555555555556,
              "#d8576b"
             ],
             [
              0.6666666666666666,
              "#ed7953"
             ],
             [
              0.7777777777777778,
              "#fb9f3a"
             ],
             [
              0.8888888888888888,
              "#fdca26"
             ],
             [
              1,
              "#f0f921"
             ]
            ],
            "type": "surface"
           }
          ],
          "table": [
           {
            "cells": {
             "fill": {
              "color": "#EBF0F8"
             },
             "line": {
              "color": "white"
             }
            },
            "header": {
             "fill": {
              "color": "#C8D4E3"
             },
             "line": {
              "color": "white"
             }
            },
            "type": "table"
           }
          ]
         },
         "layout": {
          "annotationdefaults": {
           "arrowcolor": "#2a3f5f",
           "arrowhead": 0,
           "arrowwidth": 1
          },
          "autotypenumbers": "strict",
          "coloraxis": {
           "colorbar": {
            "outlinewidth": 0,
            "ticks": ""
           }
          },
          "colorscale": {
           "diverging": [
            [
             0,
             "#8e0152"
            ],
            [
             0.1,
             "#c51b7d"
            ],
            [
             0.2,
             "#de77ae"
            ],
            [
             0.3,
             "#f1b6da"
            ],
            [
             0.4,
             "#fde0ef"
            ],
            [
             0.5,
             "#f7f7f7"
            ],
            [
             0.6,
             "#e6f5d0"
            ],
            [
             0.7,
             "#b8e186"
            ],
            [
             0.8,
             "#7fbc41"
            ],
            [
             0.9,
             "#4d9221"
            ],
            [
             1,
             "#276419"
            ]
           ],
           "sequential": [
            [
             0,
             "#0d0887"
            ],
            [
             0.1111111111111111,
             "#46039f"
            ],
            [
             0.2222222222222222,
             "#7201a8"
            ],
            [
             0.3333333333333333,
             "#9c179e"
            ],
            [
             0.4444444444444444,
             "#bd3786"
            ],
            [
             0.5555555555555556,
             "#d8576b"
            ],
            [
             0.6666666666666666,
             "#ed7953"
            ],
            [
             0.7777777777777778,
             "#fb9f3a"
            ],
            [
             0.8888888888888888,
             "#fdca26"
            ],
            [
             1,
             "#f0f921"
            ]
           ],
           "sequentialminus": [
            [
             0,
             "#0d0887"
            ],
            [
             0.1111111111111111,
             "#46039f"
            ],
            [
             0.2222222222222222,
             "#7201a8"
            ],
            [
             0.3333333333333333,
             "#9c179e"
            ],
            [
             0.4444444444444444,
             "#bd3786"
            ],
            [
             0.5555555555555556,
             "#d8576b"
            ],
            [
             0.6666666666666666,
             "#ed7953"
            ],
            [
             0.7777777777777778,
             "#fb9f3a"
            ],
            [
             0.8888888888888888,
             "#fdca26"
            ],
            [
             1,
             "#f0f921"
            ]
           ]
          },
          "colorway": [
           "#636efa",
           "#EF553B",
           "#00cc96",
           "#ab63fa",
           "#FFA15A",
           "#19d3f3",
           "#FF6692",
           "#B6E880",
           "#FF97FF",
           "#FECB52"
          ],
          "font": {
           "color": "#2a3f5f"
          },
          "geo": {
           "bgcolor": "white",
           "lakecolor": "white",
           "landcolor": "#E5ECF6",
           "showlakes": true,
           "showland": true,
           "subunitcolor": "white"
          },
          "hoverlabel": {
           "align": "left"
          },
          "hovermode": "closest",
          "mapbox": {
           "style": "light"
          },
          "paper_bgcolor": "white",
          "plot_bgcolor": "#E5ECF6",
          "polar": {
           "angularaxis": {
            "gridcolor": "white",
            "linecolor": "white",
            "ticks": ""
           },
           "bgcolor": "#E5ECF6",
           "radialaxis": {
            "gridcolor": "white",
            "linecolor": "white",
            "ticks": ""
           }
          },
          "scene": {
           "xaxis": {
            "backgroundcolor": "#E5ECF6",
            "gridcolor": "white",
            "gridwidth": 2,
            "linecolor": "white",
            "showbackground": true,
            "ticks": "",
            "zerolinecolor": "white"
           },
           "yaxis": {
            "backgroundcolor": "#E5ECF6",
            "gridcolor": "white",
            "gridwidth": 2,
            "linecolor": "white",
            "showbackground": true,
            "ticks": "",
            "zerolinecolor": "white"
           },
           "zaxis": {
            "backgroundcolor": "#E5ECF6",
            "gridcolor": "white",
            "gridwidth": 2,
            "linecolor": "white",
            "showbackground": true,
            "ticks": "",
            "zerolinecolor": "white"
           }
          },
          "shapedefaults": {
           "line": {
            "color": "#2a3f5f"
           }
          },
          "ternary": {
           "aaxis": {
            "gridcolor": "white",
            "linecolor": "white",
            "ticks": ""
           },
           "baxis": {
            "gridcolor": "white",
            "linecolor": "white",
            "ticks": ""
           },
           "bgcolor": "#E5ECF6",
           "caxis": {
            "gridcolor": "white",
            "linecolor": "white",
            "ticks": ""
           }
          },
          "title": {
           "x": 0.05
          },
          "xaxis": {
           "automargin": true,
           "gridcolor": "white",
           "linecolor": "white",
           "ticks": "",
           "title": {
            "standoff": 15
           },
           "zerolinecolor": "white",
           "zerolinewidth": 2
          },
          "yaxis": {
           "automargin": true,
           "gridcolor": "white",
           "linecolor": "white",
           "ticks": "",
           "title": {
            "standoff": 15
           },
           "zerolinecolor": "white",
           "zerolinewidth": 2
          }
         }
        },
        "title": {
         "text": "2024 Growth – Top Business Sectors (%)"
        },
        "uniformtext": {
         "minsize": 8,
         "mode": "hide"
        },
        "width": 1300,
        "xaxis": {
         "anchor": "y",
         "domain": [
          0,
          1
         ],
         "title": {
          "text": "Sector"
         }
        },
        "yaxis": {
         "anchor": "x",
         "categoryarray": [
          "Wholesale and retail trade",
          "Transportation and storage",
          "Professional, scientific and technical activities",
          "Manufacturing",
          "Construction",
          "Administrative and support service activities"
         ],
         "categoryorder": "array",
         "domain": [
          0,
          1
         ],
         "title": {
          "text": "Growth (%)"
         }
        }
       }
      }
     },
     "metadata": {},
     "output_type": "display_data"
    }
   ],
   "source": [
    "df_2024 = df_growth[df_growth['year'] == 2024]\n",
    "fig_top = px.bar(\n",
    "    df_2024,\n",
    "    x='growth_pct',\n",
    "    y='sector',\n",
    "    color='sector',\n",
    "    text='growth_pct',\n",
    "    title='2024 Growth – Top Business Sectors (%)',\n",
    "    orientation='h',\n",
    "    color_discrete_sequence=px.colors.qualitative.Set3\n",
    ")\n",
    "\n",
    "fig_top.update_traces(texttemplate='%{text:.1f}%', textposition='outside')\n",
    "fig_top.update_layout(\n",
    "    xaxis_title='Sector',\n",
    "    yaxis_title='Growth (%)',\n",
    "    uniformtext_minsize=8,\n",
    "    uniformtext_mode='hide',\n",
    "    showlegend=False,\n",
    "\n",
    "    width=1300,\n",
    ")\n",
    "\n",
    "fig_top.show()"
   ]
  }
 ],
 "metadata": {
  "kernelspec": {
   "display_name": "env",
   "language": "python",
   "name": "python3"
  },
  "language_info": {
   "codemirror_mode": {
    "name": "ipython",
    "version": 3
   },
   "file_extension": ".py",
   "mimetype": "text/x-python",
   "name": "python",
   "nbconvert_exporter": "python",
   "pygments_lexer": "ipython3",
   "version": "3.12.10"
  }
 },
 "nbformat": 4,
 "nbformat_minor": 5
}
